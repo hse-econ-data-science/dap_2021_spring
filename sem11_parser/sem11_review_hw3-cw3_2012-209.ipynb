{
 "cells": [
  {
   "cell_type": "markdown",
   "id": "de183863",
   "metadata": {
    "toc": true
   },
   "source": [
    "<h1>Table of Contents<span class=\"tocSkip\"></span></h1>\n",
    "<div class=\"toc\"><ul class=\"toc-item\"><li><span><a href=\"#ДЗ-3\" data-toc-modified-id=\"ДЗ-3-1\"><span class=\"toc-item-num\">1&nbsp;&nbsp;</span>ДЗ-3</a></span><ul class=\"toc-item\"><li><span><a href=\"#A.-Нетеплицева-матрица\" data-toc-modified-id=\"A.-Нетеплицева-матрица-1.1\"><span class=\"toc-item-num\">1.1&nbsp;&nbsp;</span>A. Нетеплицева матрица</a></span><ul class=\"toc-item\"><li><span><a href=\"#numpy\" data-toc-modified-id=\"numpy-1.1.1\"><span class=\"toc-item-num\">1.1.1&nbsp;&nbsp;</span>numpy</a></span></li><li><span><a href=\"#цикл\" data-toc-modified-id=\"цикл-1.1.2\"><span class=\"toc-item-num\">1.1.2&nbsp;&nbsp;</span>цикл</a></span></li></ul></li></ul></li><li><span><a href=\"#B.-Подматрица-с-нужным-детерминантом\" data-toc-modified-id=\"B.-Подматрица-с-нужным-детерминантом-2\"><span class=\"toc-item-num\">2&nbsp;&nbsp;</span>B. Подматрица с нужным детерминантом</a></span><ul class=\"toc-item\"><li><span><a href=\"#C.-Коммиты\" data-toc-modified-id=\"C.-Коммиты-2.1\"><span class=\"toc-item-num\">2.1&nbsp;&nbsp;</span>C. Коммиты</a></span><ul class=\"toc-item\"><li><span><a href=\"#pandas\" data-toc-modified-id=\"pandas-2.1.1\"><span class=\"toc-item-num\">2.1.1&nbsp;&nbsp;</span>pandas</a></span></li><li><span><a href=\"#словари\" data-toc-modified-id=\"словари-2.1.2\"><span class=\"toc-item-num\">2.1.2&nbsp;&nbsp;</span>словари</a></span></li><li><span><a href=\"#словари-+-pandas\" data-toc-modified-id=\"словари-+-pandas-2.1.3\"><span class=\"toc-item-num\">2.1.3&nbsp;&nbsp;</span>словари + pandas</a></span></li></ul></li><li><span><a href=\"#D.-Нетворкинг\" data-toc-modified-id=\"D.-Нетворкинг-2.2\"><span class=\"toc-item-num\">2.2&nbsp;&nbsp;</span>D. Нетворкинг</a></span><ul class=\"toc-item\"><li><span><a href=\"#pandas-+-Counter\" data-toc-modified-id=\"pandas-+-Counter-2.2.1\"><span class=\"toc-item-num\">2.2.1&nbsp;&nbsp;</span>pandas + Counter</a></span></li><li><span><a href=\"#pandas\" data-toc-modified-id=\"pandas-2.2.2\"><span class=\"toc-item-num\">2.2.2&nbsp;&nbsp;</span>pandas</a></span></li></ul></li></ul></li><li><span><a href=\"#СР-3\" data-toc-modified-id=\"СР-3-3\"><span class=\"toc-item-num\">3&nbsp;&nbsp;</span>СР-3</a></span><ul class=\"toc-item\"><li><span><a href=\"#B-3\" data-toc-modified-id=\"B-3-3.1\"><span class=\"toc-item-num\">3.1&nbsp;&nbsp;</span>B-3</a></span></li><li><span><a href=\"#B-2\" data-toc-modified-id=\"B-2-3.2\"><span class=\"toc-item-num\">3.2&nbsp;&nbsp;</span>B-2</a></span></li></ul></li><li><span><a href=\"#ДЗ-3:-Дефолты\" data-toc-modified-id=\"ДЗ-3:-Дефолты-4\"><span class=\"toc-item-num\">4&nbsp;&nbsp;</span>ДЗ-3: Дефолты</a></span><ul class=\"toc-item\"><li><span><a href=\"#7-гистограммы\" data-toc-modified-id=\"7-гистограммы-4.1\"><span class=\"toc-item-num\">4.1&nbsp;&nbsp;</span>7-гистограммы</a></span></li><li><span><a href=\"#9-корреляция\" data-toc-modified-id=\"9-корреляция-4.2\"><span class=\"toc-item-num\">4.2&nbsp;&nbsp;</span>9-корреляция</a></span></li></ul></li></ul></div>"
   ]
  },
  {
   "cell_type": "markdown",
   "id": "7be8413f",
   "metadata": {},
   "source": [
    "# ДЗ-3"
   ]
  },
  {
   "cell_type": "markdown",
   "id": "dcb133f1",
   "metadata": {},
   "source": [
    "## A. Нетеплицева матрица"
   ]
  },
  {
   "cell_type": "markdown",
   "id": "41c401db",
   "metadata": {},
   "source": [
    "### numpy"
   ]
  },
  {
   "cell_type": "code",
   "execution_count": 1,
   "id": "2fad89a6",
   "metadata": {},
   "outputs": [
    {
     "name": "stdout",
     "output_type": "stream",
     "text": [
      "1 2 3 4 5\n"
     ]
    },
    {
     "data": {
      "text/plain": [
       "array([1, 2, 3, 4, 5])"
      ]
     },
     "execution_count": 1,
     "metadata": {},
     "output_type": "execute_result"
    }
   ],
   "source": [
    "import numpy as np\n",
    "x = np.array(list(map(int, input().split())))\n",
    "x\n"
   ]
  },
  {
   "cell_type": "code",
   "execution_count": 2,
   "id": "9caaab5c",
   "metadata": {},
   "outputs": [
    {
     "data": {
      "text/plain": [
       "array([1, 2, 3, 4, 5])"
      ]
     },
     "execution_count": 2,
     "metadata": {},
     "output_type": "execute_result"
    }
   ],
   "source": [
    "x"
   ]
  },
  {
   "cell_type": "code",
   "execution_count": 3,
   "id": "98c07a80",
   "metadata": {},
   "outputs": [
    {
     "data": {
      "text/plain": [
       "array([[1, 2, 3, 4, 5],\n",
       "       [5, 1, 2, 3, 4],\n",
       "       [4, 5, 1, 2, 3],\n",
       "       [3, 4, 5, 1, 2],\n",
       "       [2, 3, 4, 5, 1]])"
      ]
     },
     "execution_count": 3,
     "metadata": {},
     "output_type": "execute_result"
    }
   ],
   "source": [
    "n = x.size\n",
    "A = np.vstack([np.roll(x, i) for i in range(n)])\n",
    "A\n"
   ]
  },
  {
   "cell_type": "code",
   "execution_count": 4,
   "id": "ca57559a",
   "metadata": {},
   "outputs": [
    {
     "data": {
      "text/plain": [
       "array([[1, 2, 3, 4, 5],\n",
       "       [0, 1, 2, 3, 4],\n",
       "       [0, 0, 1, 2, 3],\n",
       "       [0, 0, 0, 1, 2],\n",
       "       [0, 0, 0, 0, 1]])"
      ]
     },
     "execution_count": 4,
     "metadata": {},
     "output_type": "execute_result"
    }
   ],
   "source": [
    "np.triu(A)"
   ]
  },
  {
   "cell_type": "code",
   "execution_count": 5,
   "id": "2d41d30c",
   "metadata": {},
   "outputs": [
    {
     "data": {
      "text/plain": [
       "array([[0, 0, 0, 0, 0],\n",
       "       [2, 0, 0, 0, 0],\n",
       "       [3, 2, 0, 0, 0],\n",
       "       [4, 3, 2, 0, 0],\n",
       "       [5, 4, 3, 2, 0]])"
      ]
     },
     "execution_count": 5,
     "metadata": {},
     "output_type": "execute_result"
    }
   ],
   "source": [
    "np.tril(A.T, -1)"
   ]
  },
  {
   "cell_type": "code",
   "execution_count": 6,
   "id": "67b3a5ce",
   "metadata": {},
   "outputs": [
    {
     "data": {
      "text/plain": [
       "array([[1, 2, 3, 4, 5],\n",
       "       [2, 1, 2, 3, 4],\n",
       "       [3, 2, 1, 2, 3],\n",
       "       [4, 3, 2, 1, 2],\n",
       "       [5, 4, 3, 2, 1]])"
      ]
     },
     "execution_count": 6,
     "metadata": {},
     "output_type": "execute_result"
    }
   ],
   "source": [
    "ans = np.tril(A.T, -1) + np.triu(A)\n",
    "ans"
   ]
  },
  {
   "cell_type": "code",
   "execution_count": 7,
   "id": "24e10220",
   "metadata": {
    "scrolled": true
   },
   "outputs": [
    {
     "name": "stdout",
     "output_type": "stream",
     "text": [
      "[[1 2 3 4 5]\n",
      " [4 3 2 1 2]\n",
      " [3 2 1 2 3]\n",
      " [2 1 2 3 4]\n",
      " [5 4 3 2 1]]\n"
     ]
    }
   ],
   "source": [
    "ans[np.arange(1, n, 2)] = ans[np.arange(1, n, 2)][:n,::-1]\n",
    "print(ans.astype(int))"
   ]
  },
  {
   "cell_type": "markdown",
   "id": "51580b04",
   "metadata": {},
   "source": [
    "### цикл"
   ]
  },
  {
   "cell_type": "code",
   "execution_count": 12,
   "id": "a86e209e",
   "metadata": {},
   "outputs": [
    {
     "name": "stdout",
     "output_type": "stream",
     "text": [
      "1 2 3 4 5\n",
      "[]\n",
      "[5]\n",
      "[5, 4]\n",
      "[3, 4, 5]\n",
      "[5, 4, 3, 2]\n",
      "[1, 2, 3, 4, 5]\n",
      "[4, 3, 2, 1, 2]\n",
      "[3, 2, 1, 2, 3]\n",
      "[2, 1, 2, 3, 4]\n"
     ]
    }
   ],
   "source": [
    "x = list(map(int, input().split()))\n",
    "xx = list(x[::-1][:-1]) + list(x)\n",
    "A = []\n",
    "for i in range(len(xx),0,-1):\n",
    "    if i%2!=0:\n",
    "        A.append(xx[i:i+n][::-1])\n",
    "    else:\n",
    "        A.append(xx[i:i+n])\n",
    "        \n",
    "print(*A, sep='\\n')"
   ]
  },
  {
   "cell_type": "markdown",
   "id": "227557af",
   "metadata": {},
   "source": [
    "# B. Подматрица с нужным детерминантом"
   ]
  },
  {
   "cell_type": "code",
   "execution_count": 13,
   "id": "70260a93",
   "metadata": {},
   "outputs": [
    {
     "name": "stdout",
     "output_type": "stream",
     "text": [
      "1 2; 3 4\n",
      "1 2; 3 4\n"
     ]
    }
   ],
   "source": [
    "import numpy as np\n",
    "from math import ceil\n",
    "a = np.array([list(map(float,x.split())) for x in input().split(';')])\n",
    "b = np.array([list(map(float,x.split())) for x in input().split(';')])\n"
   ]
  },
  {
   "cell_type": "code",
   "execution_count": 14,
   "id": "a726860a",
   "metadata": {},
   "outputs": [
    {
     "name": "stdout",
     "output_type": "stream",
     "text": [
      "[[1. 2.]\n",
      " [3. 4.]]\n",
      "[[1. 2.]\n",
      " [3. 4.]]\n"
     ]
    }
   ],
   "source": [
    "print(a)\n",
    "print(b)"
   ]
  },
  {
   "cell_type": "code",
   "execution_count": 15,
   "id": "5f95bae1",
   "metadata": {},
   "outputs": [
    {
     "name": "stdout",
     "output_type": "stream",
     "text": [
      "True\n"
     ]
    }
   ],
   "source": [
    "n = a.shape[0]\n",
    "ans = False\n",
    "for i in range(n):\n",
    "    for j in range(n):\n",
    "        for m in range(n):\n",
    "            M = a[i:(i+m),j:(j+m)]\n",
    "            if M.shape[0]==M.shape[1] and np.isclose(np.linalg.det(M), b[i,j]):\n",
    "                ans = True\n",
    "                break\n",
    "print(ans)"
   ]
  },
  {
   "cell_type": "markdown",
   "id": "5a84aca5",
   "metadata": {},
   "source": [
    "## C. Коммиты"
   ]
  },
  {
   "cell_type": "markdown",
   "id": "42fb0a40",
   "metadata": {},
   "source": [
    "### pandas"
   ]
  },
  {
   "cell_type": "code",
   "execution_count": 16,
   "id": "2a36bbaf",
   "metadata": {},
   "outputs": [
    {
     "name": "stderr",
     "output_type": "stream",
     "text": [
      "<ipython-input-16-32b0caa6f700>:8: FutureWarning: pandas.io.json.json_normalize is deprecated, use pandas.json_normalize instead\n",
      "  raw_data = json_normalize(data, 'files', ['username', 'commit_time'])\n"
     ]
    },
    {
     "data": {
      "text/html": [
       "<div>\n",
       "<style scoped>\n",
       "    .dataframe tbody tr th:only-of-type {\n",
       "        vertical-align: middle;\n",
       "    }\n",
       "\n",
       "    .dataframe tbody tr th {\n",
       "        vertical-align: top;\n",
       "    }\n",
       "\n",
       "    .dataframe thead th {\n",
       "        text-align: right;\n",
       "    }\n",
       "</style>\n",
       "<table border=\"1\" class=\"dataframe\">\n",
       "  <thead>\n",
       "    <tr style=\"text-align: right;\">\n",
       "      <th></th>\n",
       "      <th>name</th>\n",
       "      <th>changed_lines</th>\n",
       "      <th>username</th>\n",
       "      <th>commit_time</th>\n",
       "    </tr>\n",
       "  </thead>\n",
       "  <tbody>\n",
       "    <tr>\n",
       "      <th>0</th>\n",
       "      <td>utils/net.py</td>\n",
       "      <td>85</td>\n",
       "      <td>bober38</td>\n",
       "      <td>2021/03/12 05:45:02</td>\n",
       "    </tr>\n",
       "    <tr>\n",
       "      <th>1</th>\n",
       "      <td>library/utils.py</td>\n",
       "      <td>36</td>\n",
       "      <td>coder007</td>\n",
       "      <td>2021/03/02 15:01:24</td>\n",
       "    </tr>\n",
       "    <tr>\n",
       "      <th>2</th>\n",
       "      <td>quality/utils.py</td>\n",
       "      <td>38</td>\n",
       "      <td>vanessic</td>\n",
       "      <td>2021/01/22 10:14:08</td>\n",
       "    </tr>\n",
       "    <tr>\n",
       "      <th>3</th>\n",
       "      <td>core/library.py</td>\n",
       "      <td>17</td>\n",
       "      <td>john_snow</td>\n",
       "      <td>2021/01/16 15:21:07</td>\n",
       "    </tr>\n",
       "    <tr>\n",
       "      <th>4</th>\n",
       "      <td>frontend/tools.py</td>\n",
       "      <td>6</td>\n",
       "      <td>john_snow</td>\n",
       "      <td>2021/01/16 15:21:07</td>\n",
       "    </tr>\n",
       "    <tr>\n",
       "      <th>...</th>\n",
       "      <td>...</td>\n",
       "      <td>...</td>\n",
       "      <td>...</td>\n",
       "      <td>...</td>\n",
       "    </tr>\n",
       "    <tr>\n",
       "      <th>197</th>\n",
       "      <td>balancer/library.py</td>\n",
       "      <td>96</td>\n",
       "      <td>zeno</td>\n",
       "      <td>2021/02/07 21:37:49</td>\n",
       "    </tr>\n",
       "    <tr>\n",
       "      <th>198</th>\n",
       "      <td>frontend/net.py</td>\n",
       "      <td>28</td>\n",
       "      <td>zeno</td>\n",
       "      <td>2021/02/07 21:37:49</td>\n",
       "    </tr>\n",
       "    <tr>\n",
       "      <th>199</th>\n",
       "      <td>backend/utils.py</td>\n",
       "      <td>23</td>\n",
       "      <td>ivan_ivanov</td>\n",
       "      <td>2021/03/14 03:24:59</td>\n",
       "    </tr>\n",
       "    <tr>\n",
       "      <th>200</th>\n",
       "      <td>library/tools.py</td>\n",
       "      <td>53</td>\n",
       "      <td>ivan_ivanov</td>\n",
       "      <td>2021/03/14 03:24:59</td>\n",
       "    </tr>\n",
       "    <tr>\n",
       "      <th>201</th>\n",
       "      <td>backend/library.py</td>\n",
       "      <td>71</td>\n",
       "      <td>ivan_ivanov</td>\n",
       "      <td>2021/03/14 03:24:59</td>\n",
       "    </tr>\n",
       "  </tbody>\n",
       "</table>\n",
       "<p>202 rows × 4 columns</p>\n",
       "</div>"
      ],
      "text/plain": [
       "                    name  changed_lines     username          commit_time\n",
       "0           utils/net.py             85      bober38  2021/03/12 05:45:02\n",
       "1       library/utils.py             36     coder007  2021/03/02 15:01:24\n",
       "2       quality/utils.py             38     vanessic  2021/01/22 10:14:08\n",
       "3        core/library.py             17    john_snow  2021/01/16 15:21:07\n",
       "4      frontend/tools.py              6    john_snow  2021/01/16 15:21:07\n",
       "..                   ...            ...          ...                  ...\n",
       "197  balancer/library.py             96         zeno  2021/02/07 21:37:49\n",
       "198      frontend/net.py             28         zeno  2021/02/07 21:37:49\n",
       "199     backend/utils.py             23  ivan_ivanov  2021/03/14 03:24:59\n",
       "200     library/tools.py             53  ivan_ivanov  2021/03/14 03:24:59\n",
       "201   backend/library.py             71  ivan_ivanov  2021/03/14 03:24:59\n",
       "\n",
       "[202 rows x 4 columns]"
      ]
     },
     "execution_count": 16,
     "metadata": {},
     "output_type": "execute_result"
    }
   ],
   "source": [
    "import pandas as pd\n",
    "from pandas.io.json import json_normalize\n",
    "import json\n",
    "\n",
    "with open('commits.json', 'r') as inp:\n",
    "    data = json.load(inp)\n",
    "    \n",
    "raw_data = json_normalize(data, 'files', ['username', 'commit_time'])\n",
    "raw_data"
   ]
  },
  {
   "cell_type": "code",
   "execution_count": 17,
   "id": "9ea432dc",
   "metadata": {},
   "outputs": [
    {
     "data": {
      "text/plain": [
       "username\n",
       "bober38         885\n",
       "coder007        396\n",
       "ivan_ivanov    1473\n",
       "john_snow      1211\n",
       "pet            1896\n",
       "vanessic       1622\n",
       "yegor          1341\n",
       "zeno           1211\n",
       "Name: changed_lines, dtype: int64"
      ]
     },
     "execution_count": 17,
     "metadata": {},
     "output_type": "execute_result"
    }
   ],
   "source": [
    "raw_data.groupby('username')['changed_lines'].sum()"
   ]
  },
  {
   "cell_type": "code",
   "execution_count": 18,
   "id": "3664b5f1",
   "metadata": {},
   "outputs": [
    {
     "data": {
      "text/plain": [
       "username\n",
       "bober38        12\n",
       "coder007        7\n",
       "ivan_ivanov    15\n",
       "john_snow      12\n",
       "pet            14\n",
       "vanessic       14\n",
       "yegor          14\n",
       "zeno           12\n",
       "Name: commit_time, dtype: int64"
      ]
     },
     "execution_count": 18,
     "metadata": {},
     "output_type": "execute_result"
    }
   ],
   "source": [
    "raw_data.groupby('username')['commit_time'].nunique()"
   ]
  },
  {
   "cell_type": "code",
   "execution_count": 19,
   "id": "0d0e7c7f",
   "metadata": {},
   "outputs": [
    {
     "data": {
      "text/html": [
       "<div>\n",
       "<style scoped>\n",
       "    .dataframe tbody tr th:only-of-type {\n",
       "        vertical-align: middle;\n",
       "    }\n",
       "\n",
       "    .dataframe tbody tr th {\n",
       "        vertical-align: top;\n",
       "    }\n",
       "\n",
       "    .dataframe thead th {\n",
       "        text-align: right;\n",
       "    }\n",
       "</style>\n",
       "<table border=\"1\" class=\"dataframe\">\n",
       "  <thead>\n",
       "    <tr style=\"text-align: right;\">\n",
       "      <th></th>\n",
       "      <th></th>\n",
       "      <th>commit_time</th>\n",
       "    </tr>\n",
       "    <tr>\n",
       "      <th>name</th>\n",
       "      <th>username</th>\n",
       "      <th></th>\n",
       "    </tr>\n",
       "  </thead>\n",
       "  <tbody>\n",
       "    <tr>\n",
       "      <th rowspan=\"5\" valign=\"top\">backend/library.py</th>\n",
       "      <th>vanessic</th>\n",
       "      <td>2021/01/16 05:58:01</td>\n",
       "    </tr>\n",
       "    <tr>\n",
       "      <th>john_snow</th>\n",
       "      <td>2021/01/18 00:13:13</td>\n",
       "    </tr>\n",
       "    <tr>\n",
       "      <th>yegor</th>\n",
       "      <td>2021/03/13 15:34:49</td>\n",
       "    </tr>\n",
       "    <tr>\n",
       "      <th>ivan_ivanov</th>\n",
       "      <td>2021/03/14 03:24:59</td>\n",
       "    </tr>\n",
       "    <tr>\n",
       "      <th>coder007</th>\n",
       "      <td>2021/03/17 05:24:34</td>\n",
       "    </tr>\n",
       "    <tr>\n",
       "      <th>...</th>\n",
       "      <th>...</th>\n",
       "      <td>...</td>\n",
       "    </tr>\n",
       "    <tr>\n",
       "      <th>utils/tools.py</th>\n",
       "      <th>vanessic</th>\n",
       "      <td>2021/03/15 07:39:18</td>\n",
       "    </tr>\n",
       "    <tr>\n",
       "      <th rowspan=\"4\" valign=\"top\">utils/utils.py</th>\n",
       "      <th>john_snow</th>\n",
       "      <td>2021/01/03 06:01:48</td>\n",
       "    </tr>\n",
       "    <tr>\n",
       "      <th>coder007</th>\n",
       "      <td>2021/01/16 20:52:16</td>\n",
       "    </tr>\n",
       "    <tr>\n",
       "      <th>yegor</th>\n",
       "      <td>2021/02/27 10:56:31</td>\n",
       "    </tr>\n",
       "    <tr>\n",
       "      <th>ivan_ivanov</th>\n",
       "      <td>2021/03/01 11:29:35</td>\n",
       "    </tr>\n",
       "  </tbody>\n",
       "</table>\n",
       "<p>125 rows × 1 columns</p>\n",
       "</div>"
      ],
      "text/plain": [
       "                                        commit_time\n",
       "name               username                        \n",
       "backend/library.py vanessic     2021/01/16 05:58:01\n",
       "                   john_snow    2021/01/18 00:13:13\n",
       "                   yegor        2021/03/13 15:34:49\n",
       "                   ivan_ivanov  2021/03/14 03:24:59\n",
       "                   coder007     2021/03/17 05:24:34\n",
       "...                                             ...\n",
       "utils/tools.py     vanessic     2021/03/15 07:39:18\n",
       "utils/utils.py     john_snow    2021/01/03 06:01:48\n",
       "                   coder007     2021/01/16 20:52:16\n",
       "                   yegor        2021/02/27 10:56:31\n",
       "                   ivan_ivanov  2021/03/01 11:29:35\n",
       "\n",
       "[125 rows x 1 columns]"
      ]
     },
     "execution_count": 19,
     "metadata": {},
     "output_type": "execute_result"
    }
   ],
   "source": [
    "agg = raw_data.groupby(['name','username'])[['commit_time']].min().sort_values(['name','commit_time'])\n",
    "agg"
   ]
  },
  {
   "cell_type": "code",
   "execution_count": 20,
   "id": "d9b73222",
   "metadata": {},
   "outputs": [
    {
     "data": {
      "text/plain": [
       "{'bober38': 2,\n",
       " 'coder007': 1,\n",
       " 'ivan_ivanov': 4,\n",
       " 'john_snow': 4,\n",
       " 'pet': 2,\n",
       " 'vanessic': 7,\n",
       " 'yegor': 7,\n",
       " 'zeno': 1}"
      ]
     },
     "execution_count": 20,
     "metadata": {},
     "output_type": "execute_result"
    }
   ],
   "source": [
    "agg = raw_data.groupby(['name','username'])[['commit_time']].min().sort_values(['name','commit_time'])\n",
    "d = {}\n",
    "for file in agg.reset_index()['name'].unique():\n",
    "    d[file] = agg.loc[file].iloc[0].name\n",
    "d = pd.DataFrame([d]).T.reset_index().groupby(0).count().to_dict()['index'] \n",
    "d"
   ]
  },
  {
   "cell_type": "markdown",
   "id": "df5978dc",
   "metadata": {},
   "source": [
    "### словари"
   ]
  },
  {
   "cell_type": "code",
   "execution_count": 22,
   "id": "40b4046a",
   "metadata": {},
   "outputs": [
    {
     "data": {
      "text/plain": [
       "defaultdict(<function __main__.<lambda>()>,\n",
       "            {'yegor': {'commits': 14, 'changed_lines': 1341, 'new_files': 7},\n",
       "             'coder007': {'commits': 7, 'changed_lines': 396, 'new_files': 1},\n",
       "             'bober38': {'commits': 12, 'changed_lines': 885, 'new_files': 2},\n",
       "             'ivan_ivanov': {'commits': 15,\n",
       "              'changed_lines': 1473,\n",
       "              'new_files': 4},\n",
       "             'john_snow': {'commits': 12,\n",
       "              'changed_lines': 1211,\n",
       "              'new_files': 4},\n",
       "             'vanessic': {'commits': 14,\n",
       "              'changed_lines': 1622,\n",
       "              'new_files': 7},\n",
       "             'zeno': {'commits': 12, 'changed_lines': 1211, 'new_files': 1},\n",
       "             'pet': {'commits': 14, 'changed_lines': 1896, 'new_files': 2}})"
      ]
     },
     "execution_count": 22,
     "metadata": {},
     "output_type": "execute_result"
    }
   ],
   "source": [
    "import pandas as pd\n",
    "import json\n",
    "from collections import defaultdict\n",
    "\n",
    "with open('commits.json') as json_file:\n",
    "    data = json.load(json_file)\n",
    "    \n",
    "data = sorted(data, key=lambda x: x['commit_time'])\n",
    "\n",
    "new_files = set()\n",
    "table = defaultdict(lambda: {'commits':0, 'changed_lines':0, 'new_files':0})\n",
    "\n",
    "for comit in data:\n",
    "    user = comit['username']\n",
    "    table[user]['commits'] +=1\n",
    "    for file in comit['files']:\n",
    "        table[user]['changed_lines'] += file['changed_lines']\n",
    "        if file['name'] not in new_files:\n",
    "            new_files.add(file['name'])\n",
    "            table[user]['new_files'] += 1\n",
    "\n",
    "table"
   ]
  },
  {
   "cell_type": "code",
   "execution_count": 23,
   "id": "40e13af5",
   "metadata": {},
   "outputs": [
    {
     "data": {
      "text/plain": [
       "{'username': 'yegor',\n",
       " 'commit_time': '2021/01/01 03:14:55',\n",
       " 'files': [{'name': 'utils/tools.py', 'changed_lines': 51},\n",
       "  {'name': 'balancer/tools.py', 'changed_lines': 22},\n",
       "  {'name': 'library/utils.py', 'changed_lines': 75}]}"
      ]
     },
     "execution_count": 23,
     "metadata": {},
     "output_type": "execute_result"
    }
   ],
   "source": [
    "data[0]"
   ]
  },
  {
   "cell_type": "code",
   "execution_count": 24,
   "id": "df1337cd",
   "metadata": {},
   "outputs": [
    {
     "name": "stdout",
     "output_type": "stream",
     "text": [
      "   username  commits  changed_lines  new_files\n",
      "    bober38       12            885          2\n",
      "   coder007        7            396          1\n",
      "ivan_ivanov       15           1473          4\n",
      "  john_snow       12           1211          4\n",
      "        pet       14           1896          2\n",
      "   vanessic       14           1622          7\n",
      "      yegor       14           1341          7\n",
      "       zeno       12           1211          1\n"
     ]
    }
   ],
   "source": [
    "df = pd.DataFrame(table).T\n",
    "df.index.name = 'username'\n",
    "print(df.sort_index().reset_index().to_string(index=False))"
   ]
  },
  {
   "cell_type": "markdown",
   "id": "3482600c",
   "metadata": {},
   "source": [
    "### словари + pandas"
   ]
  },
  {
   "cell_type": "code",
   "execution_count": 26,
   "id": "06a3f187",
   "metadata": {
    "scrolled": true
   },
   "outputs": [
    {
     "name": "stdout",
     "output_type": "stream",
     "text": [
      "   username  commits  changed_lines  new_files\n",
      "    bober38       12            885          2\n",
      "   coder007        7            396          1\n",
      "ivan_ivanov       15           1473          4\n",
      "  john_snow       12           1211          4\n",
      "        pet       14           1896          2\n",
      "   vanessic       14           1622          7\n",
      "      yegor       14           1341          7\n",
      "       zeno       12           1211          1\n"
     ]
    },
    {
     "name": "stderr",
     "output_type": "stream",
     "text": [
      "<ipython-input-26-ec8578b9cd6a>:8: FutureWarning: pandas.io.json.json_normalize is deprecated, use pandas.json_normalize instead\n",
      "  raw_data = json_normalize(data, 'files', ['username', 'commit_time'])\n"
     ]
    }
   ],
   "source": [
    "import pandas as pd\n",
    "from pandas.io.json import json_normalize\n",
    "import json\n",
    "\n",
    "with open('commits.json', 'r') as inp:\n",
    "    data = json.load(inp)\n",
    "    \n",
    "raw_data = json_normalize(data, 'files', ['username', 'commit_time'])\n",
    "raw_data.commit_time = pd.to_datetime(raw_data.commit_time, format=\"%Y/%m/%d %H:%M:%S\")\n",
    "raw_data.sort_values(by='commit_time', inplace=True)\n",
    "\n",
    "users = dict()\n",
    "files = dict()\n",
    "\n",
    "for ind, row in raw_data.iterrows():    \n",
    "    file, lines, user, time = row['name'], row['changed_lines'] ,row['username'], row['commit_time']\n",
    "    if user not in users:\n",
    "        users[user] = {'username': user, 'commits': set(), 'changed_lines': 0, 'new_files': 0}\n",
    "    if file not in files:\n",
    "        files[file] = user\n",
    "        users[user]['new_files'] += 1\n",
    "    users[user]['changed_lines'] += int(lines)\n",
    "    users[user]['commits'].add(time)\n",
    "    \n",
    "for user in users:\n",
    "    users[user]['commits'] = len(users[user]['commits'])\n",
    "    \n",
    "result = pd.DataFrame.from_dict(users, columns=['username', 'commits', 'changed_lines', 'new_files'], orient='index')\n",
    "result.sort_values(by='username', inplace=True)\n",
    "print(result.to_string(index=False))\n",
    "    "
   ]
  },
  {
   "cell_type": "markdown",
   "id": "a025a5d4",
   "metadata": {},
   "source": [
    "## D. Нетворкинг"
   ]
  },
  {
   "cell_type": "markdown",
   "id": "0795ca26",
   "metadata": {},
   "source": [
    "### pandas + Counter"
   ]
  },
  {
   "cell_type": "code",
   "execution_count": 27,
   "id": "936db133",
   "metadata": {},
   "outputs": [
    {
     "name": "stdout",
     "output_type": "stream",
     "text": [
      "             person  links_count\n",
      "        Sergey Brin            7\n",
      "            Jack Ma            6\n",
      "Laurene Powell Jobs            6\n",
      "   Alexey Mordashov            5\n",
      "         Hui Ka Yan            5\n"
     ]
    }
   ],
   "source": [
    "import pandas as pd\n",
    "from collections import Counter\n",
    "\n",
    "f = open(\"networking.tsv\", \"r\").read()\n",
    "s = [x.split('\\t') for x in f.split('\\n')][:-1]\n",
    "\n",
    "agg = pd.DataFrame(Counter(sum(s,[])).items(), columns=['person','links_count'])\n",
    "agg = agg.sort_values(by=['links_count','person'], ascending=[False,True]).head()\n",
    "print(agg.to_string(index=False))"
   ]
  },
  {
   "cell_type": "code",
   "execution_count": 28,
   "id": "e247d7e0",
   "metadata": {},
   "outputs": [],
   "source": [
    "# sorted(s, key=lambda x: (x[1], x[0]))"
   ]
  },
  {
   "cell_type": "code",
   "execution_count": 29,
   "id": "4794e4f8",
   "metadata": {},
   "outputs": [
    {
     "data": {
      "text/plain": [
       "[['Laurene Powell Jobs', 'Azim Premji'],\n",
       " ['Tadashi Yanai', 'Amancio Ortega'],\n",
       " ['He Xiangjian', 'Joseph Safra'],\n",
       " ['Bill Gates', 'Stefan Persson'],\n",
       " ['Sergey Brin', 'S. Robson Walton']]"
      ]
     },
     "execution_count": 29,
     "metadata": {},
     "output_type": "execute_result"
    }
   ],
   "source": [
    "s[:5]"
   ]
  },
  {
   "cell_type": "markdown",
   "id": "64bb6e62",
   "metadata": {},
   "source": [
    "### pandas"
   ]
  },
  {
   "cell_type": "code",
   "execution_count": 30,
   "id": "6dd591b5",
   "metadata": {},
   "outputs": [
    {
     "name": "stdout",
     "output_type": "stream",
     "text": [
      "             person  links_count\n",
      "        Sergey Brin            7\n",
      "            Jack Ma            6\n",
      "Laurene Powell Jobs            6\n",
      "   Alexey Mordashov            5\n",
      "         Hui Ka Yan            5\n"
     ]
    }
   ],
   "source": [
    "import pandas as pd\n",
    "\n",
    "\n",
    "# df = pd.DataFrame([x.split('\\t') for x in f.split('\\n')])\n",
    "df = pd.read_csv('networking.tsv', sep='\\t', header=None)\n",
    "\n",
    "agg = (df[0].value_counts() + df[1].value_counts()).dropna().astype(int)\n",
    "agg = pd.DataFrame(agg).reset_index()\n",
    "agg.columns = ['person','links_count']\n",
    "agg = agg.sort_values(by=['links_count','person'], ascending=[False,True]).head()\n",
    "print(agg.to_string(index=False))"
   ]
  },
  {
   "cell_type": "markdown",
   "id": "8acf8d75",
   "metadata": {},
   "source": [
    "# СР-3"
   ]
  },
  {
   "cell_type": "markdown",
   "id": "16788cf3",
   "metadata": {},
   "source": [
    "## B-3\n",
    "- Дан файл с результатами соревнований пар в спортивных танцах на льду, записанными в произвольном порядке. \n",
    "- Напишите программу, которая по названию страны определяет партнершу из пары, занявшей самое высокое место. \n",
    "\n",
    "\n",
    "- ФОРМАТ ВВОДА \n",
    "- Файл skating.txt в кодировке utf-8, где на каждой строке записан результат соревнований пары в формате \n",
    "    - \"<место> - <имя партнерши> / <имя партнера>, <страна>\". \n",
    "    - Например, \"1 место - Габриэлла Пападакис / Гийом Сизерон, Франция\".\n",
    "- Гарантируется, что в файле есть минимум одна строка.\n",
    "\n",
    "\n",
    "- ВАЖНО! \n",
    "- Ваше решение будет проверяться на закрытых тестах. \n",
    "- Ваш код должен считывать файл 'skating.txt' без дополнительных указаний (например, пути к файлу на вашем компьютере).\n",
    "- С клавиатуры вводится название страны.\n",
    "\n",
    "\n",
    "- ФОРМАТ ВЫВОДА\n",
    "- Строка, имя и через пробел фамилия партнерши из введенной страны, занявшей самое высокое место.\n",
    "\n",
    "\n",
    "- ДОПОЛНИТЕЛЬНО\n",
    "- В открытом тесте используется файл skating.txt. Вы можете скачать его и проверить свое решение локально.\n",
    "- В примере в первой колонке отображается номер теста (0 — открытый тест), считывать это число или использовать его в вашем решении не нужно.\n"
   ]
  },
  {
   "cell_type": "code",
   "execution_count": 31,
   "id": "e67ba567",
   "metadata": {},
   "outputs": [],
   "source": [
    "ex = '1 место - Габриэлла Пападакис / Гийом Сизерон, Франция'"
   ]
  },
  {
   "cell_type": "code",
   "execution_count": 32,
   "id": "f76ccdce",
   "metadata": {},
   "outputs": [],
   "source": [
    "exs = '''1 место - q w / a b, fr\n",
    "2 место - q w / e r, ru\n",
    "3 место - a b / q w, fr\n",
    "4 место - c d / q w, fr\n",
    "5 место - a b / c d, ru'''"
   ]
  },
  {
   "cell_type": "code",
   "execution_count": 33,
   "id": "1fcc12ed",
   "metadata": {},
   "outputs": [
    {
     "data": {
      "text/plain": [
       "'1 место - q w / a b, fr\\n2 место - q w / e r, ru\\n3 место - a b / q w, fr\\n4 место - c d / q w, fr\\n5 место - a b / c d, ru'"
      ]
     },
     "execution_count": 33,
     "metadata": {},
     "output_type": "execute_result"
    }
   ],
   "source": [
    "exs"
   ]
  },
  {
   "cell_type": "code",
   "execution_count": 34,
   "id": "c8e44039",
   "metadata": {},
   "outputs": [
    {
     "data": {
      "text/plain": [
       "[['1', 'q w', 'a b', 'fr'],\n",
       " ['2', 'q w', 'e r', 'ru'],\n",
       " ['3', 'a b', 'q w', 'fr'],\n",
       " ['4', 'c d', 'q w', 'fr'],\n",
       " ['5', 'a b', 'c d', 'ru']]"
      ]
     },
     "execution_count": 34,
     "metadata": {},
     "output_type": "execute_result"
    }
   ],
   "source": [
    "data = [x.replace(' место -',',').replace(' /',',').split(', ') for x in exs.split('\\n')]\n",
    "data"
   ]
  },
  {
   "cell_type": "code",
   "execution_count": 35,
   "id": "ba47a930",
   "metadata": {},
   "outputs": [
    {
     "data": {
      "text/plain": [
       "[['2', 'q w', 'e r', 'ru'], ['5', 'a b', 'c d', 'ru']]"
      ]
     },
     "execution_count": 35,
     "metadata": {},
     "output_type": "execute_result"
    }
   ],
   "source": [
    "country = 'ru' #input()\n",
    "data = [x for x in data if x[3]==country]\n",
    "data"
   ]
  },
  {
   "cell_type": "code",
   "execution_count": 36,
   "id": "9c91d5fe",
   "metadata": {},
   "outputs": [
    {
     "data": {
      "text/plain": [
       "['2', 'q w', 'e r', 'ru']"
      ]
     },
     "execution_count": 36,
     "metadata": {},
     "output_type": "execute_result"
    }
   ],
   "source": [
    "best_pair = min(data, key=lambda x: int(x[0]))\n",
    "best_pair"
   ]
  },
  {
   "cell_type": "code",
   "execution_count": 37,
   "id": "c7c67554",
   "metadata": {},
   "outputs": [
    {
     "name": "stdout",
     "output_type": "stream",
     "text": [
      "q w\n"
     ]
    }
   ],
   "source": [
    "print(best_pair[1])"
   ]
  },
  {
   "cell_type": "markdown",
   "id": "d3142507",
   "metadata": {},
   "source": [
    "## B-2"
   ]
  },
  {
   "cell_type": "code",
   "execution_count": 39,
   "id": "dddee7f7",
   "metadata": {},
   "outputs": [
    {
     "name": "stdout",
     "output_type": "stream",
     "text": [
      "h; 20\n",
      "g; 10\n",
      "r; 1\n",
      "r; 10\n",
      "КОНЕЦ\n",
      "1 10\n"
     ]
    }
   ],
   "source": [
    "tickets = {}\n",
    "winners = set()\n",
    "\n",
    "ticket = input()\n",
    "\n",
    "while ticket != 'КОНЕЦ':\n",
    "    name, number = ticket.split('; ')\n",
    "    if name not in tickets:\n",
    "        tickets[name] = []\n",
    "    tickets[name].append(number)\n",
    "    ticket = input()\n",
    "\n",
    "win_numbers = set(input().split())\n",
    "\n"
   ]
  },
  {
   "cell_type": "code",
   "execution_count": 40,
   "id": "50cddec0",
   "metadata": {},
   "outputs": [
    {
     "data": {
      "text/plain": [
       "{'1', '10'}"
      ]
     },
     "execution_count": 40,
     "metadata": {},
     "output_type": "execute_result"
    }
   ],
   "source": [
    "win_numbers"
   ]
  },
  {
   "cell_type": "code",
   "execution_count": 41,
   "id": "ff301752",
   "metadata": {},
   "outputs": [
    {
     "data": {
      "text/plain": [
       "{'h': ['20'], 'g': ['10'], 'r': ['1', '10']}"
      ]
     },
     "execution_count": 41,
     "metadata": {},
     "output_type": "execute_result"
    }
   ],
   "source": [
    "tickets"
   ]
  },
  {
   "cell_type": "code",
   "execution_count": 42,
   "id": "2094fe12",
   "metadata": {},
   "outputs": [],
   "source": [
    "for name in tickets:\n",
    "    if len(set(tickets[name]) & win_numbers)>0:\n",
    "        winners.add(name)"
   ]
  },
  {
   "cell_type": "code",
   "execution_count": 43,
   "id": "8390a50e",
   "metadata": {
    "scrolled": true
   },
   "outputs": [
    {
     "name": "stdout",
     "output_type": "stream",
     "text": [
      "g, r\n"
     ]
    }
   ],
   "source": [
    "print(*sorted(winners), sep=', ')"
   ]
  },
  {
   "cell_type": "markdown",
   "id": "0c0ea679",
   "metadata": {},
   "source": [
    "# ДЗ-3: Дефолты"
   ]
  },
  {
   "cell_type": "markdown",
   "id": "e6fc0a7f",
   "metadata": {},
   "source": [
    "## 7-гистограммы"
   ]
  },
  {
   "cell_type": "markdown",
   "id": "3dbe2052",
   "metadata": {},
   "source": [
    "7. Постройте гистограмму по суммам предоставленных кредитов (*LIMIT_BAL*) для каждой из групп клиентов отдельно (с дефолтом и без). (один график)\n",
    "8. На основе графика из предыдущего пункта, ответьте на вопросы: <br>\n",
    "8.1 По кредитам какого размера чаще всего происходят дефолты? <br>\n",
    "8.2 Начиная от какой суммы кредита клиентов без дефолта становится больше, чем клиентов с дефолтом? <br>\n",
    "8.3  Как по графику определить, есть ли такие одобренные суммы кредитов, по которым никогда не происходит дефолт? Выведите значения а) сумм кредитов, по которым всегда встречается дефолт, б) и те, по которым никогда не бывает дефолта. <br>\n",
    "9. Постройте матрицу корреляций для всех переменных по статусу погашения кредита. Добавьте значения корреляций на график. Есть ли общий тренд по возрастанию/убыванию корреляции по времени (всем месяцам)? <br>\n",
    "10. Напишите функцию, которая возвращает словарь, где ключ - это сумма одобренного кредита, а значение - это вложенный словарь. В нем по ключу ```ratio``` хранится отношение клиентов с дефолтом к тем, у кого его не было, с такой суммой кредитов, а по ключу ```num_clients```  - общее число клиентов с таким кредитом. Пример элемента словаря: ``` {50000.0 : {'ratio': 0.357, 'num_clients': 3365}```. Отсортируйте получившийся словарь по ключу ```ratio``` в убывающем порядке. У какого размера кредита наибольшая доля клиентов с дефолтом? А сколько в датасете клиентов, по которым посчитана эта доля? Можем ли мы сделать вывод, что в целом не стоит одобрять эту сумму для кредита новым клиентам? <br>"
   ]
  },
  {
   "cell_type": "code",
   "execution_count": 44,
   "id": "893ec756",
   "metadata": {},
   "outputs": [],
   "source": [
    "import pandas as pd\n",
    "import seaborn as sns\n",
    "import matplotlib.pyplot as plt"
   ]
  },
  {
   "cell_type": "code",
   "execution_count": 45,
   "id": "456c2825",
   "metadata": {},
   "outputs": [
    {
     "data": {
      "text/html": [
       "<div>\n",
       "<style scoped>\n",
       "    .dataframe tbody tr th:only-of-type {\n",
       "        vertical-align: middle;\n",
       "    }\n",
       "\n",
       "    .dataframe tbody tr th {\n",
       "        vertical-align: top;\n",
       "    }\n",
       "\n",
       "    .dataframe thead th {\n",
       "        text-align: right;\n",
       "    }\n",
       "</style>\n",
       "<table border=\"1\" class=\"dataframe\">\n",
       "  <thead>\n",
       "    <tr style=\"text-align: right;\">\n",
       "      <th></th>\n",
       "      <th>ID</th>\n",
       "      <th>LIMIT_BAL</th>\n",
       "      <th>SEX</th>\n",
       "      <th>EDUCATION</th>\n",
       "      <th>MARRIAGE</th>\n",
       "      <th>AGE</th>\n",
       "      <th>PAY_0</th>\n",
       "      <th>PAY_2</th>\n",
       "      <th>PAY_3</th>\n",
       "      <th>PAY_4</th>\n",
       "      <th>...</th>\n",
       "      <th>BILL_AMT4</th>\n",
       "      <th>BILL_AMT5</th>\n",
       "      <th>BILL_AMT6</th>\n",
       "      <th>PAY_AMT1</th>\n",
       "      <th>PAY_AMT2</th>\n",
       "      <th>PAY_AMT3</th>\n",
       "      <th>PAY_AMT4</th>\n",
       "      <th>PAY_AMT5</th>\n",
       "      <th>PAY_AMT6</th>\n",
       "      <th>default.payment.next.month</th>\n",
       "    </tr>\n",
       "  </thead>\n",
       "  <tbody>\n",
       "    <tr>\n",
       "      <th>0</th>\n",
       "      <td>1</td>\n",
       "      <td>20000.0</td>\n",
       "      <td>2</td>\n",
       "      <td>2</td>\n",
       "      <td>1</td>\n",
       "      <td>24</td>\n",
       "      <td>2</td>\n",
       "      <td>2</td>\n",
       "      <td>-1</td>\n",
       "      <td>-1</td>\n",
       "      <td>...</td>\n",
       "      <td>0.0</td>\n",
       "      <td>0.0</td>\n",
       "      <td>0.0</td>\n",
       "      <td>0.0</td>\n",
       "      <td>689.0</td>\n",
       "      <td>0.0</td>\n",
       "      <td>0.0</td>\n",
       "      <td>0.0</td>\n",
       "      <td>0.0</td>\n",
       "      <td>1</td>\n",
       "    </tr>\n",
       "    <tr>\n",
       "      <th>1</th>\n",
       "      <td>2</td>\n",
       "      <td>120000.0</td>\n",
       "      <td>2</td>\n",
       "      <td>2</td>\n",
       "      <td>2</td>\n",
       "      <td>26</td>\n",
       "      <td>-1</td>\n",
       "      <td>2</td>\n",
       "      <td>0</td>\n",
       "      <td>0</td>\n",
       "      <td>...</td>\n",
       "      <td>3272.0</td>\n",
       "      <td>3455.0</td>\n",
       "      <td>3261.0</td>\n",
       "      <td>0.0</td>\n",
       "      <td>1000.0</td>\n",
       "      <td>1000.0</td>\n",
       "      <td>1000.0</td>\n",
       "      <td>0.0</td>\n",
       "      <td>2000.0</td>\n",
       "      <td>1</td>\n",
       "    </tr>\n",
       "  </tbody>\n",
       "</table>\n",
       "<p>2 rows × 25 columns</p>\n",
       "</div>"
      ],
      "text/plain": [
       "   ID  LIMIT_BAL  SEX  EDUCATION  MARRIAGE  AGE  PAY_0  PAY_2  PAY_3  PAY_4  \\\n",
       "0   1    20000.0    2          2         1   24      2      2     -1     -1   \n",
       "1   2   120000.0    2          2         2   26     -1      2      0      0   \n",
       "\n",
       "   ...  BILL_AMT4  BILL_AMT5  BILL_AMT6  PAY_AMT1  PAY_AMT2  PAY_AMT3  \\\n",
       "0  ...        0.0        0.0        0.0       0.0     689.0       0.0   \n",
       "1  ...     3272.0     3455.0     3261.0       0.0    1000.0    1000.0   \n",
       "\n",
       "   PAY_AMT4  PAY_AMT5  PAY_AMT6  default.payment.next.month  \n",
       "0       0.0       0.0       0.0                           1  \n",
       "1    1000.0       0.0    2000.0                           1  \n",
       "\n",
       "[2 rows x 25 columns]"
      ]
     },
     "execution_count": 45,
     "metadata": {},
     "output_type": "execute_result"
    }
   ],
   "source": [
    "df = pd.read_csv('defaults.csv')\n",
    "df.head(2)"
   ]
  },
  {
   "cell_type": "code",
   "execution_count": 46,
   "id": "71731258",
   "metadata": {},
   "outputs": [
    {
     "name": "stderr",
     "output_type": "stream",
     "text": [
      "/Library/Frameworks/Python.framework/Versions/3.9/lib/python3.9/site-packages/pandas/plotting/_matplotlib/tools.py:400: MatplotlibDeprecationWarning: \n",
      "The is_first_col function was deprecated in Matplotlib 3.4 and will be removed two minor releases later. Use ax.get_subplotspec().is_first_col() instead.\n",
      "  if ax.is_first_col():\n"
     ]
    },
    {
     "data": {
      "image/png": "[encoded data removed]",
      "text/plain": [
       "<Figure size 1008x432 with 4 Axes>"
      ]
     },
     "metadata": {
      "needs_background": "light"
     },
     "output_type": "display_data"
    }
   ],
   "source": [
    "plt.figure(figsize=(14,6))\n",
    "plt.subplot(2,2,1)\n",
    "g = sns.histplot(data=df, x='LIMIT_BAL', hue='default.payment.next.month',  \n",
    "             bins=10,\n",
    "             common_norm=False, stat='density',\n",
    "             #log_scale=True\n",
    "            )\n",
    "plt.legend(['no','yes'],title='default',loc='center left', bbox_to_anchor=(1, 0.5))\n",
    "\n",
    "plt.subplot(2,2,3)\n",
    "sns.kdeplot(x=df[df['default.payment.next.month']==0]['LIMIT_BAL'])\n",
    "sns.kdeplot(x=df[df['default.payment.next.month']==1]['LIMIT_BAL'])\n",
    "\n",
    "plt.subplot(2,2,2)\n",
    "sns.histplot(data=df, x='LIMIT_BAL', hue='default.payment.next.month', \n",
    "             bins=10, log_scale=True, \n",
    "             common_norm=False, \n",
    "             stat='density')\n",
    "plt.legend(['no','yes'],title='default',loc='center left', bbox_to_anchor=(1, 0.5))\n",
    "\n",
    "plt.subplot(2,2,4)\n",
    "df['LIMIT_BAL_q'] = pd.qcut((df['LIMIT_BAL']/1e3).round().astype(int), q=np.linspace(0,1,10), duplicates='drop')\n",
    "df.groupby('LIMIT_BAL_q')['default.payment.next.month'].mean().plot(kind='bar')\n",
    "\n",
    "plt.tight_layout()\n",
    "plt.show()"
   ]
  },
  {
   "cell_type": "markdown",
   "id": "219bf54a",
   "metadata": {},
   "source": [
    "## 9-корреляция"
   ]
  },
  {
   "cell_type": "code",
   "execution_count": 47,
   "id": "bb0e38bc",
   "metadata": {},
   "outputs": [
    {
     "data": {
      "image/png": "[encoded data removed]",
      "text/plain": [
       "<Figure size 1008x432 with 3 Axes>"
      ]
     },
     "metadata": {
      "needs_background": "light"
     },
     "output_type": "display_data"
    }
   ],
   "source": [
    "pays = [f'PAY_{i}'for i in range(7) if i!=1]\n",
    "\n",
    "plt.figure(figsize=(14,6))\n",
    "plt.subplot(121)\n",
    "cor = df.corr()[pays]\n",
    "sns.heatmap(cor, vmin=-1, vmax=1, cmap=sns.color_palette(\"coolwarm\", as_cmap=True),cbar=False)\n",
    "\n",
    "\n",
    "plt.subplot(122)\n",
    "cor = df[pays].corr().T\n",
    "sns.heatmap(cor, vmin=-1, vmax=1, cmap=sns.color_palette(\"coolwarm\", as_cmap=True),annot = True)\n",
    "\n",
    "plt.tight_layout()\n",
    "plt.show()"
   ]
  },
  {
   "cell_type": "code",
   "execution_count": null,
   "id": "34155111",
   "metadata": {},
   "outputs": [],
   "source": []
  }
 ],
 "metadata": {
  "kernelspec": {
   "display_name": "Python 3",
   "language": "python",
   "name": "python3"
  },
  "language_info": {
   "codemirror_mode": {
    "name": "ipython",
    "version": 3
   },
   "file_extension": ".py",
   "mimetype": "text/x-python",
   "name": "python",
   "nbconvert_exporter": "python",
   "pygments_lexer": "ipython3",
   "version": "3.9.4"
  },
  "toc": {
   "base_numbering": 1,
   "nav_menu": {},
   "number_sections": true,
   "sideBar": true,
   "skip_h1_title": false,
   "title_cell": "Table of Contents",
   "title_sidebar": "Contents",
   "toc_cell": true,
   "toc_position": {},
   "toc_section_display": true,
   "toc_window_display": true
  }
 },
 "nbformat": 4,
 "nbformat_minor": 5
}
