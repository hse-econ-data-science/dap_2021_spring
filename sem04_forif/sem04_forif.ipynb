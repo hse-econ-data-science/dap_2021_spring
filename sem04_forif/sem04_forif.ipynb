{
 "cells": [
  {
   "cell_type": "markdown",
   "metadata": {},
   "source": [
    "\n",
    "    \n",
    "<img src=\"https://keep-calm.net/images/keep-calm-and-write-code-1500-1500.jpg\" alt=\"drawing\" width=\"300px\"/>"
   ]
  },
  {
   "cell_type": "code",
   "execution_count": null,
   "metadata": {},
   "outputs": [],
   "source": [
    "# simple tool for tests\n",
    "def test_problem(func, test_data):\n",
    "    for inputs, true_answer in test_data:\n",
    "        answer = func(inputs)\n",
    "        assert answer == true_answer, f'Expected {true_answer}, got {answer}. Input: {inputs}'\n",
    "    print(\"OK!\")"
   ]
  },
  {
   "cell_type": "markdown",
   "metadata": {},
   "source": [
    "### Problem 0. LeetCode\n",
    "https://leetcode.com/problemset/all/"
   ]
  },
  {
   "cell_type": "markdown",
   "metadata": {},
   "source": [
    "### Problem 1. Recursion"
   ]
  },
  {
   "cell_type": "markdown",
   "metadata": {},
   "source": [
    "Напишите функцию вычисляющую факториал рекурсивно и через цикл."
   ]
  },
  {
   "cell_type": "code",
   "execution_count": null,
   "metadata": {},
   "outputs": [],
   "source": [
    "def factorial(number):\n",
    "    # YOUR CODE HERE\n",
    "    return"
   ]
  },
  {
   "cell_type": "code",
   "execution_count": null,
   "metadata": {},
   "outputs": [],
   "source": [
    "def factorial_recursive(number):\n",
    "    # YOUR CODE HERE\n",
    "    return"
   ]
  },
  {
   "cell_type": "markdown",
   "metadata": {},
   "source": [
    "### Problem 2. Break url to host and path\n",
    "\n",
    "Разделите url на host и path. Ответ выдайте в формате f\"{host} {path}\""
   ]
  },
  {
   "cell_type": "code",
   "execution_count": null,
   "metadata": {},
   "outputs": [],
   "source": [
    "def break_host_path(url):\n",
    "    # YOUR CODE HERE\n",
    "    return"
   ]
  },
  {
   "cell_type": "code",
   "execution_count": null,
   "metadata": {},
   "outputs": [],
   "source": [
    "HOST_PATH_TEST_DATA = [\n",
    "    (\"https://leetcode.com/problemset/all/\", \"https://leetcode.com /problemset/all/\"),\n",
    "    (\"https://vk.com/weirdreparametrizationtrick\", \"https://vk.com /weirdreparametrizationtrick\"),\n",
    "    (\"https://www.youtube.com/watch?v=fn3KWM1kuAw\", \"https://www.youtube.com /watch?v=fn3KWM1kuAw\"),\n",
    "]\n",
    "test_problem(break_host_path, HOST_PATH_TEST_DATA)"
   ]
  },
  {
   "cell_type": "markdown",
   "metadata": {},
   "source": [
    "### Problem 2. Remove Repeated Spaces \n",
    "\n",
    "Given a string. You need to remove all repeated spaces without using extra memory\n",
    "\n",
    "\"where &nbsp;  is &nbsp; &nbsp; &nbsp; &nbsp; my &nbsp; &nbsp; &nbsp; cookie\" -> \"where is my cookie\""
   ]
  },
  {
   "cell_type": "code",
   "execution_count": null,
   "metadata": {},
   "outputs": [],
   "source": [
    "def remove_repeated_spaces(string_list):\n",
    "    # YOUR CODE HERE\n",
    "    return"
   ]
  },
  {
   "cell_type": "code",
   "execution_count": null,
   "metadata": {},
   "outputs": [],
   "source": [
    "TWO_SPACES_TEST_DATA = [\n",
    "    (list(\"aa  a  a   a\"), list(\"aa a a a\")),\n",
    "]\n",
    "test_problem(remove_repeated_spaces, TWO_SPACES_TEST_DATA)"
   ]
  },
  {
   "cell_type": "markdown",
   "metadata": {},
   "source": [
    "### Problem 3.  Очередь на вакцинацию\n",
    "\n",
    "На вакцинацию против тиктоковируса выстроилась очередь. В один момент врач объявляет обед, оставшиеся в очереди остаются ждать конца обеда. Вам нужно выдать список имен пациентом, которые остались ждать конца обеда.\n",
    "\n",
    "Вам на вход поступают имена пациентов и строка \"NEXT\", которое означает, что текущего пациента вакцинировали.\n"
   ]
  },
  {
   "cell_type": "code",
   "execution_count": null,
   "metadata": {},
   "outputs": [],
   "source": [
    "# Небольшой рассказ про collections.deque (double ended queue)\n",
    "import collections\n",
    "\n",
    "my_deque = collections.deque([1,2,3])\n",
    "\n",
    "my_deque.append(4)\n",
    "print(\"The deque after appending at right is : \")\n",
    "print(my_deque)\n",
    "\n",
    "my_deque.appendleft(6)\n",
    "print(\"The deque after appending at left is : \")\n",
    "print(my_deque)\n",
    "\n",
    "my_deque.pop()\n",
    "print(\"The deque after deleting from right is : \")\n",
    "print(my_deque)\n",
    "\n",
    "my_deque.popleft()\n",
    "print(\"The deque after deleting from left is : \")\n",
    "print(my_deque)"
   ]
  },
  {
   "cell_type": "code",
   "execution_count": null,
   "metadata": {},
   "outputs": [],
   "source": [
    "def vaccine(events_list):\n",
    "    # YOUR CODE HERE\n",
    "    return"
   ]
  },
  {
   "cell_type": "code",
   "execution_count": null,
   "metadata": {},
   "outputs": [],
   "source": [
    "VACCINE_TEST_DATA = [\n",
    "    ([\"Вася\", \"Петя\", \"NEXT\", \"Коля\"], [\"Петя\", \"Коля\"]),\n",
    "]\n",
    "test_problem(vaccine, VACCINE_TEST_DATA)"
   ]
  },
  {
   "cell_type": "markdown",
   "metadata": {},
   "source": [
    "### Extra Problem 4. Valid Palindrome\n",
    "    \n",
    "Given a non-empty string s, you may delete at most one character. Judge whether you can make it a palindrome.\n",
    "\n",
    "https://leetcode.com/problems/valid-palindrome-ii/\n"
   ]
  },
  {
   "cell_type": "code",
   "execution_count": null,
   "metadata": {},
   "outputs": [],
   "source": [
    "def is_almost_palindrome(string):\n",
    "    # YOUR CODE HERE\n",
    "    return"
   ]
  },
  {
   "cell_type": "code",
   "execution_count": null,
   "metadata": {},
   "outputs": [],
   "source": [
    "VALID_PALINDROME_TESTS_DATA = [\n",
    "    (\"aba\", True),\n",
    "    (\"abca\", True),\n",
    "    (\"abcd\", False)\n",
    "]\n",
    "test_problem(is_almost_palindrome, VALID_PALINDROME_TESTS_DATA)"
   ]
  },
  {
   "cell_type": "markdown",
   "metadata": {},
   "source": [
    "### Extra Problem 5. Simple moving average\n",
    "\n",
    "https://en.wikipedia.org/wiki/Moving_average"
   ]
  },
  {
   "cell_type": "code",
   "execution_count": null,
   "metadata": {},
   "outputs": [],
   "source": [
    "def moving_average(array, window):\n",
    "    # YOUR CODE HERE\n",
    "    return"
   ]
  },
  {
   "cell_type": "code",
   "execution_count": null,
   "metadata": {},
   "outputs": [],
   "source": [
    "import numpy as np\n",
    "\n",
    "# Опционально. Подумайте как можно сделать алгоритм сильно быстрее если использовать np.cumsum\n",
    "def fast_moving_average(array, window):\n",
    "    # YOUR CODE HERE\n",
    "    return"
   ]
  },
  {
   "cell_type": "code",
   "execution_count": null,
   "metadata": {},
   "outputs": [],
   "source": [
    "# Тут не будет тестов. Тут семинарист покажет визуализацию вашего алгоритма на которую нужно будет просто посмотреть\n",
    "# В данный момент вам не нужно понимать как работает этот код\n",
    "import numpy as np\n",
    "import matplotlib\n",
    "import matplotlib.pyplot as plt\n",
    "\n",
    "N = 1000\n",
    "WINDOW = 10\n",
    "\n",
    "array = np.sqrt(np.linspace(0, 100, N)) + np.random.normal(0, 1, N)\n",
    "array = np.round(array, 2)\n",
    "plt.figure(figsize=(12, 3))\n",
    "plt.plot(array)\n",
    "plt.plot(moving_average(np.copy(array), WINDOW))\n",
    "plt.show()"
   ]
  }
 ],
 "metadata": {
  "kernelspec": {
   "display_name": "Python 3",
   "language": "python",
   "name": "python3"
  },
  "language_info": {
   "codemirror_mode": {
    "name": "ipython",
    "version": 3
   },
   "file_extension": ".py",
   "mimetype": "text/x-python",
   "name": "python",
   "nbconvert_exporter": "python",
   "pygments_lexer": "ipython3",
   "version": "3.6.9"
  }
 },
 "nbformat": 4,
 "nbformat_minor": 2
}
