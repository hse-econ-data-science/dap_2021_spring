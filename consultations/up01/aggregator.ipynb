{
 "cells": [
  {
   "cell_type": "markdown",
   "metadata": {},
   "source": [
    "# Контент: \n",
    "\n",
    "- Решить большую задачу, поговорить про разные модули, обсудить исключения, поговорить про тесты \n",
    "- Фабрики функций, декораторы, свои модули\n",
    "- ООП, КЛассы, наследование, ... \n",
    "- Задачи на ООП\n",
    "\n",
    "-------\n",
    "\n",
    "- Что-то на алгоритмы - ? \n",
    "- Семинар про git, командную строку, как на тачку в облако по крону скрипт закинуть, а потом на телефоне сидеть и логи почитывать за чашкой кофе\n",
    "- __Если есть мысли, то предлагайте!__"
   ]
  },
  {
   "cell_type": "markdown",
   "metadata": {},
   "source": [
    "## Какую задачу решаем"
   ]
  },
  {
   "cell_type": "code",
   "execution_count": 5,
   "metadata": {},
   "outputs": [
    {
     "data": {
      "text/plain": [
       "[{'inputValues': {'id': 1, 'version': 1},\n",
       "  'workerId': 465,\n",
       "  'taskId': 0,\n",
       "  'outputValues': {'result': 'ok'}},\n",
       " {'inputValues': {'id': 1, 'version': 1},\n",
       "  'workerId': 365,\n",
       "  'taskId': 0,\n",
       "  'outputValues': {'result': 'ok'}},\n",
       " {'inputValues': {'id': 1, 'version': 1},\n",
       "  'workerId': 619,\n",
       "  'taskId': 0,\n",
       "  'outputValues': {'result': 'local'}},\n",
       " {'inputValues': {'id': 2, 'version': 1},\n",
       "  'workerId': 759,\n",
       "  'taskId': 0,\n",
       "  'outputValues': {'result': 'ok'}},\n",
       " {'inputValues': {'id': 2, 'version': 1},\n",
       "  'workerId': 694,\n",
       "  'taskId': 0,\n",
       "  'outputValues': {'result': 'ok'}}]"
      ]
     },
     "execution_count": 5,
     "metadata": {},
     "output_type": "execute_result"
    }
   ],
   "source": [
    "import json\n",
    "\n",
    "with open(\"markup.json\", \"r\") as f:\n",
    "    x = json.load(f)\n",
    "    \n",
    "x[:5]"
   ]
  },
  {
   "cell_type": "code",
   "execution_count": 13,
   "metadata": {},
   "outputs": [
    {
     "data": {
      "text/plain": [
       "[('ok', 1448), ('local', 543), ('violence', 508), ('federal', 501)]"
      ]
     },
     "execution_count": 13,
     "metadata": {},
     "output_type": "execute_result"
    }
   ],
   "source": [
    "from collections import Counter\n",
    "cnt = Counter( [item['outputValues']['result'] for item in x] )\n",
    "cnt.most_common()"
   ]
  },
  {
   "cell_type": "raw",
   "metadata": {},
   "source": [
    "      ok  violence  violence   local      local    \n",
    "      ok  violence  violence   violence   federal \n",
    "      ok  violence  ok         local      ok\n",
    "\n",
    "verd  ok  violence  violence   local        ?\n",
    "prob  1      1        2/3       2/3        1/3\n",
    "\n",
    "bool  ok    bad       bad       bad        ok\n",
    "p_ok  1      1        2/3        1         2/3\n",
    "\n",
    "1. Поставить приоритет ->  брать максимально опасное \n",
    "2. ok adult porno      ->  (adult) усреднять вердикты \n",
    "3. ok local violence   ->  явно плохое в bad !!! "
   ]
  },
  {
   "cell_type": "markdown",
   "metadata": {},
   "source": [
    "-> прочитали данные \n",
    "-> убедились что все ок\n",
    "\n",
    "-----------------\n",
    "\n",
    "функция агрегатор\n",
    "функция по правилам (1,2,3)\n",
    "функция которая объединяет правила\n",
    "\n",
    "итоговая функция \n",
    "\n",
    "-----------------\n",
    "\n",
    "-> убедились, что код отработал верно\n",
    "-> сохранили результат "
   ]
  },
  {
   "cell_type": "code",
   "execution_count": 106,
   "metadata": {},
   "outputs": [],
   "source": [
    "import json\n",
    "\n",
    "with open(\"markup.json\", \"r\") as f:\n",
    "    x = json.load(f)"
   ]
  },
  {
   "cell_type": "code",
   "execution_count": 107,
   "metadata": {},
   "outputs": [],
   "source": [
    "from operator import itemgetter as at\n",
    "from itertools import groupby\n",
    "\n",
    "def aggregate(assigments):\n",
    "\n",
    "    agg_x = [ ]\n",
    "\n",
    "    for item in assigments:\n",
    "        item['key'] = (item['inputValues']['id'], item['inputValues']['version'])\n",
    "\n",
    "\n",
    "    for k,item in groupby(sorted(assigments, key=at('key')), key=at('key')):\n",
    "        aggregated = { }\n",
    "\n",
    "        ret = at('taskId', 'workerId', 'inputValues', 'outputValues')\n",
    "\n",
    "        taskIds, workerIds, inp, output =  zip(*map(ret, item))\n",
    "        #taskIds, workerIds, inp = zip(*[ret(jtem) for jtem in item])\n",
    "\n",
    "        aggregated['workerIds'] = list(workerIds)\n",
    "        aggregated['taskIds'] = list(taskIds)\n",
    "        aggregated['inputValues'] = inp[0]\n",
    "        aggregated['outputValues'] = {'result': [at('result')(jtem) for jtem in output]}\n",
    "\n",
    "        agg_x.append(aggregated)\n",
    "        \n",
    "    return agg_x"
   ]
  },
  {
   "cell_type": "code",
   "execution_count": 109,
   "metadata": {},
   "outputs": [
    {
     "data": {
      "text/plain": [
       "1000"
      ]
     },
     "execution_count": 109,
     "metadata": {},
     "output_type": "execute_result"
    }
   ],
   "source": [
    "agg = aggregate(x)\n",
    "len(agg)"
   ]
  },
  {
   "cell_type": "code",
   "execution_count": null,
   "metadata": {},
   "outputs": [],
   "source": []
  },
  {
   "cell_type": "code",
   "execution_count": null,
   "metadata": {},
   "outputs": [],
   "source": []
  },
  {
   "cell_type": "code",
   "execution_count": null,
   "metadata": {},
   "outputs": [],
   "source": []
  },
  {
   "cell_type": "code",
   "execution_count": null,
   "metadata": {},
   "outputs": [],
   "source": []
  },
  {
   "cell_type": "code",
   "execution_count": null,
   "metadata": {},
   "outputs": [],
   "source": []
  },
  {
   "cell_type": "code",
   "execution_count": null,
   "metadata": {},
   "outputs": [],
   "source": []
  },
  {
   "cell_type": "code",
   "execution_count": null,
   "metadata": {},
   "outputs": [],
   "source": []
  }
 ],
 "metadata": {
  "kernelspec": {
   "display_name": "Python 3",
   "language": "python",
   "name": "python3"
  },
  "language_info": {
   "codemirror_mode": {
    "name": "ipython",
    "version": 3
   },
   "file_extension": ".py",
   "mimetype": "text/x-python",
   "name": "python",
   "nbconvert_exporter": "python",
   "pygments_lexer": "ipython3",
   "version": "3.9.1"
  }
 },
 "nbformat": 4,
 "nbformat_minor": 4
}
