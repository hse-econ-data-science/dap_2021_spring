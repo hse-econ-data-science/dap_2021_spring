{
 "cells": [
  {
   "cell_type": "markdown",
   "metadata": {},
   "source": [
    "## Пропуск в библиотеку.\n",
    "\n",
    "У недавних выпускников Вышки пропуск студента в библиотеку действует еще год. Пусть в году ХХХХ любого выпускника пропуск закончится в любой месяц от 1 до 12. Определите, у скольких выпускников закончится действие пропуска в указанный месяц.\n",
    "\n",
    "**Формат ввода:**\n",
    "\n",
    "На первой строчке указан текущий месяц. Далее на каждой строчке находятся 2 числа: id студента и месяц, когда закончится действие пропуска. На последней строчке входных данных 0, он означает, что больше данных на вход нет.\n",
    "\n",
    "**Формат вывода:**\n",
    "\n",
    "Одно число."
   ]
  },
  {
   "cell_type": "code",
   "execution_count": 5,
   "metadata": {},
   "outputs": [
    {
     "name": "stdout",
     "output_type": "stream",
     "text": [
      "9\n",
      "110 9\n",
      "112 3\n",
      "115 5\n",
      "116 5\n",
      "117 5\n",
      "118 9\n",
      "0\n",
      "2\n"
     ]
    }
   ],
   "source": [
    "month = int(input())\n",
    "inp = [int(x) for x in input().split()]\n",
    "d = {}\n",
    "while len(inp) != 1:\n",
    "    id_, expiration_month = inp[0], inp[1]\n",
    "    if expiration_month in d:\n",
    "        d[expiration_month].append(id_)\n",
    "    else:\n",
    "        d[expiration_month] = [id_]\n",
    "    inp = [int(x) for x in input().split()]\n",
    "print(len(d[month]))"
   ]
  },
  {
   "cell_type": "markdown",
   "metadata": {},
   "source": [
    "### Тесты"
   ]
  },
  {
   "cell_type": "code",
   "execution_count": 18,
   "metadata": {},
   "outputs": [],
   "source": [
    "import random"
   ]
  },
  {
   "cell_type": "code",
   "execution_count": 101,
   "metadata": {},
   "outputs": [
    {
     "name": "stdout",
     "output_type": "stream",
     "text": [
      "7\n",
      "13 8\n",
      "0 7\n",
      "1 9\n",
      "2 11\n",
      "3 6\n",
      "4 6\n",
      "5 6\n",
      "6 7\n",
      "7 7\n",
      "8 8\n",
      "9 9\n",
      "10 7\n",
      "11 9\n",
      "0\n",
      "\n",
      "4\n"
     ]
    }
   ],
   "source": [
    "month = random.randint(6, 12)\n",
    "print(month)\n",
    "N = 12\n",
    "inp = [N+1, random.randint(6, 12)]\n",
    "print(*inp)\n",
    "d = {}\n",
    "for i in range(N):\n",
    "    id_, expiration_month = inp[0], inp[1]\n",
    "    if expiration_month in d:\n",
    "        d[expiration_month].append(id_)\n",
    "    else:\n",
    "        d[expiration_month] = [id_]\n",
    "    inp = [i, random.randint(6, 12)]\n",
    "    print(*inp)\n",
    "print(0)\n",
    "print()\n",
    "print(len(d[month]))"
   ]
  },
  {
   "cell_type": "markdown",
   "metadata": {},
   "source": [
    "## Набор статей в сборник\n",
    "\n",
    "У каждой статьи указаны авторы (их несколько) и темы (их тоже несколько). Определите самую частую пару автор-тема. Если несколько пар встретились одинаковое число раз, то выведите обе (каждую на новой строчке).\n",
    "\n",
    "**Формат ввода:**\n",
    "\n",
    "На каждой строчке сначала указаны фамилии авторов через пробел, потом запятая, потом темы (в одно слово) через пробел. Например, \"Ivanov Petrov, DeepLearning Biology\". Последняя строчка ввода – 0. \n",
    "\n",
    "**Формат вывода:**\n",
    "\n",
    "Кортеж из фамилии автора и темы. Например, (\"Petrov\", \"DeepLearning\")."
   ]
  },
  {
   "cell_type": "code",
   "execution_count": 110,
   "metadata": {},
   "outputs": [
    {
     "name": "stdout",
     "output_type": "stream",
     "text": [
      "AA BB, CC DD\n",
      "AA, CC DD\n",
      "0\n",
      "('AA', 'CC')\n",
      "('AA', 'DD')\n"
     ]
    }
   ],
   "source": [
    "inp = input()\n",
    "d = {}\n",
    "while len(inp) != 1:\n",
    "    names, themes = inp.split(',')\n",
    "    names = names.split()\n",
    "    themes = themes.split()\n",
    "    for name in names:\n",
    "        for theme in themes:\n",
    "            tup = (name, theme)\n",
    "            d[tup] = d.get(tup, 0) + 1\n",
    "    inp = input()\n",
    "\n",
    "max_val = max(d.values())\n",
    "result = []\n",
    "for k, v in d.items():\n",
    "    if v == max_val:\n",
    "        result.append(k)\n",
    "print(*result, sep='\\n')"
   ]
  },
  {
   "cell_type": "markdown",
   "metadata": {},
   "source": [
    "## Выдаем книги студентам\n",
    "\n",
    "Теперь будем выдавать книги студентам. На самой первой строчке есть фамилия студента и тема. Далее на вход подается информация в формате: фамилия студента, тема книги, название книги (слитно). Для студента с первой строчки определите, какую книгу он взял по данной теме. Если книг несколько, то выдать первую в лексикографическом порядке.\n",
    "\n",
    "**Формат ввода:**\n",
    "\n",
    "На первой строчке – фамилия студента, пробел, тема. Далее – фамилия, проблел, тема, пробел, название книги (слитно). На последней строчки 0 (и больше ничего).\n",
    "\n",
    "**Формат вывода:**\n",
    "\n",
    "Название книги."
   ]
  },
  {
   "cell_type": "code",
   "execution_count": 113,
   "metadata": {},
   "outputs": [
    {
     "name": "stdout",
     "output_type": "stream",
     "text": [
      "A B\n",
      "A B C\n",
      "A B D\n",
      "A B CDCD\n",
      "0\n",
      "C\n"
     ]
    }
   ],
   "source": [
    "name_, theme_ = input().split()\n",
    "inp = input().split()\n",
    "d = {}\n",
    "while len(inp) != 1:\n",
    "    name, theme, book = inp\n",
    "    if name in d:\n",
    "        if theme in d[name]:\n",
    "            d[name][theme].append(book)\n",
    "        else:\n",
    "            d[name][theme] = [book]\n",
    "    else:\n",
    "        d[name] = {theme: [book]}\n",
    "    inp = input().split()\n",
    "\n",
    "print(sorted(d[name_][theme_])[0])"
   ]
  }
 ],
 "metadata": {
  "kernelspec": {
   "display_name": "Python 3",
   "language": "python",
   "name": "python3"
  },
  "language_info": {
   "codemirror_mode": {
    "name": "ipython",
    "version": 3
   },
   "file_extension": ".py",
   "mimetype": "text/x-python",
   "name": "python",
   "nbconvert_exporter": "python",
   "pygments_lexer": "ipython3",
   "version": "3.7.6"
  },
  "toc": {
   "base_numbering": 1,
   "nav_menu": {},
   "number_sections": true,
   "sideBar": true,
   "skip_h1_title": false,
   "title_cell": "Table of Contents",
   "title_sidebar": "Contents",
   "toc_cell": false,
   "toc_position": {},
   "toc_section_display": true,
   "toc_window_display": true
  },
  "varInspector": {
   "cols": {
    "lenName": 16,
    "lenType": 16,
    "lenVar": 40
   },
   "kernels_config": {
    "python": {
     "delete_cmd_postfix": "",
     "delete_cmd_prefix": "del ",
     "library": "var_list.py",
     "varRefreshCmd": "print(var_dic_list())"
    },
    "r": {
     "delete_cmd_postfix": ") ",
     "delete_cmd_prefix": "rm(",
     "library": "var_list.r",
     "varRefreshCmd": "cat(var_dic_list()) "
    }
   },
   "types_to_exclude": [
    "module",
    "function",
    "builtin_function_or_method",
    "instance",
    "_Feature"
   ],
   "window_display": false
  }
 },
 "nbformat": 4,
 "nbformat_minor": 4
}
