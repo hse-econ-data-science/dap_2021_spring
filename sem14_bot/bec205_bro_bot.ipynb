{
 "cells": [
  {
   "cell_type": "code",
   "execution_count": 1,
   "metadata": {},
   "outputs": [],
   "source": [
    "import telebot\n",
    "import sqlite3\n",
    "from telebot import types\n",
    "BD_NAME = \"bro_example.db\"\n",
    "\n",
    "conn = sqlite3.connect(BD_NAME)\n",
    "cursor = conn.cursor()\n",
    "bot = telebot.TeleBot(\":)\")\n"
   ]
  },
  {
   "cell_type": "code",
   "execution_count": null,
   "metadata": {},
   "outputs": [],
   "source": [
    "query = \"CREATE TABLE \\\"planner\\\" (\\\"ID\\\" INTEGER UNIQUE, \\\"user_id\\\" INTEGER, \\\"plan\\\" TEXT, PRIMARY KEY (\\\"ID\\\"))\"\n",
    "cursor.execute(query)\n"
   ]
  },
  {
   "cell_type": "code",
   "execution_count": null,
   "metadata": {},
   "outputs": [],
   "source": [
    "#cursor.execute('INSERT INTO planner (user_id, plan) VALUES (1, \"сделать питончик\")')\n",
    "\n",
    "#cursor.execute('SELECT * FROM planner)\n",
    "# conn.commit()\n",
    "cursor.execute('SELECT * FROM planner')\n",
    "cursor.fetchall()"
   ]
  },
  {
   "cell_type": "code",
   "execution_count": 2,
   "metadata": {},
   "outputs": [],
   "source": [
    "@bot.message_handler(commands=['bro'])\n",
    "def send_keyboard(message, text=\"Привет, чем я могу тебе помочь?\"):\n",
    "    keyboard = types.ReplyKeyboardMarkup(row_width=1)  # наша клавиатура\n",
    "    itembtn1 = types.KeyboardButton('Добваить задание') # создадим кнопку\n",
    "    itembtn2 = types.KeyboardButton('Показать все задания') # создадим кнопку\n",
    "    itembtn3 = types.KeyboardButton('Уничтожить задание')\n",
    "    keyboard.add(itembtn1, itembtn2, itembtn3) # добавим кнопки 1 и 2 на первый ряд\n",
    "    msg = bot.send_message(message.from_user.id, text=\"Привет медвед\", reply_markup=keyboard)\n",
    "    bot.register_next_step_handler(msg, callback_worker)"
   ]
  },
  {
   "cell_type": "code",
   "execution_count": 3,
   "metadata": {},
   "outputs": [],
   "source": [
    "# напишем функции для каждого случая\n",
    "# эта добавляет строчку с планом в хранилище\n",
    "\n",
    "def add_plan(msg):\n",
    "#     with sqlite3.connect(BD_NAME) as con:\n",
    "#         cursor = con.cursor()\n",
    "#         cursor.execute(f'INSERT INTO planner (user_id, plan) VALUES ({msg.from_user.id}, \"{msg.text}\")')\n",
    "#         con.commit()\n",
    "    bot.send_message(msg.chat.id, 'Добвил бро')\n",
    "    send_keyboard(msg, \"Чем еще могу помочь?\")"
   ]
  },
  {
   "cell_type": "code",
   "execution_count": 14,
   "metadata": {},
   "outputs": [],
   "source": [
    "'DELETE FROM planner WHERE user_id==? AND plan==?'\n",
    "def delete_plan(msg):\n",
    "    with sqlite3.connect(BD_NAME) as con:\n",
    "        cursor = con.cursor()\n",
    "        cursor.execute(f'DELETE FROM planner WHERE user_id == {msg.from_user.id} AND plan == \"{msg.text}\"')\n",
    "        con.commit()\n",
    "    bot.send_message(msg.chat.id, 'Уничтожил бро')\n",
    "    send_keyboard(msg, \"Чем еще могу помочь?\")"
   ]
  },
  {
   "cell_type": "code",
   "execution_count": 15,
   "metadata": {},
   "outputs": [],
   "source": [
    "def callback_worker(call):\n",
    "    if call.text == 'Добваить задание':\n",
    "        msg = bot.send_message(call.chat.id, 'какое задание?')\n",
    "        bot.register_next_step_handler(msg, add_plan)\n",
    "    elif call.text == 'Показать все задания':\n",
    "        all_plans = None\n",
    "        with sqlite3.connect(BD_NAME) as con:\n",
    "            cursor = con.cursor()\n",
    "            cursor.execute(f'SELECT * FROM planner WHERE user_id == {call.chat.id}')\n",
    "            all_plans = cursor.fetchall()\n",
    "        answer = ''\n",
    "        for plan_id, user_id, plan_text in all_plans:\n",
    "            answer += plan_text + '\\n'\n",
    "        bot.send_message(call.chat.id, answer)\n",
    "    elif call.text == 'Уничтожить задание':\n",
    "        msg = bot.send_message(call.chat.id, 'какое задание?')\n",
    "        bot.register_next_step_handler(msg, delete_plan)\n",
    "    else:\n",
    "        bot.send_message(call.chat.id, 'Wat??')"
   ]
  },
  {
   "cell_type": "code",
   "execution_count": 16,
   "metadata": {},
   "outputs": [],
   "source": [
    "bot.polling(none_stop=True)"
   ]
  },
  {
   "cell_type": "code",
   "execution_count": null,
   "metadata": {},
   "outputs": [],
   "source": []
  },
  {
   "cell_type": "code",
   "execution_count": null,
   "metadata": {},
   "outputs": [],
   "source": []
  }
 ],
 "metadata": {
  "kernelspec": {
   "display_name": "Python 3",
   "language": "python",
   "name": "python3"
  },
  "language_info": {
   "codemirror_mode": {
    "name": "ipython",
    "version": 3
   },
   "file_extension": ".py",
   "mimetype": "text/x-python",
   "name": "python",
   "nbconvert_exporter": "python",
   "pygments_lexer": "ipython3",
   "version": "3.6.9"
  }
 },
 "nbformat": 4,
 "nbformat_minor": 2
}
