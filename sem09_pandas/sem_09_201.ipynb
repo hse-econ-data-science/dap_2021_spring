{
  "nbformat": 4,
  "nbformat_minor": 5,
  "metadata": {
    "kernelspec": {
      "display_name": "Python 3",
      "language": "python",
      "name": "python3"
    },
    "language_info": {
      "codemirror_mode": {
        "name": "ipython",
        "version": 3
      },
      "file_extension": ".py",
      "mimetype": "text/x-python",
      "name": "python",
      "nbconvert_exporter": "python",
      "pygments_lexer": "ipython3",
      "version": "3.9.2"
    },
    "colab": {
      "name": "sem_09_pandas_advanced.ipynb",
      "provenance": []
    }
  },
  "cells": [
    {
      "cell_type": "markdown",
      "metadata": {
        "id": "active-finding"
      },
      "source": [
        "# Pandas: exploratory data analysis"
      ],
      "id": "active-finding"
    },
    {
      "cell_type": "markdown",
      "metadata": {
        "id": "rubber-people"
      },
      "source": [
        "### План:\n",
        "* Соединения таблиц\n",
        "* Типы переменных\n",
        "* Работа с категориальными переменными\n",
        "* Работа с датой и временем\n",
        "* Пропущенные значения\n",
        "* Обнаружение аномалий"
      ],
      "id": "rubber-people"
    },
    {
      "cell_type": "markdown",
      "metadata": {
        "id": "sticky-thickness"
      },
      "source": [
        "Также по ходу знакомимся с визуализацией, но подробнее об этом на следующей паре"
      ],
      "id": "sticky-thickness"
    },
    {
      "cell_type": "code",
      "metadata": {
        "id": "regional-embassy"
      },
      "source": [
        "import numpy as np         # библиотека для матриц и математики\n",
        "import pandas as pd        # библиотека для работы с табличками\n",
        "\n",
        "# библиотеки для визуализации\n",
        "import matplotlib.pyplot as plt\n",
        "import seaborn as sns\n",
        "\n",
        "plt.style.use('ggplot')    # стиль графиков\n",
        "%matplotlib inline "
      ],
      "id": "regional-embassy",
      "execution_count": 1,
      "outputs": []
    },
    {
      "cell_type": "markdown",
      "metadata": {
        "id": "reported-shade"
      },
      "source": [
        "## Соединения таблиц"
      ],
      "id": "reported-shade"
    },
    {
      "cell_type": "markdown",
      "metadata": {
        "id": "bizarre-premises"
      },
      "source": [
        "Часто хранить информацию в одной таблице бывает довольно неудобно. Когда у вас очень крупная IT-компания, данных настолько много, что если их добавить в одну таблицу, работать с ней будет очень неэффективно по времени и памяти. Поэтому информацию кладут в кучу разных таблиц, а над ними строят специальные *отношения* - так называемые колонки, по которым можно эти таблицы объединять. \n",
        "\n",
        "Пример устройства такой структуры хранения данных:\n",
        "\n",
        "<center>\n",
        "<img src=\"https://progi.pro/media/main/82/d3/34/82d334f5b4b49d424a2460e796a30cd5.png\" height=\"200\" width=\"600\">\n",
        "</center>   "
      ],
      "id": "bizarre-premises"
    },
    {
      "cell_type": "markdown",
      "metadata": {
        "id": "worse-pathology"
      },
      "source": [
        "### 1. Join"
      ],
      "id": "worse-pathology"
    },
    {
      "cell_type": "markdown",
      "metadata": {
        "id": "excited-problem"
      },
      "source": [
        "<center>\n",
        "<img src=\"https://community.qlik.com/legacyfs/online/87693_all-joins.png\" width=\"300\">\n",
        "</center>"
      ],
      "id": "excited-problem"
    },
    {
      "cell_type": "code",
      "metadata": {
        "colab": {
          "base_uri": "https://localhost:8080/"
        },
        "id": "swSIEWFsGU4z",
        "outputId": "5ae2953b-38f0-4ecf-fffc-e4b5e94889c8"
      },
      "source": [
        "{'Student': ['Tom', 'Ujin', 'Ann', 'Polina','Sam'],\n",
        "                    'group': ['01', '02', '02', '01','02']}"
      ],
      "id": "swSIEWFsGU4z",
      "execution_count": 2,
      "outputs": [
        {
          "output_type": "execute_result",
          "data": {
            "text/plain": [
              "{'Student': ['Tom', 'Ujin', 'Ann', 'Polina', 'Sam'],\n",
              " 'group': ['01', '02', '02', '01', '02']}"
            ]
          },
          "metadata": {
            "tags": []
          },
          "execution_count": 2
        }
      ]
    },
    {
      "cell_type": "code",
      "metadata": {
        "colab": {
          "base_uri": "https://localhost:8080/",
          "height": 379
        },
        "id": "exciting-transport",
        "outputId": "68e61756-b6bd-4ece-b6ad-480d21b1d8fe"
      },
      "source": [
        "df1 = pd.DataFrame({'Student': ['Tom', 'Ujin', 'Ann', 'Polina','Sam'],\n",
        "                    'group': ['01', '02', '02', '01','02']})\n",
        "\n",
        "df2 = pd.DataFrame({'Name': ['Tom', 'Ujin', 'Ann', 'Polina', 'Kit'],\n",
        "                    'GPA': ['7.8', '6.4', '8.3', '9', '10']})\n",
        "\n",
        "display(df1, df2)"
      ],
      "id": "exciting-transport",
      "execution_count": 3,
      "outputs": [
        {
          "output_type": "display_data",
          "data": {
            "text/html": [
              "<div>\n",
              "<style scoped>\n",
              "    .dataframe tbody tr th:only-of-type {\n",
              "        vertical-align: middle;\n",
              "    }\n",
              "\n",
              "    .dataframe tbody tr th {\n",
              "        vertical-align: top;\n",
              "    }\n",
              "\n",
              "    .dataframe thead th {\n",
              "        text-align: right;\n",
              "    }\n",
              "</style>\n",
              "<table border=\"1\" class=\"dataframe\">\n",
              "  <thead>\n",
              "    <tr style=\"text-align: right;\">\n",
              "      <th></th>\n",
              "      <th>Student</th>\n",
              "      <th>group</th>\n",
              "    </tr>\n",
              "  </thead>\n",
              "  <tbody>\n",
              "    <tr>\n",
              "      <th>0</th>\n",
              "      <td>Tom</td>\n",
              "      <td>01</td>\n",
              "    </tr>\n",
              "    <tr>\n",
              "      <th>1</th>\n",
              "      <td>Ujin</td>\n",
              "      <td>02</td>\n",
              "    </tr>\n",
              "    <tr>\n",
              "      <th>2</th>\n",
              "      <td>Ann</td>\n",
              "      <td>02</td>\n",
              "    </tr>\n",
              "    <tr>\n",
              "      <th>3</th>\n",
              "      <td>Polina</td>\n",
              "      <td>01</td>\n",
              "    </tr>\n",
              "    <tr>\n",
              "      <th>4</th>\n",
              "      <td>Sam</td>\n",
              "      <td>02</td>\n",
              "    </tr>\n",
              "  </tbody>\n",
              "</table>\n",
              "</div>"
            ],
            "text/plain": [
              "  Student group\n",
              "0     Tom    01\n",
              "1    Ujin    02\n",
              "2     Ann    02\n",
              "3  Polina    01\n",
              "4     Sam    02"
            ]
          },
          "metadata": {
            "tags": []
          }
        },
        {
          "output_type": "display_data",
          "data": {
            "text/html": [
              "<div>\n",
              "<style scoped>\n",
              "    .dataframe tbody tr th:only-of-type {\n",
              "        vertical-align: middle;\n",
              "    }\n",
              "\n",
              "    .dataframe tbody tr th {\n",
              "        vertical-align: top;\n",
              "    }\n",
              "\n",
              "    .dataframe thead th {\n",
              "        text-align: right;\n",
              "    }\n",
              "</style>\n",
              "<table border=\"1\" class=\"dataframe\">\n",
              "  <thead>\n",
              "    <tr style=\"text-align: right;\">\n",
              "      <th></th>\n",
              "      <th>Name</th>\n",
              "      <th>GPA</th>\n",
              "    </tr>\n",
              "  </thead>\n",
              "  <tbody>\n",
              "    <tr>\n",
              "      <th>0</th>\n",
              "      <td>Tom</td>\n",
              "      <td>7.8</td>\n",
              "    </tr>\n",
              "    <tr>\n",
              "      <th>1</th>\n",
              "      <td>Ujin</td>\n",
              "      <td>6.4</td>\n",
              "    </tr>\n",
              "    <tr>\n",
              "      <th>2</th>\n",
              "      <td>Ann</td>\n",
              "      <td>8.3</td>\n",
              "    </tr>\n",
              "    <tr>\n",
              "      <th>3</th>\n",
              "      <td>Polina</td>\n",
              "      <td>9</td>\n",
              "    </tr>\n",
              "    <tr>\n",
              "      <th>4</th>\n",
              "      <td>Kit</td>\n",
              "      <td>10</td>\n",
              "    </tr>\n",
              "  </tbody>\n",
              "</table>\n",
              "</div>"
            ],
            "text/plain": [
              "     Name  GPA\n",
              "0     Tom  7.8\n",
              "1    Ujin  6.4\n",
              "2     Ann  8.3\n",
              "3  Polina    9\n",
              "4     Kit   10"
            ]
          },
          "metadata": {
            "tags": []
          }
        }
      ]
    },
    {
      "cell_type": "code",
      "metadata": {
        "colab": {
          "base_uri": "https://localhost:8080/",
          "height": 168
        },
        "id": "delayed-judge",
        "outputId": "a09c4ace-ec72-453d-8719-0e5a1ad87211"
      },
      "source": [
        "# inner join по умолчанию \n",
        "pd.merge(df1, df2, left_on='Student', right_on='Name')"
      ],
      "id": "delayed-judge",
      "execution_count": 4,
      "outputs": [
        {
          "output_type": "execute_result",
          "data": {
            "text/html": [
              "<div>\n",
              "<style scoped>\n",
              "    .dataframe tbody tr th:only-of-type {\n",
              "        vertical-align: middle;\n",
              "    }\n",
              "\n",
              "    .dataframe tbody tr th {\n",
              "        vertical-align: top;\n",
              "    }\n",
              "\n",
              "    .dataframe thead th {\n",
              "        text-align: right;\n",
              "    }\n",
              "</style>\n",
              "<table border=\"1\" class=\"dataframe\">\n",
              "  <thead>\n",
              "    <tr style=\"text-align: right;\">\n",
              "      <th></th>\n",
              "      <th>Student</th>\n",
              "      <th>group</th>\n",
              "      <th>Name</th>\n",
              "      <th>GPA</th>\n",
              "    </tr>\n",
              "  </thead>\n",
              "  <tbody>\n",
              "    <tr>\n",
              "      <th>0</th>\n",
              "      <td>Tom</td>\n",
              "      <td>01</td>\n",
              "      <td>Tom</td>\n",
              "      <td>7.8</td>\n",
              "    </tr>\n",
              "    <tr>\n",
              "      <th>1</th>\n",
              "      <td>Ujin</td>\n",
              "      <td>02</td>\n",
              "      <td>Ujin</td>\n",
              "      <td>6.4</td>\n",
              "    </tr>\n",
              "    <tr>\n",
              "      <th>2</th>\n",
              "      <td>Ann</td>\n",
              "      <td>02</td>\n",
              "      <td>Ann</td>\n",
              "      <td>8.3</td>\n",
              "    </tr>\n",
              "    <tr>\n",
              "      <th>3</th>\n",
              "      <td>Polina</td>\n",
              "      <td>01</td>\n",
              "      <td>Polina</td>\n",
              "      <td>9</td>\n",
              "    </tr>\n",
              "  </tbody>\n",
              "</table>\n",
              "</div>"
            ],
            "text/plain": [
              "  Student group    Name  GPA\n",
              "0     Tom    01     Tom  7.8\n",
              "1    Ujin    02    Ujin  6.4\n",
              "2     Ann    02     Ann  8.3\n",
              "3  Polina    01  Polina    9"
            ]
          },
          "metadata": {
            "tags": []
          },
          "execution_count": 4
        }
      ]
    },
    {
      "cell_type": "code",
      "metadata": {
        "colab": {
          "base_uri": "https://localhost:8080/",
          "height": 198
        },
        "id": "continent-advantage",
        "outputId": "b0531194-7af6-4228-a08c-beb9081b7e2c"
      },
      "source": [
        "# left join - оставляем все, что в левой таблице\n",
        "pd.merge(df1, df2, left_on='Student', \n",
        "         right_on='Name', how='left')"
      ],
      "id": "continent-advantage",
      "execution_count": 8,
      "outputs": [
        {
          "output_type": "execute_result",
          "data": {
            "text/html": [
              "<div>\n",
              "<style scoped>\n",
              "    .dataframe tbody tr th:only-of-type {\n",
              "        vertical-align: middle;\n",
              "    }\n",
              "\n",
              "    .dataframe tbody tr th {\n",
              "        vertical-align: top;\n",
              "    }\n",
              "\n",
              "    .dataframe thead th {\n",
              "        text-align: right;\n",
              "    }\n",
              "</style>\n",
              "<table border=\"1\" class=\"dataframe\">\n",
              "  <thead>\n",
              "    <tr style=\"text-align: right;\">\n",
              "      <th></th>\n",
              "      <th>Student</th>\n",
              "      <th>group</th>\n",
              "      <th>Name</th>\n",
              "      <th>GPA</th>\n",
              "    </tr>\n",
              "  </thead>\n",
              "  <tbody>\n",
              "    <tr>\n",
              "      <th>0</th>\n",
              "      <td>Tom</td>\n",
              "      <td>01</td>\n",
              "      <td>Tom</td>\n",
              "      <td>7.8</td>\n",
              "    </tr>\n",
              "    <tr>\n",
              "      <th>1</th>\n",
              "      <td>Ujin</td>\n",
              "      <td>02</td>\n",
              "      <td>Ujin</td>\n",
              "      <td>6.4</td>\n",
              "    </tr>\n",
              "    <tr>\n",
              "      <th>2</th>\n",
              "      <td>Ann</td>\n",
              "      <td>02</td>\n",
              "      <td>Ann</td>\n",
              "      <td>8.3</td>\n",
              "    </tr>\n",
              "    <tr>\n",
              "      <th>3</th>\n",
              "      <td>Polina</td>\n",
              "      <td>01</td>\n",
              "      <td>Polina</td>\n",
              "      <td>9</td>\n",
              "    </tr>\n",
              "    <tr>\n",
              "      <th>4</th>\n",
              "      <td>Sam</td>\n",
              "      <td>02</td>\n",
              "      <td>NaN</td>\n",
              "      <td>NaN</td>\n",
              "    </tr>\n",
              "  </tbody>\n",
              "</table>\n",
              "</div>"
            ],
            "text/plain": [
              "  Student group    Name  GPA\n",
              "0     Tom    01     Tom  7.8\n",
              "1    Ujin    02    Ujin  6.4\n",
              "2     Ann    02     Ann  8.3\n",
              "3  Polina    01  Polina    9\n",
              "4     Sam    02     NaN  NaN"
            ]
          },
          "metadata": {
            "tags": []
          },
          "execution_count": 8
        }
      ]
    },
    {
      "cell_type": "code",
      "metadata": {
        "colab": {
          "base_uri": "https://localhost:8080/",
          "height": 228
        },
        "id": "consecutive-wrestling",
        "outputId": "06ac8add-8fa9-49c7-94f3-6de8a279e797"
      },
      "source": [
        "# outer join\n",
        "pd.merge(df1, df2, left_on='Student', \n",
        "         right_on='Name', how='outer')"
      ],
      "id": "consecutive-wrestling",
      "execution_count": 9,
      "outputs": [
        {
          "output_type": "execute_result",
          "data": {
            "text/html": [
              "<div>\n",
              "<style scoped>\n",
              "    .dataframe tbody tr th:only-of-type {\n",
              "        vertical-align: middle;\n",
              "    }\n",
              "\n",
              "    .dataframe tbody tr th {\n",
              "        vertical-align: top;\n",
              "    }\n",
              "\n",
              "    .dataframe thead th {\n",
              "        text-align: right;\n",
              "    }\n",
              "</style>\n",
              "<table border=\"1\" class=\"dataframe\">\n",
              "  <thead>\n",
              "    <tr style=\"text-align: right;\">\n",
              "      <th></th>\n",
              "      <th>Student</th>\n",
              "      <th>group</th>\n",
              "      <th>Name</th>\n",
              "      <th>GPA</th>\n",
              "    </tr>\n",
              "  </thead>\n",
              "  <tbody>\n",
              "    <tr>\n",
              "      <th>0</th>\n",
              "      <td>Tom</td>\n",
              "      <td>01</td>\n",
              "      <td>Tom</td>\n",
              "      <td>7.8</td>\n",
              "    </tr>\n",
              "    <tr>\n",
              "      <th>1</th>\n",
              "      <td>Ujin</td>\n",
              "      <td>02</td>\n",
              "      <td>Ujin</td>\n",
              "      <td>6.4</td>\n",
              "    </tr>\n",
              "    <tr>\n",
              "      <th>2</th>\n",
              "      <td>Ann</td>\n",
              "      <td>02</td>\n",
              "      <td>Ann</td>\n",
              "      <td>8.3</td>\n",
              "    </tr>\n",
              "    <tr>\n",
              "      <th>3</th>\n",
              "      <td>Polina</td>\n",
              "      <td>01</td>\n",
              "      <td>Polina</td>\n",
              "      <td>9</td>\n",
              "    </tr>\n",
              "    <tr>\n",
              "      <th>4</th>\n",
              "      <td>Sam</td>\n",
              "      <td>02</td>\n",
              "      <td>NaN</td>\n",
              "      <td>NaN</td>\n",
              "    </tr>\n",
              "    <tr>\n",
              "      <th>5</th>\n",
              "      <td>NaN</td>\n",
              "      <td>NaN</td>\n",
              "      <td>Kit</td>\n",
              "      <td>10</td>\n",
              "    </tr>\n",
              "  </tbody>\n",
              "</table>\n",
              "</div>"
            ],
            "text/plain": [
              "  Student group    Name  GPA\n",
              "0     Tom    01     Tom  7.8\n",
              "1    Ujin    02    Ujin  6.4\n",
              "2     Ann    02     Ann  8.3\n",
              "3  Polina    01  Polina    9\n",
              "4     Sam    02     NaN  NaN\n",
              "5     NaN   NaN     Kit   10"
            ]
          },
          "metadata": {
            "tags": []
          },
          "execution_count": 9
        }
      ]
    },
    {
      "cell_type": "code",
      "metadata": {
        "id": "SX3SlNPWb8pJ"
      },
      "source": [
        "df1 = df1.set_index('Student')\n",
        "df1 = df1.reset_index('Student')"
      ],
      "id": "SX3SlNPWb8pJ",
      "execution_count": 18,
      "outputs": []
    },
    {
      "cell_type": "code",
      "metadata": {
        "id": "m-zxljlTb8sN"
      },
      "source": [
        ""
      ],
      "id": "m-zxljlTb8sN",
      "execution_count": 23,
      "outputs": []
    },
    {
      "cell_type": "code",
      "metadata": {
        "colab": {
          "base_uri": "https://localhost:8080/",
          "height": 499
        },
        "id": "T8mqaC7-c-0h",
        "outputId": "1eb7cb2c-ec76-4a6b-a15a-957c43f2f93e"
      },
      "source": [
        "df1 = pd.DataFrame({'Student': ['Tom', 'Ujin', 'Ann', 'Polina','Sam', 'Ann'],\n",
        "                    'group': ['01', '02', '02', '01','02', '09']})\n",
        "\n",
        "df2 = pd.DataFrame({'Name': ['Tom', 'Ujin', 'Ann', 'Polina', 'Kit', 'Ann'],\n",
        "                    'GPA': ['7.8', '6.4', '8.3', '9', '10', '15']})\n",
        "\n",
        "df1 = df1.set_index('Student')\n",
        "df2 = df2.set_index('Name')\n",
        "\n",
        "display(df1, df2)"
      ],
      "id": "T8mqaC7-c-0h",
      "execution_count": 30,
      "outputs": [
        {
          "output_type": "display_data",
          "data": {
            "text/html": [
              "<div>\n",
              "<style scoped>\n",
              "    .dataframe tbody tr th:only-of-type {\n",
              "        vertical-align: middle;\n",
              "    }\n",
              "\n",
              "    .dataframe tbody tr th {\n",
              "        vertical-align: top;\n",
              "    }\n",
              "\n",
              "    .dataframe thead th {\n",
              "        text-align: right;\n",
              "    }\n",
              "</style>\n",
              "<table border=\"1\" class=\"dataframe\">\n",
              "  <thead>\n",
              "    <tr style=\"text-align: right;\">\n",
              "      <th></th>\n",
              "      <th>group</th>\n",
              "    </tr>\n",
              "    <tr>\n",
              "      <th>Student</th>\n",
              "      <th></th>\n",
              "    </tr>\n",
              "  </thead>\n",
              "  <tbody>\n",
              "    <tr>\n",
              "      <th>Tom</th>\n",
              "      <td>01</td>\n",
              "    </tr>\n",
              "    <tr>\n",
              "      <th>Ujin</th>\n",
              "      <td>02</td>\n",
              "    </tr>\n",
              "    <tr>\n",
              "      <th>Ann</th>\n",
              "      <td>02</td>\n",
              "    </tr>\n",
              "    <tr>\n",
              "      <th>Polina</th>\n",
              "      <td>01</td>\n",
              "    </tr>\n",
              "    <tr>\n",
              "      <th>Sam</th>\n",
              "      <td>02</td>\n",
              "    </tr>\n",
              "    <tr>\n",
              "      <th>Ann</th>\n",
              "      <td>09</td>\n",
              "    </tr>\n",
              "  </tbody>\n",
              "</table>\n",
              "</div>"
            ],
            "text/plain": [
              "        group\n",
              "Student      \n",
              "Tom        01\n",
              "Ujin       02\n",
              "Ann        02\n",
              "Polina     01\n",
              "Sam        02\n",
              "Ann        09"
            ]
          },
          "metadata": {
            "tags": []
          }
        },
        {
          "output_type": "display_data",
          "data": {
            "text/html": [
              "<div>\n",
              "<style scoped>\n",
              "    .dataframe tbody tr th:only-of-type {\n",
              "        vertical-align: middle;\n",
              "    }\n",
              "\n",
              "    .dataframe tbody tr th {\n",
              "        vertical-align: top;\n",
              "    }\n",
              "\n",
              "    .dataframe thead th {\n",
              "        text-align: right;\n",
              "    }\n",
              "</style>\n",
              "<table border=\"1\" class=\"dataframe\">\n",
              "  <thead>\n",
              "    <tr style=\"text-align: right;\">\n",
              "      <th></th>\n",
              "      <th>GPA</th>\n",
              "    </tr>\n",
              "    <tr>\n",
              "      <th>Name</th>\n",
              "      <th></th>\n",
              "    </tr>\n",
              "  </thead>\n",
              "  <tbody>\n",
              "    <tr>\n",
              "      <th>Tom</th>\n",
              "      <td>7.8</td>\n",
              "    </tr>\n",
              "    <tr>\n",
              "      <th>Ujin</th>\n",
              "      <td>6.4</td>\n",
              "    </tr>\n",
              "    <tr>\n",
              "      <th>Ann</th>\n",
              "      <td>8.3</td>\n",
              "    </tr>\n",
              "    <tr>\n",
              "      <th>Polina</th>\n",
              "      <td>9</td>\n",
              "    </tr>\n",
              "    <tr>\n",
              "      <th>Kit</th>\n",
              "      <td>10</td>\n",
              "    </tr>\n",
              "    <tr>\n",
              "      <th>Ann</th>\n",
              "      <td>15</td>\n",
              "    </tr>\n",
              "  </tbody>\n",
              "</table>\n",
              "</div>"
            ],
            "text/plain": [
              "        GPA\n",
              "Name       \n",
              "Tom     7.8\n",
              "Ujin    6.4\n",
              "Ann     8.3\n",
              "Polina    9\n",
              "Kit      10\n",
              "Ann      15"
            ]
          },
          "metadata": {
            "tags": []
          }
        }
      ]
    },
    {
      "cell_type": "code",
      "metadata": {
        "colab": {
          "base_uri": "https://localhost:8080/",
          "height": 318
        },
        "id": "NCxqPObmb8uW",
        "outputId": "061aa21c-5d39-4f86-f8dc-035fcc76929d"
      },
      "source": [
        "df1.join(df2, how='outer')"
      ],
      "id": "NCxqPObmb8uW",
      "execution_count": 31,
      "outputs": [
        {
          "output_type": "execute_result",
          "data": {
            "text/html": [
              "<div>\n",
              "<style scoped>\n",
              "    .dataframe tbody tr th:only-of-type {\n",
              "        vertical-align: middle;\n",
              "    }\n",
              "\n",
              "    .dataframe tbody tr th {\n",
              "        vertical-align: top;\n",
              "    }\n",
              "\n",
              "    .dataframe thead th {\n",
              "        text-align: right;\n",
              "    }\n",
              "</style>\n",
              "<table border=\"1\" class=\"dataframe\">\n",
              "  <thead>\n",
              "    <tr style=\"text-align: right;\">\n",
              "      <th></th>\n",
              "      <th>group</th>\n",
              "      <th>GPA</th>\n",
              "    </tr>\n",
              "  </thead>\n",
              "  <tbody>\n",
              "    <tr>\n",
              "      <th>Ann</th>\n",
              "      <td>02</td>\n",
              "      <td>8.3</td>\n",
              "    </tr>\n",
              "    <tr>\n",
              "      <th>Ann</th>\n",
              "      <td>02</td>\n",
              "      <td>15</td>\n",
              "    </tr>\n",
              "    <tr>\n",
              "      <th>Ann</th>\n",
              "      <td>09</td>\n",
              "      <td>8.3</td>\n",
              "    </tr>\n",
              "    <tr>\n",
              "      <th>Ann</th>\n",
              "      <td>09</td>\n",
              "      <td>15</td>\n",
              "    </tr>\n",
              "    <tr>\n",
              "      <th>Kit</th>\n",
              "      <td>NaN</td>\n",
              "      <td>10</td>\n",
              "    </tr>\n",
              "    <tr>\n",
              "      <th>Polina</th>\n",
              "      <td>01</td>\n",
              "      <td>9</td>\n",
              "    </tr>\n",
              "    <tr>\n",
              "      <th>Sam</th>\n",
              "      <td>02</td>\n",
              "      <td>NaN</td>\n",
              "    </tr>\n",
              "    <tr>\n",
              "      <th>Tom</th>\n",
              "      <td>01</td>\n",
              "      <td>7.8</td>\n",
              "    </tr>\n",
              "    <tr>\n",
              "      <th>Ujin</th>\n",
              "      <td>02</td>\n",
              "      <td>6.4</td>\n",
              "    </tr>\n",
              "  </tbody>\n",
              "</table>\n",
              "</div>"
            ],
            "text/plain": [
              "       group  GPA\n",
              "Ann       02  8.3\n",
              "Ann       02   15\n",
              "Ann       09  8.3\n",
              "Ann       09   15\n",
              "Kit      NaN   10\n",
              "Polina    01    9\n",
              "Sam       02  NaN\n",
              "Tom       01  7.8\n",
              "Ujin      02  6.4"
            ]
          },
          "metadata": {
            "tags": []
          },
          "execution_count": 31
        }
      ]
    },
    {
      "cell_type": "markdown",
      "metadata": {
        "id": "patient-television"
      },
      "source": [
        "### 2. Конкатенация строк"
      ],
      "id": "patient-television"
    },
    {
      "cell_type": "code",
      "metadata": {
        "colab": {
          "base_uri": "https://localhost:8080/",
          "height": 259
        },
        "id": "improving-inclusion",
        "outputId": "69df7749-1041-45d2-a883-3c4d3839d5d8"
      },
      "source": [
        "df1 = pd.DataFrame({'name': ['Max', 'Phil', 'Vlad', 'Nastya'], 'students': [20, 21, 30, 42]})\n",
        "df2 = pd.DataFrame({'name': ['Ahmed', 'Andrey'], 'students': [50, 40]})\n",
        "\n",
        "display(df1, df2)"
      ],
      "id": "improving-inclusion",
      "execution_count": 32,
      "outputs": [
        {
          "output_type": "display_data",
          "data": {
            "text/html": [
              "<div>\n",
              "<style scoped>\n",
              "    .dataframe tbody tr th:only-of-type {\n",
              "        vertical-align: middle;\n",
              "    }\n",
              "\n",
              "    .dataframe tbody tr th {\n",
              "        vertical-align: top;\n",
              "    }\n",
              "\n",
              "    .dataframe thead th {\n",
              "        text-align: right;\n",
              "    }\n",
              "</style>\n",
              "<table border=\"1\" class=\"dataframe\">\n",
              "  <thead>\n",
              "    <tr style=\"text-align: right;\">\n",
              "      <th></th>\n",
              "      <th>name</th>\n",
              "      <th>students</th>\n",
              "    </tr>\n",
              "  </thead>\n",
              "  <tbody>\n",
              "    <tr>\n",
              "      <th>0</th>\n",
              "      <td>Max</td>\n",
              "      <td>20</td>\n",
              "    </tr>\n",
              "    <tr>\n",
              "      <th>1</th>\n",
              "      <td>Phil</td>\n",
              "      <td>21</td>\n",
              "    </tr>\n",
              "    <tr>\n",
              "      <th>2</th>\n",
              "      <td>Vlad</td>\n",
              "      <td>30</td>\n",
              "    </tr>\n",
              "    <tr>\n",
              "      <th>3</th>\n",
              "      <td>Nastya</td>\n",
              "      <td>42</td>\n",
              "    </tr>\n",
              "  </tbody>\n",
              "</table>\n",
              "</div>"
            ],
            "text/plain": [
              "     name  students\n",
              "0     Max        20\n",
              "1    Phil        21\n",
              "2    Vlad        30\n",
              "3  Nastya        42"
            ]
          },
          "metadata": {
            "tags": []
          }
        },
        {
          "output_type": "display_data",
          "data": {
            "text/html": [
              "<div>\n",
              "<style scoped>\n",
              "    .dataframe tbody tr th:only-of-type {\n",
              "        vertical-align: middle;\n",
              "    }\n",
              "\n",
              "    .dataframe tbody tr th {\n",
              "        vertical-align: top;\n",
              "    }\n",
              "\n",
              "    .dataframe thead th {\n",
              "        text-align: right;\n",
              "    }\n",
              "</style>\n",
              "<table border=\"1\" class=\"dataframe\">\n",
              "  <thead>\n",
              "    <tr style=\"text-align: right;\">\n",
              "      <th></th>\n",
              "      <th>name</th>\n",
              "      <th>students</th>\n",
              "    </tr>\n",
              "  </thead>\n",
              "  <tbody>\n",
              "    <tr>\n",
              "      <th>0</th>\n",
              "      <td>Ahmed</td>\n",
              "      <td>50</td>\n",
              "    </tr>\n",
              "    <tr>\n",
              "      <th>1</th>\n",
              "      <td>Andrey</td>\n",
              "      <td>40</td>\n",
              "    </tr>\n",
              "  </tbody>\n",
              "</table>\n",
              "</div>"
            ],
            "text/plain": [
              "     name  students\n",
              "0   Ahmed        50\n",
              "1  Andrey        40"
            ]
          },
          "metadata": {
            "tags": []
          }
        }
      ]
    },
    {
      "cell_type": "code",
      "metadata": {
        "colab": {
          "base_uri": "https://localhost:8080/",
          "height": 228
        },
        "id": "competitive-graph",
        "outputId": "ed3ba7a7-b511-4364-d1f2-f3d2febdbd04"
      },
      "source": [
        "pd.concat([df1, df2])"
      ],
      "id": "competitive-graph",
      "execution_count": 33,
      "outputs": [
        {
          "output_type": "execute_result",
          "data": {
            "text/html": [
              "<div>\n",
              "<style scoped>\n",
              "    .dataframe tbody tr th:only-of-type {\n",
              "        vertical-align: middle;\n",
              "    }\n",
              "\n",
              "    .dataframe tbody tr th {\n",
              "        vertical-align: top;\n",
              "    }\n",
              "\n",
              "    .dataframe thead th {\n",
              "        text-align: right;\n",
              "    }\n",
              "</style>\n",
              "<table border=\"1\" class=\"dataframe\">\n",
              "  <thead>\n",
              "    <tr style=\"text-align: right;\">\n",
              "      <th></th>\n",
              "      <th>name</th>\n",
              "      <th>students</th>\n",
              "    </tr>\n",
              "  </thead>\n",
              "  <tbody>\n",
              "    <tr>\n",
              "      <th>0</th>\n",
              "      <td>Max</td>\n",
              "      <td>20</td>\n",
              "    </tr>\n",
              "    <tr>\n",
              "      <th>1</th>\n",
              "      <td>Phil</td>\n",
              "      <td>21</td>\n",
              "    </tr>\n",
              "    <tr>\n",
              "      <th>2</th>\n",
              "      <td>Vlad</td>\n",
              "      <td>30</td>\n",
              "    </tr>\n",
              "    <tr>\n",
              "      <th>3</th>\n",
              "      <td>Nastya</td>\n",
              "      <td>42</td>\n",
              "    </tr>\n",
              "    <tr>\n",
              "      <th>0</th>\n",
              "      <td>Ahmed</td>\n",
              "      <td>50</td>\n",
              "    </tr>\n",
              "    <tr>\n",
              "      <th>1</th>\n",
              "      <td>Andrey</td>\n",
              "      <td>40</td>\n",
              "    </tr>\n",
              "  </tbody>\n",
              "</table>\n",
              "</div>"
            ],
            "text/plain": [
              "     name  students\n",
              "0     Max        20\n",
              "1    Phil        21\n",
              "2    Vlad        30\n",
              "3  Nastya        42\n",
              "0   Ahmed        50\n",
              "1  Andrey        40"
            ]
          },
          "metadata": {
            "tags": []
          },
          "execution_count": 33
        }
      ]
    },
    {
      "cell_type": "markdown",
      "metadata": {
        "id": "nutritional-murray"
      },
      "source": [
        "### Пример на клипах по ютубу"
      ],
      "id": "nutritional-murray"
    },
    {
      "cell_type": "markdown",
      "metadata": {
        "id": "brief-patrick"
      },
      "source": [
        "Работать в дальнейшем будем с базой данных, содержащей информацию о клипах ютуба. В базе несколько таблиц, между которыми выстроены соединения. Структура выглядит таким образом:  \n",
        "\n"
      ],
      "id": "brief-patrick"
    },
    {
      "cell_type": "markdown",
      "metadata": {
        "id": "brilliant-vanilla"
      },
      "source": [
        "<center>\n",
        "<img src=\"https://github.com/hse-econ-data-science/dap_2021_spring/blob/main/sem09_pandas/images/struct.png?raw=true\" width=\"600\">\n",
        "</center>"
      ],
      "id": "brilliant-vanilla"
    },
    {
      "cell_type": "markdown",
      "metadata": {
        "id": "future-shell"
      },
      "source": [
        "__Описание колонок:__\n",
        "\n",
        "* `id_title` $-$ уникальный id названия видео\n",
        "* `id_music_style` $-$ уникальный id жанра\n",
        "* `id_performer` $-$ уникальный id исполнителя\n",
        "* `title` $-$ название видео\n",
        "* `commentCount` $-$ число комментариев\n",
        "* `dislikeCount` $-$ число дизлайков\n",
        "* `likeCount` $-$ число лайков\n",
        "* `music_style` $-$ музыкальный стиль\n",
        "* `performer` $-$ исполнитель\n",
        "* `viewCount` $-$ число просмотров\n",
        "* `commentators_uniq` $-$ число уникальных комментаторов\n",
        "* `comments_obscene_cnt` $-$ число негативных комментариев\n",
        "* `video_age` $-$ возраст видео в днях (на момент '2019-03-15')"
      ],
      "id": "future-shell"
    },
    {
      "cell_type": "code",
      "metadata": {
        "id": "modern-shoulder"
      },
      "source": [
        "# подгрузим все таблицы\n",
        "df_perf = pd.read_csv('performer_table.csv', sep=';')\n",
        "df_title = pd.read_csv('title_table.csv', sep=';')\n",
        "df_genre = pd.read_csv('music_style_table.csv', sep=';')\n",
        "\n",
        "df_stat = pd.read_csv('title_stat_table.csv', sep=';')"
      ],
      "id": "modern-shoulder",
      "execution_count": 35,
      "outputs": []
    },
    {
      "cell_type": "code",
      "metadata": {
        "id": "AGKO7Gv5gPz9"
      },
      "source": [
        "df_perf = df_perf.set_index('id_performer')\n",
        "df_title.set_index('id_title', inplace=True)\n",
        "df_genre.set_index('id_music_style', inplace=True)"
      ],
      "id": "AGKO7Gv5gPz9",
      "execution_count": 52,
      "outputs": []
    },
    {
      "cell_type": "markdown",
      "metadata": {
        "id": "tutorial-priest"
      },
      "source": [
        "### Задача №1:\n",
        "\n",
        "Какой исполнитель получает больше всего хейта? (хейт определяется числом негативных комментариев) "
      ],
      "id": "tutorial-priest"
    },
    {
      "cell_type": "code",
      "metadata": {
        "colab": {
          "base_uri": "https://localhost:8080/",
          "height": 265
        },
        "id": "krAsMXt7d--a",
        "outputId": "53b1914c-8131-4d52-c608-07cedc0a6741"
      },
      "source": [
        "df_stat['comments_obscene_cnt'].hist(log=True);"
      ],
      "id": "krAsMXt7d--a",
      "execution_count": 39,
      "outputs": [
        {
          "output_type": "display_data",
          "data": {
            "image/png": "[encoded data removed]",
            "text/plain": [
              "<Figure size 432x288 with 1 Axes>"
            ]
          },
          "metadata": {
            "tags": [],
            "needs_background": "light"
          }
        }
      ]
    },
    {
      "cell_type": "code",
      "metadata": {
        "colab": {
          "base_uri": "https://localhost:8080/"
        },
        "id": "f_Wlu2Vnd_BN",
        "outputId": "023c0a7c-8ae7-483d-9230-75bac759c0f5"
      },
      "source": [
        "df_stat['comments_obscene_cnt'].mean()"
      ],
      "id": "f_Wlu2Vnd_BN",
      "execution_count": 42,
      "outputs": [
        {
          "output_type": "execute_result",
          "data": {
            "text/plain": [
              "8.952899139191164"
            ]
          },
          "metadata": {
            "tags": []
          },
          "execution_count": 42
        }
      ]
    },
    {
      "cell_type": "code",
      "metadata": {
        "colab": {
          "base_uri": "https://localhost:8080/",
          "height": 228
        },
        "id": "AVafxKivd_HO",
        "outputId": "ac40108f-fe54-4e82-865a-f2cf271434b3"
      },
      "source": [
        "df_agg = (\n",
        "    df_stat.groupby('id_performer').agg({\n",
        "      'comments_obscene_cnt': np.median,\n",
        "      'id_performer': 'count'\n",
        "  })\n",
        ")\n",
        "\n",
        "df_agg.columns = ['obs_median', 'video_cnt']\n",
        "\n",
        "df_agg.head()"
      ],
      "id": "AVafxKivd_HO",
      "execution_count": 61,
      "outputs": [
        {
          "output_type": "execute_result",
          "data": {
            "text/html": [
              "<div>\n",
              "<style scoped>\n",
              "    .dataframe tbody tr th:only-of-type {\n",
              "        vertical-align: middle;\n",
              "    }\n",
              "\n",
              "    .dataframe tbody tr th {\n",
              "        vertical-align: top;\n",
              "    }\n",
              "\n",
              "    .dataframe thead th {\n",
              "        text-align: right;\n",
              "    }\n",
              "</style>\n",
              "<table border=\"1\" class=\"dataframe\">\n",
              "  <thead>\n",
              "    <tr style=\"text-align: right;\">\n",
              "      <th></th>\n",
              "      <th>obs_median</th>\n",
              "      <th>video_cnt</th>\n",
              "    </tr>\n",
              "    <tr>\n",
              "      <th>id_performer</th>\n",
              "      <th></th>\n",
              "      <th></th>\n",
              "    </tr>\n",
              "  </thead>\n",
              "  <tbody>\n",
              "    <tr>\n",
              "      <th>99991</th>\n",
              "      <td>0.0</td>\n",
              "      <td>126</td>\n",
              "    </tr>\n",
              "    <tr>\n",
              "      <th>99992</th>\n",
              "      <td>0.0</td>\n",
              "      <td>280</td>\n",
              "    </tr>\n",
              "    <tr>\n",
              "      <th>99993</th>\n",
              "      <td>0.0</td>\n",
              "      <td>405</td>\n",
              "    </tr>\n",
              "    <tr>\n",
              "      <th>99994</th>\n",
              "      <td>0.0</td>\n",
              "      <td>415</td>\n",
              "    </tr>\n",
              "    <tr>\n",
              "      <th>99995</th>\n",
              "      <td>0.0</td>\n",
              "      <td>298</td>\n",
              "    </tr>\n",
              "  </tbody>\n",
              "</table>\n",
              "</div>"
            ],
            "text/plain": [
              "              obs_median  video_cnt\n",
              "id_performer                       \n",
              "99991                0.0        126\n",
              "99992                0.0        280\n",
              "99993                0.0        405\n",
              "99994                0.0        415\n",
              "99995                0.0        298"
            ]
          },
          "metadata": {
            "tags": []
          },
          "execution_count": 61
        }
      ]
    },
    {
      "cell_type": "code",
      "metadata": {
        "colab": {
          "base_uri": "https://localhost:8080/",
          "height": 228
        },
        "id": "RN4UZqnkd_Ik",
        "outputId": "1eea59af-adc3-44a0-a3ef-50b43acd96cd"
      },
      "source": [
        "df_ans = (\n",
        "    df_agg.join(df_perf)\n",
        "    .sort_values('obs_median', ascending=False)\n",
        ")\n",
        "\n",
        "df_ans.head()"
      ],
      "id": "RN4UZqnkd_Ik",
      "execution_count": 64,
      "outputs": [
        {
          "output_type": "execute_result",
          "data": {
            "text/html": [
              "<div>\n",
              "<style scoped>\n",
              "    .dataframe tbody tr th:only-of-type {\n",
              "        vertical-align: middle;\n",
              "    }\n",
              "\n",
              "    .dataframe tbody tr th {\n",
              "        vertical-align: top;\n",
              "    }\n",
              "\n",
              "    .dataframe thead th {\n",
              "        text-align: right;\n",
              "    }\n",
              "</style>\n",
              "<table border=\"1\" class=\"dataframe\">\n",
              "  <thead>\n",
              "    <tr style=\"text-align: right;\">\n",
              "      <th></th>\n",
              "      <th>obs_median</th>\n",
              "      <th>video_cnt</th>\n",
              "      <th>performer</th>\n",
              "    </tr>\n",
              "    <tr>\n",
              "      <th>id_performer</th>\n",
              "      <th></th>\n",
              "      <th></th>\n",
              "      <th></th>\n",
              "    </tr>\n",
              "  </thead>\n",
              "  <tbody>\n",
              "    <tr>\n",
              "      <th>100100</th>\n",
              "      <td>269.0</td>\n",
              "      <td>14</td>\n",
              "      <td>пошлая_молли</td>\n",
              "    </tr>\n",
              "    <tr>\n",
              "      <th>100101</th>\n",
              "      <td>260.0</td>\n",
              "      <td>11</td>\n",
              "      <td>хаски</td>\n",
              "    </tr>\n",
              "    <tr>\n",
              "      <th>100076</th>\n",
              "      <td>130.0</td>\n",
              "      <td>25</td>\n",
              "      <td>face</td>\n",
              "    </tr>\n",
              "    <tr>\n",
              "      <th>100050</th>\n",
              "      <td>69.0</td>\n",
              "      <td>72</td>\n",
              "      <td>oxxxymiron</td>\n",
              "    </tr>\n",
              "    <tr>\n",
              "      <th>100086</th>\n",
              "      <td>31.0</td>\n",
              "      <td>53</td>\n",
              "      <td>лсп</td>\n",
              "    </tr>\n",
              "  </tbody>\n",
              "</table>\n",
              "</div>"
            ],
            "text/plain": [
              "              obs_median  video_cnt     performer\n",
              "id_performer                                     \n",
              "100100             269.0         14  пошлая_молли\n",
              "100101             260.0         11         хаски\n",
              "100076             130.0         25          face\n",
              "100050              69.0         72    oxxxymiron\n",
              "100086              31.0         53           лсп"
            ]
          },
          "metadata": {
            "tags": []
          },
          "execution_count": 64
        }
      ]
    },
    {
      "cell_type": "markdown",
      "metadata": {
        "id": "missing-mailing"
      },
      "source": [
        "### Задача №2:\n",
        "\n",
        "Для каждого жанра выведите число просмотров самого популярного клипа? Кто его исполнитель? Как называется клип?"
      ],
      "id": "missing-mailing"
    },
    {
      "cell_type": "code",
      "metadata": {
        "colab": {
          "base_uri": "https://localhost:8080/",
          "height": 258
        },
        "id": "j4Nyl1V4ht1f",
        "outputId": "f4e61abd-55f6-4cc1-bb4c-f6730e0e6b63"
      },
      "source": [
        "df_agg = (\n",
        "    df_stat.groupby('id_music_style')\n",
        "    .agg({'viewCount' : np.max})\n",
        "    .reset_index()\n",
        "    .set_index(\"viewCount\")\n",
        ")\n",
        "\n",
        "df_agg = df_agg.join(\n",
        "    df_stat.set_index(\"viewCount\"), \n",
        "    lsuffix='_l'\n",
        ").reset_index( )\n",
        "\n",
        "df_agg = df_agg[['viewCount', 'id_music_style',\n",
        "        'id_title', 'id_performer']]\n",
        "\n",
        "df_agg = (\n",
        "    df_agg.set_index(\"id_music_style\")\n",
        "    .join(df_genre)\n",
        ")\n",
        "\n",
        "df_agg = (\n",
        "    df_agg.set_index(\"id_title\")\n",
        "    .join(df_title)\n",
        ")\n",
        "\n",
        "df_agg = (\n",
        "    df_agg.set_index(\"id_performer\")\n",
        "    .join(df_perf)\n",
        "    .reset_index()\n",
        ")\n",
        "\n",
        "colnames = df_agg.columns[-4:]\n",
        "\n",
        "df_agg[colnames]"
      ],
      "id": "j4Nyl1V4ht1f",
      "execution_count": 83,
      "outputs": [
        {
          "output_type": "execute_result",
          "data": {
            "text/html": [
              "<div>\n",
              "<style scoped>\n",
              "    .dataframe tbody tr th:only-of-type {\n",
              "        vertical-align: middle;\n",
              "    }\n",
              "\n",
              "    .dataframe tbody tr th {\n",
              "        vertical-align: top;\n",
              "    }\n",
              "\n",
              "    .dataframe thead th {\n",
              "        text-align: right;\n",
              "    }\n",
              "</style>\n",
              "<table border=\"1\" class=\"dataframe\">\n",
              "  <thead>\n",
              "    <tr style=\"text-align: right;\">\n",
              "      <th></th>\n",
              "      <th>viewCount</th>\n",
              "      <th>music_style</th>\n",
              "      <th>title</th>\n",
              "      <th>performer</th>\n",
              "    </tr>\n",
              "  </thead>\n",
              "  <tbody>\n",
              "    <tr>\n",
              "      <th>0</th>\n",
              "      <td>43969730.0</td>\n",
              "      <td>estrada</td>\n",
              "      <td>Стас Михайлов и Елена Север - Не зови, не слыш...</td>\n",
              "      <td>михайлов</td>\n",
              "    </tr>\n",
              "    <tr>\n",
              "      <th>1</th>\n",
              "      <td>48972150.0</td>\n",
              "      <td>indi</td>\n",
              "      <td>Мальбэк — Равнодушие ft. Сюзанна</td>\n",
              "      <td>мальбэк</td>\n",
              "    </tr>\n",
              "    <tr>\n",
              "      <th>2</th>\n",
              "      <td>57860686.0</td>\n",
              "      <td>shanson</td>\n",
              "      <td>Ирина Круг и Виктор Королев - Букет из белых роз</td>\n",
              "      <td>ирина_круг</td>\n",
              "    </tr>\n",
              "    <tr>\n",
              "      <th>3</th>\n",
              "      <td>132015566.0</td>\n",
              "      <td>popsa</td>\n",
              "      <td>LOBODA — Твои Глаза</td>\n",
              "      <td>loboda</td>\n",
              "    </tr>\n",
              "    <tr>\n",
              "      <th>4</th>\n",
              "      <td>141509635.0</td>\n",
              "      <td>rock</td>\n",
              "      <td>Ленинград — Экспонат</td>\n",
              "      <td>ленинград</td>\n",
              "    </tr>\n",
              "    <tr>\n",
              "      <th>5</th>\n",
              "      <td>196812152.0</td>\n",
              "      <td>classic</td>\n",
              "      <td>Four Seasons ~ Vivaldi</td>\n",
              "      <td>classical_channel</td>\n",
              "    </tr>\n",
              "    <tr>\n",
              "      <th>6</th>\n",
              "      <td>272047706.0</td>\n",
              "      <td>rap</td>\n",
              "      <td>Miyagi &amp; Эндшпиль feat. Рем Дигга - I Got Love...</td>\n",
              "      <td>miyagi&amp;эндшпиль</td>\n",
              "    </tr>\n",
              "  </tbody>\n",
              "</table>\n",
              "</div>"
            ],
            "text/plain": [
              "     viewCount  ...          performer\n",
              "0   43969730.0  ...           михайлов\n",
              "1   48972150.0  ...            мальбэк\n",
              "2   57860686.0  ...         ирина_круг\n",
              "3  132015566.0  ...             loboda\n",
              "4  141509635.0  ...          ленинград\n",
              "5  196812152.0  ...  classical_channel\n",
              "6  272047706.0  ...    miyagi&эндшпиль\n",
              "\n",
              "[7 rows x 4 columns]"
            ]
          },
          "metadata": {
            "tags": []
          },
          "execution_count": 83
        }
      ]
    },
    {
      "cell_type": "markdown",
      "metadata": {
        "id": "german-wrapping"
      },
      "source": [
        "## Типы переменных"
      ],
      "id": "german-wrapping"
    },
    {
      "cell_type": "markdown",
      "metadata": {
        "id": "complex-delight"
      },
      "source": [
        "__Классификация переменных по типу данных:__  \n",
        "\n",
        "* `int` $-$ числовой, целые числа (1000, 0, -1)\n",
        "* `float` $-$ числовой, вещественные числа (1.0, 2.564523)\n",
        "* `object` $-$ строковый (бутырка, JPMorgan, f12aaz//)\n",
        "* `bool` $-$ булевский (True, False)\n",
        "* `datetime` $-$ дата (2020-01-12, 23.Jan.20)\n",
        "\n",
        "\n",
        "__Классификация переменных по смыслу:__  \n",
        "\n",
        "* `Непрерывные` $-$ содержат непрерывное множество значений на каком-то промежутке (з/п, рост человека, вес буханки хлеба и тд)\n",
        "* `Категориальные` $-$ содержат конечное небольшое множество значений (возраст детей, тип магазина)\n",
        "* `Бинарные` $-$ подтип категориальной переменной, имеющей только 2 категории (пол, столицы двух стран)"
      ],
      "id": "complex-delight"
    },
    {
      "cell_type": "code",
      "metadata": {
        "id": "leading-flexibility"
      },
      "source": [
        "df = pd.read_csv('youtube_data_short.csv', sep='\\t')"
      ],
      "id": "leading-flexibility",
      "execution_count": 89,
      "outputs": []
    },
    {
      "cell_type": "code",
      "metadata": {
        "id": "august-funds",
        "colab": {
          "base_uri": "https://localhost:8080/"
        },
        "outputId": "495bf1a6-779b-4780-aaa4-03194ae70437"
      },
      "source": [
        "# смотрим на типы переменных \n",
        "df.dtypes"
      ],
      "id": "august-funds",
      "execution_count": 90,
      "outputs": [
        {
          "output_type": "execute_result",
          "data": {
            "text/plain": [
              "title                    object\n",
              "commentCount            float64\n",
              "dislikeCount            float64\n",
              "likeCount               float64\n",
              "music_style              object\n",
              "performer                object\n",
              "viewCount               float64\n",
              "commentators_uniq       float64\n",
              "comments_obscene_cnt    float64\n",
              "video_age                 int64\n",
              "dtype: object"
            ]
          },
          "metadata": {
            "tags": []
          },
          "execution_count": 90
        }
      ]
    },
    {
      "cell_type": "markdown",
      "metadata": {
        "id": "global-camcorder"
      },
      "source": [
        "## Работа с категориальными переменными"
      ],
      "id": "global-camcorder"
    },
    {
      "cell_type": "markdown",
      "metadata": {
        "id": "handmade-davis"
      },
      "source": [
        "### Когда категории две:"
      ],
      "id": "handmade-davis"
    },
    {
      "cell_type": "markdown",
      "metadata": {
        "id": "serious-flood"
      },
      "source": [
        "Отберем только клипы жанра `rock` и `rap`. Представим, что только они нас интересуют. "
      ],
      "id": "serious-flood"
    },
    {
      "cell_type": "code",
      "metadata": {
        "id": "hispanic-equality",
        "outputId": "415036b0-074e-4b04-8479-eca3197f49ba"
      },
      "source": [
        "genres_to_keep = ['rock', 'rap']\n",
        "\n",
        "df_small = df[df.music_style.isin(genres_to_keep)]\n",
        "df_small.head()"
      ],
      "id": "hispanic-equality",
      "execution_count": null,
      "outputs": [
        {
          "output_type": "execute_result",
          "data": {
            "text/html": [
              "<div>\n",
              "<style scoped>\n",
              "    .dataframe tbody tr th:only-of-type {\n",
              "        vertical-align: middle;\n",
              "    }\n",
              "\n",
              "    .dataframe tbody tr th {\n",
              "        vertical-align: top;\n",
              "    }\n",
              "\n",
              "    .dataframe thead th {\n",
              "        text-align: right;\n",
              "    }\n",
              "</style>\n",
              "<table border=\"1\" class=\"dataframe\">\n",
              "  <thead>\n",
              "    <tr style=\"text-align: right;\">\n",
              "      <th></th>\n",
              "      <th>title</th>\n",
              "      <th>commentCount</th>\n",
              "      <th>dislikeCount</th>\n",
              "      <th>likeCount</th>\n",
              "      <th>music_style</th>\n",
              "      <th>performer</th>\n",
              "      <th>viewCount</th>\n",
              "      <th>commentators_uniq</th>\n",
              "      <th>comments_obscene_cnt</th>\n",
              "      <th>video_age</th>\n",
              "    </tr>\n",
              "  </thead>\n",
              "  <tbody>\n",
              "    <tr>\n",
              "      <th>8</th>\n",
              "      <td>\"Hey Tovarish\" Video Shooting</td>\n",
              "      <td>10.0</td>\n",
              "      <td>1.0</td>\n",
              "      <td>34.0</td>\n",
              "      <td>rock</td>\n",
              "      <td>мумий_тролль</td>\n",
              "      <td>3815.0</td>\n",
              "      <td>9.0</td>\n",
              "      <td>0.0</td>\n",
              "      <td>2539</td>\n",
              "    </tr>\n",
              "    <tr>\n",
              "      <th>15</th>\n",
              "      <td>\"SOS Матросу!\" - тизер фильма</td>\n",
              "      <td>10.0</td>\n",
              "      <td>4.0</td>\n",
              "      <td>68.0</td>\n",
              "      <td>rock</td>\n",
              "      <td>мумий_тролль</td>\n",
              "      <td>7632.0</td>\n",
              "      <td>5.0</td>\n",
              "      <td>0.0</td>\n",
              "      <td>1739</td>\n",
              "    </tr>\n",
              "    <tr>\n",
              "      <th>36</th>\n",
              "      <td>\"ВОИН ДУМА\"</td>\n",
              "      <td>4.0</td>\n",
              "      <td>0.0</td>\n",
              "      <td>49.0</td>\n",
              "      <td>rock</td>\n",
              "      <td>король_и_шут</td>\n",
              "      <td>1950.0</td>\n",
              "      <td>NaN</td>\n",
              "      <td>NaN</td>\n",
              "      <td>3819</td>\n",
              "    </tr>\n",
              "    <tr>\n",
              "      <th>38</th>\n",
              "      <td>\"Виктор Цой. 50 лет\" Кукрыниксы - Печаль, Конч...</td>\n",
              "      <td>2.0</td>\n",
              "      <td>4.0</td>\n",
              "      <td>65.0</td>\n",
              "      <td>rock</td>\n",
              "      <td>кукрыниксы</td>\n",
              "      <td>9986.0</td>\n",
              "      <td>2.0</td>\n",
              "      <td>0.0</td>\n",
              "      <td>2351</td>\n",
              "    </tr>\n",
              "    <tr>\n",
              "      <th>40</th>\n",
              "      <td>\"Всё, что было\". Начало.</td>\n",
              "      <td>23.0</td>\n",
              "      <td>5.0</td>\n",
              "      <td>171.0</td>\n",
              "      <td>rock</td>\n",
              "      <td>ария</td>\n",
              "      <td>11168.0</td>\n",
              "      <td>21.0</td>\n",
              "      <td>1.0</td>\n",
              "      <td>2351</td>\n",
              "    </tr>\n",
              "  </tbody>\n",
              "</table>\n",
              "</div>"
            ],
            "text/plain": [
              "                                                title  commentCount  \\\n",
              "8                       \"Hey Tovarish\" Video Shooting          10.0   \n",
              "15                      \"SOS Матросу!\" - тизер фильма          10.0   \n",
              "36                                        \"ВОИН ДУМА\"           4.0   \n",
              "38  \"Виктор Цой. 50 лет\" Кукрыниксы - Печаль, Конч...           2.0   \n",
              "40                           \"Всё, что было\". Начало.          23.0   \n",
              "\n",
              "    dislikeCount  likeCount music_style     performer  viewCount  \\\n",
              "8            1.0       34.0        rock  мумий_тролль     3815.0   \n",
              "15           4.0       68.0        rock  мумий_тролль     7632.0   \n",
              "36           0.0       49.0        rock  король_и_шут     1950.0   \n",
              "38           4.0       65.0        rock    кукрыниксы     9986.0   \n",
              "40           5.0      171.0        rock          ария    11168.0   \n",
              "\n",
              "    commentators_uniq  comments_obscene_cnt  video_age  \n",
              "8                 9.0                   0.0       2539  \n",
              "15                5.0                   0.0       1739  \n",
              "36                NaN                   NaN       3819  \n",
              "38                2.0                   0.0       2351  \n",
              "40               21.0                   1.0       2351  "
            ]
          },
          "metadata": {
            "tags": []
          },
          "execution_count": 14
        }
      ]
    },
    {
      "cell_type": "markdown",
      "metadata": {
        "id": "turned-touch"
      },
      "source": [
        "В таком \"поддатафрейме\" наша колонка `music_style` **имеет тип object** (т.к. в ней находятся строки), а также **является бинарной**, так как содержит всего два значения (`rock` и `rap`)"
      ],
      "id": "turned-touch"
    },
    {
      "cell_type": "markdown",
      "metadata": {
        "id": "minor-saver"
      },
      "source": [
        "Однако проблема строковых переменных в том, что многие модели не умеют с ними работать. Компьютеру привычнее оперировать с числами. \n",
        "\n",
        "Именно поэтому над строковыми бинарными переменными производят нехитрые манипуляции. Либо кодируют их в числа 1 / 0, либо создают булевский тип True / False, что в какой-то степени тоже самое. \n",
        "\n",
        "Попробуем преобразовать нашу бинарную строковую переменную music_style:"
      ],
      "id": "minor-saver"
    },
    {
      "cell_type": "code",
      "metadata": {
        "id": "selected-disposition",
        "outputId": "80f2d71f-1f8b-4381-958a-a5e00c1ff816"
      },
      "source": [
        "d = {'rock': 1, 'rap': 0}\n",
        "\n",
        "df_small['is_rock'] = df_small['music_style'].map(d)"
      ],
      "id": "selected-disposition",
      "execution_count": null,
      "outputs": [
        {
          "output_type": "stream",
          "text": [
            "<ipython-input-15-21b19c4d8243>:3: SettingWithCopyWarning: \n",
            "A value is trying to be set on a copy of a slice from a DataFrame.\n",
            "Try using .loc[row_indexer,col_indexer] = value instead\n",
            "\n",
            "See the caveats in the documentation: https://pandas.pydata.org/pandas-docs/stable/user_guide/indexing.html#returning-a-view-versus-a-copy\n",
            "  df_small['is_rock'] = df_small['music_style'].map(d)\n"
          ],
          "name": "stderr"
        }
      ]
    },
    {
      "cell_type": "code",
      "metadata": {
        "id": "engaging-render",
        "outputId": "250c0e2f-d0e4-46cd-dfdb-ffcc2211126d"
      },
      "source": [
        "df_small.head(2)"
      ],
      "id": "engaging-render",
      "execution_count": null,
      "outputs": [
        {
          "output_type": "execute_result",
          "data": {
            "text/html": [
              "<div>\n",
              "<style scoped>\n",
              "    .dataframe tbody tr th:only-of-type {\n",
              "        vertical-align: middle;\n",
              "    }\n",
              "\n",
              "    .dataframe tbody tr th {\n",
              "        vertical-align: top;\n",
              "    }\n",
              "\n",
              "    .dataframe thead th {\n",
              "        text-align: right;\n",
              "    }\n",
              "</style>\n",
              "<table border=\"1\" class=\"dataframe\">\n",
              "  <thead>\n",
              "    <tr style=\"text-align: right;\">\n",
              "      <th></th>\n",
              "      <th>title</th>\n",
              "      <th>commentCount</th>\n",
              "      <th>dislikeCount</th>\n",
              "      <th>likeCount</th>\n",
              "      <th>music_style</th>\n",
              "      <th>performer</th>\n",
              "      <th>viewCount</th>\n",
              "      <th>commentators_uniq</th>\n",
              "      <th>comments_obscene_cnt</th>\n",
              "      <th>video_age</th>\n",
              "      <th>is_rock</th>\n",
              "    </tr>\n",
              "  </thead>\n",
              "  <tbody>\n",
              "    <tr>\n",
              "      <th>8</th>\n",
              "      <td>\"Hey Tovarish\" Video Shooting</td>\n",
              "      <td>10.0</td>\n",
              "      <td>1.0</td>\n",
              "      <td>34.0</td>\n",
              "      <td>rock</td>\n",
              "      <td>мумий_тролль</td>\n",
              "      <td>3815.0</td>\n",
              "      <td>9.0</td>\n",
              "      <td>0.0</td>\n",
              "      <td>2539</td>\n",
              "      <td>1</td>\n",
              "    </tr>\n",
              "    <tr>\n",
              "      <th>15</th>\n",
              "      <td>\"SOS Матросу!\" - тизер фильма</td>\n",
              "      <td>10.0</td>\n",
              "      <td>4.0</td>\n",
              "      <td>68.0</td>\n",
              "      <td>rock</td>\n",
              "      <td>мумий_тролль</td>\n",
              "      <td>7632.0</td>\n",
              "      <td>5.0</td>\n",
              "      <td>0.0</td>\n",
              "      <td>1739</td>\n",
              "      <td>1</td>\n",
              "    </tr>\n",
              "  </tbody>\n",
              "</table>\n",
              "</div>"
            ],
            "text/plain": [
              "                            title  commentCount  dislikeCount  likeCount  \\\n",
              "8   \"Hey Tovarish\" Video Shooting          10.0           1.0       34.0   \n",
              "15  \"SOS Матросу!\" - тизер фильма          10.0           4.0       68.0   \n",
              "\n",
              "   music_style     performer  viewCount  commentators_uniq  \\\n",
              "8         rock  мумий_тролль     3815.0                9.0   \n",
              "15        rock  мумий_тролль     7632.0                5.0   \n",
              "\n",
              "    comments_obscene_cnt  video_age  is_rock  \n",
              "8                    0.0       2539        1  \n",
              "15                   0.0       1739        1  "
            ]
          },
          "metadata": {
            "tags": []
          },
          "execution_count": 16
        }
      ]
    },
    {
      "cell_type": "markdown",
      "metadata": {
        "id": "strong-numbers"
      },
      "source": [
        "### Задача №3: \n",
        "Какая доля наблюдений обоих жанров?"
      ],
      "id": "strong-numbers"
    },
    {
      "cell_type": "code",
      "metadata": {
        "id": "other-ranking"
      },
      "source": [
        "## Ваш код"
      ],
      "id": "other-ranking",
      "execution_count": null,
      "outputs": []
    },
    {
      "cell_type": "markdown",
      "metadata": {
        "id": "urban-conditioning"
      },
      "source": [
        "### Когда категорий больше двух"
      ],
      "id": "urban-conditioning"
    },
    {
      "cell_type": "markdown",
      "metadata": {
        "id": "integral-victor"
      },
      "source": [
        "Вернемся к нашему полному датафрейму. В нем music_style принимает не 2 значения, а целых 7. Что делать в таком случае?"
      ],
      "id": "integral-victor"
    },
    {
      "cell_type": "markdown",
      "metadata": {
        "id": "crude-photography"
      },
      "source": [
        "**Наивный метод:** Давайте каждому значению из music_style сопоставим какое-нибудь число. Такой метод называется Label Encoding. Заранее подумайте, какие проблемы может создать такой способ?"
      ],
      "id": "crude-photography"
    },
    {
      "cell_type": "code",
      "metadata": {
        "id": "advisory-channel",
        "outputId": "2e6fa1a2-14bb-41b7-c555-43179c2bd8b3"
      },
      "source": [
        "df.music_style.unique()"
      ],
      "id": "advisory-channel",
      "execution_count": null,
      "outputs": [
        {
          "output_type": "execute_result",
          "data": {
            "text/plain": [
              "array(['popsa', 'rock', 'classic', 'indi', 'estrada', 'shanson', 'rap'],\n",
              "      dtype=object)"
            ]
          },
          "metadata": {
            "tags": []
          },
          "execution_count": 272
        }
      ]
    },
    {
      "cell_type": "code",
      "metadata": {
        "id": "spectacular-northeast",
        "outputId": "1a04d0c4-ac97-4710-cb3c-9ee9f2a60c27"
      },
      "source": [
        "# создадим словарь\n",
        "d = dict(zip(df.music_style.unique(), np.arange(7)))\n",
        "print(d)\n",
        "\n",
        "# сделаем преобразование\n",
        "df['music_style_int'] = df['music_style'].map(d)"
      ],
      "id": "spectacular-northeast",
      "execution_count": null,
      "outputs": [
        {
          "output_type": "stream",
          "text": [
            "{'popsa': 0, 'rock': 1, 'classic': 2, 'indi': 3, 'estrada': 4, 'shanson': 5, 'rap': 6}\n"
          ],
          "name": "stdout"
        }
      ]
    },
    {
      "cell_type": "markdown",
      "metadata": {
        "id": "authentic-junior"
      },
      "source": [
        "Однако проблема такого способа в том, что мы непроизвольным образом установили **порядок** на наших категориях:\n",
        "$6 > 5 > 4 > 3 > 2 > 1 > 0 \\Rightarrow rap > shanson > estrada > indi > classic > rock > popsa$ \n",
        "\n",
        "\n",
        "Чтобы такого избежать, чаще используется другой метод: **One Hot Encoding**"
      ],
      "id": "authentic-junior"
    },
    {
      "cell_type": "markdown",
      "metadata": {
        "id": "pursuant-twist"
      },
      "source": [
        "<center>\n",
        "<img src=\"https://4.bp.blogspot.com/-iC7OQxsaPY0/XMdB9Q9QahI/AAAAAAAAGoY/qEStugMphDIbUIabd_taWCzTyscXzxOPgCLcBGAs/s1600/human_transpose.JPG\" height=\"200\" width=\"600\">\n",
        "</center>   "
      ],
      "id": "pursuant-twist"
    },
    {
      "cell_type": "markdown",
      "metadata": {
        "id": "apart-hotel"
      },
      "source": [
        "В pandas такое преобразование можно сделать с помощью функции `get_dummies()`"
      ],
      "id": "apart-hotel"
    },
    {
      "cell_type": "code",
      "metadata": {
        "id": "chicken-playback",
        "outputId": "94b4102e-2958-4275-e186-d8154eecc2bd"
      },
      "source": [
        "pd.get_dummies(df['music_style']).head()"
      ],
      "id": "chicken-playback",
      "execution_count": null,
      "outputs": [
        {
          "output_type": "execute_result",
          "data": {
            "text/html": [
              "<div>\n",
              "<style scoped>\n",
              "    .dataframe tbody tr th:only-of-type {\n",
              "        vertical-align: middle;\n",
              "    }\n",
              "\n",
              "    .dataframe tbody tr th {\n",
              "        vertical-align: top;\n",
              "    }\n",
              "\n",
              "    .dataframe thead th {\n",
              "        text-align: right;\n",
              "    }\n",
              "</style>\n",
              "<table border=\"1\" class=\"dataframe\">\n",
              "  <thead>\n",
              "    <tr style=\"text-align: right;\">\n",
              "      <th></th>\n",
              "      <th>classic</th>\n",
              "      <th>estrada</th>\n",
              "      <th>indi</th>\n",
              "      <th>popsa</th>\n",
              "      <th>rap</th>\n",
              "      <th>rock</th>\n",
              "      <th>shanson</th>\n",
              "    </tr>\n",
              "  </thead>\n",
              "  <tbody>\n",
              "    <tr>\n",
              "      <th>0</th>\n",
              "      <td>0</td>\n",
              "      <td>0</td>\n",
              "      <td>0</td>\n",
              "      <td>1</td>\n",
              "      <td>0</td>\n",
              "      <td>0</td>\n",
              "      <td>0</td>\n",
              "    </tr>\n",
              "    <tr>\n",
              "      <th>1</th>\n",
              "      <td>0</td>\n",
              "      <td>0</td>\n",
              "      <td>0</td>\n",
              "      <td>1</td>\n",
              "      <td>0</td>\n",
              "      <td>0</td>\n",
              "      <td>0</td>\n",
              "    </tr>\n",
              "    <tr>\n",
              "      <th>2</th>\n",
              "      <td>0</td>\n",
              "      <td>0</td>\n",
              "      <td>0</td>\n",
              "      <td>1</td>\n",
              "      <td>0</td>\n",
              "      <td>0</td>\n",
              "      <td>0</td>\n",
              "    </tr>\n",
              "    <tr>\n",
              "      <th>3</th>\n",
              "      <td>0</td>\n",
              "      <td>0</td>\n",
              "      <td>0</td>\n",
              "      <td>1</td>\n",
              "      <td>0</td>\n",
              "      <td>0</td>\n",
              "      <td>0</td>\n",
              "    </tr>\n",
              "    <tr>\n",
              "      <th>4</th>\n",
              "      <td>0</td>\n",
              "      <td>0</td>\n",
              "      <td>0</td>\n",
              "      <td>1</td>\n",
              "      <td>0</td>\n",
              "      <td>0</td>\n",
              "      <td>0</td>\n",
              "    </tr>\n",
              "  </tbody>\n",
              "</table>\n",
              "</div>"
            ],
            "text/plain": [
              "   classic  estrada  indi  popsa  rap  rock  shanson\n",
              "0        0        0     0      1    0     0        0\n",
              "1        0        0     0      1    0     0        0\n",
              "2        0        0     0      1    0     0        0\n",
              "3        0        0     0      1    0     0        0\n",
              "4        0        0     0      1    0     0        0"
            ]
          },
          "metadata": {
            "tags": []
          },
          "execution_count": 274
        }
      ]
    },
    {
      "cell_type": "markdown",
      "metadata": {
        "id": "intense-heritage"
      },
      "source": [
        "Такой метод тоже имеет свои проблемы, которые выходят за рамки нашего курса. Например, это полная мультиколлинеарность (или линейная зависимость) столбцов. Подробнее об этом можно посмотреть здесь: https://www.youtube.com/watch?v=k9PPuTmTLMk"
      ],
      "id": "intense-heritage"
    },
    {
      "cell_type": "markdown",
      "metadata": {
        "id": "continued-endorsement"
      },
      "source": [
        "## Работа с датой и временем"
      ],
      "id": "continued-endorsement"
    },
    {
      "cell_type": "markdown",
      "metadata": {
        "id": "moved-bahrain"
      },
      "source": [
        "Для даты и времени в python есть свой тип переменных: datetime / timestamp. Все полезные методы, оперирующие над датами можно найти либо в пакете pandas, либо в дополнительном пакете `datetime`"
      ],
      "id": "moved-bahrain"
    },
    {
      "cell_type": "code",
      "metadata": {
        "id": "variable-clark",
        "colab": {
          "base_uri": "https://localhost:8080/"
        },
        "outputId": "8dd70737-19c3-46d7-bf70-692066cc42f4"
      },
      "source": [
        "# получим дату из строки\n",
        "d = pd.to_datetime('01/01/20')\n",
        "d"
      ],
      "id": "variable-clark",
      "execution_count": 93,
      "outputs": [
        {
          "output_type": "execute_result",
          "data": {
            "text/plain": [
              "Timestamp('2020-01-01 00:00:00')"
            ]
          },
          "metadata": {
            "tags": []
          },
          "execution_count": 93
        }
      ]
    },
    {
      "cell_type": "code",
      "metadata": {
        "colab": {
          "base_uri": "https://localhost:8080/",
          "height": 36
        },
        "id": "rKOIaiGRmgKB",
        "outputId": "ee3be344-01ea-47e0-afd2-659bcb5daa42"
      },
      "source": [
        "d.day_name()"
      ],
      "id": "rKOIaiGRmgKB",
      "execution_count": 97,
      "outputs": [
        {
          "output_type": "execute_result",
          "data": {
            "application/vnd.google.colaboratory.intrinsic+json": {
              "type": "string"
            },
            "text/plain": [
              "'Wednesday'"
            ]
          },
          "metadata": {
            "tags": []
          },
          "execution_count": 97
        }
      ]
    },
    {
      "cell_type": "code",
      "metadata": {
        "colab": {
          "base_uri": "https://localhost:8080/"
        },
        "id": "2n5f1BNvmgRh",
        "outputId": "7f19cc81-de8c-448b-ae32-63130c96f871"
      },
      "source": [
        "d.timestamp()"
      ],
      "id": "2n5f1BNvmgRh",
      "execution_count": 98,
      "outputs": [
        {
          "output_type": "execute_result",
          "data": {
            "text/plain": [
              "1577836800.0"
            ]
          },
          "metadata": {
            "tags": []
          },
          "execution_count": 98
        }
      ]
    },
    {
      "cell_type": "code",
      "metadata": {
        "id": "grand-liberal",
        "colab": {
          "base_uri": "https://localhost:8080/"
        },
        "outputId": "a68503b7-0e0e-43c4-a9a0-e2df08e62840"
      },
      "source": [
        "# можно получить сегодняшнее число\n",
        "from datetime import datetime, timedelta\n",
        "d = datetime.today()\n",
        "d"
      ],
      "id": "grand-liberal",
      "execution_count": 100,
      "outputs": [
        {
          "output_type": "execute_result",
          "data": {
            "text/plain": [
              "datetime.datetime(2021, 4, 7, 9, 14, 9, 649086)"
            ]
          },
          "metadata": {
            "tags": []
          },
          "execution_count": 100
        }
      ]
    },
    {
      "cell_type": "code",
      "metadata": {
        "colab": {
          "base_uri": "https://localhost:8080/"
        },
        "id": "hXgRlrsInDT8",
        "outputId": "07e4b783-5ace-402e-a428-52f412469a34"
      },
      "source": [
        "d = d + timedelta(hours=3)\n",
        "d"
      ],
      "id": "hXgRlrsInDT8",
      "execution_count": 103,
      "outputs": [
        {
          "output_type": "execute_result",
          "data": {
            "text/plain": [
              "datetime.datetime(2021, 4, 7, 12, 14, 9, 649086)"
            ]
          },
          "metadata": {
            "tags": []
          },
          "execution_count": 103
        }
      ]
    },
    {
      "cell_type": "code",
      "metadata": {
        "colab": {
          "base_uri": "https://localhost:8080/"
        },
        "id": "qFDr0CaonDbR",
        "outputId": "77fdd62d-c0f0-4a60-aeeb-4dd1a1dfadfc"
      },
      "source": [
        "d.year"
      ],
      "id": "qFDr0CaonDbR",
      "execution_count": 104,
      "outputs": [
        {
          "output_type": "execute_result",
          "data": {
            "text/plain": [
              "2021"
            ]
          },
          "metadata": {
            "tags": []
          },
          "execution_count": 104
        }
      ]
    },
    {
      "cell_type": "code",
      "metadata": {
        "id": "nasty-hands",
        "colab": {
          "base_uri": "https://localhost:8080/",
          "height": 36
        },
        "outputId": "eefc4f88-823f-4a33-862b-f69c6a60fff1"
      },
      "source": [
        "# преобразуем в строку удобного нам формата\n",
        "datetime.today().strftime('%Y-%m-%d %H:%M:%S +3GMT')"
      ],
      "id": "nasty-hands",
      "execution_count": 109,
      "outputs": [
        {
          "output_type": "execute_result",
          "data": {
            "application/vnd.google.colaboratory.intrinsic+json": {
              "type": "string"
            },
            "text/plain": [
              "'2021-04-07 09:16:05 +3GMT'"
            ]
          },
          "metadata": {
            "tags": []
          },
          "execution_count": 109
        }
      ]
    },
    {
      "cell_type": "code",
      "metadata": {
        "id": "correct-spirit",
        "outputId": "cc70abb9-dee6-4d63-bc75-a83e43d5a810"
      },
      "source": [
        "from datetime import timedelta\n",
        "\n",
        "# какой месяц был 50 дней назад?\n",
        "(datetime.today() - timedelta(days=50)).month"
      ],
      "id": "correct-spirit",
      "execution_count": null,
      "outputs": [
        {
          "output_type": "execute_result",
          "data": {
            "text/plain": [
              "2"
            ]
          },
          "metadata": {
            "tags": []
          },
          "execution_count": 279
        }
      ]
    },
    {
      "cell_type": "markdown",
      "metadata": {
        "id": "accomplished-conditioning"
      },
      "source": [
        "### Задача №4: \n",
        "\n",
        "В нашем датасете есть колонка `video_age`, которая показывает нам возраст нашего клипа в днях с 15 марта 2019 года. Опираясь на нее, получите для каждого клипа дату его публикации и сохраните в новую колонку. "
      ],
      "id": "accomplished-conditioning"
    },
    {
      "cell_type": "code",
      "metadata": {
        "id": "HpYQukbloLHY"
      },
      "source": [
        "def get_date(days):\n",
        "  download_date = datetime(2019, 3, 15)\n",
        "  date = download_date - timedelta(days=days)\n",
        "  return date #.strftime('%Y-%m-%d')\n",
        "\n",
        "df['fielddate'] = df['video_age'].apply(get_date)"
      ],
      "id": "HpYQukbloLHY",
      "execution_count": 130,
      "outputs": []
    },
    {
      "cell_type": "markdown",
      "metadata": {
        "id": "trying-courage"
      },
      "source": [
        "### Задача №5:\n",
        "\n",
        "Какое распределение кол-ва выпущенных клипов по годам? "
      ],
      "id": "trying-courage"
    },
    {
      "cell_type": "code",
      "metadata": {
        "id": "fundamental-conference",
        "colab": {
          "base_uri": "https://localhost:8080/"
        },
        "outputId": "2f91f52e-dc94-441d-ff2b-4ec46c540623"
      },
      "source": [
        "df['year'] =  df['fielddate'].apply(lambda w: w.year)\n",
        "df.groupby('year')['year'].count()"
      ],
      "id": "fundamental-conference",
      "execution_count": 136,
      "outputs": [
        {
          "output_type": "execute_result",
          "data": {
            "text/plain": [
              "year\n",
              "2006       3\n",
              "2007      63\n",
              "2008     133\n",
              "2009     448\n",
              "2010    1223\n",
              "2011    1564\n",
              "2012    1176\n",
              "2013    1250\n",
              "2014    1980\n",
              "2015    1857\n",
              "2016    1885\n",
              "2017    2153\n",
              "2018    4968\n",
              "2019     421\n",
              "Name: year, dtype: int64"
            ]
          },
          "metadata": {
            "tags": []
          },
          "execution_count": 136
        }
      ]
    },
    {
      "cell_type": "code",
      "metadata": {
        "colab": {
          "base_uri": "https://localhost:8080/"
        },
        "id": "rRGJEVcSqPsK",
        "outputId": "efa659ef-8b79-4b99-a4bb-ec015f7d0cd6"
      },
      "source": [
        "df['year'].value_counts()"
      ],
      "id": "rRGJEVcSqPsK",
      "execution_count": 139,
      "outputs": [
        {
          "output_type": "execute_result",
          "data": {
            "text/plain": [
              "2018    4968\n",
              "2017    2153\n",
              "2014    1980\n",
              "2016    1885\n",
              "2015    1857\n",
              "2011    1564\n",
              "2013    1250\n",
              "2010    1223\n",
              "2012    1176\n",
              "2009     448\n",
              "2019     421\n",
              "2008     133\n",
              "2007      63\n",
              "2006       3\n",
              "Name: year, dtype: int64"
            ]
          },
          "metadata": {
            "tags": []
          },
          "execution_count": 139
        }
      ]
    },
    {
      "cell_type": "markdown",
      "metadata": {
        "id": "numerical-teacher"
      },
      "source": [
        "### Задача №6:\n",
        "\n",
        "Выведите месяц, в течение которого на ютуб опубликовали больше всего клипов"
      ],
      "id": "numerical-teacher"
    },
    {
      "cell_type": "code",
      "metadata": {
        "id": "virtual-passage"
      },
      "source": [
        ""
      ],
      "id": "virtual-passage",
      "execution_count": null,
      "outputs": []
    },
    {
      "cell_type": "markdown",
      "metadata": {
        "id": "completed-restoration"
      },
      "source": [
        "## Пропущенные значения"
      ],
      "id": "completed-restoration"
    },
    {
      "cell_type": "markdown",
      "metadata": {
        "id": "documented-investigator"
      },
      "source": [
        "Пропуски в данных $-$ это противная проблема, с которой можно столкнуться при работе. Пропуски возникают практически всегда. Причинами пропусков может быть, например, технические возможности вашего парсера, который не смог достать часть информации из сайта, либо, например, если вы Юрий Дудь и опрашиваете людей об их заработке, собирая статистику для дальнейшего исследования, то вряд ли каждый человек захочет вам ответить. "
      ],
      "id": "documented-investigator"
    },
    {
      "cell_type": "markdown",
      "metadata": {
        "id": "certified-discretion"
      },
      "source": [
        "### Выявление"
      ],
      "id": "certified-discretion"
    },
    {
      "cell_type": "code",
      "metadata": {
        "id": "sitting-commitment",
        "outputId": "490d3bc5-4538-4254-fe47-bd497c345ef2"
      },
      "source": [
        "df.info()"
      ],
      "id": "sitting-commitment",
      "execution_count": null,
      "outputs": [
        {
          "output_type": "stream",
          "text": [
            "<class 'pandas.core.frame.DataFrame'>\n",
            "RangeIndex: 19124 entries, 0 to 19123\n",
            "Data columns (total 11 columns):\n",
            " #   Column                Non-Null Count  Dtype  \n",
            "---  ------                --------------  -----  \n",
            " 0   title                 19124 non-null  object \n",
            " 1   commentCount          18914 non-null  float64\n",
            " 2   dislikeCount          18850 non-null  float64\n",
            " 3   likeCount             18850 non-null  float64\n",
            " 4   music_style           19124 non-null  object \n",
            " 5   performer             19124 non-null  object \n",
            " 6   viewCount             19123 non-null  float64\n",
            " 7   commentators_uniq     12314 non-null  float64\n",
            " 8   comments_obscene_cnt  12314 non-null  float64\n",
            " 9   video_age             19124 non-null  int64  \n",
            " 10  music_style_int       19124 non-null  int64  \n",
            "dtypes: float64(6), int64(2), object(3)\n",
            "memory usage: 1.6+ MB\n"
          ],
          "name": "stdout"
        }
      ]
    },
    {
      "cell_type": "code",
      "metadata": {
        "id": "arbitrary-medication",
        "outputId": "82f0ca59-d4b2-469a-9880-4dbf9227d786"
      },
      "source": [
        "df.isnull().sum()"
      ],
      "id": "arbitrary-medication",
      "execution_count": null,
      "outputs": [
        {
          "output_type": "execute_result",
          "data": {
            "text/plain": [
              "title                      0\n",
              "commentCount             210\n",
              "dislikeCount             274\n",
              "likeCount                274\n",
              "music_style                0\n",
              "performer                  0\n",
              "viewCount                  1\n",
              "commentators_uniq       6810\n",
              "comments_obscene_cnt    6810\n",
              "video_age                  0\n",
              "music_style_int            0\n",
              "dtype: int64"
            ]
          },
          "metadata": {
            "tags": []
          },
          "execution_count": 284
        }
      ]
    },
    {
      "cell_type": "code",
      "metadata": {
        "id": "perceived-vermont",
        "outputId": "45440fec-215b-4557-8fbd-a2da7f0ad9b8"
      },
      "source": [
        "fig, ax = plt.subplots(figsize=(20,12))\n",
        "sns_heatmap = sns.heatmap(df.isnull(), yticklabels=False, cbar=False, cmap='viridis')"
      ],
      "id": "perceived-vermont",
      "execution_count": null,
      "outputs": [
        {
          "output_type": "display_data",
          "data": {
            "image/png": "[encoded data removed]",
            "text/plain": [
              "<Figure size 1440x864 with 1 Axes>"
            ]
          },
          "metadata": {
            "tags": [],
            "needs_background": "light"
          }
        }
      ]
    },
    {
      "cell_type": "markdown",
      "metadata": {
        "id": "wireless-minister"
      },
      "source": [
        "### Удаление"
      ],
      "id": "wireless-minister"
    },
    {
      "cell_type": "code",
      "metadata": {
        "id": "inside-queensland",
        "outputId": "ff6e5fc1-cba0-4d48-9ee1-8535ee4f0ac4"
      },
      "source": [
        "print(df.shape)\n",
        "\n",
        "# по умолчанию удаляет строки, где есть na\n",
        "print(df.dropna().shape)\n",
        "\n",
        "# можем удалять столбцы, где есть хотя бы один пропуск\n",
        "print(df.dropna(axis=1).shape)"
      ],
      "id": "inside-queensland",
      "execution_count": null,
      "outputs": [
        {
          "output_type": "stream",
          "text": [
            "(19124, 11)\n",
            "(12116, 11)\n",
            "(19124, 5)\n"
          ],
          "name": "stdout"
        }
      ]
    },
    {
      "cell_type": "markdown",
      "metadata": {
        "id": "legislative-theology"
      },
      "source": [
        "Часто удаление слишком дорогая операция, так как избавляемся от кучи данных, которых и так частенько бывает мало"
      ],
      "id": "legislative-theology"
    },
    {
      "cell_type": "markdown",
      "metadata": {
        "id": "standard-cowboy"
      },
      "source": [
        "### Заполнение"
      ],
      "id": "standard-cowboy"
    },
    {
      "cell_type": "code",
      "metadata": {
        "id": "taken-vietnamese",
        "outputId": "148553fa-d725-42f7-9895-43688e241a9c"
      },
      "source": [
        "# было\n",
        "ser = pd.Series([24, np.nan, 27, 2])\n",
        "ser"
      ],
      "id": "taken-vietnamese",
      "execution_count": null,
      "outputs": [
        {
          "output_type": "execute_result",
          "data": {
            "text/plain": [
              "0    24.0\n",
              "1     NaN\n",
              "2    27.0\n",
              "3     2.0\n",
              "dtype: float64"
            ]
          },
          "metadata": {
            "tags": []
          },
          "execution_count": 287
        }
      ]
    },
    {
      "cell_type": "code",
      "metadata": {
        "id": "appreciated-pittsburgh",
        "outputId": "4e781d55-9999-4f0c-88ab-85f857f00c9f"
      },
      "source": [
        "# заполняем нулем\n",
        "ser.fillna(0).head()"
      ],
      "id": "appreciated-pittsburgh",
      "execution_count": null,
      "outputs": [
        {
          "output_type": "execute_result",
          "data": {
            "text/plain": [
              "0    24.0\n",
              "1     0.0\n",
              "2    27.0\n",
              "3     2.0\n",
              "dtype: float64"
            ]
          },
          "metadata": {
            "tags": []
          },
          "execution_count": 288
        }
      ]
    },
    {
      "cell_type": "code",
      "metadata": {
        "id": "weird-brass",
        "outputId": "96fe2a3d-befb-483f-b22c-4ec945fabef7"
      },
      "source": [
        "# заполняем предыдущим значением\n",
        "ser.fillna(method='ffill').head()"
      ],
      "id": "weird-brass",
      "execution_count": null,
      "outputs": [
        {
          "output_type": "execute_result",
          "data": {
            "text/plain": [
              "0    24.0\n",
              "1    24.0\n",
              "2    27.0\n",
              "3     2.0\n",
              "dtype: float64"
            ]
          },
          "metadata": {
            "tags": []
          },
          "execution_count": 289
        }
      ]
    },
    {
      "cell_type": "code",
      "metadata": {
        "id": "waiting-theater",
        "outputId": "657c8764-6f2b-4496-d9e2-709c0daaec0e"
      },
      "source": [
        "# заполняем последующим значением\n",
        "ser.fillna(method='bfill').head()"
      ],
      "id": "waiting-theater",
      "execution_count": null,
      "outputs": [
        {
          "output_type": "execute_result",
          "data": {
            "text/plain": [
              "0    24.0\n",
              "1    27.0\n",
              "2    27.0\n",
              "3     2.0\n",
              "dtype: float64"
            ]
          },
          "metadata": {
            "tags": []
          },
          "execution_count": 290
        }
      ]
    },
    {
      "cell_type": "markdown",
      "metadata": {
        "id": "serious-signature"
      },
      "source": [
        "### Задача №7:\n",
        "\n",
        "Заполните пропуски в столбцах таблицы по клипам средними"
      ],
      "id": "serious-signature"
    },
    {
      "cell_type": "code",
      "metadata": {
        "id": "unlike-measurement"
      },
      "source": [
        "## Ваш код"
      ],
      "id": "unlike-measurement",
      "execution_count": null,
      "outputs": []
    },
    {
      "cell_type": "markdown",
      "metadata": {
        "id": "qualified-netscape"
      },
      "source": [
        "## Обнаружение аномалий"
      ],
      "id": "qualified-netscape"
    },
    {
      "cell_type": "markdown",
      "metadata": {
        "id": "centered-annual"
      },
      "source": [
        "Аномалии в данных $-$ это столь же частая проблема, что и пропущенные значения, однако более серьезная. Посмотрим на примере, как аномалии могут все испортить:  \n",
        "\n",
        "### Оцениваем средний рост людей в школьном классе:\n",
        "\n",
        "Представим, что мы хотим оценить средний рост людей в школьном классе. Имеем следующую таблицу:"
      ],
      "id": "centered-annual"
    },
    {
      "cell_type": "code",
      "metadata": {
        "id": "fallen-protest",
        "outputId": "b854d750-2e10-465b-e00f-d0f07df9daba"
      },
      "source": [
        "students = pd.DataFrame({'student': ['Max', 'Ahmed', 'Nastya', 'Vlad'],\n",
        "                        'height_cm': [170, 165, 171, 168]})\n",
        "\n",
        "students"
      ],
      "id": "fallen-protest",
      "execution_count": null,
      "outputs": [
        {
          "output_type": "execute_result",
          "data": {
            "text/html": [
              "<div>\n",
              "<style scoped>\n",
              "    .dataframe tbody tr th:only-of-type {\n",
              "        vertical-align: middle;\n",
              "    }\n",
              "\n",
              "    .dataframe tbody tr th {\n",
              "        vertical-align: top;\n",
              "    }\n",
              "\n",
              "    .dataframe thead th {\n",
              "        text-align: right;\n",
              "    }\n",
              "</style>\n",
              "<table border=\"1\" class=\"dataframe\">\n",
              "  <thead>\n",
              "    <tr style=\"text-align: right;\">\n",
              "      <th></th>\n",
              "      <th>student</th>\n",
              "      <th>height_cm</th>\n",
              "    </tr>\n",
              "  </thead>\n",
              "  <tbody>\n",
              "    <tr>\n",
              "      <th>0</th>\n",
              "      <td>Max</td>\n",
              "      <td>170</td>\n",
              "    </tr>\n",
              "    <tr>\n",
              "      <th>1</th>\n",
              "      <td>Ahmed</td>\n",
              "      <td>165</td>\n",
              "    </tr>\n",
              "    <tr>\n",
              "      <th>2</th>\n",
              "      <td>Nastya</td>\n",
              "      <td>171</td>\n",
              "    </tr>\n",
              "    <tr>\n",
              "      <th>3</th>\n",
              "      <td>Vlad</td>\n",
              "      <td>168</td>\n",
              "    </tr>\n",
              "  </tbody>\n",
              "</table>\n",
              "</div>"
            ],
            "text/plain": [
              "  student  height_cm\n",
              "0     Max        170\n",
              "1   Ahmed        165\n",
              "2  Nastya        171\n",
              "3    Vlad        168"
            ]
          },
          "metadata": {
            "tags": []
          },
          "execution_count": 292
        }
      ]
    },
    {
      "cell_type": "markdown",
      "metadata": {
        "id": "about-viking"
      },
      "source": [
        "Найдем среднее:"
      ],
      "id": "about-viking"
    },
    {
      "cell_type": "code",
      "metadata": {
        "id": "frozen-federal",
        "outputId": "ed6ab8d2-b3a9-49a7-f722-321e5b99e858"
      },
      "source": [
        "students.height_cm.mean()"
      ],
      "id": "frozen-federal",
      "execution_count": null,
      "outputs": [
        {
          "output_type": "execute_result",
          "data": {
            "text/plain": [
              "168.5"
            ]
          },
          "metadata": {
            "tags": []
          },
          "execution_count": 293
        }
      ]
    },
    {
      "cell_type": "markdown",
      "metadata": {
        "id": "smaller-transition"
      },
      "source": [
        "Теперь представим, что в наш класс пришел новенький Филипп, который остался на второй год из-за того, что играл в баскетбол, а не учился. У нас в таблице появилось новое наблюдение, попробуем оценить рост теперь. "
      ],
      "id": "smaller-transition"
    },
    {
      "cell_type": "code",
      "metadata": {
        "id": "exclusive-eagle",
        "outputId": "716b9cea-0db8-421e-ffc3-fd2532e5baf3"
      },
      "source": [
        "students.loc[4] = ['Phil', 210]\n",
        "students"
      ],
      "id": "exclusive-eagle",
      "execution_count": null,
      "outputs": [
        {
          "output_type": "execute_result",
          "data": {
            "text/html": [
              "<div>\n",
              "<style scoped>\n",
              "    .dataframe tbody tr th:only-of-type {\n",
              "        vertical-align: middle;\n",
              "    }\n",
              "\n",
              "    .dataframe tbody tr th {\n",
              "        vertical-align: top;\n",
              "    }\n",
              "\n",
              "    .dataframe thead th {\n",
              "        text-align: right;\n",
              "    }\n",
              "</style>\n",
              "<table border=\"1\" class=\"dataframe\">\n",
              "  <thead>\n",
              "    <tr style=\"text-align: right;\">\n",
              "      <th></th>\n",
              "      <th>student</th>\n",
              "      <th>height_cm</th>\n",
              "    </tr>\n",
              "  </thead>\n",
              "  <tbody>\n",
              "    <tr>\n",
              "      <th>0</th>\n",
              "      <td>Max</td>\n",
              "      <td>170</td>\n",
              "    </tr>\n",
              "    <tr>\n",
              "      <th>1</th>\n",
              "      <td>Ahmed</td>\n",
              "      <td>165</td>\n",
              "    </tr>\n",
              "    <tr>\n",
              "      <th>2</th>\n",
              "      <td>Nastya</td>\n",
              "      <td>171</td>\n",
              "    </tr>\n",
              "    <tr>\n",
              "      <th>3</th>\n",
              "      <td>Vlad</td>\n",
              "      <td>168</td>\n",
              "    </tr>\n",
              "    <tr>\n",
              "      <th>4</th>\n",
              "      <td>Phil</td>\n",
              "      <td>210</td>\n",
              "    </tr>\n",
              "  </tbody>\n",
              "</table>\n",
              "</div>"
            ],
            "text/plain": [
              "  student  height_cm\n",
              "0     Max        170\n",
              "1   Ahmed        165\n",
              "2  Nastya        171\n",
              "3    Vlad        168\n",
              "4    Phil        210"
            ]
          },
          "metadata": {
            "tags": []
          },
          "execution_count": 294
        }
      ]
    },
    {
      "cell_type": "code",
      "metadata": {
        "id": "descending-twins",
        "outputId": "d38bba57-b436-4ab8-a107-4a3af880c206"
      },
      "source": [
        "students.height_cm.mean()"
      ],
      "id": "descending-twins",
      "execution_count": null,
      "outputs": [
        {
          "output_type": "execute_result",
          "data": {
            "text/plain": [
              "176.8"
            ]
          },
          "metadata": {
            "tags": []
          },
          "execution_count": 295
        }
      ]
    },
    {
      "cell_type": "markdown",
      "metadata": {
        "id": "logical-plaza"
      },
      "source": [
        "Видим, что значение среднего роста *сильно изменилось* из-за одного человека, имеющего неспецифичный (*аномальный*) рост для нашей выборки. Связано это с тем, что Филипп пришел к нам в класс *из другого распределения* $-$ распределения баскетболистов. Именно поэтому значение нашего среднего теперь *сильно завышено*, и мы таким образом можем собрать *ошибочную статистику*."
      ],
      "id": "logical-plaza"
    },
    {
      "cell_type": "markdown",
      "metadata": {
        "id": "common-china"
      },
      "source": [
        "Возможное решение: использовать для агрегированной статистики квантили (например, медиану)"
      ],
      "id": "common-china"
    },
    {
      "cell_type": "code",
      "metadata": {
        "id": "seventh-spending",
        "outputId": "92742204-8353-4b40-9ee2-da56d3750f58"
      },
      "source": [
        "students.height_cm.median()"
      ],
      "id": "seventh-spending",
      "execution_count": null,
      "outputs": [
        {
          "output_type": "execute_result",
          "data": {
            "text/plain": [
              "170.0"
            ]
          },
          "metadata": {
            "tags": []
          },
          "execution_count": 296
        }
      ]
    },
    {
      "cell_type": "markdown",
      "metadata": {
        "id": "documentary-diamond"
      },
      "source": [
        "**ЗАПОМНИТЬ: Медиана в отличие от среднего устойчива к выбросам!**"
      ],
      "id": "documentary-diamond"
    },
    {
      "cell_type": "markdown",
      "metadata": {
        "id": "painful-sussex"
      },
      "source": [
        "### Выявление и удаление выбросов на примере клипов:"
      ],
      "id": "painful-sussex"
    },
    {
      "cell_type": "code",
      "metadata": {
        "id": "restricted-hindu",
        "outputId": "7da6ea18-7f89-419b-c70d-d37e71a2cd58"
      },
      "source": [
        "df.likeCount.mean()"
      ],
      "id": "restricted-hindu",
      "execution_count": null,
      "outputs": [
        {
          "output_type": "execute_result",
          "data": {
            "text/plain": [
              "5735.014482758621"
            ]
          },
          "metadata": {
            "tags": []
          },
          "execution_count": 297
        }
      ]
    },
    {
      "cell_type": "code",
      "metadata": {
        "id": "worldwide-running",
        "outputId": "1ac3f1d5-d299-46d6-bb17-2eb4467c81ac"
      },
      "source": [
        "df.likeCount.median()"
      ],
      "id": "worldwide-running",
      "execution_count": null,
      "outputs": [
        {
          "output_type": "execute_result",
          "data": {
            "text/plain": [
              "100.0"
            ]
          },
          "metadata": {
            "tags": []
          },
          "execution_count": 298
        }
      ]
    },
    {
      "cell_type": "markdown",
      "metadata": {
        "id": "automatic-leonard"
      },
      "source": [
        "Видим сильное завышение среднего по лайкам в отличие от медианы. Причина - аномалии. "
      ],
      "id": "automatic-leonard"
    },
    {
      "cell_type": "markdown",
      "metadata": {
        "id": "opposite-celebration"
      },
      "source": [
        "На распределении виден длинный хвост:"
      ],
      "id": "opposite-celebration"
    },
    {
      "cell_type": "code",
      "metadata": {
        "id": "greater-metallic",
        "outputId": "d51ffa71-f97b-4862-cf8d-7dd12914e5f0"
      },
      "source": [
        "df.likeCount.hist(bins=30);"
      ],
      "id": "greater-metallic",
      "execution_count": null,
      "outputs": [
        {
          "output_type": "display_data",
          "data": {
            "image/png": "[encoded data removed]",
            "text/plain": [
              "<Figure size 432x288 with 1 Axes>"
            ]
          },
          "metadata": {
            "tags": [],
            "needs_background": "light"
          }
        }
      ]
    },
    {
      "cell_type": "markdown",
      "metadata": {
        "id": "limiting-peoples"
      },
      "source": [
        "Если не особо виден, то можно посмотреть на лог шкалу:"
      ],
      "id": "limiting-peoples"
    },
    {
      "cell_type": "code",
      "metadata": {
        "id": "shaped-stations",
        "outputId": "1d95fe68-2b93-47da-af4a-c5862bc68486"
      },
      "source": [
        "df.likeCount.hist(bins=30, log=True);"
      ],
      "id": "shaped-stations",
      "execution_count": null,
      "outputs": [
        {
          "output_type": "display_data",
          "data": {
            "image/png": "[encoded data removed]",
            "text/plain": [
              "<Figure size 432x288 with 1 Axes>"
            ]
          },
          "metadata": {
            "tags": [],
            "needs_background": "light"
          }
        }
      ]
    },
    {
      "cell_type": "markdown",
      "metadata": {
        "id": "drawn-multiple"
      },
      "source": [
        "То есть у нас в выборке есть клипы с аномальным кол-вом лайков - так называемые хиты. Они то нам и портят всю статистику.  \n",
        "\n",
        "Попробуем от них избавиться:\n",
        "\n",
        "**Способ №1:** Откинем $1\\%$ нашей выборки клипов, у которых больше всего лайков. Воспользуемся для этого $99\\%$ персентилем."
      ],
      "id": "drawn-multiple"
    },
    {
      "cell_type": "code",
      "metadata": {
        "id": "bulgarian-grounds",
        "outputId": "d5e469f0-bd8c-4c51-f09c-1e1eb2b3290c"
      },
      "source": [
        "threshold = df.likeCount.quantile(0.99)\n",
        "df_clear = df[df.likeCount <= threshold]\n",
        "\n",
        "# визуализируем\n",
        "df_clear.likeCount.hist(bins=30);"
      ],
      "id": "bulgarian-grounds",
      "execution_count": null,
      "outputs": [
        {
          "output_type": "display_data",
          "data": {
            "image/png": "[encoded data removed]",
            "text/plain": [
              "<Figure size 432x288 with 1 Axes>"
            ]
          },
          "metadata": {
            "tags": [],
            "needs_background": "light"
          }
        }
      ]
    },
    {
      "cell_type": "markdown",
      "metadata": {
        "id": "ordinary-arabic"
      },
      "source": [
        "**Способ №2:** Считаем аномалиями все наблюдения, которые оказались за пределами трех межквартильных отклонений.  \n",
        "\n",
        "### Задача №8:\n",
        "\n",
        "Реализовать этот метод. Межквартильное отклонение - это разница между 25-м и 75-м перцентилями. "
      ],
      "id": "ordinary-arabic"
    },
    {
      "cell_type": "code",
      "metadata": {
        "id": "domestic-warning"
      },
      "source": [
        "## Ваш код"
      ],
      "id": "domestic-warning",
      "execution_count": null,
      "outputs": []
    },
    {
      "cell_type": "markdown",
      "metadata": {
        "id": "decent-moisture"
      },
      "source": [
        "Стоит отметить, что иногда искать аномалии требуется не только для обработки данных. Порой, поиск аномалий $-$ это и есть задача. Так, например, аномалиями являются мошенники банка, чье поведение отличается от обычных пользователей. И поиск таких людей и является нашей задачей. "
      ],
      "id": "decent-moisture"
    },
    {
      "cell_type": "code",
      "metadata": {
        "id": "CEfzY8-hWueC"
      },
      "source": [
        ""
      ],
      "id": "CEfzY8-hWueC",
      "execution_count": null,
      "outputs": []
    },
    {
      "cell_type": "code",
      "metadata": {
        "id": "lUwcedYtWum-"
      },
      "source": [
        ""
      ],
      "id": "lUwcedYtWum-",
      "execution_count": null,
      "outputs": []
    },
    {
      "cell_type": "markdown",
      "metadata": {
        "id": "NVDm29MFqTDW"
      },
      "source": [
        "# Вопросы\n",
        "\n",
        "__А как превратить .txt файл в json прямо в питоне?__"
      ],
      "id": "NVDm29MFqTDW"
    },
    {
      "cell_type": "code",
      "metadata": {
        "id": "mEyYeIeWWuw6"
      },
      "source": [
        "with open(koko) as f:\n",
        "  x = f.read()"
      ],
      "id": "mEyYeIeWWuw6",
      "execution_count": null,
      "outputs": []
    },
    {
      "cell_type": "code",
      "metadata": {
        "id": "TvHJPYL3Wuz7"
      },
      "source": [
        "x = '''[\n",
        "    {\n",
        "        \"username\": \"bober38\",\n",
        "        \"commit_time\": \"2021/03/12 05:45:02\",\n",
        "        \"files\": [\n",
        "            {\n",
        "                \"name\": \"utils/net.py\",\n",
        "                \"changed_lines\": 85\n",
        "            }\n",
        "        ]\n",
        "    }]'''"
      ],
      "id": "TvHJPYL3Wuz7",
      "execution_count": null,
      "outputs": []
    },
    {
      "cell_type": "code",
      "metadata": {
        "colab": {
          "base_uri": "https://localhost:8080/"
        },
        "id": "GjmTohSMWu2s",
        "outputId": "556ba73c-41e6-4be0-c440-21501dcb1a49"
      },
      "source": [
        "import json\n",
        "dct = json.loads(x)\n",
        "dct[0]['files']"
      ],
      "id": "GjmTohSMWu2s",
      "execution_count": null,
      "outputs": [
        {
          "output_type": "execute_result",
          "data": {
            "text/plain": [
              "[{'changed_lines': 85, 'name': 'utils/net.py'}]"
            ]
          },
          "metadata": {
            "tags": []
          },
          "execution_count": 131
        }
      ]
    },
    {
      "cell_type": "code",
      "metadata": {
        "colab": {
          "base_uri": "https://localhost:8080/",
          "height": 36
        },
        "id": "qyU688kjWu8Z",
        "outputId": "d82f6871-9e97-43ac-846a-9fca291fae8b"
      },
      "source": [
        "json.dumps(dct[0]['files'])"
      ],
      "id": "qyU688kjWu8Z",
      "execution_count": null,
      "outputs": [
        {
          "output_type": "execute_result",
          "data": {
            "application/vnd.google.colaboratory.intrinsic+json": {
              "type": "string"
            },
            "text/plain": [
              "'[{\"name\": \"utils/net.py\", \"changed_lines\": 85}]'"
            ]
          },
          "metadata": {
            "tags": []
          },
          "execution_count": 132
        }
      ]
    }
  ]
}