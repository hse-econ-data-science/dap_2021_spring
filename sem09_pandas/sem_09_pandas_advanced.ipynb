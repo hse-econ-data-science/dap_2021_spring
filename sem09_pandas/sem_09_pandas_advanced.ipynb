{
 "cells": [
  {
   "cell_type": "markdown",
   "id": "decimal-principle",
   "metadata": {},
   "source": [
    "# Pandas: exploratory data analysis"
   ]
  },
  {
   "cell_type": "markdown",
   "id": "japanese-registration",
   "metadata": {},
   "source": [
    "### План:\n",
    "* Типы переменных\n",
    "* Работа с категориальными переменными\n",
    "* Работа с датой и временем\n",
    "* Пропущенные значения\n",
    "* Обнаружение аномалий  \n",
    "\n",
    "Также по ходу знакомимся с визуализацией, но подробнее об этом на следующей паре"
   ]
  },
  {
   "cell_type": "code",
   "execution_count": 1,
   "id": "united-franchise",
   "metadata": {},
   "outputs": [],
   "source": [
    "import numpy as np         # библиотека для матриц и математики\n",
    "import pandas as pd        # библиотека для работы с табличками\n",
    "from scipy import stats    # модуль для работы со статистикой\n",
    "\n",
    "# библиотеки для визуализации\n",
    "import matplotlib.pyplot as plt\n",
    "import seaborn as sns\n",
    "\n",
    "plt.style.use('ggplot')    # стиль графиков\n",
    "%matplotlib inline "
   ]
  },
  {
   "cell_type": "markdown",
   "id": "entertaining-blank",
   "metadata": {},
   "source": [
    "## 1. Типы переменных"
   ]
  },
  {
   "cell_type": "markdown",
   "id": "funny-davis",
   "metadata": {},
   "source": [
    "__Классификация переменных по типу данных:__  \n",
    "\n",
    "* `int` $-$ числовой, целые числа (1000, 0, -1)\n",
    "* `float` $-$ числовой, вещественные числа (1.0, 2.564523)\n",
    "* `object` $-$ строковый (бутырка, JPMorgan, f12aaz//)\n",
    "* `bool` $-$ булевский (True, False)\n",
    "* `datetime` $-$ дата (2020-01-12, 23.Jan.20)\n",
    "\n",
    "\n",
    "__Классификация переменных по смыслу:__  \n",
    "\n",
    "* `Непрерывные` $-$ содержат непрерывное множество значений на каком-то промежутке (з/п, рост человека, вес буханки хлеба и тд)\n",
    "* `Категориальные` $-$ содержат конечное небольшое множество значений (возраст детей, тип магазина)\n",
    "* `Бинарные` $-$ подтип категориальной переменной, имеющей только 2 категории (пол, столицы двух стран)"
   ]
  },
  {
   "cell_type": "markdown",
   "id": "fatal-premiere",
   "metadata": {},
   "source": [
    "Подгрузим датасет по **клипам ютуба** и посмотрим на типы наших переменных"
   ]
  },
  {
   "cell_type": "code",
   "execution_count": 3,
   "id": "proper-travel",
   "metadata": {},
   "outputs": [],
   "source": [
    "# подгружаем данные\n",
    "df = pd.read_csv(\"data/youtube_data_short.csv\", sep = \"\\t\")"
   ]
  },
  {
   "cell_type": "code",
   "execution_count": 4,
   "id": "boolean-liechtenstein",
   "metadata": {},
   "outputs": [
    {
     "data": {
      "text/plain": [
       "title                    object\n",
       "commentCount            float64\n",
       "dislikeCount            float64\n",
       "likeCount               float64\n",
       "music_style              object\n",
       "performer                object\n",
       "viewCount               float64\n",
       "commentators_uniq       float64\n",
       "comments_obscene_cnt    float64\n",
       "video_age                 int64\n",
       "dtype: object"
      ]
     },
     "execution_count": 4,
     "metadata": {},
     "output_type": "execute_result"
    }
   ],
   "source": [
    "# смотрим на типы переменных \n",
    "df.dtypes"
   ]
  },
  {
   "cell_type": "markdown",
   "id": "written-startup",
   "metadata": {},
   "source": [
    "__Описание колонок:__\n",
    "\n",
    "- `title` - название видео\n",
    "- `commentCount` - число комментариев\n",
    "- `dislikeCount` - число дизлайков\n",
    "- `likeCount`  - число лайков\n",
    "- `music_style` - музыкальный стиль\n",
    "- `performer` - исполнитель\n",
    "- `viewCount` - число просмотров\n",
    "- `commentators_uniq` - число уникальных комментаторов\n",
    "- `comments_obscene_cnt` - число комментариев\n",
    "- `video_age` - возраст видео в днях\n",
    "\n",
    "Возраст видео посчитан в днях относительно `2019-03-15` (момент, когда данные собирались вот этим крутым дата-шрушером: https://github.com/FUlyankin)."
   ]
  },
  {
   "cell_type": "markdown",
   "id": "unnecessary-score",
   "metadata": {},
   "source": [
    "## 2. Работаем с категориальными переменными"
   ]
  },
  {
   "cell_type": "markdown",
   "id": "norwegian-trustee",
   "metadata": {},
   "source": [
    "### Когда категории две:"
   ]
  },
  {
   "cell_type": "markdown",
   "id": "altered-therapist",
   "metadata": {},
   "source": [
    "Отберем только клипы жанра `rock` и `rap`. Представим, что только они нас интересуют. "
   ]
  },
  {
   "cell_type": "code",
   "execution_count": 27,
   "id": "dependent-rally",
   "metadata": {},
   "outputs": [
    {
     "data": {
      "text/html": [
       "<div>\n",
       "<style scoped>\n",
       "    .dataframe tbody tr th:only-of-type {\n",
       "        vertical-align: middle;\n",
       "    }\n",
       "\n",
       "    .dataframe tbody tr th {\n",
       "        vertical-align: top;\n",
       "    }\n",
       "\n",
       "    .dataframe thead th {\n",
       "        text-align: right;\n",
       "    }\n",
       "</style>\n",
       "<table border=\"1\" class=\"dataframe\">\n",
       "  <thead>\n",
       "    <tr style=\"text-align: right;\">\n",
       "      <th></th>\n",
       "      <th>title</th>\n",
       "      <th>commentCount</th>\n",
       "      <th>dislikeCount</th>\n",
       "      <th>likeCount</th>\n",
       "      <th>music_style</th>\n",
       "      <th>performer</th>\n",
       "      <th>viewCount</th>\n",
       "      <th>commentators_uniq</th>\n",
       "      <th>comments_obscene_cnt</th>\n",
       "      <th>video_age</th>\n",
       "    </tr>\n",
       "  </thead>\n",
       "  <tbody>\n",
       "    <tr>\n",
       "      <th>8</th>\n",
       "      <td>\"Hey Tovarish\" Video Shooting</td>\n",
       "      <td>10.0</td>\n",
       "      <td>1.0</td>\n",
       "      <td>34.0</td>\n",
       "      <td>rock</td>\n",
       "      <td>мумий_тролль</td>\n",
       "      <td>3815.0</td>\n",
       "      <td>9.0</td>\n",
       "      <td>0.0</td>\n",
       "      <td>2539</td>\n",
       "    </tr>\n",
       "    <tr>\n",
       "      <th>15</th>\n",
       "      <td>\"SOS Матросу!\" - тизер фильма</td>\n",
       "      <td>10.0</td>\n",
       "      <td>4.0</td>\n",
       "      <td>68.0</td>\n",
       "      <td>rock</td>\n",
       "      <td>мумий_тролль</td>\n",
       "      <td>7632.0</td>\n",
       "      <td>5.0</td>\n",
       "      <td>0.0</td>\n",
       "      <td>1739</td>\n",
       "    </tr>\n",
       "    <tr>\n",
       "      <th>36</th>\n",
       "      <td>\"ВОИН ДУМА\"</td>\n",
       "      <td>4.0</td>\n",
       "      <td>0.0</td>\n",
       "      <td>49.0</td>\n",
       "      <td>rock</td>\n",
       "      <td>король_и_шут</td>\n",
       "      <td>1950.0</td>\n",
       "      <td>NaN</td>\n",
       "      <td>NaN</td>\n",
       "      <td>3819</td>\n",
       "    </tr>\n",
       "    <tr>\n",
       "      <th>38</th>\n",
       "      <td>\"Виктор Цой. 50 лет\" Кукрыниксы - Печаль, Конч...</td>\n",
       "      <td>2.0</td>\n",
       "      <td>4.0</td>\n",
       "      <td>65.0</td>\n",
       "      <td>rock</td>\n",
       "      <td>кукрыниксы</td>\n",
       "      <td>9986.0</td>\n",
       "      <td>2.0</td>\n",
       "      <td>0.0</td>\n",
       "      <td>2351</td>\n",
       "    </tr>\n",
       "    <tr>\n",
       "      <th>40</th>\n",
       "      <td>\"Всё, что было\". Начало.</td>\n",
       "      <td>23.0</td>\n",
       "      <td>5.0</td>\n",
       "      <td>171.0</td>\n",
       "      <td>rock</td>\n",
       "      <td>ария</td>\n",
       "      <td>11168.0</td>\n",
       "      <td>21.0</td>\n",
       "      <td>1.0</td>\n",
       "      <td>2351</td>\n",
       "    </tr>\n",
       "  </tbody>\n",
       "</table>\n",
       "</div>"
      ],
      "text/plain": [
       "                                                title  commentCount  \\\n",
       "8                       \"Hey Tovarish\" Video Shooting          10.0   \n",
       "15                      \"SOS Матросу!\" - тизер фильма          10.0   \n",
       "36                                        \"ВОИН ДУМА\"           4.0   \n",
       "38  \"Виктор Цой. 50 лет\" Кукрыниксы - Печаль, Конч...           2.0   \n",
       "40                           \"Всё, что было\". Начало.          23.0   \n",
       "\n",
       "    dislikeCount  likeCount music_style     performer  viewCount  \\\n",
       "8            1.0       34.0        rock  мумий_тролль     3815.0   \n",
       "15           4.0       68.0        rock  мумий_тролль     7632.0   \n",
       "36           0.0       49.0        rock  король_и_шут     1950.0   \n",
       "38           4.0       65.0        rock    кукрыниксы     9986.0   \n",
       "40           5.0      171.0        rock          ария    11168.0   \n",
       "\n",
       "    commentators_uniq  comments_obscene_cnt  video_age  \n",
       "8                 9.0                   0.0       2539  \n",
       "15                5.0                   0.0       1739  \n",
       "36                NaN                   NaN       3819  \n",
       "38                2.0                   0.0       2351  \n",
       "40               21.0                   1.0       2351  "
      ]
     },
     "execution_count": 27,
     "metadata": {},
     "output_type": "execute_result"
    }
   ],
   "source": [
    "genres_to_keep = ['rock', 'rap']\n",
    "\n",
    "df_small = df[df.music_style.isin(genres_to_keep)]\n",
    "df_small.head()"
   ]
  },
  {
   "cell_type": "markdown",
   "id": "senior-parliament",
   "metadata": {},
   "source": [
    "В таком \"поддатафрейме\" наша колонка `music_style` **имеет тип object** (т.к. в ней находятся строки), а также **является бинарной**, так как содержит всего два значения (`rock` и `rap`)"
   ]
  },
  {
   "cell_type": "markdown",
   "id": "alike-celebration",
   "metadata": {},
   "source": [
    "Однако проблема строковых переменных в том, что многие модели не умеют с ними работать. Компьютеру привычнее оперировать с числами. \n",
    "\n",
    "Именно поэтому над строковыми бинарными переменными производят нехитрые манипуляции. Либо кодируют их в числа 1 / 0, либо создают булевский тип True / False, что в какой-то степени тоже самое. \n",
    "\n",
    "Попробуем преобразовать нашу бинарную строковую переменную music_style:"
   ]
  },
  {
   "cell_type": "code",
   "execution_count": 28,
   "id": "native-preparation",
   "metadata": {},
   "outputs": [
    {
     "name": "stderr",
     "output_type": "stream",
     "text": [
      "<ipython-input-28-21b19c4d8243>:3: SettingWithCopyWarning: \n",
      "A value is trying to be set on a copy of a slice from a DataFrame.\n",
      "Try using .loc[row_indexer,col_indexer] = value instead\n",
      "\n",
      "See the caveats in the documentation: https://pandas.pydata.org/pandas-docs/stable/user_guide/indexing.html#returning-a-view-versus-a-copy\n",
      "  df_small['is_rock'] = df_small['music_style'].map(d)\n"
     ]
    }
   ],
   "source": [
    "d = {'rock': 1, 'rap': 0}\n",
    "\n",
    "df_small['is_rock'] = df_small['music_style'].map(d)"
   ]
  },
  {
   "cell_type": "code",
   "execution_count": 30,
   "id": "moved-crash",
   "metadata": {},
   "outputs": [
    {
     "data": {
      "text/html": [
       "<div>\n",
       "<style scoped>\n",
       "    .dataframe tbody tr th:only-of-type {\n",
       "        vertical-align: middle;\n",
       "    }\n",
       "\n",
       "    .dataframe tbody tr th {\n",
       "        vertical-align: top;\n",
       "    }\n",
       "\n",
       "    .dataframe thead th {\n",
       "        text-align: right;\n",
       "    }\n",
       "</style>\n",
       "<table border=\"1\" class=\"dataframe\">\n",
       "  <thead>\n",
       "    <tr style=\"text-align: right;\">\n",
       "      <th></th>\n",
       "      <th>title</th>\n",
       "      <th>commentCount</th>\n",
       "      <th>dislikeCount</th>\n",
       "      <th>likeCount</th>\n",
       "      <th>music_style</th>\n",
       "      <th>performer</th>\n",
       "      <th>viewCount</th>\n",
       "      <th>commentators_uniq</th>\n",
       "      <th>comments_obscene_cnt</th>\n",
       "      <th>video_age</th>\n",
       "      <th>is_rock</th>\n",
       "    </tr>\n",
       "  </thead>\n",
       "  <tbody>\n",
       "    <tr>\n",
       "      <th>8</th>\n",
       "      <td>\"Hey Tovarish\" Video Shooting</td>\n",
       "      <td>10.0</td>\n",
       "      <td>1.0</td>\n",
       "      <td>34.0</td>\n",
       "      <td>rock</td>\n",
       "      <td>мумий_тролль</td>\n",
       "      <td>3815.0</td>\n",
       "      <td>9.0</td>\n",
       "      <td>0.0</td>\n",
       "      <td>2539</td>\n",
       "      <td>1</td>\n",
       "    </tr>\n",
       "    <tr>\n",
       "      <th>15</th>\n",
       "      <td>\"SOS Матросу!\" - тизер фильма</td>\n",
       "      <td>10.0</td>\n",
       "      <td>4.0</td>\n",
       "      <td>68.0</td>\n",
       "      <td>rock</td>\n",
       "      <td>мумий_тролль</td>\n",
       "      <td>7632.0</td>\n",
       "      <td>5.0</td>\n",
       "      <td>0.0</td>\n",
       "      <td>1739</td>\n",
       "      <td>1</td>\n",
       "    </tr>\n",
       "  </tbody>\n",
       "</table>\n",
       "</div>"
      ],
      "text/plain": [
       "                            title  commentCount  dislikeCount  likeCount  \\\n",
       "8   \"Hey Tovarish\" Video Shooting          10.0           1.0       34.0   \n",
       "15  \"SOS Матросу!\" - тизер фильма          10.0           4.0       68.0   \n",
       "\n",
       "   music_style     performer  viewCount  commentators_uniq  \\\n",
       "8         rock  мумий_тролль     3815.0                9.0   \n",
       "15        rock  мумий_тролль     7632.0                5.0   \n",
       "\n",
       "    comments_obscene_cnt  video_age  is_rock  \n",
       "8                    0.0       2539        1  \n",
       "15                   0.0       1739        1  "
      ]
     },
     "execution_count": 30,
     "metadata": {},
     "output_type": "execute_result"
    }
   ],
   "source": [
    "df_small.head(2)"
   ]
  },
  {
   "cell_type": "markdown",
   "id": "defined-paint",
   "metadata": {},
   "source": [
    "**Задача:** Какая доля наблюдений обоих жанров?"
   ]
  },
  {
   "cell_type": "code",
   "execution_count": null,
   "id": "convertible-novelty",
   "metadata": {},
   "outputs": [],
   "source": [
    "## Ваш код"
   ]
  },
  {
   "cell_type": "markdown",
   "id": "patient-renaissance",
   "metadata": {},
   "source": [
    "### Когда категорий больше двух"
   ]
  },
  {
   "cell_type": "markdown",
   "id": "raising-assist",
   "metadata": {},
   "source": [
    "Вернемся к нашему полному датафрейму. В нем music_style принимает не 2 значения, а целых 7. Что делать в таком случае?"
   ]
  },
  {
   "cell_type": "markdown",
   "id": "fancy-silence",
   "metadata": {},
   "source": [
    "**Наивный метод:** Давайте каждому значению из music_style сопоставим какое-нибудь число. Заранее подумайте, какие проблемы может создать такой способ?"
   ]
  },
  {
   "cell_type": "code",
   "execution_count": 33,
   "id": "commercial-newport",
   "metadata": {},
   "outputs": [
    {
     "data": {
      "text/plain": [
       "array(['popsa', 'rock', 'classic', 'indi', 'estrada', 'shanson', 'rap'],\n",
       "      dtype=object)"
      ]
     },
     "execution_count": 33,
     "metadata": {},
     "output_type": "execute_result"
    }
   ],
   "source": [
    "df.music_style.unique()"
   ]
  },
  {
   "cell_type": "code",
   "execution_count": 44,
   "id": "powered-navigation",
   "metadata": {},
   "outputs": [
    {
     "name": "stdout",
     "output_type": "stream",
     "text": [
      "{'popsa': 0, 'rock': 1, 'classic': 2, 'indi': 3, 'estrada': 4, 'shanson': 5, 'rap': 6}\n"
     ]
    }
   ],
   "source": [
    "# создадим словарь\n",
    "d = dict(zip(df.music_style.unique(), np.arange(7)))\n",
    "print(d)\n",
    "\n",
    "# сделаем преобразование\n",
    "df['music_style_int'] = df['music_style'].map(d)"
   ]
  },
  {
   "cell_type": "markdown",
   "id": "occupied-projector",
   "metadata": {},
   "source": [
    "Однако проблема такого способа в том, что мы непроизвольным образом установили **порядок** на наших категориях:\n",
    "$6 > 5 > 4 > 3 > 2 > 1 > 0 \\Rightarrow rap > shanson > estrada > indi > classic > rock > popsa$ \n",
    "\n",
    "\n",
    "Чтобы такого избежать, чаще используется другой метод: **One Hot Encoding**"
   ]
  },
  {
   "cell_type": "markdown",
   "id": "frequent-enlargement",
   "metadata": {},
   "source": [
    "<img src=\"images/ris1.png\" width=\"600\">"
   ]
  },
  {
   "cell_type": "markdown",
   "id": "tropical-married",
   "metadata": {},
   "source": [
    "В pandas такое преобразование можно сделать с помощью функции `get_dummies()`"
   ]
  },
  {
   "cell_type": "code",
   "execution_count": 47,
   "id": "accepting-honor",
   "metadata": {},
   "outputs": [
    {
     "data": {
      "text/html": [
       "<div>\n",
       "<style scoped>\n",
       "    .dataframe tbody tr th:only-of-type {\n",
       "        vertical-align: middle;\n",
       "    }\n",
       "\n",
       "    .dataframe tbody tr th {\n",
       "        vertical-align: top;\n",
       "    }\n",
       "\n",
       "    .dataframe thead th {\n",
       "        text-align: right;\n",
       "    }\n",
       "</style>\n",
       "<table border=\"1\" class=\"dataframe\">\n",
       "  <thead>\n",
       "    <tr style=\"text-align: right;\">\n",
       "      <th></th>\n",
       "      <th>classic</th>\n",
       "      <th>estrada</th>\n",
       "      <th>indi</th>\n",
       "      <th>popsa</th>\n",
       "      <th>rap</th>\n",
       "      <th>rock</th>\n",
       "      <th>shanson</th>\n",
       "    </tr>\n",
       "  </thead>\n",
       "  <tbody>\n",
       "    <tr>\n",
       "      <th>0</th>\n",
       "      <td>0</td>\n",
       "      <td>0</td>\n",
       "      <td>0</td>\n",
       "      <td>1</td>\n",
       "      <td>0</td>\n",
       "      <td>0</td>\n",
       "      <td>0</td>\n",
       "    </tr>\n",
       "    <tr>\n",
       "      <th>1</th>\n",
       "      <td>0</td>\n",
       "      <td>0</td>\n",
       "      <td>0</td>\n",
       "      <td>1</td>\n",
       "      <td>0</td>\n",
       "      <td>0</td>\n",
       "      <td>0</td>\n",
       "    </tr>\n",
       "    <tr>\n",
       "      <th>2</th>\n",
       "      <td>0</td>\n",
       "      <td>0</td>\n",
       "      <td>0</td>\n",
       "      <td>1</td>\n",
       "      <td>0</td>\n",
       "      <td>0</td>\n",
       "      <td>0</td>\n",
       "    </tr>\n",
       "    <tr>\n",
       "      <th>3</th>\n",
       "      <td>0</td>\n",
       "      <td>0</td>\n",
       "      <td>0</td>\n",
       "      <td>1</td>\n",
       "      <td>0</td>\n",
       "      <td>0</td>\n",
       "      <td>0</td>\n",
       "    </tr>\n",
       "    <tr>\n",
       "      <th>4</th>\n",
       "      <td>0</td>\n",
       "      <td>0</td>\n",
       "      <td>0</td>\n",
       "      <td>1</td>\n",
       "      <td>0</td>\n",
       "      <td>0</td>\n",
       "      <td>0</td>\n",
       "    </tr>\n",
       "  </tbody>\n",
       "</table>\n",
       "</div>"
      ],
      "text/plain": [
       "   classic  estrada  indi  popsa  rap  rock  shanson\n",
       "0        0        0     0      1    0     0        0\n",
       "1        0        0     0      1    0     0        0\n",
       "2        0        0     0      1    0     0        0\n",
       "3        0        0     0      1    0     0        0\n",
       "4        0        0     0      1    0     0        0"
      ]
     },
     "execution_count": 47,
     "metadata": {},
     "output_type": "execute_result"
    }
   ],
   "source": [
    "pd.get_dummies(df['music_style']).head()"
   ]
  },
  {
   "cell_type": "markdown",
   "id": "material-detail",
   "metadata": {},
   "source": [
    "Такой метод тоже имеет свои проблемы, которые выходят за рамки нашего курса. Например, это полная мультиколлинеарность (или линейная зависимость) столбцов. Подробнее об этом можно посмотреть здесь: https://www.youtube.com/watch?v=k9PPuTmTLMk"
   ]
  },
  {
   "cell_type": "markdown",
   "id": "billion-coating",
   "metadata": {},
   "source": [
    "## 3. Работа со временем"
   ]
  },
  {
   "cell_type": "markdown",
   "id": "practical-pharmacology",
   "metadata": {},
   "source": [
    "Тип данных Datetime или Timestamp в python позволяет очень удобно оперировать с переменными, имеющие формат даты или даты и времени. Это специальные объекты, над которыми установлены свои полезные методы. Например, из даты мы можем доставать месяц, день, год или даже часовой пояс. Посмотрим на примерах:"
   ]
  },
  {
   "cell_type": "markdown",
   "id": "boolean-necklace",
   "metadata": {},
   "source": [
    "В нашем датасете есть колонка `video_age`, которая показывает нам возраст нашего клипа в днях с 15 марта 2019 года. Попробуем получить из нее дату публикации клипа:"
   ]
  },
  {
   "cell_type": "code",
   "execution_count": 50,
   "id": "graduate-conviction",
   "metadata": {},
   "outputs": [],
   "source": [
    "# создаем дату от которой будем делать отсчет\n",
    "date_finish = pd.to_datetime('2019-03-15')"
   ]
  },
  {
   "cell_type": "code",
   "execution_count": 58,
   "id": "ready-setting",
   "metadata": {},
   "outputs": [
    {
     "data": {
      "text/plain": [
       "Timestamp('2019-03-14 00:00:00')"
      ]
     },
     "execution_count": 58,
     "metadata": {},
     "output_type": "execute_result"
    }
   ],
   "source": [
    "# вычитаем дни: для этого пользуемся timedelta\n",
    "from datetime import timedelta\n",
    "\n",
    "date_finish-timedelta(days=1)"
   ]
  },
  {
   "cell_type": "code",
   "execution_count": 60,
   "id": "packed-former",
   "metadata": {},
   "outputs": [],
   "source": [
    "# делаем для каждого значения в колонке video_age\n",
    "df['Publication_date'] = df['video_age'].apply(lambda x: (date_finish - timedelta(days=x)))"
   ]
  },
  {
   "cell_type": "code",
   "execution_count": 61,
   "id": "dutch-albert",
   "metadata": {},
   "outputs": [
    {
     "data": {
      "text/plain": [
       "title                           object\n",
       "commentCount                   float64\n",
       "dislikeCount                   float64\n",
       "likeCount                      float64\n",
       "music_style                     object\n",
       "performer                       object\n",
       "viewCount                      float64\n",
       "commentators_uniq              float64\n",
       "comments_obscene_cnt           float64\n",
       "video_age                        int64\n",
       "music_style_int                  int64\n",
       "Publication_date        datetime64[ns]\n",
       "dtype: object"
      ]
     },
     "execution_count": 61,
     "metadata": {},
     "output_type": "execute_result"
    }
   ],
   "source": [
    "# посмотрим теперь на типы наших переменных\n",
    "df.dtypes"
   ]
  },
  {
   "cell_type": "code",
   "execution_count": 73,
   "id": "olive-monitor",
   "metadata": {},
   "outputs": [
    {
     "data": {
      "text/plain": [
       "0        2016\n",
       "1        2010\n",
       "2        2009\n",
       "3        2010\n",
       "4        2009\n",
       "         ... \n",
       "19119    2019\n",
       "19120    2018\n",
       "19121    2018\n",
       "19122    2016\n",
       "19123    2019\n",
       "Name: Publication_date, Length: 19124, dtype: int64"
      ]
     },
     "execution_count": 73,
     "metadata": {},
     "output_type": "execute_result"
    }
   ],
   "source": [
    "# теперь можем достать только год публикации, например:\n",
    "df['Publication_date'].dt.year"
   ]
  },
  {
   "cell_type": "markdown",
   "id": "norwegian-beach",
   "metadata": {},
   "source": [
    "Посмотрим на распределение клипов по годам:"
   ]
  },
  {
   "cell_type": "code",
   "execution_count": 75,
   "id": "derived-membership",
   "metadata": {},
   "outputs": [
    {
     "data": {
      "image/png": "[encoded data removed]",
      "text/plain": [
       "<Figure size 720x360 with 1 Axes>"
      ]
     },
     "metadata": {
      "needs_background": "light"
     },
     "output_type": "display_data"
    }
   ],
   "source": [
    "df['Year'] = df['Publication_date'].dt.year\n",
    "\n",
    "df.Year.value_counts().plot(kind='bar', figsize=(10, 5));"
   ]
  },
  {
   "cell_type": "markdown",
   "id": "sixth-biography",
   "metadata": {},
   "source": [
    "## 4. Пропущенные значения"
   ]
  },
  {
   "cell_type": "markdown",
   "id": "fixed-therapist",
   "metadata": {},
   "source": [
    "Пропуски в данных $-$ это противная проблема, с которой можно столкнуться при работе. Пропуски возникают практически всегда. Причинами пропусков может быть, например, технические возможности вашего парсера, который не смог достать часть информации из сайта, либо, например, если вы Юрий Дудь и опрашиваете людей об их заработке, собирая статистику для дальнейшего исследования, то вряд ли каждый человек захочет вам ответить. "
   ]
  },
  {
   "cell_type": "markdown",
   "id": "treated-carpet",
   "metadata": {},
   "source": [
    "### Выявление"
   ]
  },
  {
   "cell_type": "code",
   "execution_count": 85,
   "id": "difficult-emperor",
   "metadata": {},
   "outputs": [
    {
     "name": "stdout",
     "output_type": "stream",
     "text": [
      "<class 'pandas.core.frame.DataFrame'>\n",
      "RangeIndex: 19124 entries, 0 to 19123\n",
      "Data columns (total 13 columns):\n",
      " #   Column                Non-Null Count  Dtype         \n",
      "---  ------                --------------  -----         \n",
      " 0   title                 19124 non-null  object        \n",
      " 1   commentCount          18914 non-null  float64       \n",
      " 2   dislikeCount          18850 non-null  float64       \n",
      " 3   likeCount             18850 non-null  float64       \n",
      " 4   music_style           19124 non-null  object        \n",
      " 5   performer             19124 non-null  object        \n",
      " 6   viewCount             19123 non-null  float64       \n",
      " 7   commentators_uniq     12314 non-null  float64       \n",
      " 8   comments_obscene_cnt  12314 non-null  float64       \n",
      " 9   video_age             19124 non-null  int64         \n",
      " 10  music_style_int       19124 non-null  int64         \n",
      " 11  Publication_date      19124 non-null  datetime64[ns]\n",
      " 12  Year                  19124 non-null  int64         \n",
      "dtypes: datetime64[ns](1), float64(6), int64(3), object(3)\n",
      "memory usage: 1.9+ MB\n"
     ]
    }
   ],
   "source": [
    "df.info()"
   ]
  },
  {
   "cell_type": "code",
   "execution_count": 86,
   "id": "apparent-myrtle",
   "metadata": {},
   "outputs": [
    {
     "data": {
      "text/plain": [
       "title                      0\n",
       "commentCount             210\n",
       "dislikeCount             274\n",
       "likeCount                274\n",
       "music_style                0\n",
       "performer                  0\n",
       "viewCount                  1\n",
       "commentators_uniq       6810\n",
       "comments_obscene_cnt    6810\n",
       "video_age                  0\n",
       "music_style_int            0\n",
       "Publication_date           0\n",
       "Year                       0\n",
       "dtype: int64"
      ]
     },
     "execution_count": 86,
     "metadata": {},
     "output_type": "execute_result"
    }
   ],
   "source": [
    "df.isnull().sum()"
   ]
  },
  {
   "cell_type": "code",
   "execution_count": 103,
   "id": "therapeutic-interstate",
   "metadata": {},
   "outputs": [
    {
     "data": {
      "image/png": "[encoded data removed]",
      "text/plain": [
       "<Figure size 1440x864 with 1 Axes>"
      ]
     },
     "metadata": {
      "needs_background": "light"
     },
     "output_type": "display_data"
    }
   ],
   "source": [
    "fig, ax = plt.subplots(figsize=(20,12))\n",
    "sns_heatmap = sns.heatmap(df.isnull(), yticklabels=False, cbar=False, cmap='viridis')"
   ]
  },
  {
   "cell_type": "markdown",
   "id": "divided-press",
   "metadata": {},
   "source": [
    "### Удаление"
   ]
  },
  {
   "cell_type": "code",
   "execution_count": 89,
   "id": "guilty-arthritis",
   "metadata": {},
   "outputs": [
    {
     "name": "stdout",
     "output_type": "stream",
     "text": [
      "(19124, 13)\n",
      "(12116, 13)\n",
      "(19124, 7)\n"
     ]
    }
   ],
   "source": [
    "print(df.shape)\n",
    "\n",
    "# по умолчанию удаляет строки, где есть na\n",
    "print(df.dropna().shape)\n",
    "\n",
    "# можем удалять столбцы, где есть хотя бы один пропуск\n",
    "print(df.dropna(axis=1).shape)"
   ]
  },
  {
   "cell_type": "markdown",
   "id": "respective-platform",
   "metadata": {},
   "source": [
    "Часто удаление слишком дорогая операция, так как избавляемся от кучи данных, которых и так частенько бывает мало"
   ]
  },
  {
   "cell_type": "markdown",
   "id": "marked-rogers",
   "metadata": {},
   "source": [
    "### Заполнение"
   ]
  },
  {
   "cell_type": "code",
   "execution_count": 96,
   "id": "preliminary-string",
   "metadata": {},
   "outputs": [
    {
     "data": {
      "text/plain": [
       "0    24.0\n",
       "1     NaN\n",
       "2    23.0\n",
       "3    11.0\n",
       "4    33.0\n",
       "Name: commentators_uniq, dtype: float64"
      ]
     },
     "execution_count": 96,
     "metadata": {},
     "output_type": "execute_result"
    }
   ],
   "source": [
    "# было\n",
    "df.commentators_uniq.head()"
   ]
  },
  {
   "cell_type": "code",
   "execution_count": 97,
   "id": "final-mystery",
   "metadata": {},
   "outputs": [
    {
     "data": {
      "text/plain": [
       "0    24.0\n",
       "1     0.0\n",
       "2    23.0\n",
       "3    11.0\n",
       "4    33.0\n",
       "Name: commentators_uniq, dtype: float64"
      ]
     },
     "execution_count": 97,
     "metadata": {},
     "output_type": "execute_result"
    }
   ],
   "source": [
    "# заполняем нулем\n",
    "df.commentators_uniq.fillna(0).head()"
   ]
  },
  {
   "cell_type": "code",
   "execution_count": 98,
   "id": "furnished-export",
   "metadata": {},
   "outputs": [
    {
     "data": {
      "text/plain": [
       "0    24.0\n",
       "1    24.0\n",
       "2    23.0\n",
       "3    11.0\n",
       "4    33.0\n",
       "Name: commentators_uniq, dtype: float64"
      ]
     },
     "execution_count": 98,
     "metadata": {},
     "output_type": "execute_result"
    }
   ],
   "source": [
    "# заполняем предыдущим значением\n",
    "df.commentators_uniq.fillna(method='ffill').head()"
   ]
  },
  {
   "cell_type": "code",
   "execution_count": 99,
   "id": "prompt-tennessee",
   "metadata": {},
   "outputs": [
    {
     "data": {
      "text/plain": [
       "0    24.0\n",
       "1    23.0\n",
       "2    23.0\n",
       "3    11.0\n",
       "4    33.0\n",
       "Name: commentators_uniq, dtype: float64"
      ]
     },
     "execution_count": 99,
     "metadata": {},
     "output_type": "execute_result"
    }
   ],
   "source": [
    "# заполняем последующим значением\n",
    "df.commentators_uniq.fillna(method='bfill').head()"
   ]
  },
  {
   "cell_type": "markdown",
   "id": "running-overall",
   "metadata": {},
   "source": [
    "Можем заполнить средним значением по столбцу:"
   ]
  },
  {
   "cell_type": "code",
   "execution_count": 102,
   "id": "animal-skating",
   "metadata": {},
   "outputs": [
    {
     "data": {
      "text/plain": [
       "0     24.000000\n",
       "1    131.594608\n",
       "2     23.000000\n",
       "3     11.000000\n",
       "4     33.000000\n",
       "Name: commentators_uniq, dtype: float64"
      ]
     },
     "execution_count": 102,
     "metadata": {},
     "output_type": "execute_result"
    }
   ],
   "source": [
    "df.commentators_uniq.fillna(df.commentators_uniq.mean()).head()"
   ]
  },
  {
   "cell_type": "markdown",
   "id": "sharp-gauge",
   "metadata": {},
   "source": [
    "## 5. Аномалии в данных "
   ]
  },
  {
   "cell_type": "markdown",
   "id": "foreign-vermont",
   "metadata": {},
   "source": [
    "Аномалии в данных $-$ это столь же частая проблема, что и пропущенные значения, однако более серьезная. Посмотрим на примере, как аномалии могут все испортить:  \n",
    "\n",
    "### Оцениваем средний рост людей в школьном классе:\n",
    "\n",
    "Представим, что мы хотим оценить средний рост людей в школьном классе. Имеем следующую таблицу:"
   ]
  },
  {
   "cell_type": "code",
   "execution_count": 78,
   "id": "minus-dylan",
   "metadata": {},
   "outputs": [
    {
     "data": {
      "text/html": [
       "<div>\n",
       "<style scoped>\n",
       "    .dataframe tbody tr th:only-of-type {\n",
       "        vertical-align: middle;\n",
       "    }\n",
       "\n",
       "    .dataframe tbody tr th {\n",
       "        vertical-align: top;\n",
       "    }\n",
       "\n",
       "    .dataframe thead th {\n",
       "        text-align: right;\n",
       "    }\n",
       "</style>\n",
       "<table border=\"1\" class=\"dataframe\">\n",
       "  <thead>\n",
       "    <tr style=\"text-align: right;\">\n",
       "      <th></th>\n",
       "      <th>student</th>\n",
       "      <th>height_cm</th>\n",
       "    </tr>\n",
       "  </thead>\n",
       "  <tbody>\n",
       "    <tr>\n",
       "      <th>0</th>\n",
       "      <td>Max</td>\n",
       "      <td>170</td>\n",
       "    </tr>\n",
       "    <tr>\n",
       "      <th>1</th>\n",
       "      <td>Ahmed</td>\n",
       "      <td>165</td>\n",
       "    </tr>\n",
       "    <tr>\n",
       "      <th>2</th>\n",
       "      <td>Nastya</td>\n",
       "      <td>171</td>\n",
       "    </tr>\n",
       "    <tr>\n",
       "      <th>3</th>\n",
       "      <td>Vlad</td>\n",
       "      <td>168</td>\n",
       "    </tr>\n",
       "  </tbody>\n",
       "</table>\n",
       "</div>"
      ],
      "text/plain": [
       "  student  height_cm\n",
       "0     Max        170\n",
       "1   Ahmed        165\n",
       "2  Nastya        171\n",
       "3    Vlad        168"
      ]
     },
     "execution_count": 78,
     "metadata": {},
     "output_type": "execute_result"
    }
   ],
   "source": [
    "students = pd.DataFrame({'student': ['Max', 'Ahmed', 'Nastya', 'Vlad'],\n",
    "                        'height_cm': [170, 165, 171, 168]})\n",
    "\n",
    "students"
   ]
  },
  {
   "cell_type": "markdown",
   "id": "unnecessary-passion",
   "metadata": {},
   "source": [
    "Найдем среднее:"
   ]
  },
  {
   "cell_type": "code",
   "execution_count": 79,
   "id": "former-tooth",
   "metadata": {},
   "outputs": [
    {
     "data": {
      "text/plain": [
       "168.5"
      ]
     },
     "execution_count": 79,
     "metadata": {},
     "output_type": "execute_result"
    }
   ],
   "source": [
    "students.height_cm.mean()"
   ]
  },
  {
   "cell_type": "markdown",
   "id": "higher-third",
   "metadata": {},
   "source": [
    "Теперь представим, что в наш класс пришел новенький Филипп, который остался на второй год из-за того, что играл в баскетбол, а не учился. У нас в таблице появилось новое наблюдение, попробуем оценить рост теперь. "
   ]
  },
  {
   "cell_type": "code",
   "execution_count": 81,
   "id": "legal-study",
   "metadata": {},
   "outputs": [
    {
     "data": {
      "text/html": [
       "<div>\n",
       "<style scoped>\n",
       "    .dataframe tbody tr th:only-of-type {\n",
       "        vertical-align: middle;\n",
       "    }\n",
       "\n",
       "    .dataframe tbody tr th {\n",
       "        vertical-align: top;\n",
       "    }\n",
       "\n",
       "    .dataframe thead th {\n",
       "        text-align: right;\n",
       "    }\n",
       "</style>\n",
       "<table border=\"1\" class=\"dataframe\">\n",
       "  <thead>\n",
       "    <tr style=\"text-align: right;\">\n",
       "      <th></th>\n",
       "      <th>student</th>\n",
       "      <th>height_cm</th>\n",
       "    </tr>\n",
       "  </thead>\n",
       "  <tbody>\n",
       "    <tr>\n",
       "      <th>0</th>\n",
       "      <td>Max</td>\n",
       "      <td>170</td>\n",
       "    </tr>\n",
       "    <tr>\n",
       "      <th>1</th>\n",
       "      <td>Ahmed</td>\n",
       "      <td>165</td>\n",
       "    </tr>\n",
       "    <tr>\n",
       "      <th>2</th>\n",
       "      <td>Nastya</td>\n",
       "      <td>171</td>\n",
       "    </tr>\n",
       "    <tr>\n",
       "      <th>3</th>\n",
       "      <td>Vlad</td>\n",
       "      <td>168</td>\n",
       "    </tr>\n",
       "    <tr>\n",
       "      <th>4</th>\n",
       "      <td>Phil</td>\n",
       "      <td>210</td>\n",
       "    </tr>\n",
       "  </tbody>\n",
       "</table>\n",
       "</div>"
      ],
      "text/plain": [
       "  student  height_cm\n",
       "0     Max        170\n",
       "1   Ahmed        165\n",
       "2  Nastya        171\n",
       "3    Vlad        168\n",
       "4    Phil        210"
      ]
     },
     "execution_count": 81,
     "metadata": {},
     "output_type": "execute_result"
    }
   ],
   "source": [
    "students.loc[4] = ['Phil', 210]\n",
    "students"
   ]
  },
  {
   "cell_type": "code",
   "execution_count": 82,
   "id": "valued-visit",
   "metadata": {},
   "outputs": [
    {
     "data": {
      "text/plain": [
       "176.8"
      ]
     },
     "execution_count": 82,
     "metadata": {},
     "output_type": "execute_result"
    }
   ],
   "source": [
    "students.height_cm.mean()"
   ]
  },
  {
   "cell_type": "markdown",
   "id": "spatial-virgin",
   "metadata": {},
   "source": [
    "Видим, что значение среднего роста *сильно изменилось* из-за одного человека, имеющего неспецифичный (*аномальный*) рост для нашей выборки. Связано это с тем, что Филипп пришел к нам в класс *из другого распределения* $-$ распределения баскетболистов. Именно поэтому значение нашего среднего теперь *сильно завышено*, и мы таким образом можем собрать *ошибочную статистику*."
   ]
  },
  {
   "cell_type": "markdown",
   "id": "elder-poland",
   "metadata": {},
   "source": [
    "Возможное решение: использовать для агрегированной статистики квантили (например, медиану)"
   ]
  },
  {
   "cell_type": "code",
   "execution_count": 84,
   "id": "selected-smile",
   "metadata": {},
   "outputs": [
    {
     "data": {
      "text/plain": [
       "170.0"
      ]
     },
     "execution_count": 84,
     "metadata": {},
     "output_type": "execute_result"
    }
   ],
   "source": [
    "students.height_cm.median()"
   ]
  },
  {
   "cell_type": "markdown",
   "id": "close-contents",
   "metadata": {},
   "source": [
    "**ЗАПОМНИТЬ: Медиана в отличие от среднего устойчива к выбросам!**"
   ]
  },
  {
   "cell_type": "markdown",
   "id": "regional-groove",
   "metadata": {},
   "source": [
    "### Выявление и удаление выбросов на примере клипов:"
   ]
  },
  {
   "cell_type": "code",
   "execution_count": 104,
   "id": "hazardous-bridges",
   "metadata": {},
   "outputs": [
    {
     "data": {
      "text/plain": [
       "5735.014482758621"
      ]
     },
     "execution_count": 104,
     "metadata": {},
     "output_type": "execute_result"
    }
   ],
   "source": [
    "df.likeCount.mean()"
   ]
  },
  {
   "cell_type": "code",
   "execution_count": 105,
   "id": "ethical-animation",
   "metadata": {},
   "outputs": [
    {
     "data": {
      "text/plain": [
       "100.0"
      ]
     },
     "execution_count": 105,
     "metadata": {},
     "output_type": "execute_result"
    }
   ],
   "source": [
    "df.likeCount.median()"
   ]
  },
  {
   "cell_type": "markdown",
   "id": "fifteen-viewer",
   "metadata": {},
   "source": [
    "Видим сильное завышение среднего по лайкам в отличие от медианы. Причина - аномалии. "
   ]
  },
  {
   "cell_type": "markdown",
   "id": "resistant-invite",
   "metadata": {},
   "source": [
    "На распределении виден длинный хвост:"
   ]
  },
  {
   "cell_type": "code",
   "execution_count": 128,
   "id": "younger-administration",
   "metadata": {},
   "outputs": [
    {
     "data": {
      "image/png": "[encoded data removed]",
      "text/plain": [
       "<Figure size 432x288 with 1 Axes>"
      ]
     },
     "metadata": {
      "needs_background": "light"
     },
     "output_type": "display_data"
    }
   ],
   "source": [
    "df.likeCount.hist(bins=30);"
   ]
  },
  {
   "cell_type": "markdown",
   "id": "pressing-repeat",
   "metadata": {},
   "source": [
    "То есть у нас в выборке есть клипы с аномальным кол-вом лайков - так называемые хиты. Они то нам и портят всю статистику.  \n",
    "\n",
    "Попробуем от них избавиться:\n",
    "\n",
    "**Способ №1:** Откинем $1\\%$ нашей выборки клипов, у которых больше всего лайков. Воспользуемся для этого $99\\%$ персентилем."
   ]
  },
  {
   "cell_type": "code",
   "execution_count": 127,
   "id": "complimentary-disposition",
   "metadata": {},
   "outputs": [
    {
     "data": {
      "image/png": "[encoded data removed]",
      "text/plain": [
       "<Figure size 432x288 with 1 Axes>"
      ]
     },
     "metadata": {
      "needs_background": "light"
     },
     "output_type": "display_data"
    }
   ],
   "source": [
    "threshold = df.likeCount.quantile(0.99)\n",
    "df_clear = df[df.likeCount <= threshold]\n",
    "\n",
    "# визуализируем\n",
    "df_clear.likeCount.hist(bins=30);"
   ]
  },
  {
   "cell_type": "markdown",
   "id": "heard-radio",
   "metadata": {},
   "source": [
    "**Способ №2:** Межквартильное отклонение. Всё, что оказалось за пределами трёх межквартильных отклонений - аномалия. "
   ]
  },
  {
   "cell_type": "code",
   "execution_count": 123,
   "id": "alpha-omega",
   "metadata": {},
   "outputs": [],
   "source": [
    "def outlier_iqr(data, col, threshold = 3):\n",
    "    \n",
    "    # интерквантильный размах\n",
    "    IQR = data[col].quantile(0.75) - data[col].quantile(0.25)\n",
    "    \n",
    "    # насколько размахов отступать \n",
    "    up_bound = data[col].quantile(0.75) + (IQR * threshold)\n",
    "    low_bound = data[col].quantile(0.25) - (IQR * threshold)\n",
    "    \n",
    "    anomalies = pd.concat([data[col]>up_bound, data[col]<low_bound], axis=1).any(axis=1)\n",
    "    return anomalies"
   ]
  },
  {
   "cell_type": "code",
   "execution_count": 129,
   "id": "dynamic-bhutan",
   "metadata": {},
   "outputs": [
    {
     "data": {
      "image/png": "[encoded data removed]",
      "text/plain": [
       "<Figure size 432x288 with 1 Axes>"
      ]
     },
     "metadata": {
      "needs_background": "light"
     },
     "output_type": "display_data"
    }
   ],
   "source": [
    "df[~outlier_iqr(df, 'likeCount')].likeCount.hist(bins=30);"
   ]
  },
  {
   "cell_type": "markdown",
   "id": "increased-import",
   "metadata": {},
   "source": [
    "Стоит отметить, что иногда искать аномалии требуется не только для обработки данных. Порой, поиск аномалий $-$ это и есть задача. Так, например, аномалиями являются мошенники банка, чье поведение отличается от обычных пользователей. И поиск таких людей и является нашей задачей. "
   ]
  }
 ],
 "metadata": {
  "kernelspec": {
   "display_name": "Python 3",
   "language": "python",
   "name": "python3"
  },
  "language_info": {
   "codemirror_mode": {
    "name": "ipython",
    "version": 3
   },
   "file_extension": ".py",
   "mimetype": "text/x-python",
   "name": "python",
   "nbconvert_exporter": "python",
   "pygments_lexer": "ipython3",
   "version": "3.9.2"
  }
 },
 "nbformat": 4,
 "nbformat_minor": 5
}
