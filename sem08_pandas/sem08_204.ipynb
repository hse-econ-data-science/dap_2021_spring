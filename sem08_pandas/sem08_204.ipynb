{
 "cells": [
  {
   "cell_type": "markdown",
   "metadata": {},
   "source": [
    "# Работа с файлами и pandas"
   ]
  },
  {
   "cell_type": "markdown",
   "metadata": {},
   "source": [
    "## 1. Библиотека os"
   ]
  },
  {
   "cell_type": "code",
   "execution_count": 1,
   "metadata": {},
   "outputs": [
    {
     "data": {
      "text/plain": [
       "'/Users/randomwalk/Desktop'"
      ]
     },
     "execution_count": 1,
     "metadata": {},
     "output_type": "execute_result"
    }
   ],
   "source": [
    "pwd"
   ]
  },
  {
   "cell_type": "code",
   "execution_count": 3,
   "metadata": {},
   "outputs": [
    {
     "name": "stdout",
     "output_type": "stream",
     "text": [
      "/Users/randomwalk/Downloads\n"
     ]
    }
   ],
   "source": [
    "cd ../Downloads"
   ]
  },
  {
   "cell_type": "code",
   "execution_count": 5,
   "metadata": {},
   "outputs": [
    {
     "data": {
      "text/plain": [
       "'/Users/randomwalk/Downloads'"
      ]
     },
     "execution_count": 5,
     "metadata": {},
     "output_type": "execute_result"
    }
   ],
   "source": [
    "pwd"
   ]
  },
  {
   "cell_type": "code",
   "execution_count": 6,
   "metadata": {},
   "outputs": [
    {
     "name": "stdout",
     "output_type": "stream",
     "text": [
      "/Users/randomwalk/Desktop\n"
     ]
    }
   ],
   "source": [
    "cd /Users/randomwalk/Desktop"
   ]
  },
  {
   "cell_type": "code",
   "execution_count": 7,
   "metadata": {},
   "outputs": [
    {
     "data": {
      "text/plain": [
       "'/Users/randomwalk/Desktop'"
      ]
     },
     "execution_count": 7,
     "metadata": {},
     "output_type": "execute_result"
    }
   ],
   "source": [
    "pwd"
   ]
  },
  {
   "cell_type": "code",
   "execution_count": 8,
   "metadata": {},
   "outputs": [],
   "source": [
    "import os # библиотека для работы с операционной системой компа"
   ]
  },
  {
   "cell_type": "code",
   "execution_count": 11,
   "metadata": {},
   "outputs": [],
   "source": [
    "os.remove('grrra.java')"
   ]
  },
  {
   "cell_type": "code",
   "execution_count": 13,
   "metadata": {},
   "outputs": [],
   "source": [
    "os.mkdir('sem08')"
   ]
  },
  {
   "cell_type": "code",
   "execution_count": 17,
   "metadata": {},
   "outputs": [],
   "source": [
    "os.replace('com.json', 'sem08/com.json')"
   ]
  },
  {
   "cell_type": "code",
   "execution_count": 20,
   "metadata": {},
   "outputs": [],
   "source": [
    "os.replace('myFile.txt', 'sem08/myFile.txt')"
   ]
  },
  {
   "cell_type": "code",
   "execution_count": 21,
   "metadata": {},
   "outputs": [
    {
     "data": {
      "text/plain": [
       "['com.json', 'myFile.txt']"
      ]
     },
     "execution_count": 21,
     "metadata": {},
     "output_type": "execute_result"
    }
   ],
   "source": [
    "os.listdir('sem08')"
   ]
  },
  {
   "cell_type": "markdown",
   "metadata": {},
   "source": [
    "## 2. Разные расширения \n",
    "\n",
    "__.txt__ - просто тупо текст, записанный внутри файлика"
   ]
  },
  {
   "cell_type": "code",
   "execution_count": 25,
   "metadata": {},
   "outputs": [
    {
     "data": {
      "text/plain": [
       "'/Users/randomwalk/Desktop'"
      ]
     },
     "execution_count": 25,
     "metadata": {},
     "output_type": "execute_result"
    }
   ],
   "source": [
    "pwd"
   ]
  },
  {
   "cell_type": "code",
   "execution_count": 23,
   "metadata": {},
   "outputs": [
    {
     "name": "stdout",
     "output_type": "stream",
     "text": [
      "Привет, сегодня отличный \r\n",
      "день!"
     ]
    }
   ],
   "source": [
    "!cat 'sem08/myFile.txt'  # скорее всего не работает на windows"
   ]
  },
  {
   "cell_type": "code",
   "execution_count": 48,
   "metadata": {},
   "outputs": [],
   "source": [
    "f = open('/Users/randomwalk/Desktop/sem08/myFile.txt')"
   ]
  },
  {
   "cell_type": "code",
   "execution_count": 49,
   "metadata": {},
   "outputs": [
    {
     "data": {
      "text/plain": [
       "'Привет, сегодня отличный \\nдень!'"
      ]
     },
     "execution_count": 49,
     "metadata": {},
     "output_type": "execute_result"
    }
   ],
   "source": [
    "s = f.read()         # считывает файл целиком\n",
    "# s = f.readline()   # считывает по одной строчке при каждом вызове\n",
    "# s = f.readlines()  # считывает все строчки в виде листа\n",
    "s"
   ]
  },
  {
   "cell_type": "code",
   "execution_count": 50,
   "metadata": {},
   "outputs": [],
   "source": [
    "# \\n - перенос строки\n",
    "# \\t - табуляция (4 пробела)\n",
    "# \\r - перенос каретки в начало строки (устаревшая штука)"
   ]
  },
  {
   "cell_type": "code",
   "execution_count": 51,
   "metadata": {},
   "outputs": [],
   "source": [
    "f.close()"
   ]
  },
  {
   "cell_type": "markdown",
   "metadata": {},
   "source": [
    "Постоянно следить за тем, какие файлы открыты, а какие закрыты - влом!"
   ]
  },
  {
   "cell_type": "code",
   "execution_count": null,
   "metadata": {},
   "outputs": [],
   "source": [
    "# r - read \n",
    "# w - write (перезапись файла)\n",
    "# a - append (дозаписать в файл новые строчки)"
   ]
  },
  {
   "cell_type": "code",
   "execution_count": 53,
   "metadata": {},
   "outputs": [
    {
     "data": {
      "text/plain": [
       "'Привет, сегодня отличный \\nдень!'"
      ]
     },
     "execution_count": 53,
     "metadata": {},
     "output_type": "execute_result"
    }
   ],
   "source": [
    "with open('sem08/myFile.txt', 'r') as f:\n",
    "    s = f.read()    \n",
    "s"
   ]
  },
  {
   "cell_type": "code",
   "execution_count": 65,
   "metadata": {},
   "outputs": [],
   "source": [
    "with open('sem08/myFile.txt', 'w') as f:\n",
    "    f.write('Привет, Мир!')"
   ]
  },
  {
   "cell_type": "code",
   "execution_count": 87,
   "metadata": {},
   "outputs": [],
   "source": [
    "with open('sem08/myFile.txt', 'a') as f:\n",
    "    f.write('\\nЕееее')"
   ]
  },
  {
   "cell_type": "code",
   "execution_count": 88,
   "metadata": {},
   "outputs": [
    {
     "name": "stdout",
     "output_type": "stream",
     "text": [
      "Привет, Мир!\r\n",
      " Еееее\r\n",
      " Еееее\r\n",
      " Еееее\r\n",
      " \t Еееее\r\n",
      " \t Еееее \r",
      " аааа\r\n",
      " \t Еееее\r\n",
      "Еееее"
     ]
    }
   ],
   "source": [
    "!cat sem08/myFile.txt"
   ]
  },
  {
   "cell_type": "code",
   "execution_count": 89,
   "metadata": {},
   "outputs": [
    {
     "data": {
      "text/plain": [
       "'Привет, Мир!\\n Еееее\\n Еееее\\n Еееее\\n \\t Еееее\\n \\t Еееее \\n аааа\\n \\t Еееее\\nЕееее'"
      ]
     },
     "execution_count": 89,
     "metadata": {},
     "output_type": "execute_result"
    }
   ],
   "source": [
    "with open('sem08/myFile.txt', 'r') as f:\n",
    "    s = f.read()    \n",
    "s"
   ]
  },
  {
   "cell_type": "code",
   "execution_count": 90,
   "metadata": {},
   "outputs": [
    {
     "name": "stdout",
     "output_type": "stream",
     "text": [
      "Привет, Мир!\n",
      " Еееее\n",
      " Еееее\n",
      " Еееее\n",
      " \t Еееее\n",
      " \t Еееее \n",
      " аааа\n",
      " \t Еееее\n",
      "Еееее\n"
     ]
    }
   ],
   "source": [
    "print(s)"
   ]
  },
  {
   "cell_type": "markdown",
   "metadata": {},
   "source": [
    "__.json -__ с точки зрения питона просто тупо словари, но с ограничениями и некоторым отличием "
   ]
  },
  {
   "cell_type": "code",
   "execution_count": 97,
   "metadata": {},
   "outputs": [
    {
     "data": {
      "text/plain": [
       "dict_keys(['data', 'tresholds'])"
      ]
     },
     "execution_count": 97,
     "metadata": {},
     "output_type": "execute_result"
    }
   ],
   "source": [
    "import json\n",
    "\n",
    "with open('sem08/com.json', 'r') as f:\n",
    "    s = json.load(f)   \n",
    "\n",
    "s.keys()"
   ]
  },
  {
   "cell_type": "code",
   "execution_count": 100,
   "metadata": {},
   "outputs": [
    {
     "data": {
      "text/plain": [
       "[{'cutoff_up': 0.8999999761581421,\n",
       "  'inputType': 'embed',\n",
       "  'cutoff_low': 0.0,\n",
       "  'sanction': 'found_ok'},\n",
       " {'cutoff_up': 0.9399999976158142,\n",
       "  'inputType': 'embed',\n",
       "  'cutoff_low': 0.8999999761581421,\n",
       "  'sanction': 'probably_hatespeech'},\n",
       " {'cutoff_up': 0.9900000095367432,\n",
       "  'inputType': 'embed',\n",
       "  'cutoff_low': 0.9399999976158142,\n",
       "  'sanction': 'found_hatespeech'}]"
      ]
     },
     "execution_count": 100,
     "metadata": {},
     "output_type": "execute_result"
    }
   ],
   "source": [
    "m = s['tresholds'][:3]\n",
    "m"
   ]
  },
  {
   "cell_type": "code",
   "execution_count": 102,
   "metadata": {},
   "outputs": [],
   "source": [
    "with open('sem08/com_2.json', 'w') as f:\n",
    "    json.dump(m, f) "
   ]
  },
  {
   "cell_type": "code",
   "execution_count": 103,
   "metadata": {},
   "outputs": [
    {
     "name": "stdout",
     "output_type": "stream",
     "text": [
      "[{\"cutoff_up\": 0.8999999761581421, \"inputType\": \"embed\", \"cutoff_low\": 0.0, \"sanction\": \"found_ok\"}, {\"cutoff_up\": 0.9399999976158142, \"inputType\": \"embed\", \"cutoff_low\": 0.8999999761581421, \"sanction\": \"probably_hatespeech\"}, {\"cutoff_up\": 0.9900000095367432, \"inputType\": \"embed\", \"cutoff_low\": 0.9399999976158142, \"sanction\": \"found_hatespeech\"}]"
     ]
    }
   ],
   "source": [
    "!cat sem08/com_2.json"
   ]
  },
  {
   "cell_type": "code",
   "execution_count": 108,
   "metadata": {},
   "outputs": [],
   "source": [
    "dct = {'Маша':10, 'lol': 15}\n",
    "with open('sem08/file.json', 'w') as f:\n",
    "    json.dump(dct, f) "
   ]
  },
  {
   "cell_type": "code",
   "execution_count": 109,
   "metadata": {},
   "outputs": [
    {
     "name": "stdout",
     "output_type": "stream",
     "text": [
      "{\"\\u041c\\u0430\\u0448\\u0430\": 10, \"lol\": 15}"
     ]
    }
   ],
   "source": [
    "!cat sem08/file.json"
   ]
  },
  {
   "cell_type": "markdown",
   "metadata": {},
   "source": [
    "__.pickle -__ бинарный формат данных, то есть поток байтов "
   ]
  },
  {
   "cell_type": "code",
   "execution_count": 112,
   "metadata": {},
   "outputs": [],
   "source": [
    "import pickle  # Не надо сохранять файлы в pickle, если они больше 2GB\n",
    "\n",
    "dct = {'Маша':10, 'lol': 15}\n",
    "\n",
    "with open('sem08/file.pickle', 'wb') as f:\n",
    "    pickle.dump(dct, f) "
   ]
  },
  {
   "cell_type": "code",
   "execution_count": 113,
   "metadata": {},
   "outputs": [
    {
     "name": "stdout",
     "output_type": "stream",
     "text": [
      "�\u0004�\u001a\u0000\u0000\u0000\u0000\u0000\u0000\u0000}�(�\bМаша�K\r\n",
      "�\u0003lol�K\u000fu."
     ]
    }
   ],
   "source": [
    "!cat sem08/file.pickle"
   ]
  },
  {
   "cell_type": "code",
   "execution_count": 114,
   "metadata": {},
   "outputs": [
    {
     "data": {
      "text/plain": [
       "{'Маша': 10, 'lol': 15}"
      ]
     },
     "execution_count": 114,
     "metadata": {},
     "output_type": "execute_result"
    }
   ],
   "source": [
    "with open('sem08/file.pickle', 'rb') as f:\n",
    "    s = pickle.load(f) \n",
    "s"
   ]
  },
  {
   "cell_type": "markdown",
   "metadata": {},
   "source": [
    "__.csv__, __.tsv__, __.xslx__ - таблички\n",
    "\n",
    "- csv - значения разделенные через запятую\n",
    "- tsv - значения разделённые знаками табуляции"
   ]
  },
  {
   "cell_type": "code",
   "execution_count": 131,
   "metadata": {},
   "outputs": [
    {
     "name": "stdout",
     "output_type": "stream",
     "text": [
      " \tАдрес студенческой почты\tгруппа\tLogin\tnum\thw01_a\thw01_b\thw01_c\thw01_d\thw01_e\thw01_f\thw01_g\thw01_h\thw01_i\thw01_j\thw01\tMVP для приложения \"Пенькофф Инвестиции\" (20 баллов)\tStonks (10 баллов)\tАэрохоккей (20 баллов)\tИначе говоря (10 баллов)\tКаверы (10 баллов)\tЛоликек (15 баллов)\tСжатие последовательности (15 баллов)\tЭкзамен по машинному обучению 2 (10 баллов)\thw02\thw03\thw04\thw05\tcw01_A\tcw01_B\tcw01_C\tcw01_D\tcw01_E\tcw01\tcw02_A\tcw02_B\tcw02_C\tcw02\tcw03\tКР\tЭКЗ\tСумма\tИтог\r",
      "\r\n",
      "Алгазинов Александр Иванович\taialgazinov@edu.hse.ru\tБЭК201\tdap_econ_2021_1\t1,00\t5,00\t5,00\t5,00\t5,00\t10,00\t10,00\t10,00\t20,00\t15,00\t20,00\t105,00\t7\t10\t20\t10\t0\t9\t\t10\t66\t\t\t\t15,00\t20,00\t20,00\t20,00\t\t75,00\t34\t33\t33\t100\t\t\t\t2,935\t3\r",
      "\r\n",
      "Арайсси Габриел -\tgarayssi@edu.hse.ru\tБЭК201\tdap_econ_2021_2\t2,00\t5,00\t5,00\t5,00\t4,00\t10,00\t\t\t8,00\t15,00\t16,00\t68,00\t\t10\t0\t0\t\t\t\t10\t20\t\t\t\t15,00\t20,00\t\t20,00\t\t55,00\t0\t\t\t0\t\t\t\t1,09\t1\r",
      "\r\n",
      "Батавиль Абдулрахман -\tabatavil@edu.hse.ru\tБЭК201\tdap_econ_2021_3\t3,00\t\t\t\t\t\t\t\t\t\t\t0,00\t\t\t\t\t\t\t\t\t0\t\t\t\t\t\t\t\t\t0,00\t\t\t\t0\t\t\t\t0\t0\r",
      "\r\n",
      "Безуглый Александр Олегович\taobezuglyy_1@edu.hse.ru\tБЭК201\tdap_econ_2021_4\t4,00\t5,00\t5,00\t5,00\t4,00\t10,00\t10,00\t10,00\t20,00\t15,00\t20,00\t104,00\t20\t10\t20\t10\t10\t15\t15\t10\t110\t\t\t\t15,00\t20,00\t20,00\t20,00\t20,00\t95,00\t\t\t\t0\t\t\t\t2,57\t3\r",
      "\r\n",
      "Бочкарев Сергей Максимович\tsmbochkarev@edu.hse.ru\tБЭК201\tdap_econ_2021_5\t5,00\t5,00\t5,00\t5,00\t5,00\t10,00\t10,00\t10,00\t20,00\t15,00\t20,00\t105,00\t20\t10\t20\t10\t1\t15\t15\t10\t101\t\t\t\t0,00\t0,00\t20,00\t20,00\t\t40,00\t34\t0\t33\t67\t\t\t\t2,605\t3\r",
      "\r\n",
      "Викулин Сергей Александрович\tsavikulin@edu.hse.ru\tБЭК201\tdap_econ_2021_6\t6,00\t5,00\t5,00\t5,00\t5,00\t10,00\t10,00\t10,00\t20,00\t15,00\t20,00\t105,00\t20\t10\t20\t10\t10\t15\t15\t10\t110\t\t\t\t15,00\t20,00\t20,00\t20,00\t25,00\t100,00\t34\t33\t33\t100\t\t\t\t3,625\t4\r",
      "\r\n",
      "Викулова Надежда Павловна\tnpvikulova@edu.hse.ru\tБЭК201\tdap_econ_2021_7\t7,00\t5,00\t5,00\t5,00\t5,00\t10,00\t10,00\t10,00\t20,00\t15,00\t20,00\t105,00\t\t10\t9\t10\t1\t\t10\t10\t50\t\t\t\t7,00\t20,00\t20,00\t20,00\t18,00\t85,00\t34\t0\t33\t67\t\t\t\t2,545\t3\r",
      "\r\n",
      "Воронкова Мария Денисовна\tmdvoronkova@edu.hse.ru\tБЭК201\tdap_econ_2021_8\t8,00\t5,00\t5,00\t5,00\t4,00\t10,00\t10,00\t10,00\t20,00\t15,00\t12,00\t96,00\t20\t10\t20\t10\t\t15\t15\t\t90\t\t\t\t13,00\t20,00\t\t20,00\t0,00\t53,00\t34\t\t33\t67\t\t\t\t2,58\t3\r",
      "\r\n",
      "Гаврилова Анастасия Витальевна\tavgavrilova_3@edu.hse.ru\tБЭК201\tdap_econ_2021_9\t9,00\t5,00\t5,00\t5,00\t5,00\t10,00\t10,00\t10,00\t20,00\t15,00\t20,00\t105,00\t20\t10\t20\t10\t10\t15\t15\t10\t110\t\t\t\t7,00\t20,00\t20,00\t20,00\t0,00\t67,00\t34\t0\t33\t67\t\t\t\t2,965\t3\r",
      "\r\n"
     ]
    }
   ],
   "source": [
    "!head dap_2021.tsv"
   ]
  },
  {
   "cell_type": "code",
   "execution_count": 135,
   "metadata": {},
   "outputs": [
    {
     "data": {
      "text/plain": [
       "(450, 43)"
      ]
     },
     "execution_count": 135,
     "metadata": {},
     "output_type": "execute_result"
    }
   ],
   "source": [
    "import pandas as pd \n",
    "df = pd.read_csv(\"dap_2021.tsv\", sep='\\t', decimal=',')\n",
    "df.shape"
   ]
  },
  {
   "cell_type": "code",
   "execution_count": 136,
   "metadata": {},
   "outputs": [
    {
     "data": {
      "text/html": [
       "<div>\n",
       "<style scoped>\n",
       "    .dataframe tbody tr th:only-of-type {\n",
       "        vertical-align: middle;\n",
       "    }\n",
       "\n",
       "    .dataframe tbody tr th {\n",
       "        vertical-align: top;\n",
       "    }\n",
       "\n",
       "    .dataframe thead th {\n",
       "        text-align: right;\n",
       "    }\n",
       "</style>\n",
       "<table border=\"1\" class=\"dataframe\">\n",
       "  <thead>\n",
       "    <tr style=\"text-align: right;\">\n",
       "      <th></th>\n",
       "      <th></th>\n",
       "      <th>Адрес студенческой почты</th>\n",
       "      <th>группа</th>\n",
       "      <th>Login</th>\n",
       "      <th>num</th>\n",
       "      <th>hw01_a</th>\n",
       "      <th>hw01_b</th>\n",
       "      <th>hw01_c</th>\n",
       "      <th>hw01_d</th>\n",
       "      <th>hw01_e</th>\n",
       "      <th>...</th>\n",
       "      <th>cw01</th>\n",
       "      <th>cw02_A</th>\n",
       "      <th>cw02_B</th>\n",
       "      <th>cw02_C</th>\n",
       "      <th>cw02</th>\n",
       "      <th>cw03</th>\n",
       "      <th>КР</th>\n",
       "      <th>ЭКЗ</th>\n",
       "      <th>Сумма</th>\n",
       "      <th>Итог</th>\n",
       "    </tr>\n",
       "  </thead>\n",
       "  <tbody>\n",
       "    <tr>\n",
       "      <th>0</th>\n",
       "      <td>Алгазинов Александр Иванович</td>\n",
       "      <td>aialgazinov@edu.hse.ru</td>\n",
       "      <td>БЭК201</td>\n",
       "      <td>dap_econ_2021_1</td>\n",
       "      <td>1.0</td>\n",
       "      <td>5.0</td>\n",
       "      <td>5.0</td>\n",
       "      <td>5.0</td>\n",
       "      <td>5.0</td>\n",
       "      <td>10.0</td>\n",
       "      <td>...</td>\n",
       "      <td>75.0</td>\n",
       "      <td>34.0</td>\n",
       "      <td>33.0</td>\n",
       "      <td>33.0</td>\n",
       "      <td>100.0</td>\n",
       "      <td>NaN</td>\n",
       "      <td>NaN</td>\n",
       "      <td>NaN</td>\n",
       "      <td>2,935</td>\n",
       "      <td>3.0</td>\n",
       "    </tr>\n",
       "    <tr>\n",
       "      <th>1</th>\n",
       "      <td>Арайсси Габриел -</td>\n",
       "      <td>garayssi@edu.hse.ru</td>\n",
       "      <td>БЭК201</td>\n",
       "      <td>dap_econ_2021_2</td>\n",
       "      <td>2.0</td>\n",
       "      <td>5.0</td>\n",
       "      <td>5.0</td>\n",
       "      <td>5.0</td>\n",
       "      <td>4.0</td>\n",
       "      <td>10.0</td>\n",
       "      <td>...</td>\n",
       "      <td>55.0</td>\n",
       "      <td>0.0</td>\n",
       "      <td>NaN</td>\n",
       "      <td>NaN</td>\n",
       "      <td>0.0</td>\n",
       "      <td>NaN</td>\n",
       "      <td>NaN</td>\n",
       "      <td>NaN</td>\n",
       "      <td>1,09</td>\n",
       "      <td>1.0</td>\n",
       "    </tr>\n",
       "    <tr>\n",
       "      <th>2</th>\n",
       "      <td>Батавиль Абдулрахман -</td>\n",
       "      <td>abatavil@edu.hse.ru</td>\n",
       "      <td>БЭК201</td>\n",
       "      <td>dap_econ_2021_3</td>\n",
       "      <td>3.0</td>\n",
       "      <td>NaN</td>\n",
       "      <td>NaN</td>\n",
       "      <td>NaN</td>\n",
       "      <td>NaN</td>\n",
       "      <td>NaN</td>\n",
       "      <td>...</td>\n",
       "      <td>0.0</td>\n",
       "      <td>NaN</td>\n",
       "      <td>NaN</td>\n",
       "      <td>NaN</td>\n",
       "      <td>0.0</td>\n",
       "      <td>NaN</td>\n",
       "      <td>NaN</td>\n",
       "      <td>NaN</td>\n",
       "      <td>0</td>\n",
       "      <td>0.0</td>\n",
       "    </tr>\n",
       "    <tr>\n",
       "      <th>3</th>\n",
       "      <td>Безуглый Александр Олегович</td>\n",
       "      <td>aobezuglyy_1@edu.hse.ru</td>\n",
       "      <td>БЭК201</td>\n",
       "      <td>dap_econ_2021_4</td>\n",
       "      <td>4.0</td>\n",
       "      <td>5.0</td>\n",
       "      <td>5.0</td>\n",
       "      <td>5.0</td>\n",
       "      <td>4.0</td>\n",
       "      <td>10.0</td>\n",
       "      <td>...</td>\n",
       "      <td>95.0</td>\n",
       "      <td>NaN</td>\n",
       "      <td>NaN</td>\n",
       "      <td>NaN</td>\n",
       "      <td>0.0</td>\n",
       "      <td>NaN</td>\n",
       "      <td>NaN</td>\n",
       "      <td>NaN</td>\n",
       "      <td>2,57</td>\n",
       "      <td>3.0</td>\n",
       "    </tr>\n",
       "    <tr>\n",
       "      <th>4</th>\n",
       "      <td>Бочкарев Сергей Максимович</td>\n",
       "      <td>smbochkarev@edu.hse.ru</td>\n",
       "      <td>БЭК201</td>\n",
       "      <td>dap_econ_2021_5</td>\n",
       "      <td>5.0</td>\n",
       "      <td>5.0</td>\n",
       "      <td>5.0</td>\n",
       "      <td>5.0</td>\n",
       "      <td>5.0</td>\n",
       "      <td>10.0</td>\n",
       "      <td>...</td>\n",
       "      <td>40.0</td>\n",
       "      <td>34.0</td>\n",
       "      <td>0.0</td>\n",
       "      <td>33.0</td>\n",
       "      <td>67.0</td>\n",
       "      <td>NaN</td>\n",
       "      <td>NaN</td>\n",
       "      <td>NaN</td>\n",
       "      <td>2,605</td>\n",
       "      <td>3.0</td>\n",
       "    </tr>\n",
       "  </tbody>\n",
       "</table>\n",
       "<p>5 rows × 43 columns</p>\n",
       "</div>"
      ],
      "text/plain": [
       "                                Адрес студенческой почты  группа  \\\n",
       "0  Алгазинов Александр Иванович   aialgazinov@edu.hse.ru  БЭК201   \n",
       "1             Арайсси Габриел -      garayssi@edu.hse.ru  БЭК201   \n",
       "2        Батавиль Абдулрахман -      abatavil@edu.hse.ru  БЭК201   \n",
       "3   Безуглый Александр Олегович  aobezuglyy_1@edu.hse.ru  БЭК201   \n",
       "4    Бочкарев Сергей Максимович   smbochkarev@edu.hse.ru  БЭК201   \n",
       "\n",
       "             Login  num  hw01_a  hw01_b  hw01_c  hw01_d  hw01_e  ...  cw01  \\\n",
       "0  dap_econ_2021_1  1.0     5.0     5.0     5.0     5.0    10.0  ...  75.0   \n",
       "1  dap_econ_2021_2  2.0     5.0     5.0     5.0     4.0    10.0  ...  55.0   \n",
       "2  dap_econ_2021_3  3.0     NaN     NaN     NaN     NaN     NaN  ...   0.0   \n",
       "3  dap_econ_2021_4  4.0     5.0     5.0     5.0     4.0    10.0  ...  95.0   \n",
       "4  dap_econ_2021_5  5.0     5.0     5.0     5.0     5.0    10.0  ...  40.0   \n",
       "\n",
       "   cw02_A  cw02_B  cw02_C   cw02  cw03  КР  ЭКЗ  Сумма  Итог  \n",
       "0    34.0    33.0    33.0  100.0   NaN NaN  NaN  2,935   3.0  \n",
       "1     0.0     NaN     NaN    0.0   NaN NaN  NaN   1,09   1.0  \n",
       "2     NaN     NaN     NaN    0.0   NaN NaN  NaN      0   0.0  \n",
       "3     NaN     NaN     NaN    0.0   NaN NaN  NaN   2,57   3.0  \n",
       "4    34.0     0.0    33.0   67.0   NaN NaN  NaN  2,605   3.0  \n",
       "\n",
       "[5 rows x 43 columns]"
      ]
     },
     "execution_count": 136,
     "metadata": {},
     "output_type": "execute_result"
    }
   ],
   "source": [
    "df.head()"
   ]
  },
  {
   "cell_type": "code",
   "execution_count": 137,
   "metadata": {},
   "outputs": [
    {
     "data": {
      "text/html": [
       "<div>\n",
       "<style scoped>\n",
       "    .dataframe tbody tr th:only-of-type {\n",
       "        vertical-align: middle;\n",
       "    }\n",
       "\n",
       "    .dataframe tbody tr th {\n",
       "        vertical-align: top;\n",
       "    }\n",
       "\n",
       "    .dataframe thead th {\n",
       "        text-align: right;\n",
       "    }\n",
       "</style>\n",
       "<table border=\"1\" class=\"dataframe\">\n",
       "  <thead>\n",
       "    <tr style=\"text-align: right;\">\n",
       "      <th></th>\n",
       "      <th></th>\n",
       "      <th>Адрес студенческой почты</th>\n",
       "      <th>группа</th>\n",
       "      <th>Login</th>\n",
       "      <th>num</th>\n",
       "      <th>hw01_a</th>\n",
       "      <th>hw01_b</th>\n",
       "      <th>hw01_c</th>\n",
       "      <th>hw01_d</th>\n",
       "      <th>hw01_e</th>\n",
       "      <th>...</th>\n",
       "      <th>cw01</th>\n",
       "      <th>cw02_A</th>\n",
       "      <th>cw02_B</th>\n",
       "      <th>cw02_C</th>\n",
       "      <th>cw02</th>\n",
       "      <th>cw03</th>\n",
       "      <th>КР</th>\n",
       "      <th>ЭКЗ</th>\n",
       "      <th>Сумма</th>\n",
       "      <th>Итог</th>\n",
       "    </tr>\n",
       "  </thead>\n",
       "  <tbody>\n",
       "    <tr>\n",
       "      <th>445</th>\n",
       "      <td>NaN</td>\n",
       "      <td>NaN</td>\n",
       "      <td>NaN</td>\n",
       "      <td>dap_econ_2021_446</td>\n",
       "      <td>446.0</td>\n",
       "      <td>NaN</td>\n",
       "      <td>NaN</td>\n",
       "      <td>NaN</td>\n",
       "      <td>NaN</td>\n",
       "      <td>NaN</td>\n",
       "      <td>...</td>\n",
       "      <td>NaN</td>\n",
       "      <td>NaN</td>\n",
       "      <td>NaN</td>\n",
       "      <td>NaN</td>\n",
       "      <td>NaN</td>\n",
       "      <td>NaN</td>\n",
       "      <td>NaN</td>\n",
       "      <td>NaN</td>\n",
       "      <td>NaN</td>\n",
       "      <td>NaN</td>\n",
       "    </tr>\n",
       "    <tr>\n",
       "      <th>446</th>\n",
       "      <td>NaN</td>\n",
       "      <td>NaN</td>\n",
       "      <td>NaN</td>\n",
       "      <td>dap_econ_2021_447</td>\n",
       "      <td>447.0</td>\n",
       "      <td>NaN</td>\n",
       "      <td>NaN</td>\n",
       "      <td>NaN</td>\n",
       "      <td>NaN</td>\n",
       "      <td>NaN</td>\n",
       "      <td>...</td>\n",
       "      <td>NaN</td>\n",
       "      <td>NaN</td>\n",
       "      <td>NaN</td>\n",
       "      <td>NaN</td>\n",
       "      <td>NaN</td>\n",
       "      <td>NaN</td>\n",
       "      <td>NaN</td>\n",
       "      <td>NaN</td>\n",
       "      <td>NaN</td>\n",
       "      <td>NaN</td>\n",
       "    </tr>\n",
       "    <tr>\n",
       "      <th>447</th>\n",
       "      <td>NaN</td>\n",
       "      <td>NaN</td>\n",
       "      <td>NaN</td>\n",
       "      <td>dap_econ_2021_448</td>\n",
       "      <td>448.0</td>\n",
       "      <td>NaN</td>\n",
       "      <td>NaN</td>\n",
       "      <td>NaN</td>\n",
       "      <td>NaN</td>\n",
       "      <td>NaN</td>\n",
       "      <td>...</td>\n",
       "      <td>NaN</td>\n",
       "      <td>NaN</td>\n",
       "      <td>NaN</td>\n",
       "      <td>NaN</td>\n",
       "      <td>NaN</td>\n",
       "      <td>NaN</td>\n",
       "      <td>NaN</td>\n",
       "      <td>NaN</td>\n",
       "      <td>NaN</td>\n",
       "      <td>NaN</td>\n",
       "    </tr>\n",
       "    <tr>\n",
       "      <th>448</th>\n",
       "      <td>NaN</td>\n",
       "      <td>NaN</td>\n",
       "      <td>NaN</td>\n",
       "      <td>dap_econ_2021_449</td>\n",
       "      <td>449.0</td>\n",
       "      <td>NaN</td>\n",
       "      <td>NaN</td>\n",
       "      <td>NaN</td>\n",
       "      <td>NaN</td>\n",
       "      <td>NaN</td>\n",
       "      <td>...</td>\n",
       "      <td>NaN</td>\n",
       "      <td>NaN</td>\n",
       "      <td>NaN</td>\n",
       "      <td>NaN</td>\n",
       "      <td>NaN</td>\n",
       "      <td>NaN</td>\n",
       "      <td>NaN</td>\n",
       "      <td>NaN</td>\n",
       "      <td>NaN</td>\n",
       "      <td>NaN</td>\n",
       "    </tr>\n",
       "    <tr>\n",
       "      <th>449</th>\n",
       "      <td>Марудас Павлос</td>\n",
       "      <td>pmaroudas@edu.hse.ru</td>\n",
       "      <td>БЭК2011</td>\n",
       "      <td>dap_econ_2021_450</td>\n",
       "      <td>450.0</td>\n",
       "      <td>NaN</td>\n",
       "      <td>NaN</td>\n",
       "      <td>NaN</td>\n",
       "      <td>NaN</td>\n",
       "      <td>NaN</td>\n",
       "      <td>...</td>\n",
       "      <td>0.0</td>\n",
       "      <td>NaN</td>\n",
       "      <td>NaN</td>\n",
       "      <td>NaN</td>\n",
       "      <td>NaN</td>\n",
       "      <td>NaN</td>\n",
       "      <td>NaN</td>\n",
       "      <td>NaN</td>\n",
       "      <td>#REF!</td>\n",
       "      <td>NaN</td>\n",
       "    </tr>\n",
       "  </tbody>\n",
       "</table>\n",
       "<p>5 rows × 43 columns</p>\n",
       "</div>"
      ],
      "text/plain": [
       "                    Адрес студенческой почты   группа              Login  \\\n",
       "445             NaN                      NaN      NaN  dap_econ_2021_446   \n",
       "446             NaN                      NaN      NaN  dap_econ_2021_447   \n",
       "447             NaN                      NaN      NaN  dap_econ_2021_448   \n",
       "448             NaN                      NaN      NaN  dap_econ_2021_449   \n",
       "449  Марудас Павлос     pmaroudas@edu.hse.ru  БЭК2011  dap_econ_2021_450   \n",
       "\n",
       "       num  hw01_a  hw01_b  hw01_c  hw01_d  hw01_e  ...  cw01  cw02_A  cw02_B  \\\n",
       "445  446.0     NaN     NaN     NaN     NaN     NaN  ...   NaN     NaN     NaN   \n",
       "446  447.0     NaN     NaN     NaN     NaN     NaN  ...   NaN     NaN     NaN   \n",
       "447  448.0     NaN     NaN     NaN     NaN     NaN  ...   NaN     NaN     NaN   \n",
       "448  449.0     NaN     NaN     NaN     NaN     NaN  ...   NaN     NaN     NaN   \n",
       "449  450.0     NaN     NaN     NaN     NaN     NaN  ...   0.0     NaN     NaN   \n",
       "\n",
       "     cw02_C  cw02  cw03  КР  ЭКЗ  Сумма  Итог  \n",
       "445     NaN   NaN   NaN NaN  NaN    NaN   NaN  \n",
       "446     NaN   NaN   NaN NaN  NaN    NaN   NaN  \n",
       "447     NaN   NaN   NaN NaN  NaN    NaN   NaN  \n",
       "448     NaN   NaN   NaN NaN  NaN    NaN   NaN  \n",
       "449     NaN   NaN   NaN NaN  NaN  #REF!   NaN  \n",
       "\n",
       "[5 rows x 43 columns]"
      ]
     },
     "execution_count": 137,
     "metadata": {},
     "output_type": "execute_result"
    }
   ],
   "source": [
    "df.tail()"
   ]
  },
  {
   "cell_type": "code",
   "execution_count": null,
   "metadata": {},
   "outputs": [],
   "source": [
    "# Таблица состоит из трёх частей \n",
    "# Имена колонок\n",
    "# Имена строчек\n",
    "# Значения"
   ]
  },
  {
   "cell_type": "code",
   "execution_count": 138,
   "metadata": {},
   "outputs": [
    {
     "data": {
      "text/plain": [
       "Index([' ', 'Адрес студенческой почты', 'группа', 'Login', 'num', 'hw01_a',\n",
       "       'hw01_b', 'hw01_c', 'hw01_d', 'hw01_e', 'hw01_f', 'hw01_g', 'hw01_h',\n",
       "       'hw01_i', 'hw01_j', 'hw01',\n",
       "       'MVP для приложения \"Пенькофф Инвестиции\" (20 баллов)',\n",
       "       'Stonks (10 баллов)', 'Аэрохоккей (20 баллов)',\n",
       "       'Иначе говоря (10 баллов)', 'Каверы (10 баллов)', 'Лоликек (15 баллов)',\n",
       "       'Сжатие последовательности (15 баллов)',\n",
       "       'Экзамен по машинному обучению 2 (10 баллов)', 'hw02', 'hw03', 'hw04',\n",
       "       'hw05', 'cw01_A', 'cw01_B', 'cw01_C', 'cw01_D', 'cw01_E', 'cw01',\n",
       "       'cw02_A', 'cw02_B', 'cw02_C', 'cw02', 'cw03', 'КР', 'ЭКЗ', 'Сумма',\n",
       "       'Итог'],\n",
       "      dtype='object')"
      ]
     },
     "execution_count": 138,
     "metadata": {},
     "output_type": "execute_result"
    }
   ],
   "source": [
    "df.columns # Имена колонок"
   ]
  },
  {
   "cell_type": "code",
   "execution_count": 160,
   "metadata": {},
   "outputs": [
    {
     "data": {
      "text/plain": [
       "array([' ', 'Адрес студенческой почты', 'группа', 'num', 'hw01_a',\n",
       "       'hw01_b', 'hw01_c', 'hw01_d', 'hw01_e', 'hw01_f', 'hw01_g',\n",
       "       'hw01_h', 'hw01_i', 'hw01_j', 'hw01',\n",
       "       'MVP для приложения \"Пенькофф Инвестиции\" (20 баллов)',\n",
       "       'Stonks (10 баллов)', 'Аэрохоккей (20 баллов)',\n",
       "       'Иначе говоря (10 баллов)', 'Каверы (10 баллов)',\n",
       "       'Лоликек (15 баллов)', 'Сжатие последовательности (15 баллов)',\n",
       "       'Экзамен по машинному обучению 2 (10 баллов)', 'hw02', 'hw03',\n",
       "       'hw04', 'hw05', 'cw01_A', 'cw01_B', 'cw01_C', 'cw01_D', 'cw01_E',\n",
       "       'cw01', 'cw02_A', 'cw02_B', 'cw02_C', 'cw02', 'cw03', 'КР', 'ЭКЗ',\n",
       "       'Сумма', 'Итог'], dtype=object)"
      ]
     },
     "execution_count": 160,
     "metadata": {},
     "output_type": "execute_result"
    }
   ],
   "source": [
    "df.columns.values # превратили имена колонок в numpy вектор"
   ]
  },
  {
   "cell_type": "code",
   "execution_count": 140,
   "metadata": {},
   "outputs": [
    {
     "data": {
      "text/plain": [
       "45.97041420118343"
      ]
     },
     "execution_count": 140,
     "metadata": {},
     "output_type": "execute_result"
    }
   ],
   "source": [
    "df['cw01'].mean()"
   ]
  },
  {
   "cell_type": "code",
   "execution_count": 141,
   "metadata": {},
   "outputs": [
    {
     "data": {
      "text/plain": [
       "hw01    64.718935\n",
       "hw02    60.246291\n",
       "cw01    45.970414\n",
       "cw02    65.234421\n",
       "dtype: float64"
      ]
     },
     "execution_count": 141,
     "metadata": {},
     "output_type": "execute_result"
    }
   ],
   "source": [
    "df[['hw01', 'hw02', 'cw01', 'cw02']].mean()"
   ]
  },
  {
   "cell_type": "code",
   "execution_count": 142,
   "metadata": {},
   "outputs": [
    {
     "data": {
      "text/plain": [
       "RangeIndex(start=0, stop=450, step=1)"
      ]
     },
     "execution_count": 142,
     "metadata": {},
     "output_type": "execute_result"
    }
   ],
   "source": [
    "df.index # Имена строчек"
   ]
  },
  {
   "cell_type": "code",
   "execution_count": 143,
   "metadata": {},
   "outputs": [
    {
     "data": {
      "text/plain": [
       "                                                            Куприянова Ульяна -\n",
       "Адрес студенческой почты                                ukupriyanova@edu.hse.ru\n",
       "группа                                                                  БЭК2010\n",
       "Login                                                          dap_econ_2021_41\n",
       "num                                                                        41.0\n",
       "hw01_a                                                                      5.0\n",
       "hw01_b                                                                      5.0\n",
       "hw01_c                                                                      5.0\n",
       "hw01_d                                                                      5.0\n",
       "hw01_e                                                                     10.0\n",
       "hw01_f                                                                     10.0\n",
       "hw01_g                                                                     10.0\n",
       "hw01_h                                                                      NaN\n",
       "hw01_i                                                                     15.0\n",
       "hw01_j                                                                      0.0\n",
       "hw01                                                                       65.0\n",
       "MVP для приложения \"Пенькофф Инвестиции\" (20 баллов)                       17.0\n",
       "Stonks (10 баллов)                                                         10.0\n",
       "Аэрохоккей (20 баллов)                                                     20.0\n",
       "Иначе говоря (10 баллов)                                                   10.0\n",
       "Каверы (10 баллов)                                                         10.0\n",
       "Лоликек (15 баллов)                                                        15.0\n",
       "Сжатие последовательности (15 баллов)                                      15.0\n",
       "Экзамен по машинному обучению 2 (10 баллов)                                10.0\n",
       "hw02                                                                      107.0\n",
       "hw03                                                                        NaN\n",
       "hw04                                                                        NaN\n",
       "hw05                                                                        NaN\n",
       "cw01_A                                                                     15.0\n",
       "cw01_B                                                                     20.0\n",
       "cw01_C                                                                      0.0\n",
       "cw01_D                                                                     20.0\n",
       "cw01_E                                                                      NaN\n",
       "cw01                                                                       55.0\n",
       "cw02_A                                                                     34.0\n",
       "cw02_B                                                                     33.0\n",
       "cw02_C                                                                     33.0\n",
       "cw02                                                                      100.0\n",
       "cw03                                                                        NaN\n",
       "КР                                                                          NaN\n",
       "ЭКЗ                                                                         NaN\n",
       "Сумма                                                                     2,945\n",
       "Итог                                                                        3.0\n",
       "Name: 40, dtype: object"
      ]
     },
     "execution_count": 143,
     "metadata": {},
     "output_type": "execute_result"
    }
   ],
   "source": [
    "df.loc[40]"
   ]
  },
  {
   "cell_type": "code",
   "execution_count": 154,
   "metadata": {},
   "outputs": [],
   "source": [
    "# df = df.set_index('Login')\n",
    "df.set_index('Login', inplace=True)\n",
    "\n",
    "# Назад откатиться можно df.reset_index( )"
   ]
  },
  {
   "cell_type": "code",
   "execution_count": 156,
   "metadata": {},
   "outputs": [
    {
     "data": {
      "text/html": [
       "<div>\n",
       "<style scoped>\n",
       "    .dataframe tbody tr th:only-of-type {\n",
       "        vertical-align: middle;\n",
       "    }\n",
       "\n",
       "    .dataframe tbody tr th {\n",
       "        vertical-align: top;\n",
       "    }\n",
       "\n",
       "    .dataframe thead th {\n",
       "        text-align: right;\n",
       "    }\n",
       "</style>\n",
       "<table border=\"1\" class=\"dataframe\">\n",
       "  <thead>\n",
       "    <tr style=\"text-align: right;\">\n",
       "      <th></th>\n",
       "      <th></th>\n",
       "      <th>Адрес студенческой почты</th>\n",
       "      <th>группа</th>\n",
       "      <th>num</th>\n",
       "      <th>hw01_a</th>\n",
       "      <th>hw01_b</th>\n",
       "      <th>hw01_c</th>\n",
       "      <th>hw01_d</th>\n",
       "      <th>hw01_e</th>\n",
       "      <th>hw01_f</th>\n",
       "      <th>...</th>\n",
       "      <th>cw01</th>\n",
       "      <th>cw02_A</th>\n",
       "      <th>cw02_B</th>\n",
       "      <th>cw02_C</th>\n",
       "      <th>cw02</th>\n",
       "      <th>cw03</th>\n",
       "      <th>КР</th>\n",
       "      <th>ЭКЗ</th>\n",
       "      <th>Сумма</th>\n",
       "      <th>Итог</th>\n",
       "    </tr>\n",
       "    <tr>\n",
       "      <th>Login</th>\n",
       "      <th></th>\n",
       "      <th></th>\n",
       "      <th></th>\n",
       "      <th></th>\n",
       "      <th></th>\n",
       "      <th></th>\n",
       "      <th></th>\n",
       "      <th></th>\n",
       "      <th></th>\n",
       "      <th></th>\n",
       "      <th></th>\n",
       "      <th></th>\n",
       "      <th></th>\n",
       "      <th></th>\n",
       "      <th></th>\n",
       "      <th></th>\n",
       "      <th></th>\n",
       "      <th></th>\n",
       "      <th></th>\n",
       "      <th></th>\n",
       "      <th></th>\n",
       "    </tr>\n",
       "  </thead>\n",
       "  <tbody>\n",
       "    <tr>\n",
       "      <th>dap_econ_2021_1</th>\n",
       "      <td>Алгазинов Александр Иванович</td>\n",
       "      <td>aialgazinov@edu.hse.ru</td>\n",
       "      <td>БЭК201</td>\n",
       "      <td>1.0</td>\n",
       "      <td>5.0</td>\n",
       "      <td>5.0</td>\n",
       "      <td>5.0</td>\n",
       "      <td>5.0</td>\n",
       "      <td>10.0</td>\n",
       "      <td>10.0</td>\n",
       "      <td>...</td>\n",
       "      <td>75.0</td>\n",
       "      <td>34.0</td>\n",
       "      <td>33.0</td>\n",
       "      <td>33.0</td>\n",
       "      <td>100.0</td>\n",
       "      <td>NaN</td>\n",
       "      <td>NaN</td>\n",
       "      <td>NaN</td>\n",
       "      <td>2,935</td>\n",
       "      <td>3.0</td>\n",
       "    </tr>\n",
       "    <tr>\n",
       "      <th>dap_econ_2021_2</th>\n",
       "      <td>Арайсси Габриел -</td>\n",
       "      <td>garayssi@edu.hse.ru</td>\n",
       "      <td>БЭК201</td>\n",
       "      <td>2.0</td>\n",
       "      <td>5.0</td>\n",
       "      <td>5.0</td>\n",
       "      <td>5.0</td>\n",
       "      <td>4.0</td>\n",
       "      <td>10.0</td>\n",
       "      <td>NaN</td>\n",
       "      <td>...</td>\n",
       "      <td>55.0</td>\n",
       "      <td>0.0</td>\n",
       "      <td>NaN</td>\n",
       "      <td>NaN</td>\n",
       "      <td>0.0</td>\n",
       "      <td>NaN</td>\n",
       "      <td>NaN</td>\n",
       "      <td>NaN</td>\n",
       "      <td>1,09</td>\n",
       "      <td>1.0</td>\n",
       "    </tr>\n",
       "    <tr>\n",
       "      <th>dap_econ_2021_3</th>\n",
       "      <td>Батавиль Абдулрахман -</td>\n",
       "      <td>abatavil@edu.hse.ru</td>\n",
       "      <td>БЭК201</td>\n",
       "      <td>3.0</td>\n",
       "      <td>NaN</td>\n",
       "      <td>NaN</td>\n",
       "      <td>NaN</td>\n",
       "      <td>NaN</td>\n",
       "      <td>NaN</td>\n",
       "      <td>NaN</td>\n",
       "      <td>...</td>\n",
       "      <td>0.0</td>\n",
       "      <td>NaN</td>\n",
       "      <td>NaN</td>\n",
       "      <td>NaN</td>\n",
       "      <td>0.0</td>\n",
       "      <td>NaN</td>\n",
       "      <td>NaN</td>\n",
       "      <td>NaN</td>\n",
       "      <td>0</td>\n",
       "      <td>0.0</td>\n",
       "    </tr>\n",
       "    <tr>\n",
       "      <th>dap_econ_2021_4</th>\n",
       "      <td>Безуглый Александр Олегович</td>\n",
       "      <td>aobezuglyy_1@edu.hse.ru</td>\n",
       "      <td>БЭК201</td>\n",
       "      <td>4.0</td>\n",
       "      <td>5.0</td>\n",
       "      <td>5.0</td>\n",
       "      <td>5.0</td>\n",
       "      <td>4.0</td>\n",
       "      <td>10.0</td>\n",
       "      <td>10.0</td>\n",
       "      <td>...</td>\n",
       "      <td>95.0</td>\n",
       "      <td>NaN</td>\n",
       "      <td>NaN</td>\n",
       "      <td>NaN</td>\n",
       "      <td>0.0</td>\n",
       "      <td>NaN</td>\n",
       "      <td>NaN</td>\n",
       "      <td>NaN</td>\n",
       "      <td>2,57</td>\n",
       "      <td>3.0</td>\n",
       "    </tr>\n",
       "    <tr>\n",
       "      <th>dap_econ_2021_5</th>\n",
       "      <td>Бочкарев Сергей Максимович</td>\n",
       "      <td>smbochkarev@edu.hse.ru</td>\n",
       "      <td>БЭК201</td>\n",
       "      <td>5.0</td>\n",
       "      <td>5.0</td>\n",
       "      <td>5.0</td>\n",
       "      <td>5.0</td>\n",
       "      <td>5.0</td>\n",
       "      <td>10.0</td>\n",
       "      <td>10.0</td>\n",
       "      <td>...</td>\n",
       "      <td>40.0</td>\n",
       "      <td>34.0</td>\n",
       "      <td>0.0</td>\n",
       "      <td>33.0</td>\n",
       "      <td>67.0</td>\n",
       "      <td>NaN</td>\n",
       "      <td>NaN</td>\n",
       "      <td>NaN</td>\n",
       "      <td>2,605</td>\n",
       "      <td>3.0</td>\n",
       "    </tr>\n",
       "  </tbody>\n",
       "</table>\n",
       "<p>5 rows × 42 columns</p>\n",
       "</div>"
      ],
      "text/plain": [
       "                                              Адрес студенческой почты  \\\n",
       "Login                                                                    \n",
       "dap_econ_2021_1  Алгазинов Александр Иванович   aialgazinov@edu.hse.ru   \n",
       "dap_econ_2021_2             Арайсси Габриел -      garayssi@edu.hse.ru   \n",
       "dap_econ_2021_3        Батавиль Абдулрахман -      abatavil@edu.hse.ru   \n",
       "dap_econ_2021_4   Безуглый Александр Олегович  aobezuglyy_1@edu.hse.ru   \n",
       "dap_econ_2021_5    Бочкарев Сергей Максимович   smbochkarev@edu.hse.ru   \n",
       "\n",
       "                 группа  num  hw01_a  hw01_b  hw01_c  hw01_d  hw01_e  hw01_f  \\\n",
       "Login                                                                          \n",
       "dap_econ_2021_1  БЭК201  1.0     5.0     5.0     5.0     5.0    10.0    10.0   \n",
       "dap_econ_2021_2  БЭК201  2.0     5.0     5.0     5.0     4.0    10.0     NaN   \n",
       "dap_econ_2021_3  БЭК201  3.0     NaN     NaN     NaN     NaN     NaN     NaN   \n",
       "dap_econ_2021_4  БЭК201  4.0     5.0     5.0     5.0     4.0    10.0    10.0   \n",
       "dap_econ_2021_5  БЭК201  5.0     5.0     5.0     5.0     5.0    10.0    10.0   \n",
       "\n",
       "                 ...  cw01  cw02_A  cw02_B  cw02_C   cw02  cw03  КР  ЭКЗ  \\\n",
       "Login            ...                                                       \n",
       "dap_econ_2021_1  ...  75.0    34.0    33.0    33.0  100.0   NaN NaN  NaN   \n",
       "dap_econ_2021_2  ...  55.0     0.0     NaN     NaN    0.0   NaN NaN  NaN   \n",
       "dap_econ_2021_3  ...   0.0     NaN     NaN     NaN    0.0   NaN NaN  NaN   \n",
       "dap_econ_2021_4  ...  95.0     NaN     NaN     NaN    0.0   NaN NaN  NaN   \n",
       "dap_econ_2021_5  ...  40.0    34.0     0.0    33.0   67.0   NaN NaN  NaN   \n",
       "\n",
       "                 Сумма  Итог  \n",
       "Login                         \n",
       "dap_econ_2021_1  2,935   3.0  \n",
       "dap_econ_2021_2   1,09   1.0  \n",
       "dap_econ_2021_3      0   0.0  \n",
       "dap_econ_2021_4   2,57   3.0  \n",
       "dap_econ_2021_5  2,605   3.0  \n",
       "\n",
       "[5 rows x 42 columns]"
      ]
     },
     "execution_count": 156,
     "metadata": {},
     "output_type": "execute_result"
    }
   ],
   "source": [
    "df.head()"
   ]
  },
  {
   "cell_type": "code",
   "execution_count": 157,
   "metadata": {},
   "outputs": [
    {
     "data": {
      "text/plain": [
       "                                                        Бочкарев Сергей Максимович\n",
       "Адрес студенческой почты                                    smbochkarev@edu.hse.ru\n",
       "группа                                                                      БЭК201\n",
       "num                                                                            5.0\n",
       "hw01_a                                                                         5.0\n",
       "hw01_b                                                                         5.0\n",
       "hw01_c                                                                         5.0\n",
       "hw01_d                                                                         5.0\n",
       "hw01_e                                                                        10.0\n",
       "hw01_f                                                                        10.0\n",
       "hw01_g                                                                        10.0\n",
       "hw01_h                                                                        20.0\n",
       "hw01_i                                                                        15.0\n",
       "hw01_j                                                                        20.0\n",
       "hw01                                                                         105.0\n",
       "MVP для приложения \"Пенькофф Инвестиции\" (20 баллов)                          20.0\n",
       "Stonks (10 баллов)                                                            10.0\n",
       "Аэрохоккей (20 баллов)                                                        20.0\n",
       "Иначе говоря (10 баллов)                                                      10.0\n",
       "Каверы (10 баллов)                                                             1.0\n",
       "Лоликек (15 баллов)                                                           15.0\n",
       "Сжатие последовательности (15 баллов)                                         15.0\n",
       "Экзамен по машинному обучению 2 (10 баллов)                                   10.0\n",
       "hw02                                                                         101.0\n",
       "hw03                                                                           NaN\n",
       "hw04                                                                           NaN\n",
       "hw05                                                                           NaN\n",
       "cw01_A                                                                         0.0\n",
       "cw01_B                                                                         0.0\n",
       "cw01_C                                                                        20.0\n",
       "cw01_D                                                                        20.0\n",
       "cw01_E                                                                         NaN\n",
       "cw01                                                                          40.0\n",
       "cw02_A                                                                        34.0\n",
       "cw02_B                                                                         0.0\n",
       "cw02_C                                                                        33.0\n",
       "cw02                                                                          67.0\n",
       "cw03                                                                           NaN\n",
       "КР                                                                             NaN\n",
       "ЭКЗ                                                                            NaN\n",
       "Сумма                                                                        2,605\n",
       "Итог                                                                           3.0\n",
       "Name: dap_econ_2021_5, dtype: object"
      ]
     },
     "execution_count": 157,
     "metadata": {},
     "output_type": "execute_result"
    }
   ],
   "source": [
    "df.loc['dap_econ_2021_5']"
   ]
  },
  {
   "cell_type": "code",
   "execution_count": 159,
   "metadata": {},
   "outputs": [
    {
     "data": {
      "text/plain": [
       "array([['Алгазинов Александр Иванович', 'aialgazinov@edu.hse.ru',\n",
       "        'БЭК201', ..., nan, '2,935', 3.0],\n",
       "       ['Арайсси Габриел -', 'garayssi@edu.hse.ru', 'БЭК201', ..., nan,\n",
       "        '1,09', 1.0],\n",
       "       ['Батавиль Абдулрахман -', 'abatavil@edu.hse.ru', 'БЭК201', ...,\n",
       "        nan, '0', 0.0],\n",
       "       ...,\n",
       "       [nan, nan, nan, ..., nan, nan, nan],\n",
       "       [nan, nan, nan, ..., nan, nan, nan],\n",
       "       ['Марудас Павлос', 'pmaroudas@edu.hse.ru', 'БЭК2011', ..., nan,\n",
       "        '#REF!', nan]], dtype=object)"
      ]
     },
     "execution_count": 159,
     "metadata": {},
     "output_type": "execute_result"
    }
   ],
   "source": [
    "# Значения - нумпаевская матрица\n",
    "df.values"
   ]
  },
  {
   "cell_type": "markdown",
   "metadata": {},
   "source": [
    "## 3. Работа с табличкой"
   ]
  },
  {
   "cell_type": "code",
   "execution_count": 163,
   "metadata": {},
   "outputs": [
    {
     "data": {
      "text/html": [
       "<div>\n",
       "<style scoped>\n",
       "    .dataframe tbody tr th:only-of-type {\n",
       "        vertical-align: middle;\n",
       "    }\n",
       "\n",
       "    .dataframe tbody tr th {\n",
       "        vertical-align: top;\n",
       "    }\n",
       "\n",
       "    .dataframe thead th {\n",
       "        text-align: right;\n",
       "    }\n",
       "</style>\n",
       "<table border=\"1\" class=\"dataframe\">\n",
       "  <thead>\n",
       "    <tr style=\"text-align: right;\">\n",
       "      <th></th>\n",
       "      <th>hw01</th>\n",
       "      <th>hw02</th>\n",
       "      <th>cw01</th>\n",
       "      <th>cw02</th>\n",
       "    </tr>\n",
       "    <tr>\n",
       "      <th>Login</th>\n",
       "      <th></th>\n",
       "      <th></th>\n",
       "      <th></th>\n",
       "      <th></th>\n",
       "    </tr>\n",
       "  </thead>\n",
       "  <tbody>\n",
       "    <tr>\n",
       "      <th>dap_econ_2021_1</th>\n",
       "      <td>105.0</td>\n",
       "      <td>66.0</td>\n",
       "      <td>75.0</td>\n",
       "      <td>100.0</td>\n",
       "    </tr>\n",
       "    <tr>\n",
       "      <th>dap_econ_2021_2</th>\n",
       "      <td>68.0</td>\n",
       "      <td>20.0</td>\n",
       "      <td>55.0</td>\n",
       "      <td>0.0</td>\n",
       "    </tr>\n",
       "    <tr>\n",
       "      <th>dap_econ_2021_3</th>\n",
       "      <td>0.0</td>\n",
       "      <td>0.0</td>\n",
       "      <td>0.0</td>\n",
       "      <td>0.0</td>\n",
       "    </tr>\n",
       "    <tr>\n",
       "      <th>dap_econ_2021_4</th>\n",
       "      <td>104.0</td>\n",
       "      <td>110.0</td>\n",
       "      <td>95.0</td>\n",
       "      <td>0.0</td>\n",
       "    </tr>\n",
       "    <tr>\n",
       "      <th>dap_econ_2021_5</th>\n",
       "      <td>105.0</td>\n",
       "      <td>101.0</td>\n",
       "      <td>40.0</td>\n",
       "      <td>67.0</td>\n",
       "    </tr>\n",
       "  </tbody>\n",
       "</table>\n",
       "</div>"
      ],
      "text/plain": [
       "                  hw01   hw02  cw01   cw02\n",
       "Login                                     \n",
       "dap_econ_2021_1  105.0   66.0  75.0  100.0\n",
       "dap_econ_2021_2   68.0   20.0  55.0    0.0\n",
       "dap_econ_2021_3    0.0    0.0   0.0    0.0\n",
       "dap_econ_2021_4  104.0  110.0  95.0    0.0\n",
       "dap_econ_2021_5  105.0  101.0  40.0   67.0"
      ]
     },
     "execution_count": 163,
     "metadata": {},
     "output_type": "execute_result"
    }
   ],
   "source": [
    "df_s = df[['hw01', 'hw02', 'cw01', 'cw02']]\n",
    "df_s.head()"
   ]
  },
  {
   "cell_type": "code",
   "execution_count": 164,
   "metadata": {},
   "outputs": [
    {
     "data": {
      "text/html": [
       "<div>\n",
       "<style scoped>\n",
       "    .dataframe tbody tr th:only-of-type {\n",
       "        vertical-align: middle;\n",
       "    }\n",
       "\n",
       "    .dataframe tbody tr th {\n",
       "        vertical-align: top;\n",
       "    }\n",
       "\n",
       "    .dataframe thead th {\n",
       "        text-align: right;\n",
       "    }\n",
       "</style>\n",
       "<table border=\"1\" class=\"dataframe\">\n",
       "  <thead>\n",
       "    <tr style=\"text-align: right;\">\n",
       "      <th></th>\n",
       "      <th>hw01</th>\n",
       "      <th>hw02</th>\n",
       "      <th>cw01</th>\n",
       "      <th>cw02</th>\n",
       "    </tr>\n",
       "  </thead>\n",
       "  <tbody>\n",
       "    <tr>\n",
       "      <th>count</th>\n",
       "      <td>338.000000</td>\n",
       "      <td>337.000000</td>\n",
       "      <td>338.000000</td>\n",
       "      <td>337.000000</td>\n",
       "    </tr>\n",
       "    <tr>\n",
       "      <th>mean</th>\n",
       "      <td>64.718935</td>\n",
       "      <td>60.246291</td>\n",
       "      <td>45.970414</td>\n",
       "      <td>65.234421</td>\n",
       "    </tr>\n",
       "    <tr>\n",
       "      <th>std</th>\n",
       "      <td>42.077303</td>\n",
       "      <td>42.379681</td>\n",
       "      <td>34.744583</td>\n",
       "      <td>39.639014</td>\n",
       "    </tr>\n",
       "    <tr>\n",
       "      <th>min</th>\n",
       "      <td>0.000000</td>\n",
       "      <td>0.000000</td>\n",
       "      <td>0.000000</td>\n",
       "      <td>0.000000</td>\n",
       "    </tr>\n",
       "    <tr>\n",
       "      <th>25%</th>\n",
       "      <td>16.000000</td>\n",
       "      <td>10.000000</td>\n",
       "      <td>0.000000</td>\n",
       "      <td>34.000000</td>\n",
       "    </tr>\n",
       "    <tr>\n",
       "      <th>50%</th>\n",
       "      <td>84.000000</td>\n",
       "      <td>69.000000</td>\n",
       "      <td>53.000000</td>\n",
       "      <td>67.000000</td>\n",
       "    </tr>\n",
       "    <tr>\n",
       "      <th>75%</th>\n",
       "      <td>105.000000</td>\n",
       "      <td>100.000000</td>\n",
       "      <td>75.000000</td>\n",
       "      <td>100.000000</td>\n",
       "    </tr>\n",
       "    <tr>\n",
       "      <th>max</th>\n",
       "      <td>105.000000</td>\n",
       "      <td>110.000000</td>\n",
       "      <td>100.000000</td>\n",
       "      <td>100.000000</td>\n",
       "    </tr>\n",
       "  </tbody>\n",
       "</table>\n",
       "</div>"
      ],
      "text/plain": [
       "             hw01        hw02        cw01        cw02\n",
       "count  338.000000  337.000000  338.000000  337.000000\n",
       "mean    64.718935   60.246291   45.970414   65.234421\n",
       "std     42.077303   42.379681   34.744583   39.639014\n",
       "min      0.000000    0.000000    0.000000    0.000000\n",
       "25%     16.000000   10.000000    0.000000   34.000000\n",
       "50%     84.000000   69.000000   53.000000   67.000000\n",
       "75%    105.000000  100.000000   75.000000  100.000000\n",
       "max    105.000000  110.000000  100.000000  100.000000"
      ]
     },
     "execution_count": 164,
     "metadata": {},
     "output_type": "execute_result"
    }
   ],
   "source": [
    "df_s.describe()"
   ]
  },
  {
   "cell_type": "code",
   "execution_count": 169,
   "metadata": {},
   "outputs": [
    {
     "data": {
      "text/plain": [
       "<AxesSubplot:>"
      ]
     },
     "execution_count": 169,
     "metadata": {},
     "output_type": "execute_result"
    },
    {
     "data": {
      "image/png": "[encoded data removed]",
      "text/plain": [
       "<Figure size 432x288 with 1 Axes>"
      ]
     },
     "metadata": {
      "needs_background": "light"
     },
     "output_type": "display_data"
    }
   ],
   "source": [
    "df_s['hw01'].hist()"
   ]
  },
  {
   "cell_type": "code",
   "execution_count": 171,
   "metadata": {},
   "outputs": [
    {
     "data": {
      "text/plain": [
       "Login\n",
       "dap_econ_2021_1       True\n",
       "dap_econ_2021_2      False\n",
       "dap_econ_2021_3      False\n",
       "dap_econ_2021_4       True\n",
       "dap_econ_2021_5       True\n",
       "                     ...  \n",
       "dap_econ_2021_446    False\n",
       "dap_econ_2021_447    False\n",
       "dap_econ_2021_448    False\n",
       "dap_econ_2021_449    False\n",
       "dap_econ_2021_450    False\n",
       "Name: hw01, Length: 450, dtype: bool"
      ]
     },
     "execution_count": 171,
     "metadata": {},
     "output_type": "execute_result"
    }
   ],
   "source": [
    "df_s['hw01'] >= 100"
   ]
  },
  {
   "cell_type": "code",
   "execution_count": 173,
   "metadata": {},
   "outputs": [
    {
     "data": {
      "text/plain": [
       "(125, 4)"
      ]
     },
     "execution_count": 173,
     "metadata": {},
     "output_type": "execute_result"
    }
   ],
   "source": [
    "df_s[df_s['hw01'] >= 100].shape"
   ]
  },
  {
   "cell_type": "markdown",
   "metadata": {},
   "source": [
    "__Задание:__\n",
    "\n",
    "Прорешать тетрадку с pandas:  https://nbviewer.jupyter.org/github/hse-econ-data-science/dap_2021_spring/blob/main/sem08_pandas/sem08_pandas_intro.ipynb"
   ]
  },
  {
   "cell_type": "markdown",
   "metadata": {},
   "source": [
    "## 4. Очень хорошие вопросы "
   ]
  },
  {
   "cell_type": "markdown",
   "metadata": {},
   "source": [
    "__А чем отличаются методы от функций__ "
   ]
  },
  {
   "cell_type": "code",
   "execution_count": 122,
   "metadata": {},
   "outputs": [],
   "source": [
    "# любая переменная в python - это объект \n",
    "\n",
    "class Game():\n",
    "    def __init__(self, size):\n",
    "        self.size = size\n",
    "    \n",
    "    def play(self):\n",
    "        print(self.size)"
   ]
  },
  {
   "cell_type": "code",
   "execution_count": 124,
   "metadata": {},
   "outputs": [
    {
     "name": "stdout",
     "output_type": "stream",
     "text": [
      "20\n"
     ]
    }
   ],
   "source": [
    "x = Game(20)\n",
    "x.size\n",
    "x.play()"
   ]
  },
  {
   "cell_type": "code",
   "execution_count": 125,
   "metadata": {},
   "outputs": [
    {
     "name": "stdout",
     "output_type": "stream",
     "text": [
      "30\n"
     ]
    }
   ],
   "source": [
    "y = Game(30)\n",
    "y.size\n",
    "y.play()"
   ]
  },
  {
   "cell_type": "code",
   "execution_count": 126,
   "metadata": {},
   "outputs": [],
   "source": [
    "# если функция прописана внутри интерфейса, она - метод\n",
    "# ессли функциия прописана вне интерфейса - функция"
   ]
  },
  {
   "cell_type": "code",
   "execution_count": 129,
   "metadata": {},
   "outputs": [
    {
     "data": {
      "text/plain": [
       "15"
      ]
     },
     "execution_count": 129,
     "metadata": {},
     "output_type": "execute_result"
    }
   ],
   "source": [
    "import numpy as np\n",
    "x = np.array([1,2,3,4,5])\n",
    "x.sum()   # метод"
   ]
  },
  {
   "cell_type": "code",
   "execution_count": 130,
   "metadata": {},
   "outputs": [
    {
     "data": {
      "text/plain": [
       "15"
      ]
     },
     "execution_count": 130,
     "metadata": {},
     "output_type": "execute_result"
    }
   ],
   "source": [
    "np.sum(x) # функция"
   ]
  },
  {
   "cell_type": "markdown",
   "metadata": {},
   "source": [
    "__Что такое кодировка?__"
   ]
  },
  {
   "cell_type": "code",
   "execution_count": 184,
   "metadata": {},
   "outputs": [
    {
     "data": {
      "text/plain": [
       "b'\\xcf\\xf0\\xe8\\xe2\\xe5\\xf2, \\xec\\xe8\\xf0!'"
      ]
     },
     "execution_count": 184,
     "metadata": {},
     "output_type": "execute_result"
    }
   ],
   "source": [
    "a = 'Привет, мир!'\n",
    "a = a.encode('cp1251')\n",
    "a"
   ]
  },
  {
   "cell_type": "code",
   "execution_count": 185,
   "metadata": {},
   "outputs": [
    {
     "data": {
      "text/plain": [
       "'Привет, мир!'"
      ]
     },
     "execution_count": 185,
     "metadata": {},
     "output_type": "execute_result"
    }
   ],
   "source": [
    "a = a.decode('cp1251')\n",
    "a"
   ]
  },
  {
   "cell_type": "code",
   "execution_count": 186,
   "metadata": {},
   "outputs": [
    {
     "data": {
      "text/plain": [
       "b'\\xd0\\x9f\\xd1\\x80\\xd0\\xb8\\xd0\\xb2\\xd0\\xb5\\xd1\\x82, \\xd0\\xbc\\xd0\\xb8\\xd1\\x80!'"
      ]
     },
     "execution_count": 186,
     "metadata": {},
     "output_type": "execute_result"
    }
   ],
   "source": [
    "a = 'Привет, мир!'\n",
    "a = a.encode('utf-8')\n",
    "a"
   ]
  },
  {
   "cell_type": "code",
   "execution_count": 187,
   "metadata": {},
   "outputs": [
    {
     "data": {
      "text/plain": [
       "'Привет, мир!'"
      ]
     },
     "execution_count": 187,
     "metadata": {},
     "output_type": "execute_result"
    }
   ],
   "source": [
    "a = a.decode('utf-8')\n",
    "a"
   ]
  },
  {
   "cell_type": "code",
   "execution_count": 190,
   "metadata": {},
   "outputs": [
    {
     "data": {
      "text/plain": [
       "''"
      ]
     },
     "execution_count": 190,
     "metadata": {},
     "output_type": "execute_result"
    }
   ],
   "source": [
    "with open('sem08/myFile.txt', 'r', encoding='utf-8') as f:\n",
    "    s = f.read()    \n",
    "s"
   ]
  },
  {
   "cell_type": "markdown",
   "metadata": {},
   "source": [
    " "
   ]
  }
 ],
 "metadata": {
  "kernelspec": {
   "display_name": "Python 3",
   "language": "python",
   "name": "python3"
  },
  "language_info": {
   "codemirror_mode": {
    "name": "ipython",
    "version": 3
   },
   "file_extension": ".py",
   "mimetype": "text/x-python",
   "name": "python",
   "nbconvert_exporter": "python",
   "pygments_lexer": "ipython3",
   "version": "3.9.1"
  }
 },
 "nbformat": 4,
 "nbformat_minor": 4
}
