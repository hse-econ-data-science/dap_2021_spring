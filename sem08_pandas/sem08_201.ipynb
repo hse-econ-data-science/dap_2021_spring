{
 "cells": [
  {
   "cell_type": "markdown",
   "metadata": {},
   "source": [
    "# Семинар 8:  файловая система и pandas"
   ]
  },
  {
   "cell_type": "code",
   "execution_count": 1,
   "metadata": {},
   "outputs": [],
   "source": [
    "import pandas as pd  # ещё один кит анализа данных, начнём обсуждать его "
   ]
  },
  {
   "cell_type": "markdown",
   "metadata": {},
   "source": [
    "##  1. Файловая система и python\n",
    "\n",
    "`os` - пакет для работы сс файловой системой компьютера, в нём можно создавать файлы, удалять файлы и делать много других штук. Подробнее по ссылке ниже. "
   ]
  },
  {
   "cell_type": "code",
   "execution_count": 5,
   "metadata": {},
   "outputs": [
    {
     "data": {
      "text/plain": [
       "['hw01',\n",
       " 'small_tasks.ipynb',\n",
       " 'mid_review.md',\n",
       " 'bashrc_asya',\n",
       " 'fulyankin_python',\n",
       " '.DS_Store',\n",
       " 'equalPPT_and_FFS.py',\n",
       " 'limbo_cclones',\n",
       " '.localized',\n",
       " 'Untitled.ipynb',\n",
       " 'HSE_Bayes_exam.ipynb',\n",
       " 'про курс ',\n",
       " 'test.nt',\n",
       " 'tests',\n",
       " 'desktop',\n",
       " 'nuumpy_tasks.ipynb',\n",
       " 'numpy',\n",
       " 'toloka.tsv',\n",
       " 'submits',\n",
       " 'mmm.jpg',\n",
       " 'test.java',\n",
       " 'limbo_videos',\n",
       " 'message.txt',\n",
       " 'week_tasks 2',\n",
       " 'Uchebnik_Kartaev_Vvedenie_v_ekonometriku.pdf',\n",
       " 'yang.tsv',\n",
       " 'test.txt',\n",
       " '.ipynb_checkpoints',\n",
       " 'video_limb',\n",
       " 'notes.md',\n",
       " 'arc',\n",
       " 'limbo_moders',\n",
       " 'checker.ipynb',\n",
       " 'what_i_want_to_tell.ipynb',\n",
       " 'solution2.py',\n",
       " 'hz.py',\n",
       " 'email_sender.ipynb',\n",
       " 'limbo_clusters',\n",
       " 'antizen_mv_v2.py']"
      ]
     },
     "execution_count": 5,
     "metadata": {},
     "output_type": "execute_result"
    }
   ],
   "source": [
    "import os     # https://pythonworld.ru/moduli/modul-os.html\n",
    "\n",
    "# список файлов в текущей папке\n",
    "os.listdir() "
   ]
  },
  {
   "cell_type": "code",
   "execution_count": 4,
   "metadata": {},
   "outputs": [
    {
     "data": {
      "text/plain": [
       "'/Users/randomwalk/Desktop'"
      ]
     },
     "execution_count": 4,
     "metadata": {},
     "output_type": "execute_result"
    }
   ],
   "source": [
    "pwd  # посмотреть в какой папке вы находитесь "
   ]
  },
  {
   "cell_type": "markdown",
   "metadata": {},
   "source": [
    "## 2. Работа с файлами\n",
    "\n",
    "- В [семинаре 3](https://github.com/hse-econ-data-science/dap_2021_spring/blob/main/sem03_functions/sem03_functions.ipynb) были ещё примеры :) \n",
    "- Дополнительно [почитайте статью](https://tproger.ru/articles/files-in-python/)"
   ]
  },
  {
   "cell_type": "code",
   "execution_count": 26,
   "metadata": {},
   "outputs": [
    {
     "data": {
      "text/plain": [
       "'Привет!\\nМаша!'"
      ]
     },
     "execution_count": 26,
     "metadata": {},
     "output_type": "execute_result"
    }
   ],
   "source": [
    "f = open('message.txt', 'r')  # открыть файл\n",
    "\n",
    "# считать данные из него можно по-разному\n",
    "#f.readline()\n",
    "#f.readlines()\n",
    "s = f.read()\n",
    "\n",
    "f.close() # после прочитывания файл надо закрыть\n",
    "\n",
    "s"
   ]
  },
  {
   "cell_type": "markdown",
   "metadata": {},
   "source": [
    "Чтобы не следить за тем, какие файлы мы не закрыли, удобно пользоваться конструкцией `with`, которая сама этим занимается. "
   ]
  },
  {
   "cell_type": "code",
   "execution_count": 45,
   "metadata": {},
   "outputs": [
    {
     "data": {
      "text/plain": [
       "'Привет!\\nМаша!\\nТы супер!\\n'"
      ]
     },
     "execution_count": 45,
     "metadata": {},
     "output_type": "execute_result"
    }
   ],
   "source": [
    "with open('message.txt', 'r') as f:\n",
    "    s = f.read() \n",
    "    \n",
    "s  # \\n - перенос строки \\t - табуляция"
   ]
  },
  {
   "cell_type": "code",
   "execution_count": 46,
   "metadata": {},
   "outputs": [
    {
     "name": "stdout",
     "output_type": "stream",
     "text": [
      "Привет!\n",
      "Маша!\n",
      "Ты супер!\n",
      "\n"
     ]
    }
   ],
   "source": [
    "print(s)"
   ]
  },
  {
   "cell_type": "code",
   "execution_count": 41,
   "metadata": {},
   "outputs": [],
   "source": [
    "# Режимы для открытия: \n",
    "# r - чтение (read)\n",
    "# w - перезаписть (write)\n",
    "# a - дозапись (append)\n",
    "\n",
    "with open('message.txt', 'a') as f:\n",
    "    f.write('\\nТы супер!\\n')"
   ]
  },
  {
   "cell_type": "code",
   "execution_count": 44,
   "metadata": {},
   "outputs": [],
   "source": [
    "with open('message.txt', 'w') as f:\n",
    "    f.write('Привет!\\nМаша!\\nТы супер!\\n')"
   ]
  },
  {
   "cell_type": "markdown",
   "metadata": {},
   "source": [
    "## 3. Виды файлов, расширения\n",
    "\n",
    "* `.txt` - обычный файлик с текстом\n",
    "* `.json` - почти питоновский словарь, но с более жестоким форматированием\n",
    "* `.pickle` - бинарные файлы\n",
    "* Различные таблички: `.csv`, `.tsv`, `.xslx`"
   ]
  },
  {
   "cell_type": "markdown",
   "metadata": {},
   "source": [
    "__json__\n",
    "\n",
    "- [Что такое json и как работать c ним в python](https://python-scripts.com/json)"
   ]
  },
  {
   "cell_type": "code",
   "execution_count": 48,
   "metadata": {},
   "outputs": [],
   "source": [
    "import json\n",
    "\n",
    "with open('com.json', 'r') as f:\n",
    "    s = json.load(f)"
   ]
  },
  {
   "cell_type": "code",
   "execution_count": 50,
   "metadata": {},
   "outputs": [
    {
     "data": {
      "text/plain": [
       "dict_keys(['data', 'tresholds'])"
      ]
     },
     "execution_count": 50,
     "metadata": {},
     "output_type": "execute_result"
    }
   ],
   "source": [
    "s.keys()"
   ]
  },
  {
   "cell_type": "code",
   "execution_count": 53,
   "metadata": {},
   "outputs": [
    {
     "data": {
      "text/plain": [
       "'native'"
      ]
     },
     "execution_count": 53,
     "metadata": {},
     "output_type": "execute_result"
    }
   ],
   "source": [
    "s['tresholds'][5]['inputType']"
   ]
  },
  {
   "cell_type": "code",
   "execution_count": 54,
   "metadata": {},
   "outputs": [],
   "source": [
    "with open('com_01.json', 'w') as f:\n",
    "    json.dump(s['tresholds'], f)"
   ]
  },
  {
   "cell_type": "markdown",
   "metadata": {},
   "source": [
    "__pickle__\n",
    "\n",
    "- [pickle для начинающих и чайников](https://pythonworld.ru/moduli/modul-pickle.html)\n",
    "- [более подробно про pickle и сериализацию](https://proglib.io/p/kak-hranit-obekty-python-so-slozhnoy-strukturoy-moduli-pickle-i-dill-2020-04-30)"
   ]
  },
  {
   "cell_type": "code",
   "execution_count": 56,
   "metadata": {},
   "outputs": [],
   "source": [
    "import pickle\n",
    "\n",
    "a = [1, 2, 3, 'Маша']\n",
    "\n",
    "with open('my_data.pickle', 'wb') as f:\n",
    "    pickle.dump(a, f)"
   ]
  },
  {
   "cell_type": "code",
   "execution_count": 57,
   "metadata": {},
   "outputs": [
    {
     "name": "stdout",
     "output_type": "stream",
     "text": [
      "�\u0004�\u0016\u0000\u0000\u0000\u0000\u0000\u0000\u0000]�(K\u0001K\u0002K\u0003�\bМаша�e."
     ]
    }
   ],
   "source": [
    "!cat my_data.pickle"
   ]
  },
  {
   "cell_type": "code",
   "execution_count": 58,
   "metadata": {},
   "outputs": [
    {
     "data": {
      "text/plain": [
       "[1, 2, 3, 'Маша']"
      ]
     },
     "execution_count": 58,
     "metadata": {},
     "output_type": "execute_result"
    }
   ],
   "source": [
    "with open('my_data.pickle', 'rb') as f:\n",
    "    b = pickle.load(f)\n",
    "\n",
    "b"
   ]
  },
  {
   "cell_type": "code",
   "execution_count": 59,
   "metadata": {},
   "outputs": [
    {
     "data": {
      "text/plain": [
       "True"
      ]
     },
     "execution_count": 59,
     "metadata": {},
     "output_type": "execute_result"
    }
   ],
   "source": [
    "a == b"
   ]
  },
  {
   "cell_type": "markdown",
   "metadata": {},
   "source": [
    "__Таблицы__\n",
    "\n",
    "- `tsv` - текстовый файл, где столбцы отделены друг от друга знаком табуляции\n",
    "- `csv` - текстовый файл, где столбцы отделены друг от друга запятой\n",
    "\n",
    "Сегодня в csv используют и другие символы для разделения столбиков друг от друга. "
   ]
  },
  {
   "cell_type": "code",
   "execution_count": 60,
   "metadata": {},
   "outputs": [
    {
     "data": {
      "text/plain": [
       "'/Users/randomwalk/Desktop'"
      ]
     },
     "execution_count": 60,
     "metadata": {},
     "output_type": "execute_result"
    }
   ],
   "source": [
    "pwd"
   ]
  },
  {
   "cell_type": "code",
   "execution_count": 76,
   "metadata": {},
   "outputs": [
    {
     "data": {
      "text/plain": [
       "(450, 43)"
      ]
     },
     "execution_count": 76,
     "metadata": {},
     "output_type": "execute_result"
    }
   ],
   "source": [
    "df = pd.read_csv('/Users/randomwalk/Downloads/dap_2021.tsv', sep='\\t', decimal=',')\n",
    "df.shape"
   ]
  },
  {
   "cell_type": "code",
   "execution_count": 73,
   "metadata": {},
   "outputs": [
    {
     "name": "stdout",
     "output_type": "stream",
     "text": [
      "/Users/randomwalk/Desktop\n"
     ]
    }
   ],
   "source": [
    "cd ../Desktop"
   ]
  },
  {
   "cell_type": "code",
   "execution_count": 74,
   "metadata": {},
   "outputs": [
    {
     "data": {
      "text/plain": [
       "'/Users/randomwalk/Desktop'"
      ]
     },
     "execution_count": 74,
     "metadata": {},
     "output_type": "execute_result"
    }
   ],
   "source": [
    "pwd"
   ]
  },
  {
   "cell_type": "code",
   "execution_count": 75,
   "metadata": {},
   "outputs": [
    {
     "data": {
      "text/plain": [
       "(450, 43)"
      ]
     },
     "execution_count": 75,
     "metadata": {},
     "output_type": "execute_result"
    }
   ],
   "source": [
    "df = pd.read_csv('../Downloads/dap_2021.tsv', sep='\\t', decimal=',')\n",
    "df.shape"
   ]
  },
  {
   "cell_type": "markdown",
   "metadata": {},
   "source": [
    "## 4. Работа с таблицами\n",
    "\n",
    "`pandas` - удобный пакет для работы с таблицами :) \n",
    "\n",
    "__Примечание:__ прочитайте [конспект семинара](https://nbviewer.jupyter.org/github/hse-econ-data-science/dap_2021_spring/blob/main/sem08_pandas/sem08_pandas_intro.ipynb) и как следует разберитесь в нём! "
   ]
  },
  {
   "cell_type": "code",
   "execution_count": 78,
   "metadata": {},
   "outputs": [
    {
     "data": {
      "text/plain": [
       "(450, 43)"
      ]
     },
     "execution_count": 78,
     "metadata": {},
     "output_type": "execute_result"
    }
   ],
   "source": [
    "df = pd.read_csv('../Downloads/dap_2021.tsv', sep='\\t', decimal=',')\n",
    "df.shape"
   ]
  },
  {
   "cell_type": "code",
   "execution_count": 79,
   "metadata": {},
   "outputs": [
    {
     "data": {
      "text/html": [
       "<div>\n",
       "<style scoped>\n",
       "    .dataframe tbody tr th:only-of-type {\n",
       "        vertical-align: middle;\n",
       "    }\n",
       "\n",
       "    .dataframe tbody tr th {\n",
       "        vertical-align: top;\n",
       "    }\n",
       "\n",
       "    .dataframe thead th {\n",
       "        text-align: right;\n",
       "    }\n",
       "</style>\n",
       "<table border=\"1\" class=\"dataframe\">\n",
       "  <thead>\n",
       "    <tr style=\"text-align: right;\">\n",
       "      <th></th>\n",
       "      <th></th>\n",
       "      <th>Адрес студенческой почты</th>\n",
       "      <th>группа</th>\n",
       "      <th>Login</th>\n",
       "      <th>num</th>\n",
       "      <th>hw01_a</th>\n",
       "      <th>hw01_b</th>\n",
       "      <th>hw01_c</th>\n",
       "      <th>hw01_d</th>\n",
       "      <th>hw01_e</th>\n",
       "      <th>...</th>\n",
       "      <th>cw01</th>\n",
       "      <th>cw02_A</th>\n",
       "      <th>cw02_B</th>\n",
       "      <th>cw02_C</th>\n",
       "      <th>cw02</th>\n",
       "      <th>cw03</th>\n",
       "      <th>КР</th>\n",
       "      <th>ЭКЗ</th>\n",
       "      <th>Сумма</th>\n",
       "      <th>Итог</th>\n",
       "    </tr>\n",
       "  </thead>\n",
       "  <tbody>\n",
       "    <tr>\n",
       "      <th>0</th>\n",
       "      <td>Алгазинов Александр Иванович</td>\n",
       "      <td>aialgazinov@edu.hse.ru</td>\n",
       "      <td>БЭК201</td>\n",
       "      <td>dap_econ_2021_1</td>\n",
       "      <td>1.0</td>\n",
       "      <td>5.0</td>\n",
       "      <td>5.0</td>\n",
       "      <td>5.0</td>\n",
       "      <td>5.0</td>\n",
       "      <td>10.0</td>\n",
       "      <td>...</td>\n",
       "      <td>75.0</td>\n",
       "      <td>34.0</td>\n",
       "      <td>33.0</td>\n",
       "      <td>33.0</td>\n",
       "      <td>100.0</td>\n",
       "      <td>NaN</td>\n",
       "      <td>NaN</td>\n",
       "      <td>NaN</td>\n",
       "      <td>2,935</td>\n",
       "      <td>3.0</td>\n",
       "    </tr>\n",
       "    <tr>\n",
       "      <th>1</th>\n",
       "      <td>Арайсси Габриел -</td>\n",
       "      <td>garayssi@edu.hse.ru</td>\n",
       "      <td>БЭК201</td>\n",
       "      <td>dap_econ_2021_2</td>\n",
       "      <td>2.0</td>\n",
       "      <td>5.0</td>\n",
       "      <td>5.0</td>\n",
       "      <td>5.0</td>\n",
       "      <td>4.0</td>\n",
       "      <td>10.0</td>\n",
       "      <td>...</td>\n",
       "      <td>55.0</td>\n",
       "      <td>0.0</td>\n",
       "      <td>NaN</td>\n",
       "      <td>NaN</td>\n",
       "      <td>0.0</td>\n",
       "      <td>NaN</td>\n",
       "      <td>NaN</td>\n",
       "      <td>NaN</td>\n",
       "      <td>1,09</td>\n",
       "      <td>1.0</td>\n",
       "    </tr>\n",
       "    <tr>\n",
       "      <th>2</th>\n",
       "      <td>Батавиль Абдулрахман -</td>\n",
       "      <td>abatavil@edu.hse.ru</td>\n",
       "      <td>БЭК201</td>\n",
       "      <td>dap_econ_2021_3</td>\n",
       "      <td>3.0</td>\n",
       "      <td>NaN</td>\n",
       "      <td>NaN</td>\n",
       "      <td>NaN</td>\n",
       "      <td>NaN</td>\n",
       "      <td>NaN</td>\n",
       "      <td>...</td>\n",
       "      <td>0.0</td>\n",
       "      <td>NaN</td>\n",
       "      <td>NaN</td>\n",
       "      <td>NaN</td>\n",
       "      <td>0.0</td>\n",
       "      <td>NaN</td>\n",
       "      <td>NaN</td>\n",
       "      <td>NaN</td>\n",
       "      <td>0</td>\n",
       "      <td>0.0</td>\n",
       "    </tr>\n",
       "    <tr>\n",
       "      <th>3</th>\n",
       "      <td>Безуглый Александр Олегович</td>\n",
       "      <td>aobezuglyy_1@edu.hse.ru</td>\n",
       "      <td>БЭК201</td>\n",
       "      <td>dap_econ_2021_4</td>\n",
       "      <td>4.0</td>\n",
       "      <td>5.0</td>\n",
       "      <td>5.0</td>\n",
       "      <td>5.0</td>\n",
       "      <td>4.0</td>\n",
       "      <td>10.0</td>\n",
       "      <td>...</td>\n",
       "      <td>95.0</td>\n",
       "      <td>NaN</td>\n",
       "      <td>NaN</td>\n",
       "      <td>NaN</td>\n",
       "      <td>0.0</td>\n",
       "      <td>NaN</td>\n",
       "      <td>NaN</td>\n",
       "      <td>NaN</td>\n",
       "      <td>2,57</td>\n",
       "      <td>3.0</td>\n",
       "    </tr>\n",
       "    <tr>\n",
       "      <th>4</th>\n",
       "      <td>Бочкарев Сергей Максимович</td>\n",
       "      <td>smbochkarev@edu.hse.ru</td>\n",
       "      <td>БЭК201</td>\n",
       "      <td>dap_econ_2021_5</td>\n",
       "      <td>5.0</td>\n",
       "      <td>5.0</td>\n",
       "      <td>5.0</td>\n",
       "      <td>5.0</td>\n",
       "      <td>5.0</td>\n",
       "      <td>10.0</td>\n",
       "      <td>...</td>\n",
       "      <td>40.0</td>\n",
       "      <td>34.0</td>\n",
       "      <td>0.0</td>\n",
       "      <td>33.0</td>\n",
       "      <td>67.0</td>\n",
       "      <td>NaN</td>\n",
       "      <td>NaN</td>\n",
       "      <td>NaN</td>\n",
       "      <td>2,605</td>\n",
       "      <td>3.0</td>\n",
       "    </tr>\n",
       "  </tbody>\n",
       "</table>\n",
       "<p>5 rows × 43 columns</p>\n",
       "</div>"
      ],
      "text/plain": [
       "                                Адрес студенческой почты  группа  \\\n",
       "0  Алгазинов Александр Иванович   aialgazinov@edu.hse.ru  БЭК201   \n",
       "1             Арайсси Габриел -      garayssi@edu.hse.ru  БЭК201   \n",
       "2        Батавиль Абдулрахман -      abatavil@edu.hse.ru  БЭК201   \n",
       "3   Безуглый Александр Олегович  aobezuglyy_1@edu.hse.ru  БЭК201   \n",
       "4    Бочкарев Сергей Максимович   smbochkarev@edu.hse.ru  БЭК201   \n",
       "\n",
       "             Login  num  hw01_a  hw01_b  hw01_c  hw01_d  hw01_e  ...  cw01  \\\n",
       "0  dap_econ_2021_1  1.0     5.0     5.0     5.0     5.0    10.0  ...  75.0   \n",
       "1  dap_econ_2021_2  2.0     5.0     5.0     5.0     4.0    10.0  ...  55.0   \n",
       "2  dap_econ_2021_3  3.0     NaN     NaN     NaN     NaN     NaN  ...   0.0   \n",
       "3  dap_econ_2021_4  4.0     5.0     5.0     5.0     4.0    10.0  ...  95.0   \n",
       "4  dap_econ_2021_5  5.0     5.0     5.0     5.0     5.0    10.0  ...  40.0   \n",
       "\n",
       "   cw02_A  cw02_B  cw02_C   cw02  cw03  КР  ЭКЗ  Сумма  Итог  \n",
       "0    34.0    33.0    33.0  100.0   NaN NaN  NaN  2,935   3.0  \n",
       "1     0.0     NaN     NaN    0.0   NaN NaN  NaN   1,09   1.0  \n",
       "2     NaN     NaN     NaN    0.0   NaN NaN  NaN      0   0.0  \n",
       "3     NaN     NaN     NaN    0.0   NaN NaN  NaN   2,57   3.0  \n",
       "4    34.0     0.0    33.0   67.0   NaN NaN  NaN  2,605   3.0  \n",
       "\n",
       "[5 rows x 43 columns]"
      ]
     },
     "execution_count": 79,
     "metadata": {},
     "output_type": "execute_result"
    }
   ],
   "source": [
    "df.head()"
   ]
  },
  {
   "cell_type": "code",
   "execution_count": 83,
   "metadata": {},
   "outputs": [
    {
     "data": {
      "text/html": [
       "<div>\n",
       "<style scoped>\n",
       "    .dataframe tbody tr th:only-of-type {\n",
       "        vertical-align: middle;\n",
       "    }\n",
       "\n",
       "    .dataframe tbody tr th {\n",
       "        vertical-align: top;\n",
       "    }\n",
       "\n",
       "    .dataframe thead th {\n",
       "        text-align: right;\n",
       "    }\n",
       "</style>\n",
       "<table border=\"1\" class=\"dataframe\">\n",
       "  <thead>\n",
       "    <tr style=\"text-align: right;\">\n",
       "      <th></th>\n",
       "      <th></th>\n",
       "      <th>Адрес студенческой почты</th>\n",
       "      <th>группа</th>\n",
       "      <th>Login</th>\n",
       "      <th>num</th>\n",
       "      <th>hw01_a</th>\n",
       "      <th>hw01_b</th>\n",
       "      <th>hw01_c</th>\n",
       "      <th>hw01_d</th>\n",
       "      <th>hw01_e</th>\n",
       "      <th>...</th>\n",
       "      <th>cw01</th>\n",
       "      <th>cw02_A</th>\n",
       "      <th>cw02_B</th>\n",
       "      <th>cw02_C</th>\n",
       "      <th>cw02</th>\n",
       "      <th>cw03</th>\n",
       "      <th>КР</th>\n",
       "      <th>ЭКЗ</th>\n",
       "      <th>Сумма</th>\n",
       "      <th>Итог</th>\n",
       "    </tr>\n",
       "  </thead>\n",
       "  <tbody>\n",
       "    <tr>\n",
       "      <th>445</th>\n",
       "      <td>NaN</td>\n",
       "      <td>NaN</td>\n",
       "      <td>NaN</td>\n",
       "      <td>dap_econ_2021_446</td>\n",
       "      <td>446.0</td>\n",
       "      <td>NaN</td>\n",
       "      <td>NaN</td>\n",
       "      <td>NaN</td>\n",
       "      <td>NaN</td>\n",
       "      <td>NaN</td>\n",
       "      <td>...</td>\n",
       "      <td>NaN</td>\n",
       "      <td>NaN</td>\n",
       "      <td>NaN</td>\n",
       "      <td>NaN</td>\n",
       "      <td>NaN</td>\n",
       "      <td>NaN</td>\n",
       "      <td>NaN</td>\n",
       "      <td>NaN</td>\n",
       "      <td>NaN</td>\n",
       "      <td>NaN</td>\n",
       "    </tr>\n",
       "    <tr>\n",
       "      <th>446</th>\n",
       "      <td>NaN</td>\n",
       "      <td>NaN</td>\n",
       "      <td>NaN</td>\n",
       "      <td>dap_econ_2021_447</td>\n",
       "      <td>447.0</td>\n",
       "      <td>NaN</td>\n",
       "      <td>NaN</td>\n",
       "      <td>NaN</td>\n",
       "      <td>NaN</td>\n",
       "      <td>NaN</td>\n",
       "      <td>...</td>\n",
       "      <td>NaN</td>\n",
       "      <td>NaN</td>\n",
       "      <td>NaN</td>\n",
       "      <td>NaN</td>\n",
       "      <td>NaN</td>\n",
       "      <td>NaN</td>\n",
       "      <td>NaN</td>\n",
       "      <td>NaN</td>\n",
       "      <td>NaN</td>\n",
       "      <td>NaN</td>\n",
       "    </tr>\n",
       "    <tr>\n",
       "      <th>447</th>\n",
       "      <td>NaN</td>\n",
       "      <td>NaN</td>\n",
       "      <td>NaN</td>\n",
       "      <td>dap_econ_2021_448</td>\n",
       "      <td>448.0</td>\n",
       "      <td>NaN</td>\n",
       "      <td>NaN</td>\n",
       "      <td>NaN</td>\n",
       "      <td>NaN</td>\n",
       "      <td>NaN</td>\n",
       "      <td>...</td>\n",
       "      <td>NaN</td>\n",
       "      <td>NaN</td>\n",
       "      <td>NaN</td>\n",
       "      <td>NaN</td>\n",
       "      <td>NaN</td>\n",
       "      <td>NaN</td>\n",
       "      <td>NaN</td>\n",
       "      <td>NaN</td>\n",
       "      <td>NaN</td>\n",
       "      <td>NaN</td>\n",
       "    </tr>\n",
       "    <tr>\n",
       "      <th>448</th>\n",
       "      <td>NaN</td>\n",
       "      <td>NaN</td>\n",
       "      <td>NaN</td>\n",
       "      <td>dap_econ_2021_449</td>\n",
       "      <td>449.0</td>\n",
       "      <td>NaN</td>\n",
       "      <td>NaN</td>\n",
       "      <td>NaN</td>\n",
       "      <td>NaN</td>\n",
       "      <td>NaN</td>\n",
       "      <td>...</td>\n",
       "      <td>NaN</td>\n",
       "      <td>NaN</td>\n",
       "      <td>NaN</td>\n",
       "      <td>NaN</td>\n",
       "      <td>NaN</td>\n",
       "      <td>NaN</td>\n",
       "      <td>NaN</td>\n",
       "      <td>NaN</td>\n",
       "      <td>NaN</td>\n",
       "      <td>NaN</td>\n",
       "    </tr>\n",
       "    <tr>\n",
       "      <th>449</th>\n",
       "      <td>Марудас Павлос</td>\n",
       "      <td>pmaroudas@edu.hse.ru</td>\n",
       "      <td>БЭК2011</td>\n",
       "      <td>dap_econ_2021_450</td>\n",
       "      <td>450.0</td>\n",
       "      <td>NaN</td>\n",
       "      <td>NaN</td>\n",
       "      <td>NaN</td>\n",
       "      <td>NaN</td>\n",
       "      <td>NaN</td>\n",
       "      <td>...</td>\n",
       "      <td>0.0</td>\n",
       "      <td>NaN</td>\n",
       "      <td>NaN</td>\n",
       "      <td>NaN</td>\n",
       "      <td>NaN</td>\n",
       "      <td>NaN</td>\n",
       "      <td>NaN</td>\n",
       "      <td>NaN</td>\n",
       "      <td>#REF!</td>\n",
       "      <td>NaN</td>\n",
       "    </tr>\n",
       "  </tbody>\n",
       "</table>\n",
       "<p>5 rows × 43 columns</p>\n",
       "</div>"
      ],
      "text/plain": [
       "                    Адрес студенческой почты   группа              Login  \\\n",
       "445             NaN                      NaN      NaN  dap_econ_2021_446   \n",
       "446             NaN                      NaN      NaN  dap_econ_2021_447   \n",
       "447             NaN                      NaN      NaN  dap_econ_2021_448   \n",
       "448             NaN                      NaN      NaN  dap_econ_2021_449   \n",
       "449  Марудас Павлос     pmaroudas@edu.hse.ru  БЭК2011  dap_econ_2021_450   \n",
       "\n",
       "       num  hw01_a  hw01_b  hw01_c  hw01_d  hw01_e  ...  cw01  cw02_A  cw02_B  \\\n",
       "445  446.0     NaN     NaN     NaN     NaN     NaN  ...   NaN     NaN     NaN   \n",
       "446  447.0     NaN     NaN     NaN     NaN     NaN  ...   NaN     NaN     NaN   \n",
       "447  448.0     NaN     NaN     NaN     NaN     NaN  ...   NaN     NaN     NaN   \n",
       "448  449.0     NaN     NaN     NaN     NaN     NaN  ...   NaN     NaN     NaN   \n",
       "449  450.0     NaN     NaN     NaN     NaN     NaN  ...   0.0     NaN     NaN   \n",
       "\n",
       "     cw02_C  cw02  cw03  КР  ЭКЗ  Сумма  Итог  \n",
       "445     NaN   NaN   NaN NaN  NaN    NaN   NaN  \n",
       "446     NaN   NaN   NaN NaN  NaN    NaN   NaN  \n",
       "447     NaN   NaN   NaN NaN  NaN    NaN   NaN  \n",
       "448     NaN   NaN   NaN NaN  NaN    NaN   NaN  \n",
       "449     NaN   NaN   NaN NaN  NaN  #REF!   NaN  \n",
       "\n",
       "[5 rows x 43 columns]"
      ]
     },
     "execution_count": 83,
     "metadata": {},
     "output_type": "execute_result"
    }
   ],
   "source": [
    "df.tail()"
   ]
  },
  {
   "cell_type": "markdown",
   "metadata": {},
   "source": [
    "Любая таблица состоит из трёх сущностей: значения, записанные в неё, имена колонок, имена строк (индексы)"
   ]
  },
  {
   "cell_type": "code",
   "execution_count": 80,
   "metadata": {},
   "outputs": [
    {
     "data": {
      "text/plain": [
       "array([['Алгазинов Александр Иванович', 'aialgazinov@edu.hse.ru',\n",
       "        'БЭК201', ..., nan, '2,935', 3.0],\n",
       "       ['Арайсси Габриел -', 'garayssi@edu.hse.ru', 'БЭК201', ..., nan,\n",
       "        '1,09', 1.0],\n",
       "       ['Батавиль Абдулрахман -', 'abatavil@edu.hse.ru', 'БЭК201', ...,\n",
       "        nan, '0', 0.0],\n",
       "       ...,\n",
       "       [nan, nan, nan, ..., nan, nan, nan],\n",
       "       [nan, nan, nan, ..., nan, nan, nan],\n",
       "       ['Марудас Павлос', 'pmaroudas@edu.hse.ru', 'БЭК2011', ..., nan,\n",
       "        '#REF!', nan]], dtype=object)"
      ]
     },
     "execution_count": 80,
     "metadata": {},
     "output_type": "execute_result"
    }
   ],
   "source": [
    "df.values"
   ]
  },
  {
   "cell_type": "code",
   "execution_count": 81,
   "metadata": {},
   "outputs": [
    {
     "data": {
      "text/plain": [
       "Index([' ', 'Адрес студенческой почты', 'группа', 'Login', 'num', 'hw01_a',\n",
       "       'hw01_b', 'hw01_c', 'hw01_d', 'hw01_e', 'hw01_f', 'hw01_g', 'hw01_h',\n",
       "       'hw01_i', 'hw01_j', 'hw01',\n",
       "       'MVP для приложения \"Пенькофф Инвестиции\" (20 баллов)',\n",
       "       'Stonks (10 баллов)', 'Аэрохоккей (20 баллов)',\n",
       "       'Иначе говоря (10 баллов)', 'Каверы (10 баллов)', 'Лоликек (15 баллов)',\n",
       "       'Сжатие последовательности (15 баллов)',\n",
       "       'Экзамен по машинному обучению 2 (10 баллов)', 'hw02', 'hw03', 'hw04',\n",
       "       'hw05', 'cw01_A', 'cw01_B', 'cw01_C', 'cw01_D', 'cw01_E', 'cw01',\n",
       "       'cw02_A', 'cw02_B', 'cw02_C', 'cw02', 'cw03', 'КР', 'ЭКЗ', 'Сумма',\n",
       "       'Итог'],\n",
       "      dtype='object')"
      ]
     },
     "execution_count": 81,
     "metadata": {},
     "output_type": "execute_result"
    }
   ],
   "source": [
    "df.columns"
   ]
  },
  {
   "cell_type": "code",
   "execution_count": 82,
   "metadata": {},
   "outputs": [
    {
     "data": {
      "text/plain": [
       "RangeIndex(start=0, stop=450, step=1)"
      ]
     },
     "execution_count": 82,
     "metadata": {},
     "output_type": "execute_result"
    }
   ],
   "source": [
    "df.index"
   ]
  },
  {
   "cell_type": "code",
   "execution_count": 92,
   "metadata": {},
   "outputs": [
    {
     "data": {
      "text/plain": [
       "0       БЭК201\n",
       "1       БЭК201\n",
       "2       БЭК201\n",
       "3       БЭК201\n",
       "4       БЭК201\n",
       "        ...   \n",
       "445        NaN\n",
       "446        NaN\n",
       "447        NaN\n",
       "448        NaN\n",
       "449    БЭК2011\n",
       "Name: группа, Length: 450, dtype: object"
      ]
     },
     "execution_count": 92,
     "metadata": {},
     "output_type": "execute_result"
    }
   ],
   "source": [
    "x = df['группа']\n",
    "x"
   ]
  },
  {
   "cell_type": "code",
   "execution_count": 93,
   "metadata": {},
   "outputs": [
    {
     "data": {
      "text/plain": [
       "array(['БЭК201', 'БЭК201', 'БЭК201', 'БЭК201', 'БЭК201', 'БЭК201',\n",
       "       'БЭК201', 'БЭК201', 'БЭК201', 'БЭК201', 'БЭК201', 'БЭК201',\n",
       "       'БЭК201', 'БЭК201', 'БЭК201', 'БЭК201', 'БЭК201', 'БЭК201',\n",
       "       'БЭК201', 'БЭК201', 'БЭК201', 'БЭК201', 'БЭК201', 'БЭК201',\n",
       "       'БЭК201', 'БЭК201', 'БЭК201'], dtype=object)"
      ]
     },
     "execution_count": 93,
     "metadata": {},
     "output_type": "execute_result"
    }
   ],
   "source": [
    "y = x.values \n",
    "y[y == 'БЭК201']"
   ]
  },
  {
   "cell_type": "code",
   "execution_count": 95,
   "metadata": {},
   "outputs": [
    {
     "data": {
      "text/plain": [
       "RangeIndex(start=0, stop=450, step=1)"
      ]
     },
     "execution_count": 95,
     "metadata": {},
     "output_type": "execute_result"
    }
   ],
   "source": [
    "x.index"
   ]
  },
  {
   "cell_type": "code",
   "execution_count": 97,
   "metadata": {},
   "outputs": [
    {
     "data": {
      "text/plain": [
       "                                                           Нурдинова Умутай -\n",
       "Адрес студенческой почты                                unurdinova@edu.hse.ru\n",
       "группа                                                                БЭК2010\n",
       "Login                                                        dap_econ_2021_46\n",
       "num                                                                      46.0\n",
       "hw01_a                                                                    NaN\n",
       "hw01_b                                                                    NaN\n",
       "hw01_c                                                                    NaN\n",
       "hw01_d                                                                    NaN\n",
       "hw01_e                                                                    NaN\n",
       "hw01_f                                                                    NaN\n",
       "hw01_g                                                                    NaN\n",
       "hw01_h                                                                    NaN\n",
       "hw01_i                                                                    NaN\n",
       "hw01_j                                                                    NaN\n",
       "hw01                                                                      0.0\n",
       "MVP для приложения \"Пенькофф Инвестиции\" (20 баллов)                      NaN\n",
       "Stonks (10 баллов)                                                        NaN\n",
       "Аэрохоккей (20 баллов)                                                    NaN\n",
       "Иначе говоря (10 баллов)                                                  NaN\n",
       "Каверы (10 баллов)                                                        NaN\n",
       "Лоликек (15 баллов)                                                       NaN\n",
       "Сжатие последовательности (15 баллов)                                     NaN\n",
       "Экзамен по машинному обучению 2 (10 баллов)                               NaN\n",
       "hw02                                                                      0.0\n",
       "hw03                                                                      NaN\n",
       "hw04                                                                      NaN\n",
       "hw05                                                                      NaN\n",
       "cw01_A                                                                    NaN\n",
       "cw01_B                                                                    NaN\n",
       "cw01_C                                                                    NaN\n",
       "cw01_D                                                                    NaN\n",
       "cw01_E                                                                    NaN\n",
       "cw01                                                                      0.0\n",
       "cw02_A                                                                    NaN\n",
       "cw02_B                                                                    NaN\n",
       "cw02_C                                                                    NaN\n",
       "cw02                                                                      0.0\n",
       "cw03                                                                      NaN\n",
       "КР                                                                        NaN\n",
       "ЭКЗ                                                                       NaN\n",
       "Сумма                                                                       0\n",
       "Итог                                                                      0.0\n",
       "Name: 45, dtype: object"
      ]
     },
     "execution_count": 97,
     "metadata": {},
     "output_type": "execute_result"
    }
   ],
   "source": [
    "df.loc[45]"
   ]
  },
  {
   "cell_type": "code",
   "execution_count": 100,
   "metadata": {},
   "outputs": [
    {
     "data": {
      "text/html": [
       "<div>\n",
       "<style scoped>\n",
       "    .dataframe tbody tr th:only-of-type {\n",
       "        vertical-align: middle;\n",
       "    }\n",
       "\n",
       "    .dataframe tbody tr th {\n",
       "        vertical-align: top;\n",
       "    }\n",
       "\n",
       "    .dataframe thead th {\n",
       "        text-align: right;\n",
       "    }\n",
       "</style>\n",
       "<table border=\"1\" class=\"dataframe\">\n",
       "  <thead>\n",
       "    <tr style=\"text-align: right;\">\n",
       "      <th></th>\n",
       "      <th></th>\n",
       "      <th>Адрес студенческой почты</th>\n",
       "      <th>группа</th>\n",
       "      <th>num</th>\n",
       "      <th>hw01_a</th>\n",
       "      <th>hw01_b</th>\n",
       "      <th>hw01_c</th>\n",
       "      <th>hw01_d</th>\n",
       "      <th>hw01_e</th>\n",
       "      <th>hw01_f</th>\n",
       "      <th>...</th>\n",
       "      <th>cw01</th>\n",
       "      <th>cw02_A</th>\n",
       "      <th>cw02_B</th>\n",
       "      <th>cw02_C</th>\n",
       "      <th>cw02</th>\n",
       "      <th>cw03</th>\n",
       "      <th>КР</th>\n",
       "      <th>ЭКЗ</th>\n",
       "      <th>Сумма</th>\n",
       "      <th>Итог</th>\n",
       "    </tr>\n",
       "    <tr>\n",
       "      <th>Login</th>\n",
       "      <th></th>\n",
       "      <th></th>\n",
       "      <th></th>\n",
       "      <th></th>\n",
       "      <th></th>\n",
       "      <th></th>\n",
       "      <th></th>\n",
       "      <th></th>\n",
       "      <th></th>\n",
       "      <th></th>\n",
       "      <th></th>\n",
       "      <th></th>\n",
       "      <th></th>\n",
       "      <th></th>\n",
       "      <th></th>\n",
       "      <th></th>\n",
       "      <th></th>\n",
       "      <th></th>\n",
       "      <th></th>\n",
       "      <th></th>\n",
       "      <th></th>\n",
       "    </tr>\n",
       "  </thead>\n",
       "  <tbody>\n",
       "    <tr>\n",
       "      <th>dap_econ_2021_1</th>\n",
       "      <td>Алгазинов Александр Иванович</td>\n",
       "      <td>aialgazinov@edu.hse.ru</td>\n",
       "      <td>БЭК201</td>\n",
       "      <td>1.0</td>\n",
       "      <td>5.0</td>\n",
       "      <td>5.0</td>\n",
       "      <td>5.0</td>\n",
       "      <td>5.0</td>\n",
       "      <td>10.0</td>\n",
       "      <td>10.0</td>\n",
       "      <td>...</td>\n",
       "      <td>75.0</td>\n",
       "      <td>34.0</td>\n",
       "      <td>33.0</td>\n",
       "      <td>33.0</td>\n",
       "      <td>100.0</td>\n",
       "      <td>NaN</td>\n",
       "      <td>NaN</td>\n",
       "      <td>NaN</td>\n",
       "      <td>2,935</td>\n",
       "      <td>3.0</td>\n",
       "    </tr>\n",
       "    <tr>\n",
       "      <th>dap_econ_2021_2</th>\n",
       "      <td>Арайсси Габриел -</td>\n",
       "      <td>garayssi@edu.hse.ru</td>\n",
       "      <td>БЭК201</td>\n",
       "      <td>2.0</td>\n",
       "      <td>5.0</td>\n",
       "      <td>5.0</td>\n",
       "      <td>5.0</td>\n",
       "      <td>4.0</td>\n",
       "      <td>10.0</td>\n",
       "      <td>NaN</td>\n",
       "      <td>...</td>\n",
       "      <td>55.0</td>\n",
       "      <td>0.0</td>\n",
       "      <td>NaN</td>\n",
       "      <td>NaN</td>\n",
       "      <td>0.0</td>\n",
       "      <td>NaN</td>\n",
       "      <td>NaN</td>\n",
       "      <td>NaN</td>\n",
       "      <td>1,09</td>\n",
       "      <td>1.0</td>\n",
       "    </tr>\n",
       "    <tr>\n",
       "      <th>dap_econ_2021_3</th>\n",
       "      <td>Батавиль Абдулрахман -</td>\n",
       "      <td>abatavil@edu.hse.ru</td>\n",
       "      <td>БЭК201</td>\n",
       "      <td>3.0</td>\n",
       "      <td>NaN</td>\n",
       "      <td>NaN</td>\n",
       "      <td>NaN</td>\n",
       "      <td>NaN</td>\n",
       "      <td>NaN</td>\n",
       "      <td>NaN</td>\n",
       "      <td>...</td>\n",
       "      <td>0.0</td>\n",
       "      <td>NaN</td>\n",
       "      <td>NaN</td>\n",
       "      <td>NaN</td>\n",
       "      <td>0.0</td>\n",
       "      <td>NaN</td>\n",
       "      <td>NaN</td>\n",
       "      <td>NaN</td>\n",
       "      <td>0</td>\n",
       "      <td>0.0</td>\n",
       "    </tr>\n",
       "    <tr>\n",
       "      <th>dap_econ_2021_4</th>\n",
       "      <td>Безуглый Александр Олегович</td>\n",
       "      <td>aobezuglyy_1@edu.hse.ru</td>\n",
       "      <td>БЭК201</td>\n",
       "      <td>4.0</td>\n",
       "      <td>5.0</td>\n",
       "      <td>5.0</td>\n",
       "      <td>5.0</td>\n",
       "      <td>4.0</td>\n",
       "      <td>10.0</td>\n",
       "      <td>10.0</td>\n",
       "      <td>...</td>\n",
       "      <td>95.0</td>\n",
       "      <td>NaN</td>\n",
       "      <td>NaN</td>\n",
       "      <td>NaN</td>\n",
       "      <td>0.0</td>\n",
       "      <td>NaN</td>\n",
       "      <td>NaN</td>\n",
       "      <td>NaN</td>\n",
       "      <td>2,57</td>\n",
       "      <td>3.0</td>\n",
       "    </tr>\n",
       "    <tr>\n",
       "      <th>dap_econ_2021_5</th>\n",
       "      <td>Бочкарев Сергей Максимович</td>\n",
       "      <td>smbochkarev@edu.hse.ru</td>\n",
       "      <td>БЭК201</td>\n",
       "      <td>5.0</td>\n",
       "      <td>5.0</td>\n",
       "      <td>5.0</td>\n",
       "      <td>5.0</td>\n",
       "      <td>5.0</td>\n",
       "      <td>10.0</td>\n",
       "      <td>10.0</td>\n",
       "      <td>...</td>\n",
       "      <td>40.0</td>\n",
       "      <td>34.0</td>\n",
       "      <td>0.0</td>\n",
       "      <td>33.0</td>\n",
       "      <td>67.0</td>\n",
       "      <td>NaN</td>\n",
       "      <td>NaN</td>\n",
       "      <td>NaN</td>\n",
       "      <td>2,605</td>\n",
       "      <td>3.0</td>\n",
       "    </tr>\n",
       "  </tbody>\n",
       "</table>\n",
       "<p>5 rows × 42 columns</p>\n",
       "</div>"
      ],
      "text/plain": [
       "                                              Адрес студенческой почты  \\\n",
       "Login                                                                    \n",
       "dap_econ_2021_1  Алгазинов Александр Иванович   aialgazinov@edu.hse.ru   \n",
       "dap_econ_2021_2             Арайсси Габриел -      garayssi@edu.hse.ru   \n",
       "dap_econ_2021_3        Батавиль Абдулрахман -      abatavil@edu.hse.ru   \n",
       "dap_econ_2021_4   Безуглый Александр Олегович  aobezuglyy_1@edu.hse.ru   \n",
       "dap_econ_2021_5    Бочкарев Сергей Максимович   smbochkarev@edu.hse.ru   \n",
       "\n",
       "                 группа  num  hw01_a  hw01_b  hw01_c  hw01_d  hw01_e  hw01_f  \\\n",
       "Login                                                                          \n",
       "dap_econ_2021_1  БЭК201  1.0     5.0     5.0     5.0     5.0    10.0    10.0   \n",
       "dap_econ_2021_2  БЭК201  2.0     5.0     5.0     5.0     4.0    10.0     NaN   \n",
       "dap_econ_2021_3  БЭК201  3.0     NaN     NaN     NaN     NaN     NaN     NaN   \n",
       "dap_econ_2021_4  БЭК201  4.0     5.0     5.0     5.0     4.0    10.0    10.0   \n",
       "dap_econ_2021_5  БЭК201  5.0     5.0     5.0     5.0     5.0    10.0    10.0   \n",
       "\n",
       "                 ...  cw01  cw02_A  cw02_B  cw02_C   cw02  cw03  КР  ЭКЗ  \\\n",
       "Login            ...                                                       \n",
       "dap_econ_2021_1  ...  75.0    34.0    33.0    33.0  100.0   NaN NaN  NaN   \n",
       "dap_econ_2021_2  ...  55.0     0.0     NaN     NaN    0.0   NaN NaN  NaN   \n",
       "dap_econ_2021_3  ...   0.0     NaN     NaN     NaN    0.0   NaN NaN  NaN   \n",
       "dap_econ_2021_4  ...  95.0     NaN     NaN     NaN    0.0   NaN NaN  NaN   \n",
       "dap_econ_2021_5  ...  40.0    34.0     0.0    33.0   67.0   NaN NaN  NaN   \n",
       "\n",
       "                 Сумма  Итог  \n",
       "Login                         \n",
       "dap_econ_2021_1  2,935   3.0  \n",
       "dap_econ_2021_2   1,09   1.0  \n",
       "dap_econ_2021_3      0   0.0  \n",
       "dap_econ_2021_4   2,57   3.0  \n",
       "dap_econ_2021_5  2,605   3.0  \n",
       "\n",
       "[5 rows x 42 columns]"
      ]
     },
     "execution_count": 100,
     "metadata": {},
     "output_type": "execute_result"
    }
   ],
   "source": [
    "df = df.set_index('Login')\n",
    "df.head()"
   ]
  },
  {
   "cell_type": "code",
   "execution_count": 101,
   "metadata": {},
   "outputs": [
    {
     "data": {
      "text/plain": [
       "                                                        Щетинина Ангелина Игоревна\n",
       "Адрес студенческой почты                                 aischetinina_1@edu.hse.ru\n",
       "группа                                                                     БЭК2012\n",
       "num                                                                          105.0\n",
       "hw01_a                                                                         5.0\n",
       "hw01_b                                                                         5.0\n",
       "hw01_c                                                                         5.0\n",
       "hw01_d                                                                         4.0\n",
       "hw01_e                                                                         5.0\n",
       "hw01_f                                                                         0.0\n",
       "hw01_g                                                                        10.0\n",
       "hw01_h                                                                        20.0\n",
       "hw01_i                                                                         NaN\n",
       "hw01_j                                                                         NaN\n",
       "hw01                                                                          54.0\n",
       "MVP для приложения \"Пенькофф Инвестиции\" (20 баллов)                          20.0\n",
       "Stonks (10 баллов)                                                            10.0\n",
       "Аэрохоккей (20 баллов)                                                        20.0\n",
       "Иначе говоря (10 баллов)                                                      10.0\n",
       "Каверы (10 баллов)                                                            10.0\n",
       "Лоликек (15 баллов)                                                           15.0\n",
       "Сжатие последовательности (15 баллов)                                         15.0\n",
       "Экзамен по машинному обучению 2 (10 баллов)                                   10.0\n",
       "hw02                                                                         110.0\n",
       "hw03                                                                           NaN\n",
       "hw04                                                                           NaN\n",
       "hw05                                                                           NaN\n",
       "cw01_A                                                                         NaN\n",
       "cw01_B                                                                        20.0\n",
       "cw01_C                                                                         NaN\n",
       "cw01_D                                                                        20.0\n",
       "cw01_E                                                                         NaN\n",
       "cw01                                                                          40.0\n",
       "cw02_A                                                                         NaN\n",
       "cw02_B                                                                         NaN\n",
       "cw02_C                                                                         NaN\n",
       "cw02                                                                           0.0\n",
       "cw03                                                                           NaN\n",
       "КР                                                                             NaN\n",
       "ЭКЗ                                                                            NaN\n",
       "Сумма                                                                         1,77\n",
       "Итог                                                                           2.0\n",
       "Name: dap_econ_2021_105, dtype: object"
      ]
     },
     "execution_count": 101,
     "metadata": {},
     "output_type": "execute_result"
    }
   ],
   "source": [
    "df.loc['dap_econ_2021_105']"
   ]
  },
  {
   "cell_type": "markdown",
   "metadata": {},
   "source": [
    "## 5. Основные махинации с таблицами"
   ]
  },
  {
   "cell_type": "code",
   "execution_count": 102,
   "metadata": {},
   "outputs": [
    {
     "data": {
      "text/plain": [
       "(450, 42)"
      ]
     },
     "execution_count": 102,
     "metadata": {},
     "output_type": "execute_result"
    }
   ],
   "source": [
    "df.shape"
   ]
  },
  {
   "cell_type": "code",
   "execution_count": 103,
   "metadata": {},
   "outputs": [
    {
     "data": {
      "text/html": [
       "<div>\n",
       "<style scoped>\n",
       "    .dataframe tbody tr th:only-of-type {\n",
       "        vertical-align: middle;\n",
       "    }\n",
       "\n",
       "    .dataframe tbody tr th {\n",
       "        vertical-align: top;\n",
       "    }\n",
       "\n",
       "    .dataframe thead th {\n",
       "        text-align: right;\n",
       "    }\n",
       "</style>\n",
       "<table border=\"1\" class=\"dataframe\">\n",
       "  <thead>\n",
       "    <tr style=\"text-align: right;\">\n",
       "      <th></th>\n",
       "      <th></th>\n",
       "      <th>Адрес студенческой почты</th>\n",
       "      <th>группа</th>\n",
       "      <th>num</th>\n",
       "      <th>hw01_a</th>\n",
       "      <th>hw01_b</th>\n",
       "      <th>hw01_c</th>\n",
       "      <th>hw01_d</th>\n",
       "      <th>hw01_e</th>\n",
       "      <th>hw01_f</th>\n",
       "      <th>...</th>\n",
       "      <th>cw01</th>\n",
       "      <th>cw02_A</th>\n",
       "      <th>cw02_B</th>\n",
       "      <th>cw02_C</th>\n",
       "      <th>cw02</th>\n",
       "      <th>cw03</th>\n",
       "      <th>КР</th>\n",
       "      <th>ЭКЗ</th>\n",
       "      <th>Сумма</th>\n",
       "      <th>Итог</th>\n",
       "    </tr>\n",
       "    <tr>\n",
       "      <th>Login</th>\n",
       "      <th></th>\n",
       "      <th></th>\n",
       "      <th></th>\n",
       "      <th></th>\n",
       "      <th></th>\n",
       "      <th></th>\n",
       "      <th></th>\n",
       "      <th></th>\n",
       "      <th></th>\n",
       "      <th></th>\n",
       "      <th></th>\n",
       "      <th></th>\n",
       "      <th></th>\n",
       "      <th></th>\n",
       "      <th></th>\n",
       "      <th></th>\n",
       "      <th></th>\n",
       "      <th></th>\n",
       "      <th></th>\n",
       "      <th></th>\n",
       "      <th></th>\n",
       "    </tr>\n",
       "  </thead>\n",
       "  <tbody>\n",
       "    <tr>\n",
       "      <th>dap_econ_2021_1</th>\n",
       "      <td>Алгазинов Александр Иванович</td>\n",
       "      <td>aialgazinov@edu.hse.ru</td>\n",
       "      <td>БЭК201</td>\n",
       "      <td>1.0</td>\n",
       "      <td>5.0</td>\n",
       "      <td>5.0</td>\n",
       "      <td>5.0</td>\n",
       "      <td>5.0</td>\n",
       "      <td>10.0</td>\n",
       "      <td>10.0</td>\n",
       "      <td>...</td>\n",
       "      <td>75.0</td>\n",
       "      <td>34.0</td>\n",
       "      <td>33.0</td>\n",
       "      <td>33.0</td>\n",
       "      <td>100.0</td>\n",
       "      <td>NaN</td>\n",
       "      <td>NaN</td>\n",
       "      <td>NaN</td>\n",
       "      <td>2,935</td>\n",
       "      <td>3.0</td>\n",
       "    </tr>\n",
       "    <tr>\n",
       "      <th>dap_econ_2021_2</th>\n",
       "      <td>Арайсси Габриел -</td>\n",
       "      <td>garayssi@edu.hse.ru</td>\n",
       "      <td>БЭК201</td>\n",
       "      <td>2.0</td>\n",
       "      <td>5.0</td>\n",
       "      <td>5.0</td>\n",
       "      <td>5.0</td>\n",
       "      <td>4.0</td>\n",
       "      <td>10.0</td>\n",
       "      <td>NaN</td>\n",
       "      <td>...</td>\n",
       "      <td>55.0</td>\n",
       "      <td>0.0</td>\n",
       "      <td>NaN</td>\n",
       "      <td>NaN</td>\n",
       "      <td>0.0</td>\n",
       "      <td>NaN</td>\n",
       "      <td>NaN</td>\n",
       "      <td>NaN</td>\n",
       "      <td>1,09</td>\n",
       "      <td>1.0</td>\n",
       "    </tr>\n",
       "    <tr>\n",
       "      <th>dap_econ_2021_3</th>\n",
       "      <td>Батавиль Абдулрахман -</td>\n",
       "      <td>abatavil@edu.hse.ru</td>\n",
       "      <td>БЭК201</td>\n",
       "      <td>3.0</td>\n",
       "      <td>NaN</td>\n",
       "      <td>NaN</td>\n",
       "      <td>NaN</td>\n",
       "      <td>NaN</td>\n",
       "      <td>NaN</td>\n",
       "      <td>NaN</td>\n",
       "      <td>...</td>\n",
       "      <td>0.0</td>\n",
       "      <td>NaN</td>\n",
       "      <td>NaN</td>\n",
       "      <td>NaN</td>\n",
       "      <td>0.0</td>\n",
       "      <td>NaN</td>\n",
       "      <td>NaN</td>\n",
       "      <td>NaN</td>\n",
       "      <td>0</td>\n",
       "      <td>0.0</td>\n",
       "    </tr>\n",
       "    <tr>\n",
       "      <th>dap_econ_2021_4</th>\n",
       "      <td>Безуглый Александр Олегович</td>\n",
       "      <td>aobezuglyy_1@edu.hse.ru</td>\n",
       "      <td>БЭК201</td>\n",
       "      <td>4.0</td>\n",
       "      <td>5.0</td>\n",
       "      <td>5.0</td>\n",
       "      <td>5.0</td>\n",
       "      <td>4.0</td>\n",
       "      <td>10.0</td>\n",
       "      <td>10.0</td>\n",
       "      <td>...</td>\n",
       "      <td>95.0</td>\n",
       "      <td>NaN</td>\n",
       "      <td>NaN</td>\n",
       "      <td>NaN</td>\n",
       "      <td>0.0</td>\n",
       "      <td>NaN</td>\n",
       "      <td>NaN</td>\n",
       "      <td>NaN</td>\n",
       "      <td>2,57</td>\n",
       "      <td>3.0</td>\n",
       "    </tr>\n",
       "    <tr>\n",
       "      <th>dap_econ_2021_5</th>\n",
       "      <td>Бочкарев Сергей Максимович</td>\n",
       "      <td>smbochkarev@edu.hse.ru</td>\n",
       "      <td>БЭК201</td>\n",
       "      <td>5.0</td>\n",
       "      <td>5.0</td>\n",
       "      <td>5.0</td>\n",
       "      <td>5.0</td>\n",
       "      <td>5.0</td>\n",
       "      <td>10.0</td>\n",
       "      <td>10.0</td>\n",
       "      <td>...</td>\n",
       "      <td>40.0</td>\n",
       "      <td>34.0</td>\n",
       "      <td>0.0</td>\n",
       "      <td>33.0</td>\n",
       "      <td>67.0</td>\n",
       "      <td>NaN</td>\n",
       "      <td>NaN</td>\n",
       "      <td>NaN</td>\n",
       "      <td>2,605</td>\n",
       "      <td>3.0</td>\n",
       "    </tr>\n",
       "  </tbody>\n",
       "</table>\n",
       "<p>5 rows × 42 columns</p>\n",
       "</div>"
      ],
      "text/plain": [
       "                                              Адрес студенческой почты  \\\n",
       "Login                                                                    \n",
       "dap_econ_2021_1  Алгазинов Александр Иванович   aialgazinov@edu.hse.ru   \n",
       "dap_econ_2021_2             Арайсси Габриел -      garayssi@edu.hse.ru   \n",
       "dap_econ_2021_3        Батавиль Абдулрахман -      abatavil@edu.hse.ru   \n",
       "dap_econ_2021_4   Безуглый Александр Олегович  aobezuglyy_1@edu.hse.ru   \n",
       "dap_econ_2021_5    Бочкарев Сергей Максимович   smbochkarev@edu.hse.ru   \n",
       "\n",
       "                 группа  num  hw01_a  hw01_b  hw01_c  hw01_d  hw01_e  hw01_f  \\\n",
       "Login                                                                          \n",
       "dap_econ_2021_1  БЭК201  1.0     5.0     5.0     5.0     5.0    10.0    10.0   \n",
       "dap_econ_2021_2  БЭК201  2.0     5.0     5.0     5.0     4.0    10.0     NaN   \n",
       "dap_econ_2021_3  БЭК201  3.0     NaN     NaN     NaN     NaN     NaN     NaN   \n",
       "dap_econ_2021_4  БЭК201  4.0     5.0     5.0     5.0     4.0    10.0    10.0   \n",
       "dap_econ_2021_5  БЭК201  5.0     5.0     5.0     5.0     5.0    10.0    10.0   \n",
       "\n",
       "                 ...  cw01  cw02_A  cw02_B  cw02_C   cw02  cw03  КР  ЭКЗ  \\\n",
       "Login            ...                                                       \n",
       "dap_econ_2021_1  ...  75.0    34.0    33.0    33.0  100.0   NaN NaN  NaN   \n",
       "dap_econ_2021_2  ...  55.0     0.0     NaN     NaN    0.0   NaN NaN  NaN   \n",
       "dap_econ_2021_3  ...   0.0     NaN     NaN     NaN    0.0   NaN NaN  NaN   \n",
       "dap_econ_2021_4  ...  95.0     NaN     NaN     NaN    0.0   NaN NaN  NaN   \n",
       "dap_econ_2021_5  ...  40.0    34.0     0.0    33.0   67.0   NaN NaN  NaN   \n",
       "\n",
       "                 Сумма  Итог  \n",
       "Login                         \n",
       "dap_econ_2021_1  2,935   3.0  \n",
       "dap_econ_2021_2   1,09   1.0  \n",
       "dap_econ_2021_3      0   0.0  \n",
       "dap_econ_2021_4   2,57   3.0  \n",
       "dap_econ_2021_5  2,605   3.0  \n",
       "\n",
       "[5 rows x 42 columns]"
      ]
     },
     "execution_count": 103,
     "metadata": {},
     "output_type": "execute_result"
    }
   ],
   "source": [
    "df.head()"
   ]
  },
  {
   "cell_type": "code",
   "execution_count": 107,
   "metadata": {},
   "outputs": [
    {
     "data": {
      "text/html": [
       "<div>\n",
       "<style scoped>\n",
       "    .dataframe tbody tr th:only-of-type {\n",
       "        vertical-align: middle;\n",
       "    }\n",
       "\n",
       "    .dataframe tbody tr th {\n",
       "        vertical-align: top;\n",
       "    }\n",
       "\n",
       "    .dataframe thead th {\n",
       "        text-align: right;\n",
       "    }\n",
       "</style>\n",
       "<table border=\"1\" class=\"dataframe\">\n",
       "  <thead>\n",
       "    <tr style=\"text-align: right;\">\n",
       "      <th></th>\n",
       "      <th>группа</th>\n",
       "      <th>hw01</th>\n",
       "      <th>hw02</th>\n",
       "      <th>cw01</th>\n",
       "      <th>cw02</th>\n",
       "    </tr>\n",
       "    <tr>\n",
       "      <th>Login</th>\n",
       "      <th></th>\n",
       "      <th></th>\n",
       "      <th></th>\n",
       "      <th></th>\n",
       "      <th></th>\n",
       "    </tr>\n",
       "  </thead>\n",
       "  <tbody>\n",
       "    <tr>\n",
       "      <th>dap_econ_2021_1</th>\n",
       "      <td>БЭК201</td>\n",
       "      <td>105.0</td>\n",
       "      <td>66.0</td>\n",
       "      <td>75.0</td>\n",
       "      <td>100.0</td>\n",
       "    </tr>\n",
       "    <tr>\n",
       "      <th>dap_econ_2021_2</th>\n",
       "      <td>БЭК201</td>\n",
       "      <td>68.0</td>\n",
       "      <td>20.0</td>\n",
       "      <td>55.0</td>\n",
       "      <td>0.0</td>\n",
       "    </tr>\n",
       "    <tr>\n",
       "      <th>dap_econ_2021_3</th>\n",
       "      <td>БЭК201</td>\n",
       "      <td>0.0</td>\n",
       "      <td>0.0</td>\n",
       "      <td>0.0</td>\n",
       "      <td>0.0</td>\n",
       "    </tr>\n",
       "    <tr>\n",
       "      <th>dap_econ_2021_4</th>\n",
       "      <td>БЭК201</td>\n",
       "      <td>104.0</td>\n",
       "      <td>110.0</td>\n",
       "      <td>95.0</td>\n",
       "      <td>0.0</td>\n",
       "    </tr>\n",
       "    <tr>\n",
       "      <th>dap_econ_2021_5</th>\n",
       "      <td>БЭК201</td>\n",
       "      <td>105.0</td>\n",
       "      <td>101.0</td>\n",
       "      <td>40.0</td>\n",
       "      <td>67.0</td>\n",
       "    </tr>\n",
       "  </tbody>\n",
       "</table>\n",
       "</div>"
      ],
      "text/plain": [
       "                 группа   hw01   hw02  cw01   cw02\n",
       "Login                                             \n",
       "dap_econ_2021_1  БЭК201  105.0   66.0  75.0  100.0\n",
       "dap_econ_2021_2  БЭК201   68.0   20.0  55.0    0.0\n",
       "dap_econ_2021_3  БЭК201    0.0    0.0   0.0    0.0\n",
       "dap_econ_2021_4  БЭК201  104.0  110.0  95.0    0.0\n",
       "dap_econ_2021_5  БЭК201  105.0  101.0  40.0   67.0"
      ]
     },
     "execution_count": 107,
     "metadata": {},
     "output_type": "execute_result"
    }
   ],
   "source": [
    "df_small = df[['группа', 'hw01', 'hw02', 'cw01', 'cw02']]\n",
    "df_small.head()"
   ]
  },
  {
   "cell_type": "markdown",
   "metadata": {},
   "source": [
    "- Хочу выкинуть из таблицы ненастоящие логины"
   ]
  },
  {
   "cell_type": "code",
   "execution_count": 108,
   "metadata": {},
   "outputs": [
    {
     "data": {
      "text/html": [
       "<div>\n",
       "<style scoped>\n",
       "    .dataframe tbody tr th:only-of-type {\n",
       "        vertical-align: middle;\n",
       "    }\n",
       "\n",
       "    .dataframe tbody tr th {\n",
       "        vertical-align: top;\n",
       "    }\n",
       "\n",
       "    .dataframe thead th {\n",
       "        text-align: right;\n",
       "    }\n",
       "</style>\n",
       "<table border=\"1\" class=\"dataframe\">\n",
       "  <thead>\n",
       "    <tr style=\"text-align: right;\">\n",
       "      <th></th>\n",
       "      <th>группа</th>\n",
       "      <th>hw01</th>\n",
       "      <th>hw02</th>\n",
       "      <th>cw01</th>\n",
       "      <th>cw02</th>\n",
       "    </tr>\n",
       "    <tr>\n",
       "      <th>Login</th>\n",
       "      <th></th>\n",
       "      <th></th>\n",
       "      <th></th>\n",
       "      <th></th>\n",
       "      <th></th>\n",
       "    </tr>\n",
       "  </thead>\n",
       "  <tbody>\n",
       "    <tr>\n",
       "      <th>dap_econ_2021_446</th>\n",
       "      <td>NaN</td>\n",
       "      <td>NaN</td>\n",
       "      <td>NaN</td>\n",
       "      <td>NaN</td>\n",
       "      <td>NaN</td>\n",
       "    </tr>\n",
       "    <tr>\n",
       "      <th>dap_econ_2021_447</th>\n",
       "      <td>NaN</td>\n",
       "      <td>NaN</td>\n",
       "      <td>NaN</td>\n",
       "      <td>NaN</td>\n",
       "      <td>NaN</td>\n",
       "    </tr>\n",
       "    <tr>\n",
       "      <th>dap_econ_2021_448</th>\n",
       "      <td>NaN</td>\n",
       "      <td>NaN</td>\n",
       "      <td>NaN</td>\n",
       "      <td>NaN</td>\n",
       "      <td>NaN</td>\n",
       "    </tr>\n",
       "    <tr>\n",
       "      <th>dap_econ_2021_449</th>\n",
       "      <td>NaN</td>\n",
       "      <td>NaN</td>\n",
       "      <td>NaN</td>\n",
       "      <td>NaN</td>\n",
       "      <td>NaN</td>\n",
       "    </tr>\n",
       "    <tr>\n",
       "      <th>dap_econ_2021_450</th>\n",
       "      <td>БЭК2011</td>\n",
       "      <td>0.0</td>\n",
       "      <td>NaN</td>\n",
       "      <td>0.0</td>\n",
       "      <td>NaN</td>\n",
       "    </tr>\n",
       "  </tbody>\n",
       "</table>\n",
       "</div>"
      ],
      "text/plain": [
       "                    группа  hw01  hw02  cw01  cw02\n",
       "Login                                             \n",
       "dap_econ_2021_446      NaN   NaN   NaN   NaN   NaN\n",
       "dap_econ_2021_447      NaN   NaN   NaN   NaN   NaN\n",
       "dap_econ_2021_448      NaN   NaN   NaN   NaN   NaN\n",
       "dap_econ_2021_449      NaN   NaN   NaN   NaN   NaN\n",
       "dap_econ_2021_450  БЭК2011   0.0   NaN   0.0   NaN"
      ]
     },
     "execution_count": 108,
     "metadata": {},
     "output_type": "execute_result"
    }
   ],
   "source": [
    "df_small.tail() # NaN - пропуск "
   ]
  },
  {
   "cell_type": "code",
   "execution_count": 115,
   "metadata": {},
   "outputs": [
    {
     "data": {
      "text/html": [
       "<div>\n",
       "<style scoped>\n",
       "    .dataframe tbody tr th:only-of-type {\n",
       "        vertical-align: middle;\n",
       "    }\n",
       "\n",
       "    .dataframe tbody tr th {\n",
       "        vertical-align: top;\n",
       "    }\n",
       "\n",
       "    .dataframe thead th {\n",
       "        text-align: right;\n",
       "    }\n",
       "</style>\n",
       "<table border=\"1\" class=\"dataframe\">\n",
       "  <thead>\n",
       "    <tr style=\"text-align: right;\">\n",
       "      <th></th>\n",
       "      <th>группа</th>\n",
       "      <th>hw01</th>\n",
       "      <th>hw02</th>\n",
       "      <th>cw01</th>\n",
       "      <th>cw02</th>\n",
       "    </tr>\n",
       "    <tr>\n",
       "      <th>Login</th>\n",
       "      <th></th>\n",
       "      <th></th>\n",
       "      <th></th>\n",
       "      <th></th>\n",
       "      <th></th>\n",
       "    </tr>\n",
       "  </thead>\n",
       "  <tbody>\n",
       "    <tr>\n",
       "      <th>dap_econ_2021_334</th>\n",
       "      <td>БЭК208</td>\n",
       "      <td>90.0</td>\n",
       "      <td>41.0</td>\n",
       "      <td>80.0</td>\n",
       "      <td>100.0</td>\n",
       "    </tr>\n",
       "    <tr>\n",
       "      <th>dap_econ_2021_335</th>\n",
       "      <td>БЭК207</td>\n",
       "      <td>0.0</td>\n",
       "      <td>0.0</td>\n",
       "      <td>0.0</td>\n",
       "      <td>0.0</td>\n",
       "    </tr>\n",
       "    <tr>\n",
       "      <th>dap_econ_2021_336</th>\n",
       "      <td>БЭК2010</td>\n",
       "      <td>0.0</td>\n",
       "      <td>0.0</td>\n",
       "      <td>0.0</td>\n",
       "      <td>0.0</td>\n",
       "    </tr>\n",
       "    <tr>\n",
       "      <th>dap_econ_2021_337</th>\n",
       "      <td>БЭК2010</td>\n",
       "      <td>0.0</td>\n",
       "      <td>0.0</td>\n",
       "      <td>0.0</td>\n",
       "      <td>0.0</td>\n",
       "    </tr>\n",
       "    <tr>\n",
       "      <th>dap_econ_2021_450</th>\n",
       "      <td>БЭК2011</td>\n",
       "      <td>0.0</td>\n",
       "      <td>NaN</td>\n",
       "      <td>0.0</td>\n",
       "      <td>NaN</td>\n",
       "    </tr>\n",
       "  </tbody>\n",
       "</table>\n",
       "</div>"
      ],
      "text/plain": [
       "                    группа  hw01  hw02  cw01   cw02\n",
       "Login                                              \n",
       "dap_econ_2021_334   БЭК208  90.0  41.0  80.0  100.0\n",
       "dap_econ_2021_335   БЭК207   0.0   0.0   0.0    0.0\n",
       "dap_econ_2021_336  БЭК2010   0.0   0.0   0.0    0.0\n",
       "dap_econ_2021_337  БЭК2010   0.0   0.0   0.0    0.0\n",
       "dap_econ_2021_450  БЭК2011   0.0   NaN   0.0    NaN"
      ]
     },
     "execution_count": 115,
     "metadata": {},
     "output_type": "execute_result"
    }
   ],
   "source": [
    "df_small = df_small.dropna(subset=['группа'])\n",
    "df_small.tail()"
   ]
  },
  {
   "cell_type": "markdown",
   "metadata": {},
   "source": [
    "- Хочу заполнить для 450 логина пропуски нулями"
   ]
  },
  {
   "cell_type": "code",
   "execution_count": 121,
   "metadata": {},
   "outputs": [
    {
     "data": {
      "text/html": [
       "<div>\n",
       "<style scoped>\n",
       "    .dataframe tbody tr th:only-of-type {\n",
       "        vertical-align: middle;\n",
       "    }\n",
       "\n",
       "    .dataframe tbody tr th {\n",
       "        vertical-align: top;\n",
       "    }\n",
       "\n",
       "    .dataframe thead th {\n",
       "        text-align: right;\n",
       "    }\n",
       "</style>\n",
       "<table border=\"1\" class=\"dataframe\">\n",
       "  <thead>\n",
       "    <tr style=\"text-align: right;\">\n",
       "      <th></th>\n",
       "      <th>группа</th>\n",
       "      <th>hw01</th>\n",
       "      <th>hw02</th>\n",
       "      <th>cw01</th>\n",
       "      <th>cw02</th>\n",
       "    </tr>\n",
       "    <tr>\n",
       "      <th>Login</th>\n",
       "      <th></th>\n",
       "      <th></th>\n",
       "      <th></th>\n",
       "      <th></th>\n",
       "      <th></th>\n",
       "    </tr>\n",
       "  </thead>\n",
       "  <tbody>\n",
       "    <tr>\n",
       "      <th>dap_econ_2021_334</th>\n",
       "      <td>БЭК208</td>\n",
       "      <td>90.0</td>\n",
       "      <td>41.0</td>\n",
       "      <td>80.0</td>\n",
       "      <td>100.0</td>\n",
       "    </tr>\n",
       "    <tr>\n",
       "      <th>dap_econ_2021_335</th>\n",
       "      <td>БЭК207</td>\n",
       "      <td>0.0</td>\n",
       "      <td>0.0</td>\n",
       "      <td>0.0</td>\n",
       "      <td>0.0</td>\n",
       "    </tr>\n",
       "    <tr>\n",
       "      <th>dap_econ_2021_336</th>\n",
       "      <td>БЭК2010</td>\n",
       "      <td>0.0</td>\n",
       "      <td>0.0</td>\n",
       "      <td>0.0</td>\n",
       "      <td>0.0</td>\n",
       "    </tr>\n",
       "    <tr>\n",
       "      <th>dap_econ_2021_337</th>\n",
       "      <td>БЭК2010</td>\n",
       "      <td>0.0</td>\n",
       "      <td>0.0</td>\n",
       "      <td>0.0</td>\n",
       "      <td>0.0</td>\n",
       "    </tr>\n",
       "    <tr>\n",
       "      <th>dap_econ_2021_450</th>\n",
       "      <td>БЭК2011</td>\n",
       "      <td>0.0</td>\n",
       "      <td>0.0</td>\n",
       "      <td>0.0</td>\n",
       "      <td>0.0</td>\n",
       "    </tr>\n",
       "  </tbody>\n",
       "</table>\n",
       "</div>"
      ],
      "text/plain": [
       "                    группа  hw01  hw02  cw01   cw02\n",
       "Login                                              \n",
       "dap_econ_2021_334   БЭК208  90.0  41.0  80.0  100.0\n",
       "dap_econ_2021_335   БЭК207   0.0   0.0   0.0    0.0\n",
       "dap_econ_2021_336  БЭК2010   0.0   0.0   0.0    0.0\n",
       "dap_econ_2021_337  БЭК2010   0.0   0.0   0.0    0.0\n",
       "dap_econ_2021_450  БЭК2011   0.0   0.0   0.0    0.0"
      ]
     },
     "execution_count": 121,
     "metadata": {},
     "output_type": "execute_result"
    }
   ],
   "source": [
    "# df_small = df_small.fillna(0)\n",
    "df_small.fillna(0, inplace=True)\n",
    "df_small.tail()"
   ]
  },
  {
   "cell_type": "markdown",
   "metadata": {},
   "source": [
    "- Сколько всего есть нулей за вторую домашку? "
   ]
  },
  {
   "cell_type": "code",
   "execution_count": 125,
   "metadata": {},
   "outputs": [
    {
     "data": {
      "text/plain": [
       "82"
      ]
     },
     "execution_count": 125,
     "metadata": {},
     "output_type": "execute_result"
    }
   ],
   "source": [
    "(df_small['hw02'] == 0).sum()"
   ]
  },
  {
   "cell_type": "markdown",
   "metadata": {},
   "source": [
    "- Сколько людей из тех, кто получил ноль за 2 домашку получил ноль ещё и за первую? "
   ]
  },
  {
   "cell_type": "code",
   "execution_count": 130,
   "metadata": {},
   "outputs": [
    {
     "data": {
      "text/html": [
       "<div>\n",
       "<style scoped>\n",
       "    .dataframe tbody tr th:only-of-type {\n",
       "        vertical-align: middle;\n",
       "    }\n",
       "\n",
       "    .dataframe tbody tr th {\n",
       "        vertical-align: top;\n",
       "    }\n",
       "\n",
       "    .dataframe thead th {\n",
       "        text-align: right;\n",
       "    }\n",
       "</style>\n",
       "<table border=\"1\" class=\"dataframe\">\n",
       "  <thead>\n",
       "    <tr style=\"text-align: right;\">\n",
       "      <th></th>\n",
       "      <th>группа</th>\n",
       "      <th>hw01</th>\n",
       "      <th>hw02</th>\n",
       "      <th>cw01</th>\n",
       "      <th>cw02</th>\n",
       "    </tr>\n",
       "    <tr>\n",
       "      <th>Login</th>\n",
       "      <th></th>\n",
       "      <th></th>\n",
       "      <th></th>\n",
       "      <th></th>\n",
       "      <th></th>\n",
       "    </tr>\n",
       "  </thead>\n",
       "  <tbody>\n",
       "    <tr>\n",
       "      <th>dap_econ_2021_3</th>\n",
       "      <td>БЭК201</td>\n",
       "      <td>0.0</td>\n",
       "      <td>0.0</td>\n",
       "      <td>0.0</td>\n",
       "      <td>0.0</td>\n",
       "    </tr>\n",
       "    <tr>\n",
       "      <th>dap_econ_2021_19</th>\n",
       "      <td>БЭК201</td>\n",
       "      <td>105.0</td>\n",
       "      <td>0.0</td>\n",
       "      <td>55.0</td>\n",
       "      <td>67.0</td>\n",
       "    </tr>\n",
       "    <tr>\n",
       "      <th>dap_econ_2021_27</th>\n",
       "      <td>БЭК201</td>\n",
       "      <td>44.0</td>\n",
       "      <td>0.0</td>\n",
       "      <td>40.0</td>\n",
       "      <td>0.0</td>\n",
       "    </tr>\n",
       "    <tr>\n",
       "      <th>dap_econ_2021_28</th>\n",
       "      <td>БЭК2010</td>\n",
       "      <td>26.0</td>\n",
       "      <td>0.0</td>\n",
       "      <td>35.0</td>\n",
       "      <td>34.0</td>\n",
       "    </tr>\n",
       "    <tr>\n",
       "      <th>dap_econ_2021_30</th>\n",
       "      <td>БЭК2010</td>\n",
       "      <td>3.0</td>\n",
       "      <td>0.0</td>\n",
       "      <td>0.0</td>\n",
       "      <td>0.0</td>\n",
       "    </tr>\n",
       "  </tbody>\n",
       "</table>\n",
       "</div>"
      ],
      "text/plain": [
       "                   группа   hw01  hw02  cw01  cw02\n",
       "Login                                             \n",
       "dap_econ_2021_3    БЭК201    0.0   0.0   0.0   0.0\n",
       "dap_econ_2021_19   БЭК201  105.0   0.0  55.0  67.0\n",
       "dap_econ_2021_27   БЭК201   44.0   0.0  40.0   0.0\n",
       "dap_econ_2021_28  БЭК2010   26.0   0.0  35.0  34.0\n",
       "dap_econ_2021_30  БЭК2010    3.0   0.0   0.0   0.0"
      ]
     },
     "execution_count": 130,
     "metadata": {},
     "output_type": "execute_result"
    }
   ],
   "source": [
    "df_subset = df_small[ df_small['hw02'] == 0 ]\n",
    "df_subset.head()"
   ]
  },
  {
   "cell_type": "code",
   "execution_count": 131,
   "metadata": {},
   "outputs": [
    {
     "data": {
      "text/plain": [
       "53"
      ]
     },
     "execution_count": 131,
     "metadata": {},
     "output_type": "execute_result"
    }
   ],
   "source": [
    "(df_subset['hw01'] == 0).sum()"
   ]
  },
  {
   "cell_type": "markdown",
   "metadata": {},
   "source": [
    "- Какая средняя оценка была за каждую работу?"
   ]
  },
  {
   "cell_type": "code",
   "execution_count": 132,
   "metadata": {},
   "outputs": [
    {
     "data": {
      "text/plain": [
       "hw01    64.718935\n",
       "hw02    60.068047\n",
       "cw01    45.970414\n",
       "cw02    65.041420\n",
       "dtype: float64"
      ]
     },
     "execution_count": 132,
     "metadata": {},
     "output_type": "execute_result"
    }
   ],
   "source": [
    "df_small[['hw01', 'hw02', 'cw01', 'cw02']].mean()"
   ]
  },
  {
   "cell_type": "code",
   "execution_count": 133,
   "metadata": {},
   "outputs": [
    {
     "data": {
      "text/plain": [
       "hw01    105.0\n",
       "hw02    110.0\n",
       "cw01    100.0\n",
       "cw02    100.0\n",
       "dtype: float64"
      ]
     },
     "execution_count": 133,
     "metadata": {},
     "output_type": "execute_result"
    }
   ],
   "source": [
    "df_small[['hw01', 'hw02', 'cw01', 'cw02']].max()"
   ]
  },
  {
   "cell_type": "code",
   "execution_count": 134,
   "metadata": {},
   "outputs": [
    {
     "data": {
      "text/html": [
       "<div>\n",
       "<style scoped>\n",
       "    .dataframe tbody tr th:only-of-type {\n",
       "        vertical-align: middle;\n",
       "    }\n",
       "\n",
       "    .dataframe tbody tr th {\n",
       "        vertical-align: top;\n",
       "    }\n",
       "\n",
       "    .dataframe thead th {\n",
       "        text-align: right;\n",
       "    }\n",
       "</style>\n",
       "<table border=\"1\" class=\"dataframe\">\n",
       "  <thead>\n",
       "    <tr style=\"text-align: right;\">\n",
       "      <th></th>\n",
       "      <th>hw01</th>\n",
       "      <th>hw02</th>\n",
       "      <th>cw01</th>\n",
       "      <th>cw02</th>\n",
       "    </tr>\n",
       "  </thead>\n",
       "  <tbody>\n",
       "    <tr>\n",
       "      <th>count</th>\n",
       "      <td>338.000000</td>\n",
       "      <td>338.000000</td>\n",
       "      <td>338.000000</td>\n",
       "      <td>338.000000</td>\n",
       "    </tr>\n",
       "    <tr>\n",
       "      <th>mean</th>\n",
       "      <td>64.718935</td>\n",
       "      <td>60.068047</td>\n",
       "      <td>45.970414</td>\n",
       "      <td>65.041420</td>\n",
       "    </tr>\n",
       "    <tr>\n",
       "      <th>std</th>\n",
       "      <td>42.077303</td>\n",
       "      <td>42.443449</td>\n",
       "      <td>34.744583</td>\n",
       "      <td>39.738889</td>\n",
       "    </tr>\n",
       "    <tr>\n",
       "      <th>min</th>\n",
       "      <td>0.000000</td>\n",
       "      <td>0.000000</td>\n",
       "      <td>0.000000</td>\n",
       "      <td>0.000000</td>\n",
       "    </tr>\n",
       "    <tr>\n",
       "      <th>25%</th>\n",
       "      <td>16.000000</td>\n",
       "      <td>10.000000</td>\n",
       "      <td>0.000000</td>\n",
       "      <td>34.000000</td>\n",
       "    </tr>\n",
       "    <tr>\n",
       "      <th>50%</th>\n",
       "      <td>84.000000</td>\n",
       "      <td>69.000000</td>\n",
       "      <td>53.000000</td>\n",
       "      <td>67.000000</td>\n",
       "    </tr>\n",
       "    <tr>\n",
       "      <th>75%</th>\n",
       "      <td>105.000000</td>\n",
       "      <td>100.000000</td>\n",
       "      <td>75.000000</td>\n",
       "      <td>100.000000</td>\n",
       "    </tr>\n",
       "    <tr>\n",
       "      <th>max</th>\n",
       "      <td>105.000000</td>\n",
       "      <td>110.000000</td>\n",
       "      <td>100.000000</td>\n",
       "      <td>100.000000</td>\n",
       "    </tr>\n",
       "  </tbody>\n",
       "</table>\n",
       "</div>"
      ],
      "text/plain": [
       "             hw01        hw02        cw01        cw02\n",
       "count  338.000000  338.000000  338.000000  338.000000\n",
       "mean    64.718935   60.068047   45.970414   65.041420\n",
       "std     42.077303   42.443449   34.744583   39.738889\n",
       "min      0.000000    0.000000    0.000000    0.000000\n",
       "25%     16.000000   10.000000    0.000000   34.000000\n",
       "50%     84.000000   69.000000   53.000000   67.000000\n",
       "75%    105.000000  100.000000   75.000000  100.000000\n",
       "max    105.000000  110.000000  100.000000  100.000000"
      ]
     },
     "execution_count": 134,
     "metadata": {},
     "output_type": "execute_result"
    }
   ],
   "source": [
    "df_small.describe()"
   ]
  },
  {
   "cell_type": "code",
   "execution_count": 136,
   "metadata": {},
   "outputs": [
    {
     "name": "stdout",
     "output_type": "stream",
     "text": [
      "<class 'pandas.core.frame.DataFrame'>\n",
      "Index: 338 entries, dap_econ_2021_1 to dap_econ_2021_450\n",
      "Data columns (total 5 columns):\n",
      " #   Column  Non-Null Count  Dtype  \n",
      "---  ------  --------------  -----  \n",
      " 0   группа  338 non-null    object \n",
      " 1   hw01    338 non-null    float64\n",
      " 2   hw02    338 non-null    float64\n",
      " 3   cw01    338 non-null    float64\n",
      " 4   cw02    338 non-null    float64\n",
      "dtypes: float64(4), object(1)\n",
      "memory usage: 23.9+ KB\n"
     ]
    }
   ],
   "source": [
    "df_small.info()"
   ]
  },
  {
   "cell_type": "code",
   "execution_count": 135,
   "metadata": {},
   "outputs": [
    {
     "data": {
      "text/html": [
       "<div>\n",
       "<style scoped>\n",
       "    .dataframe tbody tr th:only-of-type {\n",
       "        vertical-align: middle;\n",
       "    }\n",
       "\n",
       "    .dataframe tbody tr th {\n",
       "        vertical-align: top;\n",
       "    }\n",
       "\n",
       "    .dataframe thead th {\n",
       "        text-align: right;\n",
       "    }\n",
       "</style>\n",
       "<table border=\"1\" class=\"dataframe\">\n",
       "  <thead>\n",
       "    <tr style=\"text-align: right;\">\n",
       "      <th></th>\n",
       "      <th>группа</th>\n",
       "    </tr>\n",
       "  </thead>\n",
       "  <tbody>\n",
       "    <tr>\n",
       "      <th>count</th>\n",
       "      <td>338</td>\n",
       "    </tr>\n",
       "    <tr>\n",
       "      <th>unique</th>\n",
       "      <td>12</td>\n",
       "    </tr>\n",
       "    <tr>\n",
       "      <th>top</th>\n",
       "      <td>БЭК207</td>\n",
       "    </tr>\n",
       "    <tr>\n",
       "      <th>freq</th>\n",
       "      <td>34</td>\n",
       "    </tr>\n",
       "  </tbody>\n",
       "</table>\n",
       "</div>"
      ],
      "text/plain": [
       "        группа\n",
       "count      338\n",
       "unique      12\n",
       "top     БЭК207\n",
       "freq        34"
      ]
     },
     "execution_count": 135,
     "metadata": {},
     "output_type": "execute_result"
    }
   ],
   "source": [
    "df_small.describe(include=['object'])"
   ]
  },
  {
   "cell_type": "markdown",
   "metadata": {},
   "source": [
    "- Какая группа самая клёвая? "
   ]
  },
  {
   "cell_type": "code",
   "execution_count": 144,
   "metadata": {},
   "outputs": [
    {
     "data": {
      "text/plain": [
       "69.94117647058823"
      ]
     },
     "execution_count": 144,
     "metadata": {},
     "output_type": "execute_result"
    }
   ],
   "source": [
    "df_small[ df_small['группа'] == 'БЭК207' ]['hw01'].mean()"
   ]
  },
  {
   "cell_type": "code",
   "execution_count": 145,
   "metadata": {},
   "outputs": [
    {
     "data": {
      "text/html": [
       "<div>\n",
       "<style scoped>\n",
       "    .dataframe tbody tr th:only-of-type {\n",
       "        vertical-align: middle;\n",
       "    }\n",
       "\n",
       "    .dataframe tbody tr th {\n",
       "        vertical-align: top;\n",
       "    }\n",
       "\n",
       "    .dataframe thead th {\n",
       "        text-align: right;\n",
       "    }\n",
       "</style>\n",
       "<table border=\"1\" class=\"dataframe\">\n",
       "  <thead>\n",
       "    <tr style=\"text-align: right;\">\n",
       "      <th></th>\n",
       "      <th>hw01</th>\n",
       "    </tr>\n",
       "    <tr>\n",
       "      <th>группа</th>\n",
       "      <th></th>\n",
       "    </tr>\n",
       "  </thead>\n",
       "  <tbody>\n",
       "    <tr>\n",
       "      <th>БЭК201</th>\n",
       "      <td>92.777778</td>\n",
       "    </tr>\n",
       "    <tr>\n",
       "      <th>БЭК2010</th>\n",
       "      <td>45.800000</td>\n",
       "    </tr>\n",
       "    <tr>\n",
       "      <th>БЭК2011</th>\n",
       "      <td>30.777778</td>\n",
       "    </tr>\n",
       "    <tr>\n",
       "      <th>БЭК2012</th>\n",
       "      <td>59.840000</td>\n",
       "    </tr>\n",
       "    <tr>\n",
       "      <th>БЭК202</th>\n",
       "      <td>91.482759</td>\n",
       "    </tr>\n",
       "    <tr>\n",
       "      <th>БЭК203</th>\n",
       "      <td>87.074074</td>\n",
       "    </tr>\n",
       "    <tr>\n",
       "      <th>БЭК204</th>\n",
       "      <td>83.120000</td>\n",
       "    </tr>\n",
       "    <tr>\n",
       "      <th>БЭК205</th>\n",
       "      <td>62.481481</td>\n",
       "    </tr>\n",
       "    <tr>\n",
       "      <th>БЭК206</th>\n",
       "      <td>60.259259</td>\n",
       "    </tr>\n",
       "    <tr>\n",
       "      <th>БЭК207</th>\n",
       "      <td>69.941176</td>\n",
       "    </tr>\n",
       "    <tr>\n",
       "      <th>БЭК208</th>\n",
       "      <td>59.033333</td>\n",
       "    </tr>\n",
       "    <tr>\n",
       "      <th>БЭК209</th>\n",
       "      <td>37.466667</td>\n",
       "    </tr>\n",
       "  </tbody>\n",
       "</table>\n",
       "</div>"
      ],
      "text/plain": [
       "              hw01\n",
       "группа            \n",
       "БЭК201   92.777778\n",
       "БЭК2010  45.800000\n",
       "БЭК2011  30.777778\n",
       "БЭК2012  59.840000\n",
       "БЭК202   91.482759\n",
       "БЭК203   87.074074\n",
       "БЭК204   83.120000\n",
       "БЭК205   62.481481\n",
       "БЭК206   60.259259\n",
       "БЭК207   69.941176\n",
       "БЭК208   59.033333\n",
       "БЭК209   37.466667"
      ]
     },
     "execution_count": 145,
     "metadata": {},
     "output_type": "execute_result"
    }
   ],
   "source": [
    "df_small.groupby('группа').agg({'hw01' : 'mean'})"
   ]
  },
  {
   "cell_type": "code",
   "execution_count": 146,
   "metadata": {},
   "outputs": [
    {
     "data": {
      "text/html": [
       "<div>\n",
       "<style scoped>\n",
       "    .dataframe tbody tr th:only-of-type {\n",
       "        vertical-align: middle;\n",
       "    }\n",
       "\n",
       "    .dataframe tbody tr th {\n",
       "        vertical-align: top;\n",
       "    }\n",
       "\n",
       "    .dataframe thead tr th {\n",
       "        text-align: left;\n",
       "    }\n",
       "\n",
       "    .dataframe thead tr:last-of-type th {\n",
       "        text-align: right;\n",
       "    }\n",
       "</style>\n",
       "<table border=\"1\" class=\"dataframe\">\n",
       "  <thead>\n",
       "    <tr>\n",
       "      <th></th>\n",
       "      <th colspan=\"2\" halign=\"left\">hw01</th>\n",
       "      <th colspan=\"2\" halign=\"left\">hw02</th>\n",
       "      <th colspan=\"2\" halign=\"left\">cw01</th>\n",
       "      <th colspan=\"2\" halign=\"left\">cw02</th>\n",
       "    </tr>\n",
       "    <tr>\n",
       "      <th></th>\n",
       "      <th>mean</th>\n",
       "      <th>max</th>\n",
       "      <th>mean</th>\n",
       "      <th>max</th>\n",
       "      <th>mean</th>\n",
       "      <th>max</th>\n",
       "      <th>mean</th>\n",
       "      <th>max</th>\n",
       "    </tr>\n",
       "    <tr>\n",
       "      <th>группа</th>\n",
       "      <th></th>\n",
       "      <th></th>\n",
       "      <th></th>\n",
       "      <th></th>\n",
       "      <th></th>\n",
       "      <th></th>\n",
       "      <th></th>\n",
       "      <th></th>\n",
       "    </tr>\n",
       "  </thead>\n",
       "  <tbody>\n",
       "    <tr>\n",
       "      <th>БЭК201</th>\n",
       "      <td>92.777778</td>\n",
       "      <td>105.0</td>\n",
       "      <td>77.074074</td>\n",
       "      <td>110.0</td>\n",
       "      <td>62.888889</td>\n",
       "      <td>100.0</td>\n",
       "      <td>75.407407</td>\n",
       "      <td>100.0</td>\n",
       "    </tr>\n",
       "    <tr>\n",
       "      <th>БЭК2010</th>\n",
       "      <td>45.800000</td>\n",
       "      <td>105.0</td>\n",
       "      <td>40.800000</td>\n",
       "      <td>110.0</td>\n",
       "      <td>38.833333</td>\n",
       "      <td>97.0</td>\n",
       "      <td>44.533333</td>\n",
       "      <td>100.0</td>\n",
       "    </tr>\n",
       "    <tr>\n",
       "      <th>БЭК2011</th>\n",
       "      <td>30.777778</td>\n",
       "      <td>105.0</td>\n",
       "      <td>21.407407</td>\n",
       "      <td>110.0</td>\n",
       "      <td>22.481481</td>\n",
       "      <td>100.0</td>\n",
       "      <td>54.370370</td>\n",
       "      <td>100.0</td>\n",
       "    </tr>\n",
       "    <tr>\n",
       "      <th>БЭК2012</th>\n",
       "      <td>59.840000</td>\n",
       "      <td>105.0</td>\n",
       "      <td>69.400000</td>\n",
       "      <td>110.0</td>\n",
       "      <td>55.600000</td>\n",
       "      <td>100.0</td>\n",
       "      <td>66.760000</td>\n",
       "      <td>100.0</td>\n",
       "    </tr>\n",
       "    <tr>\n",
       "      <th>БЭК202</th>\n",
       "      <td>91.482759</td>\n",
       "      <td>105.0</td>\n",
       "      <td>89.448276</td>\n",
       "      <td>110.0</td>\n",
       "      <td>61.172414</td>\n",
       "      <td>100.0</td>\n",
       "      <td>80.586207</td>\n",
       "      <td>100.0</td>\n",
       "    </tr>\n",
       "    <tr>\n",
       "      <th>БЭК203</th>\n",
       "      <td>87.074074</td>\n",
       "      <td>105.0</td>\n",
       "      <td>80.259259</td>\n",
       "      <td>110.0</td>\n",
       "      <td>61.555556</td>\n",
       "      <td>100.0</td>\n",
       "      <td>81.629630</td>\n",
       "      <td>100.0</td>\n",
       "    </tr>\n",
       "    <tr>\n",
       "      <th>БЭК204</th>\n",
       "      <td>83.120000</td>\n",
       "      <td>105.0</td>\n",
       "      <td>82.240000</td>\n",
       "      <td>110.0</td>\n",
       "      <td>47.920000</td>\n",
       "      <td>100.0</td>\n",
       "      <td>77.480000</td>\n",
       "      <td>100.0</td>\n",
       "    </tr>\n",
       "    <tr>\n",
       "      <th>БЭК205</th>\n",
       "      <td>62.481481</td>\n",
       "      <td>105.0</td>\n",
       "      <td>63.074074</td>\n",
       "      <td>110.0</td>\n",
       "      <td>44.444444</td>\n",
       "      <td>100.0</td>\n",
       "      <td>70.481481</td>\n",
       "      <td>100.0</td>\n",
       "    </tr>\n",
       "    <tr>\n",
       "      <th>БЭК206</th>\n",
       "      <td>60.259259</td>\n",
       "      <td>105.0</td>\n",
       "      <td>44.407407</td>\n",
       "      <td>110.0</td>\n",
       "      <td>43.111111</td>\n",
       "      <td>100.0</td>\n",
       "      <td>56.518519</td>\n",
       "      <td>100.0</td>\n",
       "    </tr>\n",
       "    <tr>\n",
       "      <th>БЭК207</th>\n",
       "      <td>69.941176</td>\n",
       "      <td>105.0</td>\n",
       "      <td>52.705882</td>\n",
       "      <td>110.0</td>\n",
       "      <td>37.823529</td>\n",
       "      <td>95.0</td>\n",
       "      <td>61.617647</td>\n",
       "      <td>100.0</td>\n",
       "    </tr>\n",
       "    <tr>\n",
       "      <th>БЭК208</th>\n",
       "      <td>59.033333</td>\n",
       "      <td>105.0</td>\n",
       "      <td>63.000000</td>\n",
       "      <td>110.0</td>\n",
       "      <td>39.066667</td>\n",
       "      <td>100.0</td>\n",
       "      <td>71.200000</td>\n",
       "      <td>100.0</td>\n",
       "    </tr>\n",
       "    <tr>\n",
       "      <th>БЭК209</th>\n",
       "      <td>37.466667</td>\n",
       "      <td>105.0</td>\n",
       "      <td>42.800000</td>\n",
       "      <td>110.0</td>\n",
       "      <td>40.733333</td>\n",
       "      <td>100.0</td>\n",
       "      <td>44.566667</td>\n",
       "      <td>100.0</td>\n",
       "    </tr>\n",
       "  </tbody>\n",
       "</table>\n",
       "</div>"
      ],
      "text/plain": [
       "              hw01              hw02              cw01              cw02  \\\n",
       "              mean    max       mean    max       mean    max       mean   \n",
       "группа                                                                     \n",
       "БЭК201   92.777778  105.0  77.074074  110.0  62.888889  100.0  75.407407   \n",
       "БЭК2010  45.800000  105.0  40.800000  110.0  38.833333   97.0  44.533333   \n",
       "БЭК2011  30.777778  105.0  21.407407  110.0  22.481481  100.0  54.370370   \n",
       "БЭК2012  59.840000  105.0  69.400000  110.0  55.600000  100.0  66.760000   \n",
       "БЭК202   91.482759  105.0  89.448276  110.0  61.172414  100.0  80.586207   \n",
       "БЭК203   87.074074  105.0  80.259259  110.0  61.555556  100.0  81.629630   \n",
       "БЭК204   83.120000  105.0  82.240000  110.0  47.920000  100.0  77.480000   \n",
       "БЭК205   62.481481  105.0  63.074074  110.0  44.444444  100.0  70.481481   \n",
       "БЭК206   60.259259  105.0  44.407407  110.0  43.111111  100.0  56.518519   \n",
       "БЭК207   69.941176  105.0  52.705882  110.0  37.823529   95.0  61.617647   \n",
       "БЭК208   59.033333  105.0  63.000000  110.0  39.066667  100.0  71.200000   \n",
       "БЭК209   37.466667  105.0  42.800000  110.0  40.733333  100.0  44.566667   \n",
       "\n",
       "                \n",
       "           max  \n",
       "группа          \n",
       "БЭК201   100.0  \n",
       "БЭК2010  100.0  \n",
       "БЭК2011  100.0  \n",
       "БЭК2012  100.0  \n",
       "БЭК202   100.0  \n",
       "БЭК203   100.0  \n",
       "БЭК204   100.0  \n",
       "БЭК205   100.0  \n",
       "БЭК206   100.0  \n",
       "БЭК207   100.0  \n",
       "БЭК208   100.0  \n",
       "БЭК209   100.0  "
      ]
     },
     "execution_count": 146,
     "metadata": {},
     "output_type": "execute_result"
    }
   ],
   "source": [
    "df_small.groupby('группа')[['hw01', 'hw02', 'cw01', 'cw02']].agg(['mean', 'max'])"
   ]
  },
  {
   "cell_type": "code",
   "execution_count": 149,
   "metadata": {},
   "outputs": [
    {
     "data": {
      "text/html": [
       "<div>\n",
       "<style scoped>\n",
       "    .dataframe tbody tr th:only-of-type {\n",
       "        vertical-align: middle;\n",
       "    }\n",
       "\n",
       "    .dataframe tbody tr th {\n",
       "        vertical-align: top;\n",
       "    }\n",
       "\n",
       "    .dataframe thead th {\n",
       "        text-align: right;\n",
       "    }\n",
       "</style>\n",
       "<table border=\"1\" class=\"dataframe\">\n",
       "  <thead>\n",
       "    <tr style=\"text-align: right;\">\n",
       "      <th></th>\n",
       "      <th>hw01</th>\n",
       "      <th>hw02</th>\n",
       "      <th>cw01</th>\n",
       "      <th>cw02</th>\n",
       "    </tr>\n",
       "    <tr>\n",
       "      <th>группа</th>\n",
       "      <th></th>\n",
       "      <th></th>\n",
       "      <th></th>\n",
       "      <th></th>\n",
       "    </tr>\n",
       "  </thead>\n",
       "  <tbody>\n",
       "    <tr>\n",
       "      <th>БЭК201</th>\n",
       "      <td>92.777778</td>\n",
       "      <td>77.074074</td>\n",
       "      <td>62.888889</td>\n",
       "      <td>75.407407</td>\n",
       "    </tr>\n",
       "    <tr>\n",
       "      <th>БЭК2010</th>\n",
       "      <td>45.800000</td>\n",
       "      <td>40.800000</td>\n",
       "      <td>38.833333</td>\n",
       "      <td>44.533333</td>\n",
       "    </tr>\n",
       "    <tr>\n",
       "      <th>БЭК2011</th>\n",
       "      <td>30.777778</td>\n",
       "      <td>21.407407</td>\n",
       "      <td>22.481481</td>\n",
       "      <td>54.370370</td>\n",
       "    </tr>\n",
       "    <tr>\n",
       "      <th>БЭК2012</th>\n",
       "      <td>59.840000</td>\n",
       "      <td>69.400000</td>\n",
       "      <td>55.600000</td>\n",
       "      <td>66.760000</td>\n",
       "    </tr>\n",
       "    <tr>\n",
       "      <th>БЭК202</th>\n",
       "      <td>91.482759</td>\n",
       "      <td>89.448276</td>\n",
       "      <td>61.172414</td>\n",
       "      <td>80.586207</td>\n",
       "    </tr>\n",
       "    <tr>\n",
       "      <th>БЭК203</th>\n",
       "      <td>87.074074</td>\n",
       "      <td>80.259259</td>\n",
       "      <td>61.555556</td>\n",
       "      <td>81.629630</td>\n",
       "    </tr>\n",
       "    <tr>\n",
       "      <th>БЭК204</th>\n",
       "      <td>83.120000</td>\n",
       "      <td>82.240000</td>\n",
       "      <td>47.920000</td>\n",
       "      <td>77.480000</td>\n",
       "    </tr>\n",
       "    <tr>\n",
       "      <th>БЭК205</th>\n",
       "      <td>62.481481</td>\n",
       "      <td>63.074074</td>\n",
       "      <td>44.444444</td>\n",
       "      <td>70.481481</td>\n",
       "    </tr>\n",
       "    <tr>\n",
       "      <th>БЭК206</th>\n",
       "      <td>60.259259</td>\n",
       "      <td>44.407407</td>\n",
       "      <td>43.111111</td>\n",
       "      <td>56.518519</td>\n",
       "    </tr>\n",
       "    <tr>\n",
       "      <th>БЭК207</th>\n",
       "      <td>69.941176</td>\n",
       "      <td>52.705882</td>\n",
       "      <td>37.823529</td>\n",
       "      <td>61.617647</td>\n",
       "    </tr>\n",
       "    <tr>\n",
       "      <th>БЭК208</th>\n",
       "      <td>59.033333</td>\n",
       "      <td>63.000000</td>\n",
       "      <td>39.066667</td>\n",
       "      <td>71.200000</td>\n",
       "    </tr>\n",
       "    <tr>\n",
       "      <th>БЭК209</th>\n",
       "      <td>37.466667</td>\n",
       "      <td>42.800000</td>\n",
       "      <td>40.733333</td>\n",
       "      <td>44.566667</td>\n",
       "    </tr>\n",
       "  </tbody>\n",
       "</table>\n",
       "</div>"
      ],
      "text/plain": [
       "              hw01       hw02       cw01       cw02\n",
       "группа                                             \n",
       "БЭК201   92.777778  77.074074  62.888889  75.407407\n",
       "БЭК2010  45.800000  40.800000  38.833333  44.533333\n",
       "БЭК2011  30.777778  21.407407  22.481481  54.370370\n",
       "БЭК2012  59.840000  69.400000  55.600000  66.760000\n",
       "БЭК202   91.482759  89.448276  61.172414  80.586207\n",
       "БЭК203   87.074074  80.259259  61.555556  81.629630\n",
       "БЭК204   83.120000  82.240000  47.920000  77.480000\n",
       "БЭК205   62.481481  63.074074  44.444444  70.481481\n",
       "БЭК206   60.259259  44.407407  43.111111  56.518519\n",
       "БЭК207   69.941176  52.705882  37.823529  61.617647\n",
       "БЭК208   59.033333  63.000000  39.066667  71.200000\n",
       "БЭК209   37.466667  42.800000  40.733333  44.566667"
      ]
     },
     "execution_count": 149,
     "metadata": {},
     "output_type": "execute_result"
    }
   ],
   "source": [
    "df_agg = df_small.groupby('группа')[['hw01', 'hw02', 'cw01', 'cw02']].agg('mean')\n",
    "df_agg"
   ]
  },
  {
   "cell_type": "code",
   "execution_count": 156,
   "metadata": {},
   "outputs": [
    {
     "data": {
      "text/html": [
       "<div>\n",
       "<style scoped>\n",
       "    .dataframe tbody tr th:only-of-type {\n",
       "        vertical-align: middle;\n",
       "    }\n",
       "\n",
       "    .dataframe tbody tr th {\n",
       "        vertical-align: top;\n",
       "    }\n",
       "\n",
       "    .dataframe thead th {\n",
       "        text-align: right;\n",
       "    }\n",
       "</style>\n",
       "<table border=\"1\" class=\"dataframe\">\n",
       "  <thead>\n",
       "    <tr style=\"text-align: right;\">\n",
       "      <th></th>\n",
       "      <th>hw01</th>\n",
       "      <th>hw02</th>\n",
       "      <th>cw01</th>\n",
       "      <th>cw02</th>\n",
       "    </tr>\n",
       "    <tr>\n",
       "      <th>группа</th>\n",
       "      <th></th>\n",
       "      <th></th>\n",
       "      <th></th>\n",
       "      <th></th>\n",
       "    </tr>\n",
       "  </thead>\n",
       "  <tbody>\n",
       "    <tr>\n",
       "      <th>БЭК201</th>\n",
       "      <td>92.777778</td>\n",
       "      <td>77.074074</td>\n",
       "      <td>62.888889</td>\n",
       "      <td>75.407407</td>\n",
       "    </tr>\n",
       "    <tr>\n",
       "      <th>БЭК202</th>\n",
       "      <td>91.482759</td>\n",
       "      <td>89.448276</td>\n",
       "      <td>61.172414</td>\n",
       "      <td>80.586207</td>\n",
       "    </tr>\n",
       "    <tr>\n",
       "      <th>БЭК203</th>\n",
       "      <td>87.074074</td>\n",
       "      <td>80.259259</td>\n",
       "      <td>61.555556</td>\n",
       "      <td>81.629630</td>\n",
       "    </tr>\n",
       "    <tr>\n",
       "      <th>БЭК204</th>\n",
       "      <td>83.120000</td>\n",
       "      <td>82.240000</td>\n",
       "      <td>47.920000</td>\n",
       "      <td>77.480000</td>\n",
       "    </tr>\n",
       "    <tr>\n",
       "      <th>БЭК207</th>\n",
       "      <td>69.941176</td>\n",
       "      <td>52.705882</td>\n",
       "      <td>37.823529</td>\n",
       "      <td>61.617647</td>\n",
       "    </tr>\n",
       "    <tr>\n",
       "      <th>БЭК205</th>\n",
       "      <td>62.481481</td>\n",
       "      <td>63.074074</td>\n",
       "      <td>44.444444</td>\n",
       "      <td>70.481481</td>\n",
       "    </tr>\n",
       "    <tr>\n",
       "      <th>БЭК206</th>\n",
       "      <td>60.259259</td>\n",
       "      <td>44.407407</td>\n",
       "      <td>43.111111</td>\n",
       "      <td>56.518519</td>\n",
       "    </tr>\n",
       "    <tr>\n",
       "      <th>БЭК2012</th>\n",
       "      <td>59.840000</td>\n",
       "      <td>69.400000</td>\n",
       "      <td>55.600000</td>\n",
       "      <td>66.760000</td>\n",
       "    </tr>\n",
       "    <tr>\n",
       "      <th>БЭК208</th>\n",
       "      <td>59.033333</td>\n",
       "      <td>63.000000</td>\n",
       "      <td>39.066667</td>\n",
       "      <td>71.200000</td>\n",
       "    </tr>\n",
       "    <tr>\n",
       "      <th>БЭК2010</th>\n",
       "      <td>45.800000</td>\n",
       "      <td>40.800000</td>\n",
       "      <td>38.833333</td>\n",
       "      <td>44.533333</td>\n",
       "    </tr>\n",
       "    <tr>\n",
       "      <th>БЭК209</th>\n",
       "      <td>37.466667</td>\n",
       "      <td>42.800000</td>\n",
       "      <td>40.733333</td>\n",
       "      <td>44.566667</td>\n",
       "    </tr>\n",
       "    <tr>\n",
       "      <th>БЭК2011</th>\n",
       "      <td>30.777778</td>\n",
       "      <td>21.407407</td>\n",
       "      <td>22.481481</td>\n",
       "      <td>54.370370</td>\n",
       "    </tr>\n",
       "  </tbody>\n",
       "</table>\n",
       "</div>"
      ],
      "text/plain": [
       "              hw01       hw02       cw01       cw02\n",
       "группа                                             \n",
       "БЭК201   92.777778  77.074074  62.888889  75.407407\n",
       "БЭК202   91.482759  89.448276  61.172414  80.586207\n",
       "БЭК203   87.074074  80.259259  61.555556  81.629630\n",
       "БЭК204   83.120000  82.240000  47.920000  77.480000\n",
       "БЭК207   69.941176  52.705882  37.823529  61.617647\n",
       "БЭК205   62.481481  63.074074  44.444444  70.481481\n",
       "БЭК206   60.259259  44.407407  43.111111  56.518519\n",
       "БЭК2012  59.840000  69.400000  55.600000  66.760000\n",
       "БЭК208   59.033333  63.000000  39.066667  71.200000\n",
       "БЭК2010  45.800000  40.800000  38.833333  44.533333\n",
       "БЭК209   37.466667  42.800000  40.733333  44.566667\n",
       "БЭК2011  30.777778  21.407407  22.481481  54.370370"
      ]
     },
     "execution_count": 156,
     "metadata": {},
     "output_type": "execute_result"
    }
   ],
   "source": [
    "df_agg.sort_values('hw01', ascending=False)"
   ]
  },
  {
   "cell_type": "code",
   "execution_count": 160,
   "metadata": {},
   "outputs": [
    {
     "data": {
      "image/png": "[encoded data removed]",
      "text/plain": [
       "<Figure size 432x288 with 1 Axes>"
      ]
     },
     "metadata": {
      "needs_background": "light"
     },
     "output_type": "display_data"
    }
   ],
   "source": [
    "df_agg['hw01'].sort_values(ascending=False).plot(kind='bar');"
   ]
  },
  {
   "cell_type": "markdown",
   "metadata": {},
   "source": [
    "## 6. Кодировка\n",
    "\n",
    "Спросили про битые файлы и разные кодировки. \n",
    "\n",
    "__Краткий ответ:__ скорее всего файл либо в кодировке `utf-8` либо в `cp1251` и у вас она другая. Просто допишите опцию `encoding` и всё будет хорошо."
   ]
  },
  {
   "cell_type": "code",
   "execution_count": 161,
   "metadata": {},
   "outputs": [],
   "source": [
    "with open('message.txt', 'w', encoding='cp1251') as f:\n",
    "    f.write('Привет!\\nМаша!\\nТы супер!\\n')"
   ]
  },
  {
   "cell_type": "code",
   "execution_count": 164,
   "metadata": {},
   "outputs": [
    {
     "data": {
      "text/plain": [
       "'Привет!\\nМаша!\\nТы супер!\\n'"
      ]
     },
     "execution_count": 164,
     "metadata": {},
     "output_type": "execute_result"
    }
   ],
   "source": [
    "with open('message.txt', 'r', encoding='cp1251') as f:\n",
    "    s = f.read()\n",
    "s"
   ]
  },
  {
   "cell_type": "code",
   "execution_count": 177,
   "metadata": {},
   "outputs": [
    {
     "data": {
      "text/plain": [
       "b'\\xd0\\x9c\\xd0\\xb0\\xd0\\xbc\\xd0\\xb0 \\xd0\\xbc\\xd1\\x8b\\xd0\\xbb\\xd0\\xb0 \\xd1\\x80\\xd0\\xb0\\xd0\\xbc\\xd1\\x83'"
      ]
     },
     "execution_count": 177,
     "metadata": {},
     "output_type": "execute_result"
    }
   ],
   "source": [
    "a = 'Мама мыла раму'\n",
    "a = a.encode('utf-8')\n",
    "a"
   ]
  },
  {
   "cell_type": "code",
   "execution_count": 178,
   "metadata": {},
   "outputs": [
    {
     "data": {
      "text/plain": [
       "'Мама мыла раму'"
      ]
     },
     "execution_count": 178,
     "metadata": {},
     "output_type": "execute_result"
    }
   ],
   "source": [
    "a.decode('utf-8')"
   ]
  },
  {
   "cell_type": "markdown",
   "metadata": {},
   "source": [
    "# Вопросы\n",
    "\n",
    "Как ввести матрицу без цикла"
   ]
  },
  {
   "cell_type": "code",
   "execution_count": 179,
   "metadata": {},
   "outputs": [],
   "source": [
    "m = \"\"\"1 2 3 \n",
    "4 5 6\n",
    "7 8 9\"\"\"\n",
    "\n",
    "with open('input.txt', 'w') as f:\n",
    "    f.write(m)"
   ]
  },
  {
   "cell_type": "code",
   "execution_count": 180,
   "metadata": {},
   "outputs": [
    {
     "name": "stdout",
     "output_type": "stream",
     "text": [
      "1 2 3 \r\n",
      "4 5 6\r\n",
      "7 8 9"
     ]
    }
   ],
   "source": [
    "!cat input.txt"
   ]
  },
  {
   "cell_type": "code",
   "execution_count": 181,
   "metadata": {},
   "outputs": [],
   "source": [
    "with open('input.txt', 'r') as f:\n",
    "    m = f.read()"
   ]
  },
  {
   "cell_type": "code",
   "execution_count": 192,
   "metadata": {},
   "outputs": [
    {
     "data": {
      "text/plain": [
       "array([[1., 2., 3.],\n",
       "       [4., 5., 6.],\n",
       "       [7., 8., 9.]])"
      ]
     },
     "execution_count": 192,
     "metadata": {},
     "output_type": "execute_result"
    }
   ],
   "source": [
    "import numpy as np\n",
    "X = np.array(list(map(lambda w: w.split(), m.split('\\n'))))\n",
    "X = X.astype(float)\n",
    "X"
   ]
  },
  {
   "cell_type": "markdown",
   "metadata": {},
   "source": [
    "Сохранить можно также! Внутри `join` для разделения строк используйте `\\n`"
   ]
  },
  {
   "cell_type": "code",
   "execution_count": 193,
   "metadata": {},
   "outputs": [
    {
     "name": "stdout",
     "output_type": "stream",
     "text": [
      "Маша\n",
      "вау\n",
      "крута\n"
     ]
    }
   ],
   "source": [
    "a = ['Маша', 'вау', 'крута']\n",
    "\n",
    "print(\"\\n\".join(a))"
   ]
  },
  {
   "cell_type": "code",
   "execution_count": 194,
   "metadata": {},
   "outputs": [
    {
     "name": "stdout",
     "output_type": "stream",
     "text": [
      "Маша вау крута\n"
     ]
    }
   ],
   "source": [
    "print(\" \".join(a))"
   ]
  },
  {
   "cell_type": "markdown",
   "metadata": {},
   "source": [
    " "
   ]
  }
 ],
 "metadata": {
  "kernelspec": {
   "display_name": "Python 3",
   "language": "python",
   "name": "python3"
  },
  "language_info": {
   "codemirror_mode": {
    "name": "ipython",
    "version": 3
   },
   "file_extension": ".py",
   "mimetype": "text/x-python",
   "name": "python",
   "nbconvert_exporter": "python",
   "pygments_lexer": "ipython3",
   "version": "3.9.1"
  }
 },
 "nbformat": 4,
 "nbformat_minor": 4
}
