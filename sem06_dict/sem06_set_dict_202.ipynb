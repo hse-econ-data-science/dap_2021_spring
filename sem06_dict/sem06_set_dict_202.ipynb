{
 "cells": [
  {
   "cell_type": "markdown",
   "metadata": {},
   "source": [
    "# Анализ данных на Python\n",
    "\n",
    "### Семинар 6. Множества и словари. Задачи."
   ]
  },
  {
   "cell_type": "code",
   "execution_count": 1,
   "metadata": {},
   "outputs": [],
   "source": [
    "def test_problem(func, test_data):\n",
    "    for inputs, true_answer in test_data:\n",
    "        answer = func(inputs)\n",
    "        assert answer == true_answer, f'Expected {true_answer}, got {answer}. Input: {inputs}'\n",
    "    print(\"OK!\")\n",
    "    \n",
    "def test_problem_13(func, test_data):\n",
    "    for inputs, true_answer in test_data:\n",
    "        answer = func(*inputs)\n",
    "        assert answer == true_answer, f'Expected {true_answer}, got {answer}. Input: {inputs}'\n",
    "    print(\"OK!\")"
   ]
  },
  {
   "cell_type": "markdown",
   "metadata": {},
   "source": [
    "## Задачка 1: магазин\n",
    "Вам предостоит обработать базу данных о продажах некоторого интернет-магазина. База данных представляет собой набор кортежей, в каждом кортеже три элемента: (Покупатель, товар, количество), где Покупатель — имя покупателя (строка без пробелов), товар — название товара (строка без пробелов), количество — количество приобретенных единиц товара.\n",
    "Создайте словарь, ключами которого являются имена покупателей, а значениями — словари, ключами которых являются названия товаров, а значениями — количество единиц этого товара, которые купил этот покупатель.\n",
    "Напишите функцию aggregate, принимающую некоторое количество набор кортежей из базы данных и возвращающую сводную информацию в виде словаря."
   ]
  },
  {
   "cell_type": "code",
   "execution_count": 41,
   "metadata": {},
   "outputs": [],
   "source": [
    "from collections import defaultdict"
   ]
  },
  {
   "cell_type": "code",
   "execution_count": 52,
   "metadata": {},
   "outputs": [
    {
     "data": {
      "text/plain": [
       "{'Petrov': 5}"
      ]
     },
     "execution_count": 52,
     "metadata": {},
     "output_type": "execute_result"
    }
   ],
   "source": [
    "d = dict()\n",
    "d['Petrov'] = 5\n",
    "d"
   ]
  },
  {
   "cell_type": "code",
   "execution_count": 51,
   "metadata": {},
   "outputs": [
    {
     "data": {
      "text/plain": [
       "defaultdict(dict, {'Petrov': {'marker': 5, 'pens': 10}})"
      ]
     },
     "execution_count": 51,
     "metadata": {},
     "output_type": "execute_result"
    }
   ],
   "source": [
    "d = defaultdict(dict)\n",
    "d['Petrov']['marker'] = 5\n",
    "d['Petrov']['pens'] = 10\n",
    "d"
   ]
  },
  {
   "cell_type": "code",
   "execution_count": 57,
   "metadata": {},
   "outputs": [],
   "source": [
    "from collections import defaultdict\n",
    "\n",
    "def aggregate(names):\n",
    "    \n",
    "    # ┬─┬ ノ( ゜-゜ノ)\n",
    "    \n",
    "    # (╯° □°)╯︵ ┻━┻\n",
    "    \n",
    "    #d = {'Petrov' : {'pens' : 5, 'marker' : 8}, \\n\n",
    "    #     'Ivanov' : {'marker' : 10}}\n",
    "    d = defaultdict(dict)\n",
    "    for surname, obj, cnt in names:\n",
    "        if obj not in d[surname]:\n",
    "            d[surname][obj] = cnt\n",
    "        else:\n",
    "            d[surname][obj] += cnt\n",
    "    \n",
    "    return d"
   ]
  },
  {
   "cell_type": "code",
   "execution_count": 56,
   "metadata": {},
   "outputs": [
    {
     "ename": "AssertionError",
     "evalue": "Expected {'Ivanov': {'aaa': 52, 'bbb': 3, 'ccc': 45}, 'Petrov': {'aaa': 9, 'bbb': 7, 'ddd': 34}, 'Sidorov': {'aaa': 356}, 'Ziborov': {'eee': 234}}, got defaultdict(<class 'dict'>, {'Ivanov': {'aaa': 45, 'bbb': 3, 'ccc': 45}, 'Petrov': {'aaa': 7, 'bbb': 7, 'ddd': 34}, 'Sidorov': {'aaa': 345}, 'Ziborov': {'eee': 234}}). Input: [('Ivanov', 'aaa', 1), ('Petrov', 'aaa', 2), ('Sidorov', 'aaa', 3), ('Ivanov', 'aaa', 6), ('Petrov', 'aaa', 7), ('Sidorov', 'aaa', 8), ('Ivanov', 'bbb', 3), ('Petrov', 'bbb', 7), ('Sidorov', 'aaa', 345), ('Ivanov', 'ccc', 45), ('Petrov', 'ddd', 34), ('Ziborov', 'eee', 234), ('Ivanov', 'aaa', 45)]",
     "output_type": "error",
     "traceback": [
      "\u001b[0;31m---------------------------------------------------------------------------\u001b[0m",
      "\u001b[0;31mAssertionError\u001b[0m                            Traceback (most recent call last)",
      "\u001b[0;32m<ipython-input-56-29bce2b06180>\u001b[0m in \u001b[0;36m<module>\u001b[0;34m\u001b[0m\n\u001b[1;32m     14\u001b[0m      'Ziborov': {'eee': 234}})\n\u001b[1;32m     15\u001b[0m ]\n\u001b[0;32m---> 16\u001b[0;31m \u001b[0mtest_problem\u001b[0m\u001b[0;34m(\u001b[0m\u001b[0maggregate\u001b[0m\u001b[0;34m,\u001b[0m \u001b[0mAGG_TESTS_DATA\u001b[0m\u001b[0;34m)\u001b[0m\u001b[0;34m\u001b[0m\u001b[0;34m\u001b[0m\u001b[0m\n\u001b[0m",
      "\u001b[0;32m<ipython-input-1-b9d10a73c644>\u001b[0m in \u001b[0;36mtest_problem\u001b[0;34m(func, test_data)\u001b[0m\n\u001b[1;32m      2\u001b[0m     \u001b[0;32mfor\u001b[0m \u001b[0minputs\u001b[0m\u001b[0;34m,\u001b[0m \u001b[0mtrue_answer\u001b[0m \u001b[0;32min\u001b[0m \u001b[0mtest_data\u001b[0m\u001b[0;34m:\u001b[0m\u001b[0;34m\u001b[0m\u001b[0;34m\u001b[0m\u001b[0m\n\u001b[1;32m      3\u001b[0m         \u001b[0manswer\u001b[0m \u001b[0;34m=\u001b[0m \u001b[0mfunc\u001b[0m\u001b[0;34m(\u001b[0m\u001b[0minputs\u001b[0m\u001b[0;34m)\u001b[0m\u001b[0;34m\u001b[0m\u001b[0;34m\u001b[0m\u001b[0m\n\u001b[0;32m----> 4\u001b[0;31m         \u001b[0;32massert\u001b[0m \u001b[0manswer\u001b[0m \u001b[0;34m==\u001b[0m \u001b[0mtrue_answer\u001b[0m\u001b[0;34m,\u001b[0m \u001b[0;34mf'Expected {true_answer}, got {answer}. Input: {inputs}'\u001b[0m\u001b[0;34m\u001b[0m\u001b[0;34m\u001b[0m\u001b[0m\n\u001b[0m\u001b[1;32m      5\u001b[0m     \u001b[0mprint\u001b[0m\u001b[0;34m(\u001b[0m\u001b[0;34m\"OK!\"\u001b[0m\u001b[0;34m)\u001b[0m\u001b[0;34m\u001b[0m\u001b[0;34m\u001b[0m\u001b[0m\n\u001b[1;32m      6\u001b[0m \u001b[0;34m\u001b[0m\u001b[0m\n",
      "\u001b[0;31mAssertionError\u001b[0m: Expected {'Ivanov': {'aaa': 52, 'bbb': 3, 'ccc': 45}, 'Petrov': {'aaa': 9, 'bbb': 7, 'ddd': 34}, 'Sidorov': {'aaa': 356}, 'Ziborov': {'eee': 234}}, got defaultdict(<class 'dict'>, {'Ivanov': {'aaa': 45, 'bbb': 3, 'ccc': 45}, 'Petrov': {'aaa': 7, 'bbb': 7, 'ddd': 34}, 'Sidorov': {'aaa': 345}, 'Ziborov': {'eee': 234}}). Input: [('Ivanov', 'aaa', 1), ('Petrov', 'aaa', 2), ('Sidorov', 'aaa', 3), ('Ivanov', 'aaa', 6), ('Petrov', 'aaa', 7), ('Sidorov', 'aaa', 8), ('Ivanov', 'bbb', 3), ('Petrov', 'bbb', 7), ('Sidorov', 'aaa', 345), ('Ivanov', 'ccc', 45), ('Petrov', 'ddd', 34), ('Ziborov', 'eee', 234), ('Ivanov', 'aaa', 45)]"
     ]
    }
   ],
   "source": [
    "AGG_TESTS_DATA = [\n",
    "    ([(\"Petrov\",\"pens\",5), (\"Ivanov\",\"marker\",3), (\"Ivanov\",\"paper\",7), \n",
    "      (\"Petrov\",\"envelope\",20), (\"Ivanov\",\"envelope\",5)], \n",
    "     {'Petrov': {'pens': 5, 'envelope': 20}, \n",
    "      'Ivanov': {'marker': 3, 'paper': 7, 'envelope': 5}}),\n",
    "    \n",
    "    ([(\"Ivanov\",\"aaa\",1), (\"Petrov\",\"aaa\",2), (\"Sidorov\",\"aaa\",3), (\"Ivanov\",\"aaa\",6), \n",
    "      (\"Petrov\",\"aaa\",7), (\"Sidorov\",\"aaa\",8), (\"Ivanov\",\"bbb\",3), (\"Petrov\",\"bbb\",7), \n",
    "      (\"Sidorov\",\"aaa\",345), (\"Ivanov\",\"ccc\",45), (\"Petrov\",\"ddd\",34), \n",
    "      (\"Ziborov\",\"eee\",234), (\"Ivanov\",\"aaa\",45)],\n",
    "    {'Ivanov': {'aaa': 52, 'bbb': 3, 'ccc': 45},\n",
    "     'Petrov': {'aaa': 9, 'bbb': 7, 'ddd': 34},\n",
    "     'Sidorov': {'aaa': 356},\n",
    "     'Ziborov': {'eee': 234}})\n",
    "]\n",
    "test_problem(aggregate, AGG_TESTS_DATA)"
   ]
  },
  {
   "cell_type": "markdown",
   "metadata": {},
   "source": [
    "## Задачка 2: одинаковые строки\n",
    "\n",
    "Напишите функцию, которая приенимает на вход две строки и возвращает True, если перестановкой символов можно получить вторую строку из первой."
   ]
  },
  {
   "cell_type": "code",
   "execution_count": 21,
   "metadata": {},
   "outputs": [
    {
     "data": {
      "text/plain": [
       "dict_keys(['a', 'b', 'c'])"
      ]
     },
     "execution_count": 21,
     "metadata": {},
     "output_type": "execute_result"
    }
   ],
   "source": [
    "d = dict()\n",
    "d['a'] = 1\n",
    "d['b'] = 2\n",
    "d['c'] = 3\n",
    "d\n",
    "d.keys()"
   ]
  },
  {
   "cell_type": "code",
   "execution_count": 22,
   "metadata": {},
   "outputs": [
    {
     "data": {
      "text/plain": [
       "{'a': 1, 'b': 2, 'c': 3}"
      ]
     },
     "execution_count": 22,
     "metadata": {},
     "output_type": "execute_result"
    }
   ],
   "source": [
    "d"
   ]
  },
  {
   "cell_type": "code",
   "execution_count": 23,
   "metadata": {},
   "outputs": [
    {
     "data": {
      "text/plain": [
       "{'c': 1, 'a': 2, 'b': 3}"
      ]
     },
     "execution_count": 23,
     "metadata": {},
     "output_type": "execute_result"
    }
   ],
   "source": [
    "c = dict()\n",
    "c['c'] = 1\n",
    "c['a'] = 2\n",
    "c['b'] = 3\n",
    "c"
   ]
  },
  {
   "cell_type": "code",
   "execution_count": 8,
   "metadata": {},
   "outputs": [
    {
     "data": {
      "text/plain": [
       "[1, 2]"
      ]
     },
     "execution_count": 8,
     "metadata": {},
     "output_type": "execute_result"
    }
   ],
   "source": [
    "list(d.values())"
   ]
  },
  {
   "cell_type": "code",
   "execution_count": 5,
   "metadata": {},
   "outputs": [
    {
     "data": {
      "text/plain": [
       "dict_items([('a', 1)])"
      ]
     },
     "execution_count": 5,
     "metadata": {},
     "output_type": "execute_result"
    }
   ],
   "source": [
    "d.items()"
   ]
  },
  {
   "cell_type": "code",
   "execution_count": 9,
   "metadata": {},
   "outputs": [
    {
     "data": {
      "text/plain": [
       "[1, 2, 4]"
      ]
     },
     "execution_count": 9,
     "metadata": {},
     "output_type": "execute_result"
    }
   ],
   "source": [
    "a = [2,4,1]\n",
    "a.sort()\n",
    "a"
   ]
  },
  {
   "cell_type": "code",
   "execution_count": 12,
   "metadata": {},
   "outputs": [
    {
     "data": {
      "text/plain": [
       "[1, 2, 4]"
      ]
     },
     "execution_count": 12,
     "metadata": {},
     "output_type": "execute_result"
    }
   ],
   "source": [
    "a = [2,4,1]\n",
    "b = sorted(a)\n",
    "b"
   ]
  },
  {
   "cell_type": "code",
   "execution_count": null,
   "metadata": {},
   "outputs": [],
   "source": []
  },
  {
   "cell_type": "code",
   "execution_count": null,
   "metadata": {},
   "outputs": [],
   "source": [
    "#1) создать один словарь пустой\n",
    "#2) склеить две строки\n",
    "#3) в цикле присвоить ключам сколько раз встречаются символы\n",
    "#4) в цикле по ключам словаря проверим на четность-нечестность"
   ]
  },
  {
   "cell_type": "code",
   "execution_count": 24,
   "metadata": {},
   "outputs": [],
   "source": [
    "def is_isomorphic(a, b):\n",
    "    d = dict()\n",
    "    string = a + b\n",
    "    for i in string:\n",
    "        if i not in d:\n",
    "            d[i] = 1\n",
    "        else:\n",
    "            d[i] += 1\n",
    "    for i in d:\n",
    "        if d[i] % 2 != 0:\n",
    "            return False\n",
    "    return True"
   ]
  },
  {
   "cell_type": "code",
   "execution_count": 19,
   "metadata": {},
   "outputs": [],
   "source": [
    "def is_isomorphic(a, b):\n",
    "    a = list(a)\n",
    "    b = list(b)\n",
    "    a.sort()\n",
    "    b.sort()\n",
    "    #if len(a) != len(b):\n",
    "     #   return False\n",
    "    if a != b:\n",
    "        return False\n",
    "    return True"
   ]
  },
  {
   "cell_type": "code",
   "execution_count": 28,
   "metadata": {},
   "outputs": [
    {
     "name": "stdout",
     "output_type": "stream",
     "text": [
      "OK!\n"
     ]
    }
   ],
   "source": [
    "TEST_DATA = [\n",
    "    (('foo', 'bar'), False),\n",
    "    (('foo', 'oof'), True),\n",
    "    (('a', 'a'), True),\n",
    "    (('aaa', 'aaabbb'), False),\n",
    "    (('140', '041'), True),\n",
    "]\n",
    "\n",
    "test_problem_13(is_isomorphic, TEST_DATA)"
   ]
  },
  {
   "cell_type": "markdown",
   "metadata": {},
   "source": [
    "## Задачка 3. Парковка\n",
    "\n",
    "Напишите функцию, которая принимает на вход словарь, где ключом является индекс парковочного места, а значением True/False (занято/свободно). Вторым аргументом функция должна принимать индекс места, которое хочется занять.\n",
    "Функция должна возращать True, если место можно занять и модифицировать словарь, занимая место. Функция возвращает False, если место уже занято."
   ]
  },
  {
   "cell_type": "code",
   "execution_count": 29,
   "metadata": {},
   "outputs": [],
   "source": [
    "def parking_lot(data, index):\n",
    "    if data[index] == False:\n",
    "        data[index] = True\n",
    "        return True\n",
    "    else:\n",
    "        return False"
   ]
  },
  {
   "cell_type": "code",
   "execution_count": 30,
   "metadata": {},
   "outputs": [
    {
     "name": "stdout",
     "output_type": "stream",
     "text": [
      "OK!\n"
     ]
    }
   ],
   "source": [
    "parking = {0: False, 1: False, 2: False, 3: False}\n",
    "\n",
    "TEST_DATA = [\n",
    "    ((parking, 0), True),\n",
    "    ((parking, 0), False),\n",
    "    ((parking, 1), True),\n",
    "    ((parking, 3), True),\n",
    "]\n",
    "\n",
    "test_problem_13(parking_lot, TEST_DATA)"
   ]
  },
  {
   "cell_type": "markdown",
   "metadata": {},
   "source": [
    "## Задачка 4. Последовательность ДНК.\n",
    "\n",
    "Последовательность ДНК содержит четыре вида символов: 'A', 'C', 'G', и 'T'.\n",
    "Напишите функцию, которая будет возращать все подпоследовательности длины 10, которые встретились чаще одного раза."
   ]
  },
  {
   "cell_type": "code",
   "execution_count": 31,
   "metadata": {},
   "outputs": [
    {
     "data": {
      "text/plain": [
       "10"
      ]
     },
     "execution_count": 31,
     "metadata": {},
     "output_type": "execute_result"
    }
   ],
   "source": [
    "a = 'AAAAACCCCC'\n",
    "len(a)"
   ]
  },
  {
   "cell_type": "code",
   "execution_count": 36,
   "metadata": {},
   "outputs": [
    {
     "name": "stdout",
     "output_type": "stream",
     "text": [
      "AAAAA\n",
      "AAAAC\n",
      "AAACC\n",
      "AACCC\n",
      "ACCCC\n",
      "CCCCC\n"
     ]
    }
   ],
   "source": [
    "for i in range(len(a) - 5 + 1):\n",
    "    print(a[i:5+i])"
   ]
  },
  {
   "cell_type": "code",
   "execution_count": null,
   "metadata": {},
   "outputs": [],
   "source": [
    "#1) создадим пустой словарь, будущие ключи которого \n",
    "#   под-сти длины 10 значения - встречаемость\n",
    "#2) создадим пустой список будущих ответов\n",
    "#3.1) найти индекс позиции элемента строка с последней \n",
    "# подстрокой длиной 10 (len(string) - 10 +-1 ??) отладить \n",
    "# на маленьком примере\n",
    "#3.2) в цикле по всей строке, считываем все посл-сти длины 10\n",
    "# записываем в ключ саму посл-сть, значение увеличиваем на 1\n",
    "#4) в цикле по ключам словаря, и если значение больше 1, то записываем\n",
    "# эту посл-сть в список ответов\n",
    "#5) возвращаем список"
   ]
  },
  {
   "cell_type": "code",
   "execution_count": 37,
   "metadata": {},
   "outputs": [],
   "source": [
    "def repeated_dna(s):\n",
    "    d = dict()\n",
    "    subseq = []\n",
    "    for i in range(len(s) - 10 + 1):\n",
    "        if s[i:10+i] not in d:\n",
    "            d[s[i:10+i]] = 1\n",
    "        else:\n",
    "            d[s[i:10+i]] += 1\n",
    "    for i in d:\n",
    "        if d[i] > 1:\n",
    "            subseq.append(i)\n",
    "    return subseq"
   ]
  },
  {
   "cell_type": "code",
   "execution_count": 38,
   "metadata": {},
   "outputs": [
    {
     "name": "stdout",
     "output_type": "stream",
     "text": [
      "OK!\n"
     ]
    }
   ],
   "source": [
    "TEST_DATA = [\n",
    "    ('AAAAACCCCCAAAAACCCCCCAAAAAGGGTTT', ['AAAAACCCCC','CCCCCAAAAA']),\n",
    "    ('AAAAAAAAAAAAA', ['AAAAAAAAAA']),\n",
    "    ('ACGTTCAGTCCCCAT', []),\n",
    "]\n",
    "\n",
    "test_problem(repeated_dna, TEST_DATA)"
   ]
  },
  {
   "cell_type": "code",
   "execution_count": null,
   "metadata": {},
   "outputs": [],
   "source": []
  }
 ],
 "metadata": {
  "kernelspec": {
   "display_name": "Python 3",
   "language": "python",
   "name": "python3"
  },
  "language_info": {
   "codemirror_mode": {
    "name": "ipython",
    "version": 3
   },
   "file_extension": ".py",
   "mimetype": "text/x-python",
   "name": "python",
   "nbconvert_exporter": "python",
   "pygments_lexer": "ipython3",
   "version": "3.8.5"
  }
 },
 "nbformat": 4,
 "nbformat_minor": 2
}
