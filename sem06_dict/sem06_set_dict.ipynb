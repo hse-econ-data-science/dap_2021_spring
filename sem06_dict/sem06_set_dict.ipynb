{
 "cells": [
  {
   "cell_type": "markdown",
   "metadata": {},
   "source": [
    "# Анализ данных на Python\n",
    "\n",
    "### Семинар 6. Множества и словари. Задачи."
   ]
  },
  {
   "cell_type": "code",
   "execution_count": null,
   "metadata": {},
   "outputs": [],
   "source": [
    "def test_problem(func, test_data):\n",
    "    for inputs, true_answer in test_data:\n",
    "        answer = func(inputs)\n",
    "        assert answer == true_answer, f'Expected {true_answer}, got {answer}. Input: {inputs}'\n",
    "    print(\"OK!\")\n",
    "    \n",
    "def test_problem_13(func, test_data):\n",
    "    for inputs, true_answer in test_data:\n",
    "        answer = func(*inputs)\n",
    "        assert answer == true_answer, f'Expected {true_answer}, got {answer}. Input: {inputs}'\n",
    "    print(\"OK!\")"
   ]
  },
  {
   "cell_type": "markdown",
   "metadata": {},
   "source": [
    "## Задачка 1: магазин\n",
    "Вам предостоит обработать базу данных о продажах некоторого интернет-магазина. База данных представляет собой набор кортежей, в каждом кортеже три элемента: (Покупатель, товар, количество), где Покупатель — имя покупателя (строка без пробелов), товар — название товара (строка без пробелов), количество — количество приобретенных единиц товара.\n",
    "Создайте словарь, ключами которого являются имена покупателей, а значениями — словари, ключами которых являются названия товаров, а значениями — количество единиц этого товара, которые купил этот покупатель.\n",
    "Напишите функцию aggregate, принимающую некоторое количество набор кортежей из базы данных и возвращающую сводную информацию в виде словаря."
   ]
  },
  {
   "cell_type": "code",
   "execution_count": null,
   "metadata": {},
   "outputs": [],
   "source": [
    "def aggregate(names):\n",
    "    \n",
    "    # ┬─┬ ノ( ゜-゜ノ)\n",
    "    \n",
    "    # (╯° □°)╯︵ ┻━┻\n",
    "\n",
    "    return ..."
   ]
  },
  {
   "cell_type": "code",
   "execution_count": null,
   "metadata": {},
   "outputs": [],
   "source": [
    "AGG_TESTS_DATA = [\n",
    "    ([(\"Petrov\",\"pens\",5), (\"Ivanov\",\"marker\",3), (\"Ivanov\",\"paper\",7), \n",
    "      (\"Petrov\",\"envelope\",20), (\"Ivanov\",\"envelope\",5)], \n",
    "     {'Petrov': {'pens': 5, 'envelope': 20}, \n",
    "      'Ivanov': {'marker': 3, 'paper': 7, 'envelope': 5}}),\n",
    "    \n",
    "    ([(\"Ivanov\",\"aaa\",1), (\"Petrov\",\"aaa\",2), (\"Sidorov\",\"aaa\",3), (\"Ivanov\",\"aaa\",6), \n",
    "      (\"Petrov\",\"aaa\",7), (\"Sidorov\",\"aaa\",8), (\"Ivanov\",\"bbb\",3), (\"Petrov\",\"bbb\",7), \n",
    "      (\"Sidorov\",\"aaa\",345), (\"Ivanov\",\"ccc\",45), (\"Petrov\",\"ddd\",34), \n",
    "      (\"Ziborov\",\"eee\",234), (\"Ivanov\",\"aaa\",45)],\n",
    "    {'Ivanov': {'aaa': 52, 'bbb': 3, 'ccc': 45},\n",
    "     'Petrov': {'aaa': 9, 'bbb': 7, 'ddd': 34},\n",
    "     'Sidorov': {'aaa': 356},\n",
    "     'Ziborov': {'eee': 234}})\n",
    "]\n",
    "test_problem(aggregate, AGG_TESTS_DATA)"
   ]
  },
  {
   "cell_type": "markdown",
   "metadata": {},
   "source": [
    "## Задачка 2: одинаковые строки\n",
    "\n",
    "Напишите функцию, которая приенимает на вход две строки и возвращает True, если перестановкой символов можно получить вторую строку из первой."
   ]
  },
  {
   "cell_type": "code",
   "execution_count": null,
   "metadata": {},
   "outputs": [],
   "source": [
    "def is_isomorphic(a, b):\n",
    "    return True"
   ]
  },
  {
   "cell_type": "code",
   "execution_count": null,
   "metadata": {},
   "outputs": [],
   "source": [
    "TEST_DATA = [\n",
    "    (('foo', 'bar'), False),\n",
    "    (('foo', 'oof'), True),\n",
    "    (('a', 'a'), True),\n",
    "    (('aaa', 'aaab'), False),\n",
    "    (('140', '041'), True),\n",
    "]\n",
    "\n",
    "test_problem_13(is_isomorphic, TEST_DATA)"
   ]
  },
  {
   "cell_type": "markdown",
   "metadata": {},
   "source": [
    "## Задачка 3. Парковка\n",
    "\n",
    "Напишите функцию, которая принимает на вход словарь, где ключом является индекс парковочного места, а значением True/False (занято/свободно). Вторым аргументом функция должна принимать индекс места, которое хочется занять.\n",
    "Функция должна возращать True, если место можно занять и модифицировать словарь, занимая место. Функция возвращает False, если место уже занято."
   ]
  },
  {
   "cell_type": "code",
   "execution_count": null,
   "metadata": {},
   "outputs": [],
   "source": [
    "def parking_lot(data, index):\n",
    "    return True"
   ]
  },
  {
   "cell_type": "code",
   "execution_count": null,
   "metadata": {},
   "outputs": [],
   "source": [
    "parking = {0: False, 1: False, 2: False, 3: False}\n",
    "\n",
    "TEST_DATA = [\n",
    "    ((parking, 0), True),\n",
    "    ((parking, 0), False),\n",
    "    ((parking, 1), True),\n",
    "    ((parking, 3), True),\n",
    "]\n",
    "\n",
    "test_problem_13(parking_lot, TEST_DATA)"
   ]
  },
  {
   "cell_type": "markdown",
   "metadata": {},
   "source": [
    "## Задачка 4. Последовательность ДНК.\n",
    "\n",
    "Последовательность ДНК содержит четыре вида символов: 'A', 'C', 'G', и 'T'.\n",
    "Напишите функцию, которая будет возращать все подпоследовательности длины 10, которые встретились чаще одного раза."
   ]
  },
  {
   "cell_type": "code",
   "execution_count": null,
   "metadata": {},
   "outputs": [],
   "source": [
    "def repeated_dna(s):\n",
    "    return []"
   ]
  },
  {
   "cell_type": "code",
   "execution_count": null,
   "metadata": {},
   "outputs": [],
   "source": [
    "TEST_DATA = [\n",
    "    ('AAAAACCCCCAAAAACCCCCCAAAAAGGGTTT', ['AAAAACCCCC','CCCCCAAAAA']),\n",
    "    ('AAAAAAAAAAAAA', ['AAAAAAAAAA']),\n",
    "]\n",
    "\n",
    "test_problem(repeated_dna, TEST_DATA)"
   ]
  }
 ],
 "metadata": {
  "kernelspec": {
   "display_name": "Python 3",
   "language": "python",
   "name": "python3"
  },
  "language_info": {
   "codemirror_mode": {
    "name": "ipython",
    "version": 3
   },
   "file_extension": ".py",
   "mimetype": "text/x-python",
   "name": "python",
   "nbconvert_exporter": "python",
   "pygments_lexer": "ipython3",
   "version": "3.7.9"
  }
 },
 "nbformat": 4,
 "nbformat_minor": 2
}
