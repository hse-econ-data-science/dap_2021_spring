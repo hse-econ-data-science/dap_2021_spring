{
 "cells": [
  {
   "cell_type": "markdown",
   "metadata": {},
   "source": [
    "# Семинар 6"
   ]
  },
  {
   "cell_type": "markdown",
   "metadata": {},
   "source": [
    "## Задачка 1: Пробелы\n",
    "\n",
    "Дана строка. Нужно удалить из неё пробелы без использования дополнительной памяти.\n",
    "\n",
    "` \"where   is         my       cookie\" -> \"where is my cookie\" `"
   ]
  },
  {
   "cell_type": "code",
   "execution_count": 5,
   "metadata": {},
   "outputs": [
    {
     "data": {
      "text/plain": [
       "[(0, 'w'), (1, 'h'), (2, 'e'), (3, 'r'), (4, 'e')]"
      ]
     },
     "execution_count": 5,
     "metadata": {},
     "output_type": "execute_result"
    }
   ],
   "source": [
    "text = \"where   is         my       cookie\"\n",
    "list(enumerate(text))[:5]"
   ]
  },
  {
   "cell_type": "code",
   "execution_count": 44,
   "metadata": {},
   "outputs": [
    {
     "data": {
      "text/plain": [
       "[(5, 8), (10, 19), (21, 28)]"
      ]
     },
     "execution_count": 44,
     "metadata": {},
     "output_type": "execute_result"
    }
   ],
   "source": [
    "text = \"where   is         my       cookie\"\n",
    "\n",
    "ans =[ ]\n",
    "start = True\n",
    "i_start, i_end = -1, -1\n",
    "\n",
    "for i,char in enumerate(text):\n",
    "    \n",
    "    if char == ' ' and start:\n",
    "        start = False\n",
    "        i_start = i\n",
    "        \n",
    "    if char != ' ' and not start:\n",
    "        start = True\n",
    "        i_end = i\n",
    "        ans.append((i_start, i_end))\n",
    "ans"
   ]
  },
  {
   "cell_type": "code",
   "execution_count": 48,
   "metadata": {},
   "outputs": [
    {
     "name": "stdout",
     "output_type": "stream",
     "text": [
      "where   is         my       cookie\n",
      "where is         my       cookie\n",
      "where is          cookie\n"
     ]
    }
   ],
   "source": [
    "# Ещё раз про то, почему нельзя удалять с начала\n",
    "\n",
    "text = \"where   is         my       cookie\"\n",
    "for i,j in ans:\n",
    "    print(text)\n",
    "    text = text[:i+1] + text[j:]"
   ]
  },
  {
   "cell_type": "code",
   "execution_count": 37,
   "metadata": {},
   "outputs": [
    {
     "data": {
      "text/plain": [
       "'where is my cookie'"
      ]
     },
     "execution_count": 37,
     "metadata": {},
     "output_type": "execute_result"
    }
   ],
   "source": [
    "text = \"where   is         my       cookie\"\n",
    "text_copy = text\n",
    "\n",
    "start = True\n",
    "i_start, i_end = -1, -1\n",
    "\n",
    "n = len(text)\n",
    "for i,char in enumerate(text[::-1]):\n",
    "    \n",
    "    if char == ' ' and start:\n",
    "        start = False\n",
    "        i_start = n - i - 1\n",
    "        \n",
    "    if char != ' ' and not start:\n",
    "        start = True\n",
    "        i_end = n - i\n",
    "        text_copy = text_copy[:i_end] + text_copy[i_start:]\n",
    "        \n",
    "text_copy"
   ]
  },
  {
   "cell_type": "markdown",
   "metadata": {},
   "source": [
    "__Халявное решение от Луки:__"
   ]
  },
  {
   "cell_type": "code",
   "execution_count": 43,
   "metadata": {},
   "outputs": [
    {
     "data": {
      "text/plain": [
       "'where is my cookie'"
      ]
     },
     "execution_count": 43,
     "metadata": {},
     "output_type": "execute_result"
    }
   ],
   "source": [
    "text = \"where   is         my       cookie\"\n",
    "while \"  \" in text:\n",
    "    text = text.replace('  ', ' ')\n",
    "text"
   ]
  },
  {
   "cell_type": "markdown",
   "metadata": {},
   "source": [
    "__Минусы:__ не зайдет для лоллкека и свертки последовательности, а верхнее можно для них переписать :) "
   ]
  },
  {
   "cell_type": "markdown",
   "metadata": {},
   "source": [
    "## Задачка 2: тайные циклы и их сложности"
   ]
  },
  {
   "cell_type": "code",
   "execution_count": 51,
   "metadata": {},
   "outputs": [
    {
     "data": {
      "text/plain": [
       "True"
      ]
     },
     "execution_count": 51,
     "metadata": {},
     "output_type": "execute_result"
    }
   ],
   "source": [
    "7 in [42, 6, 5, 7, 18]  # list  O(n)"
   ]
  },
  {
   "cell_type": "code",
   "execution_count": 52,
   "metadata": {},
   "outputs": [
    {
     "data": {
      "text/plain": [
       "True"
      ]
     },
     "execution_count": 52,
     "metadata": {},
     "output_type": "execute_result"
    }
   ],
   "source": [
    "7 in {42, 6, 5, 7, 18}  # set   O(1)"
   ]
  },
  {
   "cell_type": "code",
   "execution_count": 60,
   "metadata": {},
   "outputs": [
    {
     "data": {
      "text/plain": [
       "True"
      ]
     },
     "execution_count": 60,
     "metadata": {},
     "output_type": "execute_result"
    }
   ],
   "source": [
    "x = [42, 6, 5, 7, 18]\n",
    "x = set(x) # O(n)\n",
    "7 in x     # O(1)"
   ]
  },
  {
   "cell_type": "code",
   "execution_count": 55,
   "metadata": {},
   "outputs": [
    {
     "data": {
      "text/plain": [
       "2"
      ]
     },
     "execution_count": 55,
     "metadata": {},
     "output_type": "execute_result"
    }
   ],
   "source": [
    "x = [42, 6, 5, 7, 42, 18]\n",
    "x.index(5)  # O(n) "
   ]
  },
  {
   "cell_type": "code",
   "execution_count": 56,
   "metadata": {},
   "outputs": [
    {
     "data": {
      "text/plain": [
       "2"
      ]
     },
     "execution_count": 56,
     "metadata": {},
     "output_type": "execute_result"
    }
   ],
   "source": [
    "x.count(42)  # O(n) "
   ]
  },
  {
   "cell_type": "code",
   "execution_count": 58,
   "metadata": {},
   "outputs": [
    {
     "data": {
      "text/plain": [
       "[5, 6, 7, 18, 42, 42]"
      ]
     },
     "execution_count": 58,
     "metadata": {},
     "output_type": "execute_result"
    }
   ],
   "source": [
    "# Внутри хитрый алгоритм, который работает за O(n*log n)\n",
    "sorted(x)"
   ]
  },
  {
   "cell_type": "markdown",
   "metadata": {},
   "source": [
    "## Задачка 3: камешки\n",
    "\n",
    "Есть сундук `S` с камнями на чердаке. Есть список драгоценных камней `J` на сайте минестерства геологии. Нам хочется понять, сколько камней в сундуке драгоценные. "
   ]
  },
  {
   "cell_type": "code",
   "execution_count": 61,
   "metadata": {},
   "outputs": [
    {
     "data": {
      "text/plain": [
       "3"
      ]
     },
     "execution_count": 61,
     "metadata": {},
     "output_type": "execute_result"
    }
   ],
   "source": [
    "S = \"aAAbbbb\"  # m\n",
    "J = \"aA\"       # n\n",
    "\n",
    "def slow_snones(J,S):\n",
    "    cnt = 0\n",
    "    for char in S:     # O(m*n)\n",
    "        if char in J:  # O(n)\n",
    "            cnt += 1\n",
    "    return cnt \n",
    "\n",
    "slow_snones(J,S)"
   ]
  },
  {
   "cell_type": "code",
   "execution_count": null,
   "metadata": {},
   "outputs": [],
   "source": [
    "# Сложность по времени:  O(m*n)\n",
    "# Сложность по памяти:   O(1)"
   ]
  },
  {
   "cell_type": "code",
   "execution_count": null,
   "metadata": {},
   "outputs": [],
   "source": [
    "# Трэйдоф: можно ускорить работу алгоритма пожертвовав памятью"
   ]
  },
  {
   "cell_type": "code",
   "execution_count": 62,
   "metadata": {},
   "outputs": [
    {
     "data": {
      "text/plain": [
       "3"
      ]
     },
     "execution_count": 62,
     "metadata": {},
     "output_type": "execute_result"
    }
   ],
   "source": [
    "def fast_snones(J,S):\n",
    "    cnt = 0\n",
    "    J_set = set(J)   # O(n)\n",
    "    for char in S:         # O(m*1)\n",
    "        if char in J_set:  # O(1)\n",
    "            cnt += 1\n",
    "    return cnt \n",
    "\n",
    "slow_snones(J,S)"
   ]
  },
  {
   "cell_type": "code",
   "execution_count": null,
   "metadata": {},
   "outputs": [],
   "source": [
    "# Сложность по времени:  O(m + n)\n",
    "# Сложность по памяти:   O(n)"
   ]
  },
  {
   "cell_type": "markdown",
   "metadata": {},
   "source": [
    "## Задача 4: Сумма двух!\n",
    "\n",
    "https://nbviewer.jupyter.org/github/hse-econ-data-science/dap_2021_spring/blob/main/sem04_forif/sem04_204.ipynb\n",
    "\n",
    "- Массив из натуральных чисел x\n",
    "- Натруальное число z\n",
    "- Хочу найти внтури x все пары, которые в сумме дадут z"
   ]
  },
  {
   "cell_type": "code",
   "execution_count": 63,
   "metadata": {},
   "outputs": [
    {
     "data": {
      "text/plain": [
       "(8, 1)"
      ]
     },
     "execution_count": 63,
     "metadata": {},
     "output_type": "execute_result"
    }
   ],
   "source": [
    "x = [2,3,4,8,1,7,9,6]\n",
    "z = 9\n",
    "\n",
    "2,7\n",
    "3,6\n",
    "8,1"
   ]
  },
  {
   "cell_type": "code",
   "execution_count": 64,
   "metadata": {},
   "outputs": [
    {
     "data": {
      "text/plain": [
       "[(2, 7), (3, 6), (8, 1), (1, 8), (7, 2), (6, 3)]"
      ]
     },
     "execution_count": 64,
     "metadata": {},
     "output_type": "execute_result"
    }
   ],
   "source": [
    "ans = []\n",
    "\n",
    "x_set = set(x)\n",
    "for item in x:\n",
    "    if z - item in x_set:\n",
    "        ans.append((item, z - item))\n",
    "ans"
   ]
  },
  {
   "cell_type": "code",
   "execution_count": null,
   "metadata": {},
   "outputs": [],
   "source": [
    "# T(n) = O(n)\n",
    "# M(n) = O(n)"
   ]
  },
  {
   "cell_type": "code",
   "execution_count": 70,
   "metadata": {},
   "outputs": [
    {
     "data": {
      "text/plain": [
       "[(0, 5), (1, 7), (3, 4)]"
      ]
     },
     "execution_count": 70,
     "metadata": {},
     "output_type": "execute_result"
    }
   ],
   "source": [
    "ans = []\n",
    "\n",
    "x_dct = dict(zip(x, range(len(x))))\n",
    "for item in x:\n",
    "    if z - item in x_dct:\n",
    "        ans.append((x_dct[item], x_dct[z - item]))\n",
    "        x_dct.pop(item)\n",
    "        x_dct.pop(z - item)\n",
    "ans"
   ]
  },
  {
   "cell_type": "code",
   "execution_count": 74,
   "metadata": {},
   "outputs": [
    {
     "name": "stdout",
     "output_type": "stream",
     "text": [
      "None\n"
     ]
    }
   ],
   "source": [
    "s = x_dct.pop(item, None)\n",
    "print(s)"
   ]
  },
  {
   "cell_type": "code",
   "execution_count": 75,
   "metadata": {},
   "outputs": [
    {
     "data": {
      "text/plain": [
       "42"
      ]
     },
     "execution_count": 75,
     "metadata": {},
     "output_type": "execute_result"
    }
   ],
   "source": [
    "x_dct.get(item, 42)"
   ]
  },
  {
   "cell_type": "markdown",
   "metadata": {},
   "source": [
    "## Задачка 5: сумма двух для разных массивов\n",
    "\n",
    "- В массивах целые числа, в рамках одного массива все числа разные\n",
    "- Пары должны быть из разных массивов"
   ]
  },
  {
   "cell_type": "code",
   "execution_count": 82,
   "metadata": {},
   "outputs": [
    {
     "data": {
      "text/plain": [
       "[(0, 0), (3, 6), (4, 3), (6, 4), (7, 7)]"
      ]
     },
     "execution_count": 82,
     "metadata": {},
     "output_type": "execute_result"
    }
   ],
   "source": [
    "# Решение через хэш-таблицу\n",
    "\n",
    "x = [1, 4, 5, 6, 8, 0, 2, 3]\n",
    "y = [5, -4, 3, -2, 4, 7, 0, 3]\n",
    "goal = 6\n",
    "\n",
    "ans = [] # сюда я записываю индексы, где лежат верные ответы\n",
    "\n",
    "y_dct = dict(zip(y, range(len(y))))\n",
    "\n",
    "for i,item in enumerate(x):\n",
    "    if goal - item in y_dct:\n",
    "        ans.append((i, y_dct[goal - item]))\n",
    "        y_dct.pop(goal - item)\n",
    "\n",
    "# T(n) = O(n)\n",
    "# M(n) = O(n)\n",
    "\n",
    "ans"
   ]
  },
  {
   "cell_type": "markdown",
   "metadata": {},
   "source": [
    "__Задание:__\n",
    "\n",
    "- Надо найти пример, когда индекс `ix` либо `iy` выйдет за пределы массива. Ну а потом надо подправить код, чтобы он не выходил. \n",
    "\n",
    "Пример: https://nbviewer.jupyter.org/github/hse-econ-data-science/eds_spring_2020/blob/master/supplementary%20materials/CW1_solution_and_bonus.ipynb"
   ]
  },
  {
   "cell_type": "code",
   "execution_count": 126,
   "metadata": {},
   "outputs": [
    {
     "data": {
      "text/plain": [
       "[(-2, 8), (1, 5), (2, 4), (3, 3), (6, 0)]"
      ]
     },
     "execution_count": 126,
     "metadata": {},
     "output_type": "execute_result"
    }
   ],
   "source": [
    "x = [1, 4, 5, 6, 0, 2, 3, -2, -4400, -3200]\n",
    "y = [5, -4, -3, -2, 4, 7, 0, 3, 8, 10, 12, 14, 16, 22, -8, -10, -22]\n",
    "goal = 6\n",
    "\n",
    "x = sorted(x) # O(n*log n)\n",
    "y = sorted(y) # O(m*log m)\n",
    "\n",
    "ans = []\n",
    "ix = 0\n",
    "iy = len(y) - 1\n",
    "\n",
    "# O(n + m)\n",
    "while ix < len(x) and iy > 0:\n",
    "    if x[ix] + y[iy] == goal:\n",
    "        ans.append((x[ix], y[iy]))\n",
    "        ix += 1\n",
    "        iy -= 1\n",
    "    elif x[ix] + y[iy] > goal:\n",
    "        iy -= 1\n",
    "    else:\n",
    "        ix += 1\n",
    "    \n",
    "ans"
   ]
  },
  {
   "cell_type": "markdown",
   "metadata": {},
   "source": [
    "По времени, конечно, не O(n), но решение без дополнительной памяти."
   ]
  },
  {
   "cell_type": "code",
   "execution_count": null,
   "metadata": {},
   "outputs": [],
   "source": [
    "# n > m\n",
    "# T(n) = O(n + m) + O(n*log n) + O(m*log m) = O(n*log n)\n",
    "# M(n) = O(1)"
   ]
  },
  {
   "cell_type": "markdown",
   "metadata": {},
   "source": [
    "## Задачка 6: сумма трёх"
   ]
  },
  {
   "cell_type": "code",
   "execution_count": null,
   "metadata": {},
   "outputs": [],
   "source": [
    "x = [1, 4, 5, 6, -5, 0, 2]\n",
    "y = [5, 4, 3, -2, 4, 7, 0]\n",
    "z = [3, 4, 6, -3]\n",
    "goal = 6 # goal = z[i] + x[k] + y[j]\n",
    "         # goal < z[i] + x[k] + y[j]\n",
    "         # goal > z[i] + x[k] + y[j]"
   ]
  },
  {
   "cell_type": "code",
   "execution_count": null,
   "metadata": {},
   "outputs": [],
   "source": [
    "# подумать\n",
    "\n",
    "# - индексы\n",
    "# - хэш-таблицы\n",
    "# - бинарный поиск\n",
    "# - можно ещё чего-нибудь придумать!"
   ]
  },
  {
   "cell_type": "markdown",
   "metadata": {},
   "source": [
    "__Вопрос:__ Хочу рассказ про `defaultdict()` за 2 минуты!"
   ]
  },
  {
   "cell_type": "code",
   "execution_count": 127,
   "metadata": {},
   "outputs": [
    {
     "data": {
      "text/plain": [
       "{'агу': 2, 'путека': 1, 'ауе': 1}"
      ]
     },
     "execution_count": 127,
     "metadata": {},
     "output_type": "execute_result"
    }
   ],
   "source": [
    "x = ['агу', 'путека', 'агу', 'ауе']\n",
    "\n",
    "dct = dict()\n",
    "for w in x:\n",
    "    if w in dct:\n",
    "        dct[w] += 1\n",
    "    else:\n",
    "        dct[w] = 1\n",
    "dct"
   ]
  },
  {
   "cell_type": "code",
   "execution_count": 128,
   "metadata": {
    "scrolled": true
   },
   "outputs": [
    {
     "ename": "KeyError",
     "evalue": "'агу'",
     "output_type": "error",
     "traceback": [
      "\u001b[0;31m---------------------------------------------------------------------------\u001b[0m",
      "\u001b[0;31mKeyError\u001b[0m                                  Traceback (most recent call last)",
      "\u001b[0;32m<ipython-input-128-50b6323bf83c>\u001b[0m in \u001b[0;36m<module>\u001b[0;34m\u001b[0m\n\u001b[1;32m      1\u001b[0m \u001b[0mdct\u001b[0m \u001b[0;34m=\u001b[0m \u001b[0mdict\u001b[0m\u001b[0;34m(\u001b[0m\u001b[0;34m)\u001b[0m\u001b[0;34m\u001b[0m\u001b[0;34m\u001b[0m\u001b[0m\n\u001b[1;32m      2\u001b[0m \u001b[0;32mfor\u001b[0m \u001b[0mw\u001b[0m \u001b[0;32min\u001b[0m \u001b[0mx\u001b[0m\u001b[0;34m:\u001b[0m\u001b[0;34m\u001b[0m\u001b[0;34m\u001b[0m\u001b[0m\n\u001b[0;32m----> 3\u001b[0;31m     \u001b[0mdct\u001b[0m\u001b[0;34m[\u001b[0m\u001b[0mw\u001b[0m\u001b[0;34m]\u001b[0m \u001b[0;34m+=\u001b[0m \u001b[0;36m1\u001b[0m\u001b[0;34m\u001b[0m\u001b[0;34m\u001b[0m\u001b[0m\n\u001b[0m\u001b[1;32m      4\u001b[0m \u001b[0mdct\u001b[0m\u001b[0;34m\u001b[0m\u001b[0;34m\u001b[0m\u001b[0m\n",
      "\u001b[0;31mKeyError\u001b[0m: 'агу'"
     ]
    }
   ],
   "source": [
    "dct = dict()\n",
    "for w in x:\n",
    "    dct[w] += 1\n",
    "dct"
   ]
  },
  {
   "cell_type": "code",
   "execution_count": 132,
   "metadata": {},
   "outputs": [
    {
     "data": {
      "text/plain": [
       "defaultdict(list, {'агу': [1, 1], 'путека': [1], 'ауе': [1]})"
      ]
     },
     "execution_count": 132,
     "metadata": {},
     "output_type": "execute_result"
    }
   ],
   "source": [
    "from collections import defaultdict\n",
    "\n",
    "dct = defaultdict(list)\n",
    "\n",
    "for w in x:\n",
    "    dct[w].append(1)\n",
    "dct"
   ]
  },
  {
   "cell_type": "code",
   "execution_count": 134,
   "metadata": {},
   "outputs": [
    {
     "data": {
      "text/plain": [
       "defaultdict(<function __main__.<lambda>()>, {'агу': 3, 'путека': 2, 'ауе': 2})"
      ]
     },
     "execution_count": 134,
     "metadata": {},
     "output_type": "execute_result"
    }
   ],
   "source": [
    "dct = defaultdict(lambda: 1)\n",
    "\n",
    "for w in x:\n",
    "    dct[w] += 1\n",
    "dct"
   ]
  },
  {
   "cell_type": "code",
   "execution_count": 135,
   "metadata": {},
   "outputs": [
    {
     "data": {
      "text/plain": [
       "defaultdict(<function __main__.f()>, {'агу': 44, 'путека': 43, 'ауе': 43})"
      ]
     },
     "execution_count": 135,
     "metadata": {},
     "output_type": "execute_result"
    }
   ],
   "source": [
    "def f():\n",
    "    return 42\n",
    "\n",
    "dct = defaultdict(f)\n",
    "\n",
    "for w in x:\n",
    "    dct[w] += 1\n",
    "dct"
   ]
  },
  {
   "cell_type": "markdown",
   "metadata": {},
   "source": [
    " "
   ]
  }
 ],
 "metadata": {
  "kernelspec": {
   "display_name": "Python 3",
   "language": "python",
   "name": "python3"
  },
  "language_info": {
   "codemirror_mode": {
    "name": "ipython",
    "version": 3
   },
   "file_extension": ".py",
   "mimetype": "text/x-python",
   "name": "python",
   "nbconvert_exporter": "python",
   "pygments_lexer": "ipython3",
   "version": "3.9.1"
  }
 },
 "nbformat": 4,
 "nbformat_minor": 4
}
