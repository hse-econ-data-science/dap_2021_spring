{
 "cells": [
  {
   "cell_type": "markdown",
   "metadata": {},
   "source": [
    "![ ](https://www.pon-cat.com/application/files/7915/8400/2602/home-banner.jpg)"
   ]
  },
  {
   "cell_type": "markdown",
   "metadata": {},
   "source": [
    "# <center> **Визуализация данных** </center>"
   ]
  },
  {
   "cell_type": "markdown",
   "metadata": {},
   "source": [
    "Визуализация занимает важную часть в анализе данных. Представляя информацию в графическом виде, вы облегчаете процесс ее восприятия, что дает возможность выделять дополнительные закономерности, оценивать соотношения величин, быстрее доносить ключевые аспекты в данных. \n",
    "\n",
    "Начнем с небольшой \"памятки\", о которой всегда нужно помнить при создании любых графиков. "
   ]
  },
  {
   "cell_type": "markdown",
   "metadata": {},
   "source": [
    "### <center> Как визуализировать данные и заставить всех тебя ненавидеть </center>\n",
    "\n",
    "1. Заголовок графика для слабаков. По графику всегда понятно, какие данные и явления он описывает.\n",
    "2. Ни в коем случае не подписывай ни одной оси у графика. Пусть смотрящий развивает свою интуицую! \n",
    "3. Единицы измерения совсем не обязательны. Какая разница, в чем измеряли количество - в людях или в литрах!\n",
    "4. Чем меньше шрифт на графике, тем острее зрение смотрящего. \n",
    "5. На одном графике нужно стараться уместить всю информацию, которая у тебя есть в датасете. С полными названиями, расшифровками, сносками. Чем больше текста - тем информативнее!\n",
    "6. При любой возможности используйте 3D и спецэффекты, пусть знают, что ты — прирожденный дизайнер. К тому же, так будет меньше визуальных искажений. "
   ]
  },
  {
   "cell_type": "markdown",
   "metadata": {},
   "source": [
    "В качестве примера, рассмотрим кейс с пандемией. Воспользуемся датасетом с оперативно обновляемой статистикой по коронавирусу (COVID-19), который выложен в открытом доступе на Kaggle: https://www.kaggle.com/imdevskp/corona-virus-report?select=covid_19_clean_complete.csv"
   ]
  },
  {
   "cell_type": "markdown",
   "metadata": {},
   "source": [
    "Если серьезно, то обязательно посмотрите список рекомендованных материалов в конце ноутбука по правилам оформления графиков и работе с библиотеками для визуализации данных в Python. "
   ]
  },
  {
   "cell_type": "markdown",
   "metadata": {},
   "source": [
    "Основные библиотеки для визуализации в Python, которые нам сегодня понадобятся - это **matplotlib, seaborn, plotly**. "
   ]
  },
  {
   "cell_type": "code",
   "execution_count": null,
   "metadata": {},
   "outputs": [],
   "source": [
    "# Установим вспомогательные пакеты\n",
    "!pip3 install plotly-express\n",
    "!pip3 install nbformat==4.2.0\n",
    "!pip install plotly"
   ]
  },
  {
   "cell_type": "code",
   "execution_count": null,
   "metadata": {},
   "outputs": [],
   "source": [
    "import pandas as pd\n",
    "import numpy as np\n",
    "import pickle\n",
    "\n",
    "# Модули для визуализации\n",
    "import matplotlib.pyplot as plt\n",
    "%matplotlib inline\n",
    "# %matplotlib notebook\n",
    "import seaborn as sns\n",
    "import plotly\n",
    "import plotly_express as px\n",
    "import plotly.graph_objects as go\n",
    "from plotly.subplots import make_subplots\n",
    "from plotly.offline import init_notebook_mode\n",
    "init_notebook_mode(connected=True)\n",
    "\n",
    "%config InlineBackend.figure_format = 'svg' # Графики в svg выглядят четче\n",
    "\n",
    "# Увеличим дефолтный размер графиков\n",
    "from pylab import rcParams\n",
    "rcParams['figure.figsize'] = 7, 5\n",
    "\n",
    "import warnings\n",
    "warnings.filterwarnings('ignore')"
   ]
  },
  {
   "cell_type": "markdown",
   "metadata": {},
   "source": [
    "Считаем данные и посмотрим количество стран в датасете и какие дни он покрывает. "
   ]
  },
  {
   "cell_type": "code",
   "execution_count": null,
   "metadata": {},
   "outputs": [],
   "source": [
    "data = pd.read_csv('./data/covid_19_clean.csv')\n",
    "\n",
    "print(f\"Количество стран: {data['Country/Region'].nunique()}\")\n",
    "print(f\"Дни с {min(data['Date'])} по {max(data['Date'])}, всего {data['Date'].nunique()} дней.\")\n",
    "\n",
    "# Выведем последнюю статистику по России \n",
    "display(data[data['Country/Region'] == 'Russia'].tail())\n",
    "\n",
    "# Поменяем формат даты из str в pd.Timestamp \n",
    "data['Date'] = pd.to_datetime(data['Date'], format = '%Y-%m-%d')"
   ]
  },
  {
   "cell_type": "markdown",
   "metadata": {},
   "source": [
    "Распространение COVID-19 - это наглядный пример экспоненциального распределения. Чтобы это продемонстрировать, построим график по общему, выздоровевших и умерших. Мы будем использовать линейный тип графика (**Line Chart**), которые может отражать динамику по одному или нескольким показателям. Его удобно использовать, чтобы посмотреть, как величина меняется во времени. \n",
    "Возьмем переменные *Confirmed* и *Deaths*. "
   ]
  },
  {
   "cell_type": "code",
   "execution_count": null,
   "metadata": {},
   "outputs": [],
   "source": [
    "# В pandas встроено построение графиков\n",
    "data.Confirmed.plot(); # попробуйте поменять тип графика через аргумент kind"
   ]
  },
  {
   "cell_type": "markdown",
   "metadata": {},
   "source": [
    "Линейный график по одной переменной: количество заболевших. "
   ]
  },
  {
   "cell_type": "code",
   "execution_count": null,
   "metadata": {},
   "outputs": [],
   "source": [
    "data[['Confirmed', 'Date']].groupby('Date').sum().plot();"
   ]
  },
  {
   "cell_type": "markdown",
   "metadata": {},
   "source": [
    "Линейный график по двум переменным: количество заболевших и умерших. "
   ]
  },
  {
   "cell_type": "code",
   "execution_count": null,
   "metadata": {},
   "outputs": [],
   "source": [
    "data[['Confirmed', 'Deaths', 'Date']].groupby('Date').sum().plot();"
   ]
  },
  {
   "cell_type": "code",
   "execution_count": null,
   "metadata": {},
   "outputs": [],
   "source": [
    "# Дополнительные настройки\n",
    "\n",
    "ax = data[['Confirmed', \n",
    "           'Recovered', \n",
    "           'Date']].groupby('Date').sum().plot(title='Рост числа заболевших и выздоровевших от COVID-19')\n",
    "ax.set_xlabel(\"Дата\")\n",
    "ax.set_ylabel(\"Количество заболевших\"); # символ ';' прячет первую строку Text из графика"
   ]
  },
  {
   "cell_type": "markdown",
   "metadata": {},
   "source": [
    "Код для аналогичного линейного графика на matplotlib, а не через pandas (обращаемся через plt к заимпортированному matplotlib.pyplot):"
   ]
  },
  {
   "cell_type": "code",
   "execution_count": null,
   "metadata": {},
   "outputs": [],
   "source": [
    "plt.plot(data[['Confirmed', 'Deaths', 'Date']].groupby('Date').sum())\n",
    "plt.title('Рост числа заболевших и выздоровевших от COVID-19')\n",
    "plt.xlabel('Дата')\n",
    "plt.ylabel('Количество заболевших')\n",
    "plt.xticks(rotation=45)\n",
    "plt.show()"
   ]
  },
  {
   "cell_type": "markdown",
   "metadata": {},
   "source": [
    "График выше показывает нам общую информацию по всему миру. Давайте выделим 10 наиболее пострадавших стран (по итогам последнего дня из датасета) и на одном **Line Chart** покажем данные по каждой из них по числу зарегистрированных случаев болезни. В этот раз, попробуем воспользоваться библиотекой **plotly**. "
   ]
  },
  {
   "cell_type": "code",
   "execution_count": null,
   "metadata": {},
   "outputs": [],
   "source": [
    "# Выделим топ-10 стран по количеству подтвержденных случаев \n",
    "df_top = data[data['Date'] == max(data.Date)]\n",
    "df_top = df_top.groupby('Country/Region', as_index=False)['Confirmed'].sum()\n",
    "df_top = df_top.nlargest(10, 'Confirmed')\n",
    "\n",
    "# Выделим тренд с учетом времени\n",
    "df_trend = data.groupby(['Date','Country/Region'], as_index=False)['Confirmed'].sum()\n",
    "df_trend = df_trend.merge(df_top, on='Country/Region')\n",
    "df_trend.rename(columns={'Country/Region' : 'Countries', \n",
    "                         'Confirmed_x':'Cases',\n",
    "                         'Date' : 'Dates'}, \n",
    "                inplace=True)\n",
    "\n",
    "# px - это сокращения заимпортированного plotly_express\n",
    "px.line(df_trend, \n",
    "        title='Рост числа выявленных случаев COVID-19',\n",
    "        x='Dates', \n",
    "        y='Cases', \n",
    "        color='Countries')"
   ]
  },
  {
   "cell_type": "markdown",
   "metadata": {},
   "source": [
    "Попробуем прологарифмировать признак количества выявленных случаев и построить график еще раз. "
   ]
  },
  {
   "cell_type": "code",
   "execution_count": null,
   "metadata": {},
   "outputs": [],
   "source": [
    "# Добавим столбец для визуализации логарифмического \n",
    "df_trend['ln(Cases)'] = np.log(df_trend['Cases'] + 1) # Добавляем 1 для случая log(0)\n",
    "\n",
    "px.line(df_trend, \n",
    "        x='Dates', # обращение к столбцу, а не название осей\n",
    "        y='ln(Cases)', \n",
    "        color='Countries', \n",
    "        title='COVID19 Рост числа заболевших в 10 наиболее пострадавших стран 10 (логарифмическая шкала)')"
   ]
  },
  {
   "cell_type": "markdown",
   "metadata": {},
   "source": [
    "У большиснтва стран количество заболевших монотонно возрастает. \n",
    "\n",
    "Какие интересные выводы вы можете сделать по этому графику?"
   ]
  },
  {
   "cell_type": "markdown",
   "metadata": {},
   "source": [
    "Попробуйте сделать аналогичные графики по количеству смертей от COVID-19 (по переменной **Deaths** вместо **Confirmed**) по топ-10 странам, наиболее пострадавшим по отношению количества умерших к количеству заболевших. "
   ]
  },
  {
   "cell_type": "code",
   "execution_count": null,
   "metadata": {},
   "outputs": [],
   "source": [
    "# TODO"
   ]
  },
  {
   "cell_type": "markdown",
   "metadata": {},
   "source": [
    "Еще один тип графиков - круговая диаграмма (**Pie chart**). Чаще всего, этот график используют для визуализации отношения частей и целого (например, ваши траты за месяц в мобильном приложении банка), но многие его очень сильно недолюбливают (https://medium.com/@clmentviguier/the-hate-of-pie-charts-harms-good-data-visualization-cc7cfed243b6). \n",
    "\n",
    "Тем не менее, полезно знать, что они существуют, как они выглядят и как их построить. "
   ]
  },
  {
   "cell_type": "code",
   "execution_count": null,
   "metadata": {},
   "outputs": [],
   "source": [
    "# Простой и ужасный пример\n",
    "\n",
    "df_trend.groupby('Countries')['Cases'].sum().plot(kind='pie');"
   ]
  },
  {
   "cell_type": "code",
   "execution_count": null,
   "metadata": {},
   "outputs": [],
   "source": [
    "# Круговые диаграммы (пончик и пирог )\n",
    "\n",
    "fig = make_subplots(rows=1, cols=2, specs=[[{'type':'domain'}, {'type':'domain'}]])\n",
    "labels = [country for country in df_top['Country/Region']]\n",
    "\n",
    "fig.add_trace(go.Pie(labels=labels, hole=0.3, hoverinfo=\"label+percent+name\", \n",
    "                     values=[cases for cases in df_top.Confirmed], \n",
    "                     name=\"Доля\", ), 1, 1)\n",
    "\n",
    "fig.add_trace(go.Pie(labels=labels, pull=[0, 0, 0.2, 0], \n",
    "                     values=[cases for cases in df_top.Confirmed], \n",
    "                     name=\"Доля\"), 1, 2)\n",
    "\n",
    "fig.update_layout(\n",
    "    title_text=\"Donut & Pie Chart: Распределение долей по заболевшим COVID-19 среди топ-10 стран\",\n",
    "    # Add annotations in the center of the donut pies.\n",
    "    annotations=[dict(text=' ', x=0.5, y=0.5, font_size=16, showarrow=False)],\n",
    "    colorway=['rgb(69, 135, 24)', 'rgb(136, 204, 41)', 'rgb(204, 204, 41)', \n",
    "              'rgb(235, 210, 26)', 'rgb(209, 156, 42)', 'rgb(209, 86, 42)', 'rgb(209, 42, 42)', ])\n",
    "fig.show()"
   ]
  },
  {
   "cell_type": "markdown",
   "metadata": {},
   "source": [
    "На линейных графиках выше мы визуализировали совокупную информацию по странам по количеству выявленных заболевших. Теперь, давайте попробуем построить график по дневному тренду, посчитав разницу между текущим значением и значением предыдущего дня.\n",
    "Для этой цели, воспользуемся гистограммой (**Histogram**). Также, добавим указатели по ключевым событиям, например, даты lockdown в провинции Ухань в Китае, Италии и Великобритании. "
   ]
  },
  {
   "cell_type": "code",
   "execution_count": null,
   "metadata": {},
   "outputs": [],
   "source": [
    "def add_daily_diffs(df):\n",
    "    # 0 because the previous value is unknown\n",
    "    df.loc[0,'Cases_daily'] = 0\n",
    "    df.loc[0,'Deaths_daily'] = 0\n",
    "    for i in range(1, len(df)):\n",
    "        df.loc[i,'Cases_daily'] = df.loc[i,'Confirmed'] - df.loc[i - 1,'Confirmed']\n",
    "        df.loc[i,'Deaths_daily'] = df.loc[i,'Deaths'] - df.loc[i - 1,'Deaths']\n",
    "    return df\n",
    "\n",
    "df_world = data.groupby('Date', as_index=False)['Deaths', 'Confirmed'].sum()\n",
    "df_world = add_daily_diffs(df_world)\n",
    "\n",
    "fig = go.Figure(data=[\n",
    "    go.Bar(name='Количество заболевших',\n",
    "           marker={'color': 'rgb(0,100,153)'},\n",
    "           x=df_world.Date, \n",
    "           y=df_world.Cases_daily),\n",
    "    go.Bar(name='Количество смертей', x=df_world.Date, y=df_world.Deaths_daily)\n",
    "])\n",
    "\n",
    "fig.update_layout(barmode='overlay', title='Статистика по числу заражений и летальных исходов от COVID-19 в мире',\n",
    "                 annotations=[dict(x='2020-01-23', y=1797, text=\"Lockdown (Ухань)\", \n",
    "                                   showarrow=True, arrowhead=1, ax=-100, ay=-200),\n",
    "                              dict(x='2020-03-09', y=1797, text=\"Lockdown (Италия)\", \n",
    "                                   showarrow=True, arrowhead=1, ax=-100, ay=-200),\n",
    "                              dict(x='2020-03-23', y=19000, text=\"Lockdown (Великобритания)\", \n",
    "                                   showarrow=True, arrowhead=1, ax=-100, ay=-200)])\n",
    "fig.show()"
   ]
  },
  {
   "cell_type": "code",
   "execution_count": null,
   "metadata": {},
   "outputs": [],
   "source": [
    "# Можно сохранить график в статичном виде на компьютер\n",
    "plotly.offline.plot(fig, filename='my_beautiful_histogram.html', show_link=False)"
   ]
  },
  {
   "cell_type": "markdown",
   "metadata": {},
   "source": [
    "Гистограмму часто путают со столбиковой диаграммой (Bar Chart) из-за визуального сходства, однако у этих графиков разные цели. Гиcтограмма пoказывает, как распределены данные в рамках непрерывного интервала или определенного периода времени. По вертикальной оси гистограммы находится частотность, по горизонтальной — интервалы или какой-то временной период.\n",
    "\n",
    "Давайте теперь построим **Bar Chart**. Он бывает вертикальный и горизонтальный, выберем второй вариант. \n",
    "Построим график только для топ-20 стран по смертности. Будем рассчитывать эту статистику как отношение количества смертей к количеству подтвержденных заболевших по каждой стране. \n",
    "\n",
    "По некоторым странам в датасете статистика представлена по каждому региону (например, по всем штатам США). Для таких стран оставим только одно (максимальное) значение. Как вариант, можно было бы посчитать среднее по регионам и оставить его как показатель по стране.  "
   ]
  },
  {
   "cell_type": "code",
   "execution_count": null,
   "metadata": {},
   "outputs": [],
   "source": [
    "# Столбчатая диаграмма\n",
    "\n",
    "df_mortality = data.query('(Date == \"2020-07-17\") & (Confirmed > 100)') \n",
    "df_mortality['mortality'] = df_mortality['Deaths'] / df_mortality['Confirmed']\n",
    "df_mortality['mortality'] = df_mortality['mortality'].apply(lambda x: round(x, 3))\n",
    "df_mortality.sort_values('mortality', ascending=False, inplace=True)\n",
    "# Оставим только максимальное значение смертности для стран, у которых статистика предоставлена по каждому региону\n",
    "\n",
    "df_mortality.drop_duplicates(subset=['Country/Region'], keep='first', inplace=True)\n",
    "\n",
    "fig = px.bar(df_mortality[:20].iloc[::-1],\n",
    "             x='mortality', \n",
    "             y='Country/Region',\n",
    "             labels={'mortality': 'Уровень смертности', 'Country_Region': 'Страна'},\n",
    "             title=f'Уровень смертности: топ-20 стран по состоянию на 2020-04-17', \n",
    "             text='mortality', \n",
    "             height=800, \n",
    "             orientation='h') # горизонтальный\n",
    "fig.show()\n",
    "\n",
    "# TODO: раскрасить столбцы по тепловой карте (используя уровень смерности)\n",
    "# Для этого добавьте аргументы color = 'mortality'"
   ]
  },
  {
   "cell_type": "markdown",
   "metadata": {},
   "source": [
    "**Heat Maps** (тепловые карты) достаточно полезно использовать для дополнительная визуализации матриц корреляций между признаками. Когда признаков очень много, с помощью такого графика вы быстрее сможете оценить, какие признаки сильно скоррелировано или не обладают линейной взаимосвязью. "
   ]
  },
  {
   "cell_type": "code",
   "execution_count": null,
   "metadata": {},
   "outputs": [],
   "source": [
    "# Тепловая карта (используя seaborn) \n",
    "sns.heatmap(data.corr(), annot=True, fmt='.2f', cmap='cividis'); # попробуйте другой цвет, например, 'RdBu'"
   ]
  },
  {
   "cell_type": "markdown",
   "metadata": {},
   "source": [
    "График рассеяния помогает найти взаимосвязь между двумя показателями. Для этого, можно воспользоваться pairplot, который сразу выведет гистограмму по каждой переменной и диаграмму рассеяния по двум переменным (по разным осям графика). "
   ]
  },
  {
   "cell_type": "code",
   "execution_count": null,
   "metadata": {},
   "outputs": [],
   "source": [
    "# Попарные двумерные распределений (pairplot)\n",
    "sns_plot = sns.pairplot(data[['Deaths', 'Confirmed']])\n",
    "sns_plot.savefig('pairplot.png') # сохранение картинки"
   ]
  },
  {
   "cell_type": "markdown",
   "metadata": {},
   "source": [
    "При анализе данных, часто используют сводные таблицы. Сводная таблица (**Pivot table**) может автоматически сортировать, рассчитывать суммы или получить среднее значение из данных."
   ]
  },
  {
   "cell_type": "code",
   "execution_count": null,
   "metadata": {},
   "outputs": [],
   "source": [
    "# Сводные таблицы\n",
    "\n",
    "plt.figure(figsize=(12, 4))\n",
    "df_new = df_mortality.iloc[:10]\n",
    "df_new['Confirmed'] = df_new['Confirmed'].astype(np.int)\n",
    "df_new['binned_fatalities'] = pd.cut(df_new['Deaths'], 3)\n",
    "platform_genre_sales = df_new.pivot_table(\n",
    "                        index='binned_fatalities', \n",
    "                        columns='Country/Region', \n",
    "                        values='Confirmed', \n",
    "                        aggfunc=sum).fillna(int(0)).applymap(np.int)\n",
    "sns.heatmap(platform_genre_sales, annot=True, fmt=\".1f\", linewidths=0.7, cmap=\"viridis\");"
   ]
  },
  {
   "cell_type": "markdown",
   "metadata": {},
   "source": [
    "Фоновая картограмма (choropleth map) как раз нужна для таких данных,которые необходимо показать по странам или регионам. Дополнительно, можно использовать временную ось, чтобы рассмотреть изменение показателей в динамике. "
   ]
  },
  {
   "cell_type": "code",
   "execution_count": null,
   "metadata": {},
   "outputs": [],
   "source": [
    "# Карта (фоновая картограмма)\n",
    "\n",
    "# файл с аббревиатурами стран для матчинга с картой\n",
    "with open('./data/countries_codes.pkl', 'rb') as file:\n",
    "    countries_codes = pickle.load(file)\n",
    "    \n",
    "df_map = data.copy()\n",
    "df_map['Date'] = data['Date'].astype(str)\n",
    "df_map = df_map.groupby(['Date','Country/Region'], as_index=False)['Confirmed','Deaths'].sum()\n",
    "df_map['iso_alpha'] = df_map['Country/Region'].map(countries_codes)\n",
    "df_map['ln(Confirmed)'] = np.log(df_map.Confirmed + 1)\n",
    "df_map['ln(Deaths)'] = np.log(df_map.Deaths + 1)\n",
    "\n",
    "px.choropleth(df_map, \n",
    "              locations=\"iso_alpha\", \n",
    "              color=\"ln(Confirmed)\", \n",
    "              hover_name=\"Country/Region\",\n",
    "              hover_data=[\"Confirmed\"],\n",
    "              animation_frame=\"Date\",\n",
    "              color_continuous_scale=px.colors.sequential.OrRd,\n",
    "              title = 'Total Confirmed Cases growth (Logarithmic Scale)')"
   ]
  },
  {
   "cell_type": "markdown",
   "metadata": {},
   "source": [
    "Какую важную информацию дал новый график (визуализация по времени и геолокации)? Можно ли по графику ответить на вопросы:\n",
    "* С какой страны началось распространение коронавируса?\n",
    "* Какие страны наиболее пострадали от пандемии?\n",
    "* На какую часть полушария приходится большинство случаев заболевания? Какие можно сформулировать гипотезы относительно температуры и скорости распространения вируса?\n",
    "\n",
    "Какие еще наблюдения вы можете сделать из графика? "
   ]
  },
  {
   "cell_type": "markdown",
   "metadata": {},
   "source": [
    "### **Полезные материалы по правилам оформления графиков**\n",
    "1. Twenty rules for good graphics https://robjhyndman.com/hyndsight/graphics/\n",
    "2. Много статей и примеров https://www.darkhorseanalytics.com/blog .Например, как оформлять таблицы с резульатами https://www.darkhorseanalytics.com/portfolio/2016/1/7/data-looks-better-naked-clear-off-the-table\n",
    "\n",
    "\n",
    "### **Полезные материалы по работе с библиотеками**\n",
    "\n",
    "1. Руководство по библиотеке matplotlib https://matplotlib.org/3.2.1/tutorials/index.html \n",
    "2. Руководство по seaborn https://seaborn.pydata.org/tutorial.html\n",
    "3. Документация plotly https://plotly.com/python/ \n",
    "4. [Kaggle COVID19-Explained through Visualizations](https://www.kaggle.com/anshuls235/covid19-explained-through-visualizations/#data)\n",
    "5. Видео-лекция по визуализации из курса Open Data Science https://www.youtube.com/watch?v=uwQat1TV0JM\n",
    "\n",
    "### **Дополнительные хорошие библиотеки python по визуализации**:\n",
    "* Bokeh\n",
    "* ggplot\n",
    "* geoplotlib\n",
    "* pygal\n"
   ]
  },
  {
   "cell_type": "code",
   "execution_count": null,
   "metadata": {},
   "outputs": [],
   "source": []
  }
 ],
 "metadata": {
  "kernelspec": {
   "display_name": "Python 3",
   "language": "python",
   "name": "python3"
  },
  "language_info": {
   "codemirror_mode": {
    "name": "ipython",
    "version": 3
   },
   "file_extension": ".py",
   "mimetype": "text/x-python",
   "name": "python",
   "nbconvert_exporter": "python",
   "pygments_lexer": "ipython3",
   "version": "3.6.9"
  }
 },
 "nbformat": 4,
 "nbformat_minor": 4
}
